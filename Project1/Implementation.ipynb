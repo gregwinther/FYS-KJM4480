{
 "cells": [
  {
   "cell_type": "code",
   "execution_count": 49,
   "metadata": {
    "collapsed": true
   },
   "outputs": [],
   "source": [
    "import psi4\n",
    "import numpy as np\n",
    "from matplotlib import pyplot as plt\n",
    "import scipy.linalg"
   ]
  },
  {
   "cell_type": "code",
   "execution_count": 50,
   "metadata": {
    "collapsed": true
   },
   "outputs": [],
   "source": [
    "# GETTING STUFF FROM PSI4\n",
    "\n",
    "# Water. Look what you brought into my life.\n",
    "r_h2o = 1.809\n",
    "theta_h2o = 104.59\n",
    "\n",
    "h2o = \"\"\"\n",
    "        O\n",
    "        H 1 {0}\n",
    "        H 1 {0} 2 {1}\n",
    "        symmetry c1\n",
    "        units bohr\n",
    "\"\"\" .format(r_h2o, theta_h2o)\n",
    "\n",
    "molecule = psi4.geometry(h2o)\n",
    "\n",
    "options = {\n",
    "    'basis' : 'cc-pVDZ',\n",
    "    'reference' : 'uhf',\n",
    "    'scf_type' : 'direct',\n",
    "    'guess' : 'core',\n",
    "    'guess_mix' : 'true',\n",
    "    'e_convergence' : 1e-7\n",
    "} \n",
    "\n",
    "psi4.set_options(options)\n",
    "\n",
    "wavefunction = psi4.core.Wavefunction.build(molecule,\n",
    "                        psi4.core.get_global_option('basis'))\n",
    "\n",
    "mints = psi4.core.MintsHelper(wavefunction.basisset())\n",
    "\n",
    "# Hamiltonian operator\n",
    "T = np.asarray(mints.ao_kinetic())\n",
    "V = np.asarray(mints.ao_potential())\n",
    "H = T + V\n",
    "\n",
    "# Other things\n",
    "W = np.asarray(mints.ao_eri())\n",
    "S = np.asarray(mints.ao_overlap())\n",
    "\n",
    "# Some numbers\n",
    "number_of_orbitals = wavefunction.nso()\n",
    "number_of_occupied_ups   = wavefunction.nalpha()\n",
    "number_of_occupied_downs = wavefunction.nbeta()\n",
    "\n",
    "# Nuclear repulsion\n",
    "E_nuc = molecule.nuclear_repulsion_energy()"
   ]
  },
  {
   "cell_type": "code",
   "execution_count": 51,
   "metadata": {
    "collapsed": true
   },
   "outputs": [],
   "source": [
    "e_init, U_init = scipy.linalg.eigh(H, S)"
   ]
  },
  {
   "cell_type": "code",
   "execution_count": 52,
   "metadata": {},
   "outputs": [
    {
     "data": {
      "image/png": "[encoded data removed]",
      "text/plain": [
       "<matplotlib.figure.Figure at 0x11e0a1828>"
      ]
     },
     "metadata": {},
     "output_type": "display_data"
    }
   ],
   "source": [
    "plt.figure()\n",
    "plt.imshow(np.linalg.multi_dot([U_init, S, np.transpose(U_init)]))\n",
    "plt.colorbar()\n",
    "plt.show()"
   ]
  },
  {
   "cell_type": "code",
   "execution_count": 53,
   "metadata": {},
   "outputs": [
    {
     "name": "stdout",
     "output_type": "stream",
     "text": [
      "Number of occupied ups:    5\n",
      "Number of occupied downs:  5\n",
      "Total orbitals:            24\n"
     ]
    }
   ],
   "source": [
    "print(\"Number of occupied ups:   \", number_of_occupied_ups)\n",
    "print(\"Number of occupied downs: \", number_of_occupied_downs)\n",
    "print(\"Total orbitals:           \", number_of_orbitals)\n"
   ]
  },
  {
   "cell_type": "code",
   "execution_count": 54,
   "metadata": {},
   "outputs": [
    {
     "data": {
      "image/png": "[encoded data removed]",
      "text/plain": [
       "<matplotlib.figure.Figure at 0x11dc6f4a8>"
      ]
     },
     "metadata": {},
     "output_type": "display_data"
    }
   ],
   "source": [
    "# What can we conclude from this? \n",
    "# The first five guys are occupied states.\n",
    "plt.plot(e_init, '.')\n",
    "plt.show()"
   ]
  },
  {
   "cell_type": "code",
   "execution_count": 55,
   "metadata": {
    "collapsed": true
   },
   "outputs": [],
   "source": [
    "# Constructing density matrix\n",
    "U_up   = np.matrix(U_init[:, 0:number_of_occupied_ups])\n",
    "D_up   = np.dot(U_up, U_up.H) \n",
    "U_down = np.matrix(U_init[:, 0:number_of_occupied_downs])\n",
    "D_down = np.dot(U_down, U_down.H)"
   ]
  },
  {
   "cell_type": "code",
   "execution_count": 56,
   "metadata": {
    "collapsed": true
   },
   "outputs": [],
   "source": [
    "# Now the U_up and U_down are equal, so we scramble them\n",
    "X = np.random.rand(*D_up.shape)\n",
    "X = X + np.transpose(X)\n",
    "D_up = D_up + 0.001*X\n",
    "\n",
    "X = np.random.rand(*D_down.shape)\n",
    "X = X + np.transpose(X)\n",
    "D_down = D_down + 0.001*X"
   ]
  },
  {
   "cell_type": "code",
   "execution_count": 57,
   "metadata": {
    "collapsed": true
   },
   "outputs": [],
   "source": [
    "# Now to construct the Fock matrix\n",
    "J = np.einsum('pqrs, sr->pq', W, D_up + D_down)\n",
    "K_up   = np.einsum('psrq, sr->pq', W, D_up)\n",
    "K_down = np.einsum('psrq, sr->pq', W, D_down)\n",
    "F_up   = H + J - K_up\n",
    "F_down = H + J - K_down"
   ]
  },
  {
   "cell_type": "code",
   "execution_count": 58,
   "metadata": {},
   "outputs": [
    {
     "name": "stdout",
     "output_type": "stream",
     "text": [
      "Energies: E_up: -15.715721 E_down -15.721266\n",
      "Energies: E_up: -33.604839 E_down -33.604919\n",
      "Energies: E_up: -18.249864 E_down -18.249877\n",
      "Energies: E_up: -29.960346 E_down -29.960424\n",
      "Energies: E_up: -19.725167 E_down -19.725169\n",
      "Energies: E_up: -26.206718 E_down -26.206704\n",
      "Energies: E_up: -22.200605 E_down -22.200604\n",
      "Energies: E_up: -24.520265 E_down -24.520263\n",
      "Energies: E_up: -23.150835 E_down -23.150835\n",
      "Energies: E_up: -23.936216 E_down -23.936215\n",
      "Energies: E_up: -23.480043 E_down -23.480043\n",
      "Energies: E_up: -23.742187 E_down -23.742187\n",
      "Energies: E_up: -23.590673 E_down -23.590673\n",
      "Energies: E_up: -23.677896 E_down -23.677896\n",
      "Energies: E_up: -23.627564 E_down -23.627564\n",
      "[-20.5420732   -1.33393394  -0.69738853  -0.5638261   -0.49034262]\n",
      "[-20.54207319  -1.33393391  -0.69738852  -0.56382608  -0.4903426 ]\n"
     ]
    }
   ],
   "source": [
    "# Iterating.\n",
    "for i in range(15):\n",
    "    E_up,   U_up   = scipy.linalg.eigh(F_up,   S)\n",
    "    E_down, U_down = scipy.linalg.eigh(F_down, S)\n",
    "    \n",
    "    U_up   = np.matrix(U_up[:, 0:number_of_occupied_ups])\n",
    "    D_up   = np.dot(U_up, U_up.H) \n",
    "    U_down = np.matrix(U_down[:, 0:number_of_occupied_downs])\n",
    "    D_down = np.dot(U_down, U_down.H)\n",
    "    \n",
    "    J = np.einsum('pqrs, sr->pq', W, D_up + D_down)\n",
    "    K_up   = np.einsum('psrq, sr->pq', W, D_up)\n",
    "    K_down = np.einsum('psrq, sr->pq', W, D_down)\n",
    "    F_up   = H + J - K_up\n",
    "    F_down = H + J - K_down\n",
    "    \n",
    "    E_up_occ   = np.sum(E_up[0:number_of_occupied_ups])\n",
    "    E_down_occ = np.sum(E_down[0:number_of_occupied_downs])\n",
    "    \n",
    "    print(\"Energies: E_up: {:4f} E_down {:4f}\".format(E_up_occ, E_down_occ))\n",
    "\n",
    "print(E_up[0:number_of_occupied_ups])\n",
    "print(E_down[0:number_of_occupied_downs])\n"
   ]
  },
  {
   "cell_type": "code",
   "execution_count": 59,
   "metadata": {},
   "outputs": [
    {
     "name": "stdout",
     "output_type": "stream",
     "text": [
      "Energy of all occupied:  -47.2551286815\n"
     ]
    }
   ],
   "source": [
    "# Those last lines are the energy of the occupied states\n",
    "print(\"Energy of all occupied: \", E_up_occ + E_down_occ)"
   ]
  },
  {
   "cell_type": "code",
   "execution_count": 60,
   "metadata": {},
   "outputs": [
    {
     "name": "stdout",
     "output_type": "stream",
     "text": [
      "-76.02679362282558\n"
     ]
    }
   ],
   "source": [
    "SCF_energy = psi4.energy('scf')\n",
    "print(SCF_energy)"
   ]
  },
  {
   "cell_type": "code",
   "execution_count": 69,
   "metadata": {},
   "outputs": [
    {
     "name": "stdout",
     "output_type": "stream",
     "text": [
      "-76.0267846788\n"
     ]
    }
   ],
   "source": [
    "# Calculating energy\n",
    "J_up   = np.einsum('pqrs, sr->pq', W, D_up)\n",
    "J_down = np.einsum('pqrs, sr->pq', W, D_down)\n",
    "K_up   = np.einsum('psrq, sr->pq', W, D_up)\n",
    "K_down = np.einsum('psrq, sr->pq', W, D_down)\n",
    "\n",
    "F_up   = H + J - K_up\n",
    "F_down = H + J - K_down\n",
    "\n",
    "# Fock energy\n",
    "energy  =      np.einsum('pq, qp->', F_up,    D_up)\\\n",
    "             + np.einsum('pq, qp->', F_down, D_down)\n",
    "\n",
    "# Hartree energy\n",
    "energy -= 0.5*(np.einsum('pq, qp->', J_up,    D_up)\\\n",
    "             + np.einsum('pq, qp->', J_up,    D_down)\\\n",
    "             + np.einsum('pq, qp->', J_down,  D_up)\\\n",
    "             + np.einsum('pq, qp->', J_up,    D_down))\n",
    "\n",
    "# Exchange energy\n",
    "energy += 0.5*(np.einsum('pq, qp->', K_up,    D_up)\\\n",
    "             + np.einsum('pq, qp->', K_down,  D_down))\n",
    "\n",
    "# Nuclear energy\n",
    "energy += E_nuc\n",
    "\n",
    "print(energy)"
   ]
  },
  {
   "cell_type": "code",
   "execution_count": null,
   "metadata": {
    "collapsed": true
   },
   "outputs": [],
   "source": []
  }
 ],
 "metadata": {
  "kernelspec": {
   "display_name": "Python 3",
   "language": "python",
   "name": "python3"
  },
  "language_info": {
   "codemirror_mode": {
    "name": "ipython",
    "version": 3
   },
   "file_extension": ".py",
   "mimetype": "text/x-python",
   "name": "python",
   "nbconvert_exporter": "python",
   "pygments_lexer": "ipython3",
   "version": "3.6.1"
  }
 },
 "nbformat": 4,
 "nbformat_minor": 2
}
