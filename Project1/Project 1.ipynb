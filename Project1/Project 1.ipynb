{
 "cells": [
  {
   "cell_type": "markdown",
   "metadata": {},
   "source": [
    "# Project 1 FYS-KJM4480 2017"
   ]
  },
  {
   "cell_type": "markdown",
   "metadata": {},
   "source": [
    "## Theory"
   ]
  },
  {
   "cell_type": "markdown",
   "metadata": {},
   "source": [
    "The Hamiltonian can be split into ground state and the other part :p\n",
    "$$ \\hat H = \\hat H_0 + \\hat W. $$\n",
    "Moreover, any operator can be written as\n",
    "$$ \\hat O = \\sum_{ij}o_{ij} |i\\rangle \\langle j| = \\sum_{ij} o_{ij}c_i^\\dagger c_j, $$\n",
    "where $o_{ij} = \\langle i|\\hat O| j\\rangle$ are the matrix elements."
   ]
  },
  {
   "cell_type": "markdown",
   "metadata": {},
   "source": [
    "The expected value for the ground state Hamiltonian becomes\n",
    "$$ \\langle \\Phi |\\hat H_0 |\\Phi \\rangle\n",
    "  =\\langle \\Phi |\\sum_{pq} h_{pq} |p\\rangle \\langle q | \\Phi \\rangle \n",
    "  =\\langle \\Phi |\\sum_{pq} h_{pq} c_p^\\dagger c_q | \\Phi \\rangle\n",
    "  =\\sum_{pq} h_{pq}\\langle \\Phi | c_p^\\dagger c_q |\\Phi \\rangle. $$"
   ]
  },
  {
   "cell_type": "markdown",
   "metadata": {},
   "source": [
    "### Energy Expression\n",
    "#### A\n",
    "A Slater determinant is denoted by $|\\phi \\rangle = |\\phi_1 \\phi_2 \\dots \\phi_N \\rangle$, where $\\{\\phi_i\\}$, $i\\in \\{1, \\dots, N \\}$ is a basis consisting of single-particle functions."
   ]
  },
  {
   "cell_type": "markdown",
   "metadata": {},
   "source": [
    "Herein it will be shown that \n",
    "$$\\langle \\Phi | \\hat{H} | \\Phi \\rangle \n",
    " = \\sum_I \\langle \\phi_I |\\hat h |\\phi_I \\rangle\n",
    " + \\frac{1}{2} \\sum_{IJ} \\langle \\phi_I \\phi_J|\\hat W |\\phi_I \\phi_J - \\phi_J \\phi_I \\rangle, $$\n",
    "where capital indices imply summation over all occupied single-particle functions."
   ]
  },
  {
   "cell_type": "markdown",
   "metadata": {},
   "source": [
    "Now, if capital letter indices indicates occupied states, this can be rewritten as\n",
    "$$ \\Leftrightarrow\n",
    "    \\sum_{IJ} h_{IJ} \\langle \\Phi |C_I^\\dagger C_J | \\Phi \\rangle\n",
    "  + \\sum_{\\alpha J} h_{\\alpha J} \\langle \\Phi |C_\\alpha^\\dagger C_J | \\Phi \\rangle\n",
    "  + \\sum_{\\alpha \\beta} h_{\\alpha \\beta} \\langle \\Phi |C_\\alpha^\\dagger C_\\beta | \\Phi \\rangle\n",
    "  + \\sum_{I \\beta} h_{I \\beta} \\langle \\Phi |C_I^\\dagger C_\\beta | \\Phi \\rangle, $$\n",
    "where $\\alpha$ and $\\beta$ is any state that is not occupied by a single-particle function. This means that all states $\\phi_I$ and $\\phi_\\alpha$ are included in the states $\\phi_p$ and that all states $\\phi_J$ and $\\phi_\\beta$ are included in states $\\phi_q$."
   ]
  },
  {
   "cell_type": "markdown",
   "metadata": {},
   "source": [
    "Because the states $\\phi_\\beta \\notin \\{\\phi\\}$, $c_\\beta |\\phi\\rangle = 0$, so the last two terms are zero. What remains is\n",
    "$$ \\Leftrightarrow\n",
    "   \\sum_{IJ} h_{IJ}\\delta_{IJ} \\langle \\Phi | \\Phi \\rangle \n",
    " + \\sum_{\\alpha J} h_{\\alpha J} \\delta_{\\alpha J} \\langle \\Phi | \\Phi \\rangle. $$\n",
    "Here the last term is zero because $\\delta_{\\alpha J} = 0 \\forall \\alpha, J$ because $\\phi_\\alpha \\notin \\{\\phi\\}$ and $\\phi_J \\in \\{\\phi\\}$."
   ]
  },
  {
   "cell_type": "markdown",
   "metadata": {},
   "source": [
    "This leaves\n",
    "$$ \\Leftrightarrow \\langle \\Phi |\\hat H_0 |\\Phi \\rangle =  \\sum_I h_I = \\sum_I \\langle \\phi_I | \\hat h | \\phi_I \\rangle. $$"
   ]
  },
  {
   "cell_type": "markdown",
   "metadata": {},
   "source": [
    "#### B\n",
    "Show\n",
    "$$ E_{UHF} = \\sum_{i\\sigma} ( \\varphi_i^\\sigma | \\hat{h} | \\varphi_i^\\sigma) + E_H - E_{ex}$$\n",
    "with the <i> Hartree energy </i> (or direct energy) \n",
    "$$ E_H = \\frac{1}{2} \\sum_{ij\\sigma\\tau}(\\phi_i^\\sigma\\phi_j^\\tau | \\hat w | \\phi_i^\\sigma \\phi_j^\\tau) $$\n",
    "and the <i> exchange energy </i> \n",
    "$$ E_{ex} = \\frac{1}{2} \\sum_{ij\\sigma} (\\phi_i^\\sigma\\phi_j^\\sigma | \\hat w | \\phi_j^\\sigma \\phi_i^\\sigma ). $$"
   ]
  },
  {
   "cell_type": "markdown",
   "metadata": {},
   "source": [
    "\\begin{align} \\langle \\Phi_{UHF} | \\hat W | \\Phi_{UHF} \\rangle\n",
    " &= \\sum_{ij\\sigma\\tau\\alpha\\beta} ( \\langle \\phi_{i\\sigma}\\phi_{j\\tau} | \\hat w | \\phi_{i\\alpha} \\phi_{j\\beta} \\rangle - \\langle \\phi_{i\\sigma} \\phi_{j\\tau}| \\hat w| \\phi_{j\\beta} \\phi_{i\\alpha} \\rangle  \\\\\n",
    " &= \\sum_{ij\\sigma\\tau\\alpha\\beta} \\left(\n",
    "\\delta_{\\sigma\\alpha}\\delta_{\\tau\\beta}(\\phi_i^\\sigma \\phi_j^\\tau| \\hat w|\\phi_i^\\alpha \\phi_j^\\beta ) - \\delta_{\\sigma\\beta} \\delta_{\\tau\\alpha}(\\phi_i^\\sigma \\phi_j^\\tau | \\hat w| \\phi_j^\\beta \\phi_i^\\alpha )\n",
    "\\right) \\\\\n",
    " &= \n",
    "\\end{align}"
   ]
  },
  {
   "cell_type": "markdown",
   "metadata": {},
   "source": [
    "### Unrestricted Hartree-Fock (UHF) Equations"
   ]
  },
  {
   "cell_type": "markdown",
   "metadata": {},
   "source": [
    "#### A\n",
    "Some single-particle function in the Slater determinant can be varied by a linear combination of all occupied single particle basis functions\n",
    "$$ |\\Phi\\rangle \\rightarrow |\\Phi '\\rangle\n",
    "=  |\\varphi_{i\\sigma} \\dots (\\varphi_{j\\sigma} + \\sum_i \\delta\\varphi_{i\\sigma}) \\dots \\varphi_{N\\sigma}\\rangle $$"
   ]
  },
  {
   "cell_type": "markdown",
   "metadata": {},
   "source": [
    "Any determinant can be split, leaving two separate Slater determinants\n",
    "$$ | \\Phi \\rangle  + \\sum_i | \\varphi_{1\\sigma} \\dots \\delta\\phi_{i\\sigma} \\dots \\phi_{N\\sigma} \\rangle \n",
    "= | \\Phi \\rangle  + \\sum_{ip} \\eta_{pi}^\\sigma | \\varphi_{1\\sigma} \\dots \\varphi_{p\\sigma} \\dots \\varphi_{N\\sigma}\\rangle. $$"
   ]
  },
  {
   "cell_type": "markdown",
   "metadata": {},
   "source": [
    "Then the last term can be split into occupied and unoccupied states\n",
    "$$ |\\Phi' \\rangle = | \\Phi \\rangle + \\sum_i \\big(\\eta_{ji}^\\sigma | \\varphi_{1\\sigma} \\dots \\varphi_{j\\sigma} \\dots \\varphi_{N\\sigma} \\rangle + \\sum_a \\eta_{ai}^\\sigma |\\varphi_{1\\sigma}^\\sigma \\dots \\varphi_{a\\sigma} \\dots \\varphi_{N\\sigma} \\rangle \\big) $$"
   ]
  },
  {
   "cell_type": "markdown",
   "metadata": {},
   "source": [
    "Shortening and wrting with second quantization SOMETHING OPERATOR this becomes\n",
    "$$ |\\Phi ' \\rangle = | \\Phi \\rangle + \\sum_i \\eta_{ji}^\\sigma |\\Phi \\rangle + \\sum_{ia} \\eta_{ai}^\\sigma c_{a\\sigma}^\\dagger c_{j\\sigma} |\\Phi\\rangle\n",
    "= (1 + \\sum_i\\eta_{ji}^\\sigma)|\\Phi\\rangle + \\sum_{ia}\\eta_{ai}^\\sigma |\\Phi_{j\\sigma}^{a\\sigma}\\rangle, $$\n",
    "Where $|\\Phi_{j\\sigma}^{a\\sigma}\\rangle$ is called the singly excited stated and one can rewrite as $T = \\sum_{ia} \\eta_{ai}^\\sigma$ and $\\epsilon_j^\\sigma = \\sum_j\\eta_{ij}^\\sigma$."
   ]
  },
  {
   "cell_type": "markdown",
   "metadata": {},
   "source": [
    "Now one can compute the energy with the new perturbed Slater determinant, taking care to normalizer at the same time.\n",
    "$$ \\frac{\\langle \\Phi '| \\hat H| \\Phi ' \\rangle}{\\langle\\Phi'|\\Phi' \\rangle}\n",
    "= \\frac{(1+\\epsilon_j^\\sigma)^2\\langle \\Phi |\\hat H|\\Phi \\rangle +2(1 + \\epsilon_j^\\sigma)T\\langle \\Phi | \\hat H | \\Phi_{j\\sigma}^{a\\sigma} \\rangle + |T|^2 \\langle \\Phi_{j\\sigma}^{a\\sigma}|\\hat H | \\Phi_{j\\sigma}^{a\\sigma}\\rangle}  \n",
    "{(1+\\epsilon_j^\\sigma)^2 \\langle \\Phi | \\Phi \\rangle + 2(1 + \\epsilon_j^\\sigma)T\\langle \\Phi | \\Phi_{j\\sigma}^{a\\sigma} \\rangle + |T|^2 \\langle \\Phi_{j\\sigma}^{a\\sigma}| \\Phi_{j\\sigma}^{a\\sigma}\\rangle }.\n",
    "$$\n",
    "The higher order terms are simply ignored."
   ]
  },
  {
   "cell_type": "markdown",
   "metadata": {},
   "source": [
    "Substituting for $E_{HF} = \\langle \\Phi | \\hat H | \\Phi \\rangle$ an $\\langle \\Phi | \\Phi \\rangle$ yields\n",
    "\n",
    "$$ \\Leftrightarrow\n",
    "\\frac{E_{HF}(1 + \\epsilon_j^\\sigma)^2 + 2(1 + \\epsilon_j^\\sigma) T }{(1 + \\epsilon_j^\\sigma)^2\\langle \\Phi | \\hat H \\Phi_{j\\sigma}^{a\\sigma} \\rangle}\n",
    "+ \\mathscr{O}(\\epsilon^2)\n",
    "= \\frac{E_{HF} + 2 (1+\\epsilon_j^\\sigma)^{-1} T \\langle \\Phi | \\hat H \\Phi_{j\\sigma}^{a\\sigma} \\rangle}{1} + \\mathscr{O}(\\epsilon) $$"
   ]
  },
  {
   "cell_type": "markdown",
   "metadata": {},
   "source": [
    "Now one can expand $(1 + \\epsilon_j^\\sigma)^{-1}$ to get\n",
    "$$ \\Leftrightarrow\n",
    "E_{HF} + 2\\big[ 1 - \\epsilon_j^\\sigma + \\mathscr{O}(\\epsilon) \\big] T \\langle \\Phi|\\hat H| \\Phi_{j\\sigma}^{a\\sigma} \\rangle\n",
    "= E_{HF} + 2T\\langle \\Phi | \\hat H \\Phi_{j\\sigma}^{a\\sigma} \\rangle + \\mathscr{O}(\\epsilon) \\\\\n",
    "\\approx E_{HF} + 2\\sum_{ia}\\eta_{ai}^\\sigma \\langle \\Phi | \\hat H \\Phi_{j\\sigma}^{a\\sigma} \\rangle\n",
    "$$"
   ]
  },
  {
   "cell_type": "markdown",
   "metadata": {},
   "source": [
    "#### B\n",
    "\n",
    "$$ E_{UHF} + \\delta E_{UHF} = \\langle \\Phi_{UHF} + \\delta \\Phi_{UHF} | \\hat h | \\Phi_{UHF} \\rangle \\\\\n",
    "= \\sum_{i\\sigma} (\\varphi_i^\\sigma + \\delta \\varphi_i^\\sigma | \\hat h | \\varphi_i^\\sigma )\n",
    "+ \\frac{1}{2} \\sum_{ij\\sigma\\tau}((\\varphi_i^\\sigma + \\delta\\varphi_i^\\sigma)(\\varphi_j^\\tau + \\delta\\varphi_j^\\tau) | \\hat w | \\varphi_i^\\sigma \\varphi_j^\\tau ) - \\frac{1}{2} \\sum_{ij\\sigma} ((\\varphi_i^\\sigma + \\delta\\varphi_i^\\sigma)(\\varphi_j^\\sigma + \\delta\\varphi_i^\\sigma)| \\hat w | \\varphi_j^\\sigma \\varphi_i^\\sigma) \\\\\n",
    "= \\sum_{i\\sigma} (\\varphi_i^\\sigma + \\delta \\varphi_i^\\sigma | \\hat h | \\varphi_i^\\sigma )\n",
    "+ \\frac{1}{2} \\sum_{ij\\sigma\\tau}(\\varphi_i^\\sigma \\varphi_j^\\tau + \\varphi_i^\\sigma \\delta\\varphi_j^\\tau + \\delta\\varphi_i^\\sigma \\varphi_j^\\tau + \\delta\\varphi_i^\\sigma \\delta\\varphi_j^\\tau | \\hat w | \\varphi_i^\\sigma \\varphi_j^\\tau)\n",
    "- \\frac{1}{2} \\sum_{ij\\sigma} (\\varphi_i^\\sigma \\varphi_j^\\sigma + \\varphi_i^\\sigma \\delta\\varphi_j^\\sigma + \\delta\\varphi_i^\\sigma \\varphi_j^\\sigma + \\delta\\varphi_i^\\sigma \\delta\\varphi_j^\\sigma | \\hat w | \\varphi_j^\\sigma \\varphi_i^\\sigma)$$"
   ]
  },
  {
   "cell_type": "markdown",
   "metadata": {},
   "source": [
    "The terms with a product of two deltas (e.g $\\delta\\varphi_i^\\sigma\\delta\\varphi_j^\\tau$) can be ignored, as we are only interested in the first order approximation (delta is tiny). This leaves\n",
    "$$ \\Leftrightarrow \\sum_{i\\sigma}(\\varphi_i^\\sigma + \\sum_p\\varphi_p^\\sigma\\eta_{pi}^\\sigma | \\hat h | \\varphi_i^\\sigma) \n",
    "+ \\frac{1}{2} \\sum_{ij\\sigma\\tau} ( \\varphi_i^\\sigma\\varphi_i^\\tau + \\varphi_i^\\sigma\\sum_p\\varphi_p^\\tau\\eta_{pj}^\\tau + \\sum_q\\varphi_q^\\sigma\\eta_{qi}^\\sigma\\varphi_j^\\tau | \\hat w | \\varphi_i^\\sigma \\varphi_j^\\tau)\n",
    "- \\frac{1}{2}\\sum_{ij\\sigma}(\\varphi_i^\\sigma\\varphi_j^\\sigma + \\varphi_i^\\sigma\\sum_p\\varphi_p^\\sigma\\eta_{pj}^\\sigma + \\sum_q\\varphi_q^\\sigma\\eta_{qi}^\\sigma\\varphi_j^\\sigma | \\hat w | \\varphi_j^\\sigma \\varphi_i^\\sigma) \\\\\n",
    "= \\sum_{i\\sigma}(\\varphi_i^\\sigma | \\hat h | \\varphi_i^\\sigma)\n",
    "+ \\sum_{i\\sigma p} \\eta_{pi}^\\sigma (\\varphi_p^\\sigma | \\hat h | \\varphi_i^\\sigma)\n",
    "+ \\frac{1}{2}\\sum_{ij\\sigma\\tau}(\\varphi_i^\\sigma\\varphi_j^\\tau | \\hat w | \\varphi_i^\\sigma\\varphi_j^\\tau)\n",
    "+ \\frac{1}{2}\\sum_{ij\\sigma\\tau p}\\eta_{pj}^\\tau (\\varphi_i^\\sigma\\varphi_p^\\tau | \\hat w | \\varphi_i^\\sigma\\varphi_j^\\tau)\n",
    "+ \\frac{1}{2}\\sum_{ij\\sigma\\tau q}\\eta_{qi}^\\sigma (\\varphi_q^\\sigma\\varphi_j^\\tau | \\hat w |\\varphi_i^\\sigma \\varphi_j^\\tau)\n",
    "- \\frac{1}{2}\\sum_{ij\\sigma}(\\varphi_i^\\sigma\\varphi_j^\\sigma | \\hat w | \\varphi_j^\\sigma \\varphi_i^\\sigma)\n",
    "- \\frac{1}{2} \\sum_{ij\\sigma p} \\eta_{pj}^\\sigma (\\varphi_i^\\sigma\\varphi_p^\\sigma | \\hat w | \\varphi_j^\\sigma\\varphi_i^\\sigma)\n",
    "-\\frac{1}{2}\\sum_{ij\\sigma q}\\eta_{qi}^\\sigma ( \\varphi_q^\\sigma\\varphi_j^\\sigma | \\hat w | \\varphi_j^\\sigma \\varphi_i^\\sigma)\n",
    "$$ "
   ]
  },
  {
   "cell_type": "markdown",
   "metadata": {},
   "source": [
    "Recognize three of theterms as the unperturbed energy and limit $\\eta$ be zero for all instances but one $\\eta_{ak}^\\rho$. The energy pertrubation remains\n",
    "$$ \\delta E_{UHF}\n",
    "= (\\varphi_a^\\sigma | \\hat h | \\varphi_i^\\sigma)\n",
    "+ \\frac{1}{2}\\sum_{i\\sigma}(\\varphi_i^\\sigma\\varphi_a^\\rho | \\hat w | \\varphi_i^\\sigma\\varphi_k^\\rho) \n",
    "+ \\frac{1}{2}\\sum_{j\\tau}(\\varphi_a^\\rho\\varphi_j^\\tau | \\hat w | \\varphi_k^\\rho \\varphi_j^\\tau)\n",
    "- \\frac{1}{2}\\sum_i (\\varphi_i^\\rho\\varphi_a^\\rho | \\hat w | \\varphi_k^\\rho\\varphi_i^\\rho)\n",
    "- \\frac{1}{2}\\sum_j(\\varphi_a^\\rho\\varphi_j^\\rho | \\hat w | \\varphi_j^\\rho \\varphi_k^\\rho)\n",
    "$$"
   ]
  },
  {
   "cell_type": "markdown",
   "metadata": {},
   "source": [
    "One can switch the position of two adjacent $\\varphi$ as long as the sign changes. All the needed switches come in pairs, so the signs stay the same,\n",
    "$$ \\delta E_{UHF}\n",
    "= (\\varphi_a^\\sigma | \\hat h | \\varphi_i^\\sigma)\n",
    "+ \\frac{1}{2}\\sum_{i\\sigma}(\\varphi_a^\\rho \\varphi_i^\\sigma| \\hat w | \\varphi_k^\\rho \\varphi_i^\\sigma) \n",
    "+ \\frac{1}{2}\\sum_{j\\tau}(\\varphi_a^\\rho \\varphi_j^\\tau| \\hat w | \\varphi_k^\\rho \\varphi_j^\\tau)\n",
    "- \\frac{1}{2}\\sum_i (\\varphi_a^\\rho \\varphi_i^\\rho | \\hat w | \\varphi_i^\\rho \\varphi_k^\\rho)\n",
    "- \\frac{1}{2}\\sum_j(\\varphi_a^\\rho\\varphi_j^\\rho | \\hat w | \\varphi_j^\\rho \\varphi_k^\\rho)\n",
    "$$"
   ]
  },
  {
   "cell_type": "markdown",
   "metadata": {},
   "source": [
    "Changing the name of an index within a term is okay. Doing this yields the following\n",
    "$$ \\delta E_{UHF}\n",
    "= (\\varphi_a^\\sigma|\\hat h|\\varphi_i^\\sigma)\n",
    "+ \\sum_{j\\tau}(\\varphi_a^\\sigma\\varphi_j^\\tau|\\hat w|\\varphi_i^\\sigma\\varphi_j^\\tau)\n",
    "- \\sum(\\varphi_a^\\sigma\\varphi_j^\\sigma|\\hat w|\\varphi_j^\\sigma\\varphi_i^\\sigma)\n",
    "$$"
   ]
  },
  {
   "cell_type": "markdown",
   "metadata": {},
   "source": [
    "### Roothan Hall Equations\n",
    "We can replace the non-canonical equations with the canonical equations which are of eigenvalue form\n",
    "$$ \\hat f^\\sigma \\varphi_i^\\sigma = \\epsilon_i^\\sigma \\varphi_i^\\sigma. $$\n",
    "This is in fact two coupled eigenvalue problems, one for each spin $\\sigma$. \n",
    "\n",
    "For numerical treatment the orbitals are expanded in </i>atomic orbital basis functions</i> $\\phi_p$, $p=1,2,\\dots, K$,\n",
    "$$ \\varphi_q^\\sigma = \\sum_p \\psi_p U_{pq}^\\sigma, $$\n",
    "often called molecular orbitals.\n",
    "\n",
    "The basis is the same in each spin direction, and the atomic orbitals are not necessarily orthonormal, the general non-diagonal overlap matrix is given by\n",
    "$$ S_{pq} = (\\psi_p|\\psi_q). $$\n",
    "When the basis functions are linearly independent, $S$ is invertible. $S$ is symmetric and positive definite.\n",
    "\n",
    "The <i>atomic integrals</i> are defined thusly\n",
    "$$ h_{qp} = (\\psi_q | \\hat h | \\psi_p), \\quad (pr | qs) = (\\psi_p \\psi_q | \\hat w | \\psi_r \\psi_s), $$\n",
    "note the index placement in the two-electron integral.\n",
    "\n",
    "Lastly, the <i>density matrices</i> are given by\n",
    "$$ D_{rs}^\\sigma = \\sum_j U_{rj}^\\sigma (U_{sj}^\\sigma)^* = U_{occ}^\\sigma (U_{occ}^\\sigma)^H, $$\n",
    "where $U_{occ}^\\sigma$ is the $K \\times N_\\sigma$ submatrix of $U^\\sigma$ formed by the first $N_\\sigma$ columns."
   ]
  },
  {
   "cell_type": "markdown",
   "metadata": {
    "collapsed": true
   },
   "source": [
    "#### A\n",
    "The Roothan-Hall equations are obtained by projecting the UHF equations onto the atomic orbital basis. The one-body operator becomes\n",
    "$$ (\\psi_p | \\hat h | \\varphi_i^\\sigma) \n",
    "= (\\psi_p | \\hat p | \\sum_q \\psi_q U_{qi}^\\sigma) \n",
    "= \\sum_q (\\psi_p |\\hat h| \\psi_q) U_{qi}^\\sigma \n",
    "= \\sum_q h_{pq} U_{qi}^\\sigma. $$"
   ]
  },
  {
   "cell_type": "markdown",
   "metadata": {},
   "source": [
    "The Hartree potential becomes\n",
    "$$ (\\psi_p | \\hat v_H^\\tau | \\varphi_i^\\sigma ) \n",
    "= \\sum_j ( \\psi_p \\varphi_j^\\tau | \\hat w | \\varphi_i^\\sigma \\varphi_j^\\tau)\n",
    "= \\sum_j (\\psi_p \\sum_r \\psi_r U_{rj}^\\tau | \\hat w | \\sum_q \\psi_q U_{qi}^\\sigma \\sum_s \\psi_s U_{sj}^\\tau )\n",
    "= \\sum_{rsq} \\big((\\psi_p \\psi_r | \\hat w | \\psi_q \\psi_s ) \\sum_j U_{sj}^\\tau (U_{rj}^\\tau)^* U_{qi}^\\sigma \\big)\n",
    "= \\sum_q \\big(\\sum_{rs} (p q | r s) D_{rs}^\\sigma \\big) U_{qi}^\\sigma.$$"
   ]
  },
  {
   "cell_type": "markdown",
   "metadata": {},
   "source": [
    "The exchange potential\n",
    "$$(\\psi_p | \\hat v_{ex}^\\sigma | \\varphi_i^\\sigma)\n",
    "= \\sum_j (\\psi_p \\varphi_j^\\sigma | \\hat w | \\varphi_j^\\sigma \\varphi_i^\\sigma)\n",
    "= \\sum_j (\\psi_p \\sum_r \\psi_r U_{rj}^\\sigma | \\hat w | \\sum_s \\psi_s U_{sj}^\\sigma \\sum_q \\psi_q U_{qi}^\\sigma)\n",
    "= \\sum_{rsq} \\big((\\psi_p \\psi_r | \\hat w | \\psi_s \\psi_q ) \\sum_j U_{sj}^\\sigma (u_{rj}^\\sigma)^* U_{qi}^\\sigma \\big)\n",
    "= \\sum_q \\big( \\sum_{rs} (p s | r q) D_{rs}^\\sigma \\big) U_{qi}^\\sigma.$$"
   ]
  },
  {
   "cell_type": "markdown",
   "metadata": {},
   "source": [
    "The inner product between atomic orbitals and molecular orbitals is\n",
    "$$ (\\psi_p | \\varphi_i^\\sigma) = (\\psi_p | \\sum_q \\psi_q U_{qi}^\\sigma) \n",
    "=  \\sum_q (\\psi_p| \\psi_q) U_{qi}^\\sigma = \\sum_q S_{pq} U_{qi}^\\sigma.$$"
   ]
  },
  {
   "cell_type": "markdown",
   "metadata": {},
   "source": [
    "#### B\n",
    "The Fock matrix is defined as\n",
    "$$ F^\\sigma = h + J(D^\\uparrow + D^\\downarrow) - K(D^\\sigma), $$\n",
    "where \n",
    "$$ J(D)_{pq} = \\sum_{rs}(pq|rs)D_{sr} \\quad \n",
    "   K(D)_{pq} = \\sum_{rs}(ps|rq)D_{sr}. $$"
   ]
  },
  {
   "cell_type": "markdown",
   "metadata": {},
   "source": [
    "## Implementation"
   ]
  },
  {
   "cell_type": "code",
   "execution_count": 1,
   "metadata": {
    "collapsed": true
   },
   "outputs": [],
   "source": [
    "import numpy as np\n",
    "import psi4\n",
    "from matplotlib import pyplot as plt"
   ]
  },
  {
   "cell_type": "code",
   "execution_count": 36,
   "metadata": {},
   "outputs": [],
   "source": [
    "# I want some stuff\n",
    "\n",
    "# Water. Look what you brought into my life.\n",
    "r_h2o = 1.809\n",
    "theta_h2o = 104.59\n",
    "\n",
    "h2o = \"\"\"\n",
    "        O\n",
    "        H 1 {0}\n",
    "        H 1 {0} 2 {1}\n",
    "        symmetry c1\n",
    "        units bohr\n",
    "\"\"\" .format(r_h2o, theta_h2o)\n",
    "\n",
    "# Hydrogen\n",
    "r_h2 = 2.0\n",
    "\n",
    "h2 = \"\"\"\n",
    "    0 1\n",
    "    H\n",
    "    H 1 {0}\n",
    "    symmetry c1\n",
    "    units bohr\n",
    "\"\"\" .format(r_h2)\n",
    "\n",
    "molecule = psi4.geometry(h2)\n",
    "\n",
    "options = {\n",
    "    'basis' : 'cc-pVDZ',\n",
    "    'reference' : 'uhf',\n",
    "    'scf_type' : 'direct',\n",
    "    'guess' : 'core',\n",
    "    'guess_mix' : 'true',\n",
    "    'e_convergence' : 1e-7\n",
    "} \n",
    "\n",
    "psi4.set_options(options)\n",
    "\n",
    "wavefunction = psi4.core.Wavefunction.build(molecule,\n",
    "                        psi4.core.get_global_option('basis'))\n",
    "\n",
    "mints = psi4.core.MintsHelper(wavefunction.basisset())\n",
    "\n",
    "# Hamiltonian operator\n",
    "T = np.asarray(mints.ao_kinetic())\n",
    "V = np.asarray(mints.ao_potential())\n",
    "H = T + V\n",
    "\n",
    "# Other things\n",
    "W = np.asarray(mints.ao_eri())\n",
    "S = np.asarray(mints.ao_overlap())\n",
    "\n",
    "#SCF_E = psi4.energy('SCF')\n",
    "#print(\"Energy is: \", SCF_E)"
   ]
  },
  {
   "cell_type": "code",
   "execution_count": 25,
   "metadata": {},
   "outputs": [],
   "source": [
    "# Needed: make RHF version\n",
    "def generate_density_matrix(U, number_of_occupied, scramble=True, UHF=True):\n",
    "    density_matrix = U * np.conjugate(U).T # .H would not work\n",
    "    density_matrix[number_of_occupied::] = 0\n",
    "    \n",
    "    if scramble:\n",
    "        X = np.random.rand(*U.shape)\n",
    "        X += X.T\n",
    "        density_matrix += 0.001 * X\n",
    "    \n",
    "    return density_matrix"
   ]
  },
  {
   "cell_type": "code",
   "execution_count": 43,
   "metadata": {},
   "outputs": [],
   "source": [
    "def generate_fock_matrix(H, W, D_up, D_down, num_of_occupied):\n",
    "    \n",
    "    # W[p][r][q][s] Is the Milliken notation correct??\n",
    "    J = np.empty(D_up.shape)\n",
    "    for r in range(num_of_occupied):\n",
    "        for s in range(num_of_occupied):\n",
    "            J += W[:][r][:][s] * D_up \\\n",
    "               + W[:][r][:][s] * D_down # maybe correct\n",
    "    \n",
    "    # The K's\n",
    "    K = np.empty(D_up.shape)\n",
    "    \n",
    "    for r in range(num_of_occupied):\n",
    "        for s in range(num_of_occupied):\n",
    "            K   += W[:][s][r][:] * D_up \\\n",
    "                 + W[:][s][r][:] * D_down\n",
    "    \n",
    "    F = H + J - K\n",
    "    \n",
    "    return F"
   ]
  },
  {
   "cell_type": "code",
   "execution_count": 44,
   "metadata": {},
   "outputs": [
    {
     "name": "stdout",
     "output_type": "stream",
     "text": [
      "The density matrices: \n"
     ]
    },
    {
     "data": {
      "image/png": "[encoded data removed]",
      "text/plain": [
       "<matplotlib.figure.Figure at 0x1208a8a90>"
      ]
     },
     "metadata": {},
     "output_type": "display_data"
    },
    {
     "data": {
      "image/png": "[encoded data removed]",
      "text/plain": [
       "<matplotlib.figure.Figure at 0x11c6ae390>"
      ]
     },
     "metadata": {},
     "output_type": "display_data"
    },
    {
     "name": "stdout",
     "output_type": "stream",
     "text": [
      "ups:    1\n",
      "downs:  1\n"
     ]
    }
   ],
   "source": [
    "# Some numbers\n",
    "number_of_orbitals = wavefunction.nso()\n",
    "number_of_occupied_ups   = wavefunction.nalpha()\n",
    "number_of_occupied_downs = wavefunction.nbeta()\n",
    "\n",
    "D_up   = generate_density_matrix(H, number_of_occupied_ups)\n",
    "D_down = generate_density_matrix(H, number_of_occupied_downs)\n",
    "\n",
    "print(\"The density matrices: \")\n",
    "plt.figure()\n",
    "plt.imshow(D_up)\n",
    "plt.figure()\n",
    "plt.imshow(D_down)\n",
    "plt.show()\n",
    "\n",
    "print(\"ups:   \", number_of_occupied_ups)\n",
    "print(\"downs: \", number_of_occupied_downs)"
   ]
  },
  {
   "cell_type": "code",
   "execution_count": 46,
   "metadata": {},
   "outputs": [],
   "source": [
    "F = generate_fock_matrix(H, W, D_up, D_down, 5)"
   ]
  },
  {
   "cell_type": "code",
   "execution_count": 47,
   "metadata": {},
   "outputs": [
    {
     "name": "stdout",
     "output_type": "stream",
     "text": [
      "The fock matrices: \n"
     ]
    },
    {
     "data": {
      "image/png": "[encoded data removed]",
      "text/plain": [
       "<matplotlib.figure.Figure at 0x11facaac8>"
      ]
     },
     "metadata": {},
     "output_type": "display_data"
    }
   ],
   "source": [
    "print(\"The fock matrices: \")\n",
    "plt.figure()\n",
    "plt.imshow(F)\n",
    "plt.show()"
   ]
  },
  {
   "cell_type": "code",
   "execution_count": 48,
   "metadata": {
    "collapsed": true
   },
   "outputs": [],
   "source": [
    "import scipy.linalg"
   ]
  },
  {
   "cell_type": "code",
   "execution_count": 55,
   "metadata": {},
   "outputs": [
    {
     "name": "stdout",
     "output_type": "stream",
     "text": [
      "(-3.92030000593-3.82868603322j)\n",
      "(-3.56915906653-5.62407170001j)\n",
      "(-4.5175723001+2.13264583222j)\n",
      "(-6.52456366185-0.662112793345j)\n",
      "(-4.48415581056+4.05931570212j)\n",
      "(-6.40251988768+4.76017562155j)\n",
      "(-2.60437224033+4.17968471561j)\n",
      "(-1.43608769371-1.17462435463j)\n",
      "(-5.77463639025+8.25127101523j)\n",
      "(-4.5467643014+5.42155252918j)\n",
      "(-3.51096601877+5.00665072822j)\n",
      "(-5.81969455531+0.280708945378j)\n",
      "(-1.27915780405+0.836631424802j)\n",
      "(-1.25309809716+0.629580544827j)\n",
      "(-0.540073331833-0.164958660788j)\n",
      "(-3.22821472188+2.10157561813j)\n",
      "(-3.05981216924+1.54113244445j)\n",
      "(-2.41908611311-4.86439718085j)\n",
      "(-3.86693494244-2.11019927315j)\n",
      "(-0.824459102529+0.173709053524j)\n",
      "(-1.525479863-0.727229774696j)\n",
      "(-6.00295549837+0.796843027738j)\n",
      "(-2.75464654204+1.08328151787j)\n",
      "(-5.80296725101+2.24549934634j)\n",
      "(-3.4798745988-2.5299944142j)\n",
      "(-2.62108737843+5.6667447376j)\n",
      "(-9.32830726285-1.08888123852j)\n",
      "(-1.40298398183+0.927853360588j)\n",
      "(-0.710687478645+0.655051459805j)\n",
      "(-0.931015249426-0.00933245256401j)\n",
      "(-3.27073861148-0.0930507545012j)\n",
      "(-0.635806403516+0.0823748522393j)\n",
      "(-1.77730666492+0.172742041877j)\n",
      "(-0.79091350398+1.12073034391j)\n",
      "(-6.23361026716-5.09574903094j)\n",
      "(-5.6524915095+1.08819257005j)\n",
      "(-3.94334758898+1.51613275482j)\n",
      "(-0.827360201856+0.0193459499419j)\n",
      "(-1.14572807412-0.465784802923j)\n",
      "(-5.18146703274-6.53317599622j)\n",
      "(-2.21813369178-6.59763276009j)\n",
      "(-4.80763704571-1.49403739777j)\n",
      "(-7.39922105207+1.44946582912j)\n",
      "(-5.81983836451+2.00887267773j)\n",
      "(-5.57544973079+2.54203025667j)\n",
      "(-0.966412937122+0.0381134506393j)\n",
      "(-4.01028747193+2.93728722131j)\n",
      "(-4.68299632939-5.29180526217j)\n",
      "(-5.14017224954-1.31261278165j)\n",
      "(-6.22488147704-1.58555294985j)\n"
     ]
    }
   ],
   "source": [
    "# Solving the eigenvalue problem 10 times.\n",
    "for i in range(50):\n",
    "    lamb, U = scipy.linalg.eig(F, S)\n",
    "    # I don't know if I've inputted the correct things..\n",
    "    F = generate_fock_matrix(U, W, D_up, D_down, 5)"
   ]
  },
  {
   "cell_type": "markdown",
   "metadata": {},
   "source": [
    "This is obviously wrong. Next step: read problem sheet thoroughly."
   ]
  }
 ],
 "metadata": {
  "kernelspec": {
   "display_name": "Python 3",
   "language": "python",
   "name": "python3"
  },
  "language_info": {
   "codemirror_mode": {
    "name": "ipython",
    "version": 3
   },
   "file_extension": ".py",
   "mimetype": "text/x-python",
   "name": "python",
   "nbconvert_exporter": "python",
   "pygments_lexer": "ipython3",
   "version": "3.6.1"
  }
 },
 "nbformat": 4,
 "nbformat_minor": 2
}
