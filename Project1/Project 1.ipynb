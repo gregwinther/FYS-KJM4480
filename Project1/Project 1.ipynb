{
 "cells": [
  {
   "cell_type": "markdown",
   "metadata": {},
   "source": [
    "# Project 1 FYS-KJM4480 2017"
   ]
  },
  {
   "cell_type": "markdown",
   "metadata": {},
   "source": [
    "## Theory"
   ]
  },
  {
   "cell_type": "markdown",
   "metadata": {},
   "source": [
    "The Hamiltonian can be split into ground state and the other part :p\n",
    "$$ \\hat H = \\hat H_0 + \\hat W. $$\n",
    "Moreover, any operator can be written as\n",
    "$$ \\hat O = \\sum_{ij}o_{ij} |i\\rangle \\langle j| = \\sum_{ij} o_{ij}c_i^\\dagger c_j, $$\n",
    "where $o_{ij} = \\langle i|\\hat O| j\\rangle$ are the matrix elements."
   ]
  },
  {
   "cell_type": "markdown",
   "metadata": {},
   "source": [
    "The expected value for the ground state Hamiltonian becomes\n",
    "$$ \\langle \\Phi |\\hat H_0 |\\Phi \\rangle\n",
    "  =\\langle \\Phi |\\sum_{pq} h_{pq} |p\\rangle \\langle q | \\Phi \\rangle \n",
    "  =\\langle \\Phi |\\sum_{pq} h_{pq} c_p^\\dagger c_q | \\Phi \\rangle\n",
    "  =\\sum_{pq} h_{pq}\\langle \\Phi | c_p^\\dagger c_q |\\Phi \\rangle. $$"
   ]
  },
  {
   "cell_type": "markdown",
   "metadata": {},
   "source": [
    "### Energy Expression\n",
    "#### A\n",
    "A Slater determinant is denoted by $|\\phi \\rangle = |\\phi_1 \\phi_2 \\dots \\phi_N \\rangle$, where $\\{\\phi_i\\}$, $i\\in \\{1, \\dots, N \\}$ is a basis consisting of single-particle functions."
   ]
  },
  {
   "cell_type": "markdown",
   "metadata": {},
   "source": [
    "Herein it will be shown that \n",
    "$$\\langle \\Phi | \\hat{H} | \\Phi \\rangle \n",
    " = \\sum_I \\langle \\phi_I |\\hat h |\\phi_I \\rangle\n",
    " + \\frac{1}{2} \\sum_{IJ} \\langle \\phi_I \\phi_J|\\hat W |\\phi_I \\phi_J - \\phi_J \\phi_I \\rangle, $$\n",
    "where capital indices imply summation over all occupied single-particle functions."
   ]
  },
  {
   "cell_type": "markdown",
   "metadata": {},
   "source": [
    "Now, if capital letter indices indicates occupied states, this can be rewritten as\n",
    "$$ \\Leftrightarrow\n",
    "    \\sum_{IJ} h_{IJ} \\langle \\Phi |C_I^\\dagger C_J | \\Phi \\rangle\n",
    "  + \\sum_{\\alpha J} h_{\\alpha J} \\langle \\Phi |C_\\alpha^\\dagger C_J | \\Phi \\rangle\n",
    "  + \\sum_{\\alpha \\beta} h_{\\alpha \\beta} \\langle \\Phi |C_\\alpha^\\dagger C_\\beta | \\Phi \\rangle\n",
    "  + \\sum_{I \\beta} h_{I \\beta} \\langle \\Phi |C_I^\\dagger C_\\beta | \\Phi \\rangle, $$\n",
    "where $\\alpha$ and $\\beta$ is any state that is not occupied by a single-particle function. This means that all states $\\phi_I$ and $\\phi_\\alpha$ are included in the states $\\phi_p$ and that all states $\\phi_J$ and $\\phi_\\beta$ are included in states $\\phi_q$."
   ]
  },
  {
   "cell_type": "markdown",
   "metadata": {},
   "source": [
    "Because the states $\\phi_\\beta \\notin \\{\\phi\\}$, $c_\\beta |\\phi\\rangle = 0$, so the last two terms are zero. What remains is\n",
    "$$ \\Leftrightarrow\n",
    "   \\sum_{IJ} h_{IJ}\\delta_{IJ} \\langle \\Phi | \\Phi \\rangle \n",
    " + \\sum_{\\alpha J} h_{\\alpha J} \\delta_{\\alpha J} \\langle \\Phi | \\Phi \\rangle. $$\n",
    "Here the last term is zero because $\\delta_{\\alpha J} = 0 \\forall \\alpha, J$ because $\\phi_\\alpha \\notin \\{\\phi\\}$ and $\\phi_J \\in \\{\\phi\\}$."
   ]
  },
  {
   "cell_type": "markdown",
   "metadata": {},
   "source": [
    "This leaves\n",
    "$$ \\Leftrightarrow \\langle \\Phi |\\hat H_0 |\\Phi \\rangle =  \\sum_I h_I = \\sum_I \\langle \\phi_I | \\hat h | \\phi_I \\rangle. $$"
   ]
  },
  {
   "cell_type": "markdown",
   "metadata": {},
   "source": [
    "#### B\n",
    "Show\n",
    "$$ E_{UHF} = \\sum_{i\\sigma} ( \\varphi_i^\\sigma | \\hat{h} | \\varphi_i^\\sigma) + E_H - E_{ex}$$\n",
    "with the <i> Hartree energy </i> (or direct energy) \n",
    "$$ E_H = \\frac{1}{2} \\sum_{ij\\sigma\\tau}(\\phi_i^\\sigma\\phi_j^\\tau | \\hat w | \\phi_i^\\sigma \\phi_j^\\tau) $$\n",
    "and the <i> exchange energy </i> \n",
    "$$ E_{ex} = \\frac{1}{2} \\sum_{ij\\sigma} (\\phi_i^\\sigma\\phi_j^\\sigma | \\hat w | \\phi_j^\\sigma \\phi_i^\\sigma ). $$"
   ]
  },
  {
   "cell_type": "markdown",
   "metadata": {},
   "source": [
    "\\begin{align} \\langle \\Phi_{UHF} | \\hat W | \\Phi_{UHF} \\rangle\n",
    " &= \\sum_{ij\\sigma\\tau\\alpha\\beta} ( \\langle \\phi_{i\\sigma}\\phi_{j\\tau} | \\hat w | \\phi_{i\\alpha} \\phi_{j\\beta} \\rangle - \\langle \\phi_{i\\sigma} \\phi_{j\\tau}| \\hat w| \\phi_{j\\beta} \\phi_{i\\alpha} \\rangle  \\\\\n",
    " &= \\sum_{ij\\sigma\\tau\\alpha\\beta} \\left(\n",
    "\\delta_{\\sigma\\alpha}\\delta_{\\tau\\beta}(\\phi_i^\\sigma \\phi_j^\\tau| \\hat w|\\phi_i^\\alpha \\phi_j^\\beta ) - \\delta_{\\sigma\\beta} \\delta_{\\tau\\alpha}(\\phi_i^\\sigma \\phi_j^\\tau | \\hat w| \\phi_j^\\beta \\phi_i^\\alpha )\n",
    "\\right) \\\\\n",
    " &= \n",
    "\\end{align}"
   ]
  },
  {
   "cell_type": "markdown",
   "metadata": {},
   "source": [
    "### Unrestricted Hartree-Fock (UHF) Equations"
   ]
  },
  {
   "cell_type": "markdown",
   "metadata": {},
   "source": [
    "#### A\n",
    "Some single-particle function in the Slater determinant can be varied by a linear combination of all occupied single particle basis functions\n",
    "$$ |\\Phi\\rangle \\rightarrow |\\Phi '\\rangle\n",
    "=  |\\varphi_{i\\sigma} \\dots (\\varphi_{j\\sigma} + \\sum_i \\delta\\varphi_{i\\sigma}) \\dots \\varphi_{N\\sigma}\\rangle $$"
   ]
  },
  {
   "cell_type": "markdown",
   "metadata": {},
   "source": [
    "Any determinant can be split, leaving two separate Slater determinants\n",
    "$$ | \\Phi \\rangle  + \\sum_i | \\varphi_{1\\sigma} \\dots \\delta\\phi_{i\\sigma} \\dots \\phi_{N\\sigma} \\rangle \n",
    "= | \\Phi \\rangle  + \\sum_{ip} \\eta_{pi}^\\sigma | \\varphi_{1\\sigma} \\dots \\varphi_{p\\sigma} \\dots \\varphi_{N\\sigma}\\rangle. $$"
   ]
  },
  {
   "cell_type": "markdown",
   "metadata": {},
   "source": [
    "Then the last term can be split into occupied and unoccupied states\n",
    "$$ |\\Phi' \\rangle = | \\Phi \\rangle + \\sum_i \\big(\\eta_{ji}^\\sigma | \\varphi_{1\\sigma} \\dots \\varphi_{j\\sigma} \\dots \\varphi_{N\\sigma} \\rangle + \\sum_a \\eta_{ai}^\\sigma |\\varphi_{1\\sigma}^\\sigma \\dots \\varphi_{a\\sigma} \\dots \\varphi_{N\\sigma} \\rangle \\big) $$"
   ]
  },
  {
   "cell_type": "markdown",
   "metadata": {},
   "source": [
    "Shortening and wrting with second quantization SOMETHING OPERATOR this becomes\n",
    "$$ |\\Phi ' \\rangle = | \\Phi \\rangle + \\sum_i \\eta_{ji}^\\sigma |\\Phi \\rangle + \\sum_{ia} \\eta_{ai}^\\sigma c_{a\\sigma}^\\dagger c_{j\\sigma} |\\Phi\\rangle\n",
    "= (1 + \\sum_i\\eta_{ji}^\\sigma)|\\Phi\\rangle + \\sum_{ia}\\eta_{ai}^\\sigma |\\Phi_{j\\sigma}^{a\\sigma}\\rangle, $$\n",
    "Where $|\\Phi_{j\\sigma}^{a\\sigma}\\rangle$ is called the singly excited stated and one can rewrite as $T = \\sum_{ia} \\eta_{ai}^\\sigma$ and $\\epsilon_j^\\sigma = \\sum_j\\eta_{ij}^\\sigma$."
   ]
  },
  {
   "cell_type": "markdown",
   "metadata": {},
   "source": [
    "Now one can compute the energy with the new perturbed Slater determinant, taking care to normalizer at the same time.\n",
    "$$ \\frac{\\langle \\Phi '| \\hat H| \\Phi ' \\rangle}{\\langle\\Phi'|\\Phi' \\rangle}\n",
    "= \\frac{(1+\\epsilon_j^\\sigma)^2\\langle \\Phi |\\hat H|\\Phi \\rangle +2(1 + \\epsilon_j^\\sigma)T\\langle \\Phi | \\hat H | \\Phi_{j\\sigma}^{a\\sigma} \\rangle + |T|^2 \\langle \\Phi_{j\\sigma}^{a\\sigma}|\\hat H | \\Phi_{j\\sigma}^{a\\sigma}\\rangle}  \n",
    "{(1+\\epsilon_j^\\sigma)^2 \\langle \\Phi | \\Phi \\rangle + 2(1 + \\epsilon_j^\\sigma)T\\langle \\Phi | \\Phi_{j\\sigma}^{a\\sigma} \\rangle + |T|^2 \\langle \\Phi_{j\\sigma}^{a\\sigma}| \\Phi_{j\\sigma}^{a\\sigma}\\rangle }.\n",
    "$$\n",
    "The higher order terms are simply ignored."
   ]
  },
  {
   "cell_type": "markdown",
   "metadata": {},
   "source": [
    "Substituting for $E_{HF} = \\langle \\Phi | \\hat H | \\Phi \\rangle$ an $\\langle \\Phi | \\Phi \\rangle$ yields\n",
    "\n",
    "$$ \\Leftrightarrow\n",
    "\\frac{E_{HF}(1 + \\epsilon_j^\\sigma)^2 + 2(1 + \\epsilon_j^\\sigma) T }{(1 + \\epsilon_j^\\sigma)^2\\langle \\Phi | \\hat H \\Phi_{j\\sigma}^{a\\sigma} \\rangle}\n",
    "+ \\mathscr{O}(\\epsilon^2)\n",
    "= \\frac{E_{HF} + 2 (1+\\epsilon_j^\\sigma)^{-1} T \\langle \\Phi | \\hat H \\Phi_{j\\sigma}^{a\\sigma} \\rangle}{1} + \\mathscr{O}(\\epsilon) $$"
   ]
  },
  {
   "cell_type": "markdown",
   "metadata": {},
   "source": [
    "Now one can expand $(1 + \\epsilon_j^\\sigma)^{-1}$ to get\n",
    "$$ \\Leftrightarrow\n",
    "E_{HF} + 2\\big[ 1 - \\epsilon_j^\\sigma + \\mathscr{O}(\\epsilon) \\big] T \\langle \\Phi|\\hat H| \\Phi_{j\\sigma}^{a\\sigma} \\rangle\n",
    "= E_{HF} + 2T\\langle \\Phi | \\hat H \\Phi_{j\\sigma}^{a\\sigma} \\rangle + \\mathscr{O}(\\epsilon) \\\\\n",
    "\\approx E_{HF} + 2\\sum_{ia}\\eta_{ai}^\\sigma \\langle \\Phi | \\hat H \\Phi_{j\\sigma}^{a\\sigma} \\rangle\n",
    "$$"
   ]
  },
  {
   "cell_type": "markdown",
   "metadata": {},
   "source": [
    "#### B\n",
    "\n",
    "$$ E_{UHF} + \\delta E_{UHF} = \\langle \\Phi_{UHF} + \\delta \\Phi_{UHF} | \\hat h | \\Phi_{UHF} \\rangle \\\\\n",
    "= \\sum_{i\\sigma} (\\varphi_i^\\sigma + \\delta \\varphi_i^\\sigma | \\hat h | \\varphi_i^\\sigma )\n",
    "+ \\frac{1}{2} \\sum_{ij\\sigma\\tau}((\\varphi_i^\\sigma + \\delta\\varphi_i^\\sigma)(\\varphi_j^\\tau + \\delta\\varphi_j^\\tau) | \\hat w | \\varphi_i^\\sigma \\varphi_j^\\tau ) - \\frac{1}{2} \\sum_{ij\\sigma} ((\\varphi_i^\\sigma + \\delta\\varphi_i^\\sigma)(\\varphi_j^\\sigma + \\delta\\varphi_i^\\sigma)| \\hat w | \\varphi_j^\\sigma \\varphi_i^\\sigma) \\\\\n",
    "= \\sum_{i\\sigma} (\\varphi_i^\\sigma + \\delta \\varphi_i^\\sigma | \\hat h | \\varphi_i^\\sigma )\n",
    "+ \\frac{1}{2} \\sum_{ij\\sigma\\tau}(\\varphi_i^\\sigma \\varphi_j^\\tau + \\varphi_i^\\sigma \\delta\\varphi_j^\\tau + \\delta\\varphi_i^\\sigma \\varphi_j^\\tau + \\delta\\varphi_i^\\sigma \\delta\\varphi_j^\\tau | \\hat w | \\varphi_i^\\sigma \\varphi_j^\\tau)\n",
    "- \\frac{1}{2} \\sum_{ij\\sigma} (\\varphi_i^\\sigma \\varphi_j^\\sigma + \\varphi_i^\\sigma \\delta\\varphi_j^\\sigma + \\delta\\varphi_i^\\sigma \\varphi_j^\\sigma + \\delta\\varphi_i^\\sigma \\delta\\varphi_j^\\sigma | \\hat w | \\varphi_j^\\sigma \\varphi_i^\\sigma)$$"
   ]
  },
  {
   "cell_type": "markdown",
   "metadata": {},
   "source": [
    "The terms with a product of two deltas (e.g $\\delta\\varphi_i^\\sigma\\delta\\varphi_j^\\tau$) can be ignored, as we are only interested in the first order approximation (delta is tiny). This leaves\n",
    "$$ \\Leftrightarrow \\sum_{i\\sigma}(\\varphi_i^\\sigma + \\sum_p\\varphi_p^\\sigma\\eta_{pi}^\\sigma | \\hat h | \\varphi_i^\\sigma) \n",
    "+ \\frac{1}{2} \\sum_{ij\\sigma\\tau} ( \\varphi_i^\\sigma\\varphi_i^\\tau + \\varphi_i^\\sigma\\sum_p\\varphi_p^\\tau\\eta_{pj}^\\tau + \\sum_q\\varphi_q^\\sigma\\eta_{qi}^\\sigma\\varphi_j^\\tau | \\hat w | \\varphi_i^\\sigma \\varphi_j^\\tau)\n",
    "- \\frac{1}{2}\\sum_{ij\\sigma}(\\varphi_i^\\sigma\\varphi_j^\\sigma + \\varphi_i^\\sigma\\sum_p\\varphi_p^\\sigma\\eta_{pj}^\\sigma + \\sum_q\\varphi_q^\\sigma\\eta_{qi}^\\sigma\\varphi_j^\\sigma | \\hat w | \\varphi_j^\\sigma \\varphi_i^\\sigma) \\\\\n",
    "= \\sum_{i\\sigma}(\\varphi_i^\\sigma | \\hat h | \\varphi_i^\\sigma)\n",
    "+ \\sum_{i\\sigma p} \\eta_{pi}^\\sigma (\\varphi_p^\\sigma | \\hat h | \\varphi_i^\\sigma)\n",
    "+ \\frac{1}{2}\\sum_{ij\\sigma\\tau}(\\varphi_i^\\sigma\\varphi_j^\\tau | \\hat w | \\varphi_i^\\sigma\\varphi_j^\\tau)\n",
    "+ \\frac{1}{2}\\sum_{ij\\sigma\\tau p}\\eta_{pj}^\\tau (\\varphi_i^\\sigma\\varphi_p^\\tau | \\hat w | \\varphi_i^\\sigma\\varphi_j^\\tau)\n",
    "+ \\frac{1}{2}\\sum_{ij\\sigma\\tau q}\\eta_{qi}^\\sigma (\\varphi_q^\\sigma\\varphi_j^\\tau | \\hat w |\\varphi_i^\\sigma \\varphi_j^\\tau)\n",
    "- \\frac{1}{2}\\sum_{ij\\sigma}(\\varphi_i^\\sigma\\varphi_j^\\sigma | \\hat w | \\varphi_j^\\sigma \\varphi_i^\\sigma)\n",
    "- \\frac{1}{2} \\sum_{ij\\sigma p} \\eta_{pj}^\\sigma (\\varphi_i^\\sigma\\varphi_p^\\sigma | \\hat w | \\varphi_j^\\sigma\\varphi_i^\\sigma)\n",
    "-\\frac{1}{2}\\sum_{ij\\sigma q}\\eta_{qi}^\\sigma ( \\varphi_q^\\sigma\\varphi_j^\\sigma | \\hat w | \\varphi_j^\\sigma \\varphi_i^\\sigma)\n",
    "$$ "
   ]
  },
  {
   "cell_type": "markdown",
   "metadata": {},
   "source": [
    "Recognize three of theterms as the unperturbed energy and limit $\\eta$ be zero for all instances but one $\\eta_{ak}^\\rho$. The energy pertrubation remains\n",
    "$$ \\delta E_{UHF}\n",
    "= (\\varphi_a^\\sigma | \\hat h | \\varphi_i^\\sigma)\n",
    "+ \\frac{1}{2}\\sum_{i\\sigma}(\\varphi_i^\\sigma\\varphi_a^\\rho | \\hat w | \\varphi_i^\\sigma\\varphi_k^\\rho) \n",
    "+ \\frac{1}{2}\\sum_{j\\tau}(\\varphi_a^\\rho\\varphi_j^\\tau | \\hat w | \\varphi_k^\\rho \\varphi_j^\\tau)\n",
    "- \\frac{1}{2}\\sum_i (\\varphi_i^\\rho\\varphi_a^\\rho | \\hat w | \\varphi_k^\\rho\\varphi_i^\\rho)\n",
    "- \\frac{1}{2}\\sum_j(\\varphi_a^\\rho\\varphi_j^\\rho | \\hat w | \\varphi_j^\\rho \\varphi_k^\\rho)\n",
    "$$"
   ]
  },
  {
   "cell_type": "markdown",
   "metadata": {},
   "source": [
    "One can switch the position of two adjacent $\\varphi$ as long as the sign changes. All the needed switches come in pairs, so the signs stay the same,\n",
    "$$ \\delta E_{UHF}\n",
    "= (\\varphi_a^\\sigma | \\hat h | \\varphi_i^\\sigma)\n",
    "+ \\frac{1}{2}\\sum_{i\\sigma}(\\varphi_a^\\rho \\varphi_i^\\sigma| \\hat w | \\varphi_k^\\rho \\varphi_i^\\sigma) \n",
    "+ \\frac{1}{2}\\sum_{j\\tau}(\\varphi_a^\\rho \\varphi_j^\\tau| \\hat w | \\varphi_k^\\rho \\varphi_j^\\tau)\n",
    "- \\frac{1}{2}\\sum_i (\\varphi_a^\\rho \\varphi_i^\\rho | \\hat w | \\varphi_i^\\rho \\varphi_k^\\rho)\n",
    "- \\frac{1}{2}\\sum_j(\\varphi_a^\\rho\\varphi_j^\\rho | \\hat w | \\varphi_j^\\rho \\varphi_k^\\rho)\n",
    "$$"
   ]
  },
  {
   "cell_type": "markdown",
   "metadata": {},
   "source": [
    "Changing the name of an index within a term is okay. Doing this yields the following\n",
    "$$ \\delta E_{UHF}\n",
    "= (\\varphi_a^\\sigma|\\hat h|\\varphi_i^\\sigma)\n",
    "+ \\sum_{j\\tau}(\\varphi_a^\\sigma\\varphi_j^\\tau|\\hat w|\\varphi_i^\\sigma\\varphi_j^\\tau)\n",
    "- \\sum(\\varphi_a^\\sigma\\varphi_j^\\sigma|\\hat w|\\varphi_j^\\sigma\\varphi_i^\\sigma)\n",
    "$$"
   ]
  },
  {
   "cell_type": "markdown",
   "metadata": {},
   "source": [
    "### Roothan Hall Equations\n",
    "We can replace the non-canonical equations with the canonical equations which are of eigenvalue form\n",
    "$$ \\hat f^\\sigma \\varphi_i^\\sigma = \\epsilon_i^\\sigma \\varphi_i^\\sigma. $$\n",
    "This is in fact two coupled eigenvalue problems, one for each spin $\\sigma$. \n",
    "\n",
    "For numerical treatment the orbitals are expanded in </i>atomic orbital basis functions</i> $\\phi_p$, $p=1,2,\\dots, K$,\n",
    "$$ \\varphi_q^\\sigma = \\sum_p \\psi_p U_{pq}^\\sigma, $$\n",
    "often called molecular orbitals.\n",
    "\n",
    "The basis is the same in each spin direction, and the atomic orbitals are not necessarily orthonormal, the general non-diagonal overlap matrix is given by\n",
    "$$ S_{pq} = (\\psi_p|\\psi_q). $$\n",
    "When the basis functions are linearly independent, $S$ is invertible. $S$ is symmetric and positive definite.\n",
    "\n",
    "The <i>atomic integrals</i> are defined thusly\n",
    "$$ h_{qp} = (\\psi_q | \\hat h | \\psi_p), \\quad (pr | qs) = (\\psi_p \\psi_q | \\hat w | \\psi_r \\psi_s), $$\n",
    "note the index placement in the two-electron integral.\n",
    "\n",
    "Lastly, the <i>density matrices</i> are given by\n",
    "$$ D_{rs}^\\sigma = \\sum_j U_{rj}^\\sigma (U_{sj}^\\sigma)^* = U_{occ}^\\sigma (U_{occ}^\\sigma)^H, $$\n",
    "where $U_{occ}^\\sigma$ is the $K \\times N_\\sigma$ submatrix of $U^\\sigma$ formed by the first $N_\\sigma$ columns."
   ]
  },
  {
   "cell_type": "markdown",
   "metadata": {
    "collapsed": true
   },
   "source": [
    "#### A\n",
    "The Roothan-Hall equations are obtained by projecting the UHF equations onto the atomic orbital basis. The one-body operator becomes\n",
    "$$ (\\psi_p | \\hat h | \\varphi_i^\\sigma) \n",
    "= (\\psi_p | \\hat p | \\sum_q \\psi_q U_{qi}^\\sigma) \n",
    "= \\sum_q (\\psi_p |\\hat h| \\psi_q) U_{qi}^\\sigma \n",
    "= \\sum_q h_{pq} U_{qi}^\\sigma. $$"
   ]
  },
  {
   "cell_type": "markdown",
   "metadata": {},
   "source": [
    "The Hartree potential becomes\n",
    "$$ (\\psi_p | \\hat v_H^\\tau | \\varphi_i^\\sigma ) \n",
    "= \\sum_j ( \\psi_p \\varphi_j^\\tau | \\hat w | \\varphi_i^\\sigma \\varphi_j^\\tau)\n",
    "= \\sum_j (\\psi_p \\sum_r \\psi_r U_{rj}^\\tau | \\hat w | \\sum_q \\psi_q U_{qi}^\\sigma \\sum_s \\psi_s U_{sj}^\\tau )\n",
    "= \\sum_{rsq} \\big((\\psi_p \\psi_r | \\hat w | \\psi_q \\psi_s ) \\sum_j U_{sj}^\\tau (U_{rj}^\\tau)^* U_{qi}^\\sigma \\big)\n",
    "= \\sum_q \\big(\\sum_{rs} (p q | r s) D_{rs}^\\sigma \\big) U_{qi}^\\sigma.$$"
   ]
  },
  {
   "cell_type": "markdown",
   "metadata": {},
   "source": [
    "The exchange potential\n",
    "$$(\\psi_p | \\hat v_{ex}^\\sigma | \\varphi_i^\\sigma)\n",
    "= \\sum_j (\\psi_p \\varphi_j^\\sigma | \\hat w | \\varphi_j^\\sigma \\varphi_i^\\sigma)\n",
    "= \\sum_j (\\psi_p \\sum_r \\psi_r U_{rj}^\\sigma | \\hat w | \\sum_s \\psi_s U_{sj}^\\sigma \\sum_q \\psi_q U_{qi}^\\sigma)\n",
    "= \\sum_{rsq} \\big((\\psi_p \\psi_r | \\hat w | \\psi_s \\psi_q ) \\sum_j U_{sj}^\\sigma (u_{rj}^\\sigma)^* U_{qi}^\\sigma \\big)\n",
    "= \\sum_q \\big( \\sum_{rs} (p s | r q) D_{rs}^\\sigma \\big) U_{qi}^\\sigma.$$"
   ]
  },
  {
   "cell_type": "markdown",
   "metadata": {},
   "source": [
    "The inner product between atomic orbitals and molecular orbitals is\n",
    "$$ (\\psi_p | \\varphi_i^\\sigma) = (\\psi_p | \\sum_q \\psi_q U_{qi}^\\sigma) \n",
    "=  \\sum_q (\\psi_p| \\psi_q) U_{qi}^\\sigma = \\sum_q S_{pq} U_{qi}^\\sigma.$$"
   ]
  },
  {
   "cell_type": "markdown",
   "metadata": {},
   "source": [
    "#### B\n",
    "The Fock matrix is defined as\n",
    "$$ F^\\sigma = h + J(D^\\uparrow + D^\\downarrow) - K(D^\\sigma), $$\n",
    "where \n",
    "$$ J(D)_{pq} = \\sum_{rs}(pq|rs)D_{sr} \\quad \n",
    "   K(D)_{pq} = \\sum_{rs}(ps|rq)D_{sr}. $$"
   ]
  },
  {
   "cell_type": "markdown",
   "metadata": {},
   "source": [
    "## Implementation"
   ]
  },
  {
   "cell_type": "code",
   "execution_count": 51,
   "metadata": {
    "collapsed": true
   },
   "outputs": [],
   "source": [
    "import numpy as np\n",
    "import psi4\n",
    "from matplotlib import pyplot as plt\n",
    "import scipy.linalg"
   ]
  },
  {
   "cell_type": "code",
   "execution_count": 64,
   "metadata": {},
   "outputs": [],
   "source": [
    "# I want some stuff\n",
    "\n",
    "# Water. Look what you brought into my life.\n",
    "r_h2o = 1.809\n",
    "theta_h2o = 104.59\n",
    "\n",
    "h2o = \"\"\"\n",
    "        O\n",
    "        H 1 {0}\n",
    "        H 1 {0} 2 {1}\n",
    "        symmetry c1\n",
    "        units bohr\n",
    "\"\"\" .format(r_h2o, theta_h2o)\n",
    "\n",
    "# Hydrogen\n",
    "r_h2 = 2.0\n",
    "\n",
    "h2 = \"\"\"\n",
    "    0 1\n",
    "    H\n",
    "    H 1 {0}\n",
    "    symmetry c1\n",
    "    units bohr\n",
    "\"\"\" .format(r_h2)\n",
    "\n",
    "molecule = psi4.geometry(h2o)\n",
    "\n",
    "options = {\n",
    "    'basis' : 'cc-pVDZ',\n",
    "    'reference' : 'uhf',\n",
    "    'scf_type' : 'direct',\n",
    "    'guess' : 'core',\n",
    "    'guess_mix' : 'true',\n",
    "    'e_convergence' : 1e-7\n",
    "} \n",
    "\n",
    "psi4.set_options(options)\n",
    "\n",
    "wavefunction = psi4.core.Wavefunction.build(molecule,\n",
    "                        psi4.core.get_global_option('basis'))\n",
    "\n",
    "mints = psi4.core.MintsHelper(wavefunction.basisset())\n",
    "\n",
    "# Hamiltonian operator\n",
    "T = np.asarray(mints.ao_kinetic())\n",
    "V = np.asarray(mints.ao_potential())\n",
    "H = T + V\n",
    "\n",
    "# Other things\n",
    "W = np.asarray(mints.ao_eri())\n",
    "S = np.asarray(mints.ao_overlap())\n",
    "\n",
    "# This is what I am supposed to do.\n",
    "#SCF_E = psi4.energy('SCF')\n",
    "#print(\"Energy is: \", SCF_E)\n",
    "\n",
    "# Some numbers\n",
    "number_of_orbitals = wavefunction.nso()\n",
    "number_of_occupied_ups   = wavefunction.nalpha()\n",
    "number_of_occupied_downs = wavefunction.nbeta()"
   ]
  },
  {
   "cell_type": "code",
   "execution_count": 53,
   "metadata": {
    "collapsed": true
   },
   "outputs": [],
   "source": [
    "# Needed: make RHF version\n",
    "def generate_density_matrix(U, number_of_occupied, scramble=True):\n",
    "    density_matrix = np.matrix(U[:, 0:number_of_occupied])\n",
    "    density_matrix = np.dot(density_matrix, density_matrix.H)\n",
    "    # density_matrix[number_of_occupied::] = 0\n",
    "    \n",
    "    if scramble:\n",
    "        X = np.random.rand(*density_matrix.shape)\n",
    "        X += X.T\n",
    "        density_matrix += 0.001 * X\n",
    "    \n",
    "    return density_matrix"
   ]
  },
  {
   "cell_type": "code",
   "execution_count": 54,
   "metadata": {},
   "outputs": [],
   "source": [
    "def generate_fock_matrix(H, W, D_up, D_down):\n",
    "    \n",
    "    '''\n",
    "    This will be built separately for up and down things \n",
    "    in UHF. In one go for RHF?\n",
    "    \n",
    "    F_up   = h + J(D_up + D_down) - K(D_up)\n",
    "    F_down = h + J(D_up + D_down) - K(D_down)\n",
    "    \n",
    "    '''\n",
    "    \n",
    "    # Constructing J\n",
    "    # J(D)_pq = sum_rs (pq|rs)D_sr\n",
    "    J = np.einsum('pqrs, sr->pq', W, D_up - D_down)\n",
    "    \n",
    "    '''\n",
    "    # W[p][r][q][s] Is the Milliken notation correct??\n",
    "    J = np.empty(D_up.shape)\n",
    "    for r in range(num_of_occupied):\n",
    "        for s in range(num_of_occupied):\n",
    "            J += W[:][r][:][s] * D_up \\\n",
    "               + W[:][r][:][s] * D_down # maybe correct\n",
    "    \n",
    "    # The K's\n",
    "    K = np.empty(D_up.shape)\n",
    "    \n",
    "    for r in range(num_of_occupied):\n",
    "        for s in range(num_of_occupied):\n",
    "            K   += W[:][s][r][:] * D_up \\\n",
    "                 + W[:][s][r][:] * D_down\n",
    "    \n",
    "    '''\n",
    "    \n",
    "    # Constructing K\n",
    "    K_up   = np.einsum('psrq, sr->pq', W, D_up)\n",
    "    K_down = np.einsum('psrq, sr->pq', W, D_down)\n",
    "    \n",
    "    F_up   = H + J - K_up\n",
    "    F_down = H + J - K_down\n",
    "    \n",
    "    return F_up, F_down"
   ]
  },
  {
   "cell_type": "code",
   "execution_count": 65,
   "metadata": {},
   "outputs": [
    {
     "name": "stdout",
     "output_type": "stream",
     "text": [
      "The density matrices: \n"
     ]
    },
    {
     "data": {
      "image/png": "[encoded data removed]",
      "text/plain": [
       "<matplotlib.figure.Figure at 0x128debb38>"
      ]
     },
     "metadata": {},
     "output_type": "display_data"
    },
    {
     "data": {
      "image/png": "[encoded data removed]",
      "text/plain": [
       "<matplotlib.figure.Figure at 0x1278d5e48>"
      ]
     },
     "metadata": {},
     "output_type": "display_data"
    },
    {
     "name": "stdout",
     "output_type": "stream",
     "text": [
      "ups:    5\n",
      "downs:  5\n"
     ]
    }
   ],
   "source": [
    "e_init, U_init = scipy.linalg.eigh(H, S)\n",
    "\n",
    "# Density matrices\n",
    "D_up   = generate_density_matrix(U_init, number_of_occupied_ups)\n",
    "D_down = generate_density_matrix(U_init, number_of_occupied_downs)\n",
    "\n",
    "print(\"The density matrices: \")\n",
    "plt.figure()\n",
    "plt.imshow(D_up)\n",
    "plt.figure()\n",
    "plt.imshow(D_down)\n",
    "plt.show()\n",
    "\n",
    "print(\"ups:   \", number_of_occupied_ups)\n",
    "print(\"downs: \", number_of_occupied_downs)"
   ]
  },
  {
   "cell_type": "code",
   "execution_count": 66,
   "metadata": {},
   "outputs": [],
   "source": [
    "F_up, F_down   = generate_fock_matrix(H, W, D_up, D_down)"
   ]
  },
  {
   "cell_type": "code",
   "execution_count": 67,
   "metadata": {},
   "outputs": [
    {
     "name": "stdout",
     "output_type": "stream",
     "text": [
      "The fock matrices: \n"
     ]
    },
    {
     "data": {
      "image/png": "[encoded data removed]",
      "text/plain": [
       "<matplotlib.figure.Figure at 0x124498470>"
      ]
     },
     "metadata": {},
     "output_type": "display_data"
    },
    {
     "data": {
      "image/png": "[encoded data removed]",
      "text/plain": [
       "<matplotlib.figure.Figure at 0x128e6b470>"
      ]
     },
     "metadata": {},
     "output_type": "display_data"
    }
   ],
   "source": [
    "print(\"The fock matrices: \")\n",
    "plt.figure()\n",
    "plt.imshow(F_up)\n",
    "plt.figure()\n",
    "plt.imshow(F_down)\n",
    "plt.show()"
   ]
  },
  {
   "cell_type": "code",
   "execution_count": 68,
   "metadata": {},
   "outputs": [
    {
     "name": "stdout",
     "output_type": "stream",
     "text": [
      "Mins.. E_up: -38.199780, E_down: -38.200531\n",
      "Mins.. E_up: -27.440101, E_down: -22.371554\n",
      "Mins.. E_up: -27.626079, E_down: -22.555974\n",
      "Mins.. E_up: -27.698208, E_down: -22.636584\n",
      "Mins.. E_up: -27.710272, E_down: -22.650021\n",
      "Mins.. E_up: -27.712272, E_down: -22.652245\n",
      "Mins.. E_up: -27.712628, E_down: -22.652640\n",
      "Mins.. E_up: -27.712697, E_down: -22.652717\n",
      "Mins.. E_up: -27.712712, E_down: -22.652734\n",
      "Mins.. E_up: -27.712715, E_down: -22.652738\n",
      "Mins.. E_up: -27.712716, E_down: -22.652738\n",
      "Mins.. E_up: -27.712717, E_down: -22.652739\n",
      "Mins.. E_up: -27.712717, E_down: -22.652739\n",
      "Mins.. E_up: -27.712717, E_down: -22.652739\n",
      "Mins.. E_up: -27.712717, E_down: -22.652739\n",
      "Mins.. E_up: -27.712717, E_down: -22.652739\n",
      "Mins.. E_up: -27.712717, E_down: -22.652739\n",
      "Mins.. E_up: -27.712717, E_down: -22.652739\n",
      "Mins.. E_up: -27.712717, E_down: -22.652739\n",
      "Mins.. E_up: -27.712717, E_down: -22.652739\n",
      "Mins.. E_up: -27.712717, E_down: -22.652739\n",
      "Mins.. E_up: -27.712717, E_down: -22.652739\n",
      "Mins.. E_up: -27.712717, E_down: -22.652739\n",
      "Mins.. E_up: -27.712717, E_down: -22.652739\n",
      "Mins.. E_up: -27.712717, E_down: -22.652739\n",
      "Mins.. E_up: -27.712717, E_down: -22.652739\n",
      "Mins.. E_up: -27.712717, E_down: -22.652739\n",
      "Mins.. E_up: -27.712717, E_down: -22.652739\n",
      "Mins.. E_up: -27.712717, E_down: -22.652739\n",
      "Mins.. E_up: -27.712717, E_down: -22.652739\n",
      "Mins.. E_up: -27.712717, E_down: -22.652739\n",
      "Mins.. E_up: -27.712717, E_down: -22.652739\n",
      "Mins.. E_up: -27.712717, E_down: -22.652739\n",
      "Mins.. E_up: -27.712717, E_down: -22.652739\n",
      "Mins.. E_up: -27.712717, E_down: -22.652739\n",
      "Mins.. E_up: -27.712717, E_down: -22.652739\n",
      "Mins.. E_up: -27.712717, E_down: -22.652739\n",
      "Mins.. E_up: -27.712717, E_down: -22.652739\n",
      "Mins.. E_up: -27.712717, E_down: -22.652739\n",
      "Mins.. E_up: -27.712717, E_down: -22.652739\n",
      "Mins.. E_up: -27.712717, E_down: -22.652739\n",
      "Mins.. E_up: -27.712717, E_down: -22.652739\n",
      "Mins.. E_up: -27.712717, E_down: -22.652739\n",
      "Mins.. E_up: -27.712717, E_down: -22.652739\n",
      "Mins.. E_up: -27.712717, E_down: -22.652739\n",
      "Mins.. E_up: -27.712717, E_down: -22.652739\n",
      "Mins.. E_up: -27.712717, E_down: -22.652739\n",
      "Mins.. E_up: -27.712717, E_down: -22.652739\n",
      "Mins.. E_up: -27.712717, E_down: -22.652739\n",
      "Mins.. E_up: -27.712717, E_down: -22.652739\n"
     ]
    }
   ],
   "source": [
    "# Solving the eigenvalue problem many times.\n",
    "theta = 0.01\n",
    "for i in range(50):\n",
    "    E_up,   U_up   = scipy.linalg.eigh(F_up,   S)\n",
    "    E_down, U_down = scipy.linalg.eigh(F_down, S)\n",
    "    \n",
    "    D_up = theta * D_up + (1 - theta) * \\\n",
    "        generate_density_matrix(U_up, number_of_occupied_ups, False)\n",
    "    \n",
    "    D_down = theta * D_down * (1 - theta) * \\\n",
    "        generate_density_matrix(U_down, number_of_occupied_downs, False)\n",
    "    \n",
    "    # I don't know if I've inputted the correct things..\n",
    "    F_up, F_down = generate_fock_matrix(H, W, D_up, D_down)\n",
    "    \n",
    "    print(\"Mins.. E_up: {0:4f}, E_down: {1:4f}\" .format(np.min(E_up), np.min(E_down)))"
   ]
  },
  {
   "cell_type": "code",
   "execution_count": 59,
   "metadata": {},
   "outputs": [
    {
     "name": "stdout",
     "output_type": "stream",
     "text": [
      "The eigenvector matrices: \n"
     ]
    },
    {
     "data": {
      "image/png": "[encoded data removed]",
      "text/plain": [
       "<matplotlib.figure.Figure at 0x128b855f8>"
      ]
     },
     "metadata": {},
     "output_type": "display_data"
    },
    {
     "data": {
      "image/png": "[encoded data removed]",
      "text/plain": [
       "<matplotlib.figure.Figure at 0x128b1c358>"
      ]
     },
     "metadata": {},
     "output_type": "display_data"
    }
   ],
   "source": [
    "print(\"The eigenvector matrices: \")\n",
    "plt.figure()\n",
    "plt.imshow(U_up)\n",
    "plt.figure()\n",
    "plt.imshow(U_down)\n",
    "plt.show()"
   ]
  },
  {
   "cell_type": "markdown",
   "metadata": {},
   "source": [
    "This is obviously wrong. Next step: read problem sheet thoroughly."
   ]
  },
  {
   "cell_type": "code",
   "execution_count": 69,
   "metadata": {},
   "outputs": [
    {
     "ename": "RuntimeError",
     "evalue": "\nFatal Error: PSIO Error\nError occurred in file: /Users/github/builds/conda-builds/psi4_1495017670004/work/psi4/src/psi4/libpsio/error.cc on line: 129\nThe most recent 5 function calls were:\n\n",
     "output_type": "error",
     "traceback": [
      "\u001b[0;31m---------------------------------------------------------------------------\u001b[0m",
      "\u001b[0;31mRuntimeError\u001b[0m                              Traceback (most recent call last)",
      "\u001b[0;32m<ipython-input-69-cae0895d3613>\u001b[0m in \u001b[0;36m<module>\u001b[0;34m()\u001b[0m\n\u001b[0;32m----> 1\u001b[0;31m \u001b[0mSCF_E\u001b[0m \u001b[0;34m=\u001b[0m \u001b[0mpsi4\u001b[0m\u001b[0;34m.\u001b[0m\u001b[0menergy\u001b[0m\u001b[0;34m(\u001b[0m\u001b[0;34m'scf'\u001b[0m\u001b[0;34m)\u001b[0m\u001b[0;34m\u001b[0m\u001b[0m\n\u001b[0m\u001b[1;32m      2\u001b[0m \u001b[0mprint\u001b[0m\u001b[0;34m(\u001b[0m\u001b[0mSCF_E\u001b[0m\u001b[0;34m)\u001b[0m\u001b[0;34m\u001b[0m\u001b[0m\n",
      "\u001b[0;32m/anaconda/lib/python3.6/site-packages/psi4/driver/driver.py\u001b[0m in \u001b[0;36menergy\u001b[0;34m(name, **kwargs)\u001b[0m\n\u001b[1;32m    458\u001b[0m             \u001b[0mshutil\u001b[0m\u001b[0;34m.\u001b[0m\u001b[0mcopy\u001b[0m\u001b[0;34m(\u001b[0m\u001b[0mitem\u001b[0m\u001b[0;34m,\u001b[0m \u001b[0mtargetfile\u001b[0m\u001b[0;34m)\u001b[0m\u001b[0;34m\u001b[0m\u001b[0m\n\u001b[1;32m    459\u001b[0m \u001b[0;34m\u001b[0m\u001b[0m\n\u001b[0;32m--> 460\u001b[0;31m     \u001b[0mwfn\u001b[0m \u001b[0;34m=\u001b[0m \u001b[0mprocedures\u001b[0m\u001b[0;34m[\u001b[0m\u001b[0;34m'energy'\u001b[0m\u001b[0;34m]\u001b[0m\u001b[0;34m[\u001b[0m\u001b[0mlowername\u001b[0m\u001b[0;34m]\u001b[0m\u001b[0;34m(\u001b[0m\u001b[0mlowername\u001b[0m\u001b[0;34m,\u001b[0m \u001b[0mmolecule\u001b[0m\u001b[0;34m=\u001b[0m\u001b[0mmolecule\u001b[0m\u001b[0;34m,\u001b[0m \u001b[0;34m**\u001b[0m\u001b[0mkwargs\u001b[0m\u001b[0;34m)\u001b[0m\u001b[0;34m\u001b[0m\u001b[0m\n\u001b[0m\u001b[1;32m    461\u001b[0m \u001b[0;34m\u001b[0m\u001b[0m\n\u001b[1;32m    462\u001b[0m     \u001b[0;32mfor\u001b[0m \u001b[0mpostcallback\u001b[0m \u001b[0;32min\u001b[0m \u001b[0mhooks\u001b[0m\u001b[0;34m[\u001b[0m\u001b[0;34m'energy'\u001b[0m\u001b[0;34m]\u001b[0m\u001b[0;34m[\u001b[0m\u001b[0;34m'post'\u001b[0m\u001b[0;34m]\u001b[0m\u001b[0;34m:\u001b[0m\u001b[0;34m\u001b[0m\u001b[0m\n",
      "\u001b[0;32m/anaconda/lib/python3.6/site-packages/psi4/driver/procrouting/proc.py\u001b[0m in \u001b[0;36mrun_scf\u001b[0;34m(name, **kwargs)\u001b[0m\n\u001b[1;32m   1940\u001b[0m     \u001b[0moptstash\u001b[0m \u001b[0;34m=\u001b[0m \u001b[0mproc_util\u001b[0m\u001b[0;34m.\u001b[0m\u001b[0mscf_set_reference_local\u001b[0m\u001b[0;34m(\u001b[0m\u001b[0mname\u001b[0m\u001b[0;34m)\u001b[0m\u001b[0;34m\u001b[0m\u001b[0m\n\u001b[1;32m   1941\u001b[0m \u001b[0;34m\u001b[0m\u001b[0m\n\u001b[0;32m-> 1942\u001b[0;31m     \u001b[0mscf_wfn\u001b[0m \u001b[0;34m=\u001b[0m \u001b[0mscf_helper\u001b[0m\u001b[0;34m(\u001b[0m\u001b[0mname\u001b[0m\u001b[0;34m,\u001b[0m \u001b[0;34m**\u001b[0m\u001b[0mkwargs\u001b[0m\u001b[0;34m)\u001b[0m\u001b[0;34m\u001b[0m\u001b[0m\n\u001b[0m\u001b[1;32m   1943\u001b[0m \u001b[0;34m\u001b[0m\u001b[0m\n\u001b[1;32m   1944\u001b[0m     \u001b[0moptstash\u001b[0m\u001b[0;34m.\u001b[0m\u001b[0mrestore\u001b[0m\u001b[0;34m(\u001b[0m\u001b[0;34m)\u001b[0m\u001b[0;34m\u001b[0m\u001b[0m\n",
      "\u001b[0;32m/anaconda/lib/python3.6/site-packages/psi4/driver/procrouting/proc.py\u001b[0m in \u001b[0;36mscf_helper\u001b[0;34m(name, **kwargs)\u001b[0m\n\u001b[1;32m   1328\u001b[0m         \u001b[0mscf_wfn\u001b[0m\u001b[0;34m.\u001b[0m\u001b[0mset_variable\u001b[0m\u001b[0;34m(\u001b[0m\u001b[0;34m\"-D Energy\"\u001b[0m\u001b[0;34m,\u001b[0m \u001b[0mdisp_energy\u001b[0m\u001b[0;34m)\u001b[0m\u001b[0;34m\u001b[0m\u001b[0m\n\u001b[1;32m   1329\u001b[0m \u001b[0;34m\u001b[0m\u001b[0m\n\u001b[0;32m-> 1330\u001b[0;31m     \u001b[0me_scf\u001b[0m \u001b[0;34m=\u001b[0m \u001b[0mscf_wfn\u001b[0m\u001b[0;34m.\u001b[0m\u001b[0mcompute_energy\u001b[0m\u001b[0;34m(\u001b[0m\u001b[0;34m)\u001b[0m\u001b[0;34m\u001b[0m\u001b[0m\n\u001b[0m\u001b[1;32m   1331\u001b[0m     \u001b[0mcore\u001b[0m\u001b[0;34m.\u001b[0m\u001b[0mset_variable\u001b[0m\u001b[0;34m(\u001b[0m\u001b[0;34m\"SCF TOTAL ENERGY\"\u001b[0m\u001b[0;34m,\u001b[0m \u001b[0me_scf\u001b[0m\u001b[0;34m)\u001b[0m\u001b[0;34m\u001b[0m\u001b[0m\n\u001b[1;32m   1332\u001b[0m     \u001b[0mcore\u001b[0m\u001b[0;34m.\u001b[0m\u001b[0mset_variable\u001b[0m\u001b[0;34m(\u001b[0m\u001b[0;34m\"CURRENT ENERGY\"\u001b[0m\u001b[0;34m,\u001b[0m \u001b[0me_scf\u001b[0m\u001b[0;34m)\u001b[0m\u001b[0;34m\u001b[0m\u001b[0m\n",
      "\u001b[0;31mRuntimeError\u001b[0m: \nFatal Error: PSIO Error\nError occurred in file: /Users/github/builds/conda-builds/psi4_1495017670004/work/psi4/src/psi4/libpsio/error.cc on line: 129\nThe most recent 5 function calls were:\n\n"
     ]
    }
   ],
   "source": [
    "SCF_E = psi4.energy('scf')\n",
    "print(SCF_E)"
   ]
  },
  {
   "cell_type": "code",
   "execution_count": 63,
   "metadata": {},
   "outputs": [
    {
     "name": "stdout",
     "output_type": "stream",
     "text": [
      "[-1.10026467 -0.28101561  0.13110017  0.313322    0.75198052  0.75198052\n",
      "  1.07264135  1.31756787  1.31756787  2.10912215]\n",
      "[-0.47065121 -0.17234246  0.22305663  0.41036965  0.85901349  0.85901349\n",
      "  1.16218497  1.37563043  1.37563043  2.16721608]\n",
      "6.38400216522\n",
      "7.78912151028\n"
     ]
    }
   ],
   "source": [
    "print(E_up)\n",
    "print(E_down)\n",
    "print(np.sum(E_up))\n",
    "print(np.sum(E_down))"
   ]
  }
 ],
 "metadata": {
  "kernelspec": {
   "display_name": "Python 3",
   "language": "python",
   "name": "python3"
  },
  "language_info": {
   "codemirror_mode": {
    "name": "ipython",
    "version": 3
   },
   "file_extension": ".py",
   "mimetype": "text/x-python",
   "name": "python",
   "nbconvert_exporter": "python",
   "pygments_lexer": "ipython3",
   "version": "3.6.1"
  }
 },
 "nbformat": 4,
 "nbformat_minor": 2
}
