{
 "cells": [
  {
   "cell_type": "markdown",
   "metadata": {},
   "source": [
    "# Project 1 FYS-KJM4480 2017"
   ]
  },
  {
   "cell_type": "markdown",
   "metadata": {},
   "source": [
    "## Theory"
   ]
  },
  {
   "cell_type": "markdown",
   "metadata": {},
   "source": [
    "The Hamiltonian can be split into ground state and the other part :p\n",
    "$$ \\hat H = \\hat H_0 + \\hat W. $$\n",
    "Moreover, any operator can be written as\n",
    "$$ \\hat O = \\sum_{ij}o_{ij} |i\\rangle \\langle j| = \\sum_{ij} o_{ij}c_i^\\dagger c_j, $$\n",
    "where $o_{ij} = \\langle i|\\hat O| j\\rangle$ are the matrix elements."
   ]
  },
  {
   "cell_type": "markdown",
   "metadata": {},
   "source": [
    "The expected value for the ground state Hamiltonian becomes\n",
    "$$ \\langle \\Phi |\\hat H_0 |\\Phi \\rangle\n",
    "  =\\langle \\Phi |\\sum_{pq} h_{pq} |p\\rangle \\langle q | \\Phi \\rangle \n",
    "  =\\langle \\Phi |\\sum_{pq} h_{pq} c_p^\\dagger c_q | \\Phi \\rangle\n",
    "  =\\sum_{pq} h_{pq}\\langle \\Phi | c_p^\\dagger c_q |\\Phi \\rangle. $$"
   ]
  },
  {
   "cell_type": "markdown",
   "metadata": {},
   "source": [
    "### Energy Expression\n",
    "#### A\n",
    "A Slater determinant is denoted by $|\\phi \\rangle = |\\phi_1 \\phi_2 \\dots \\phi_N \\rangle$, where $\\{\\phi_i\\}$, $i\\in \\{1, \\dots, N \\}$ is a basis consisting of single-particle functions."
   ]
  },
  {
   "cell_type": "markdown",
   "metadata": {},
   "source": [
    "Herein it will be shown that \n",
    "$$\\langle \\Phi | \\hat{H} | \\Phi \\rangle \n",
    " = \\sum_I \\langle \\phi_I |\\hat h |\\phi_I \\rangle\n",
    " + \\frac{1}{2} \\sum_{IJ} \\langle \\phi_I \\phi_J|\\hat W |\\phi_I \\phi_J - \\phi_J \\phi_I \\rangle, $$\n",
    "where capital indices imply summation over all occupied single-particle functions."
   ]
  },
  {
   "cell_type": "markdown",
   "metadata": {},
   "source": [
    "Now, if capital letter indices indicates occupied states, this can be rewritten as\n",
    "$$ \\Leftrightarrow\n",
    "    \\sum_{IJ} h_{IJ} \\langle \\Phi |C_I^\\dagger C_J | \\Phi \\rangle\n",
    "  + \\sum_{\\alpha J} h_{\\alpha J} \\langle \\Phi |C_\\alpha^\\dagger C_J | \\Phi \\rangle\n",
    "  + \\sum_{\\alpha \\beta} h_{\\alpha \\beta} \\langle \\Phi |C_\\alpha^\\dagger C_\\beta | \\Phi \\rangle\n",
    "  + \\sum_{I \\beta} h_{I \\beta} \\langle \\Phi |C_I^\\dagger C_\\beta | \\Phi \\rangle, $$\n",
    "where $\\alpha$ and $\\beta$ is any state that is not occupied by a single-particle function. This means that all states $\\phi_I$ and $\\phi_\\alpha$ are included in the states $\\phi_p$ and that all states $\\phi_J$ and $\\phi_\\beta$ are included in states $\\phi_q$."
   ]
  },
  {
   "cell_type": "markdown",
   "metadata": {},
   "source": [
    "Because the states $\\phi_\\beta \\notin \\{\\phi\\}$, $c_\\beta |\\phi\\rangle = 0$, so the last two terms are zero. What remains is\n",
    "$$ \\Leftrightarrow\n",
    "   \\sum_{IJ} h_{IJ}\\delta_{IJ} \\langle \\Phi | \\Phi \\rangle \n",
    " + \\sum_{\\alpha J} h_{\\alpha J} \\delta_{\\alpha J} \\langle \\Phi | \\Phi \\rangle. $$\n",
    "Here the last term is zero because $\\delta_{\\alpha J} = 0 \\forall \\alpha, J$ because $\\phi_\\alpha \\notin \\{\\phi\\}$ and $\\phi_J \\in \\{\\phi\\}$."
   ]
  },
  {
   "cell_type": "markdown",
   "metadata": {},
   "source": [
    "This leaves\n",
    "$$ \\Leftrightarrow \\langle \\Phi |\\hat H_0 |\\Phi \\rangle =  \\sum_I h_I = \\sum_I \\langle \\phi_I | \\hat h | \\phi_I \\rangle. $$"
   ]
  },
  {
   "cell_type": "markdown",
   "metadata": {},
   "source": [
    "#### B\n",
    "Show\n",
    "$$ E_{UHF} = \\sum_{i\\sigma} ( \\varphi_i^\\sigma | \\hat{h} | \\varphi_i^\\sigma) + E_H - E_{ex}$$\n",
    "with the <i> Hartree energy </i> (or direct energy) \n",
    "$$ E_H = \\frac{1}{2} \\sum_{ij\\sigma\\tau}(\\phi_i^\\sigma\\phi_j^\\tau | \\hat w | \\phi_i^\\sigma \\phi_j^\\tau) $$\n",
    "and the <i> exchange energy </i> \n",
    "$$ E_{ex} = \\frac{1}{2} \\sum_{ij\\sigma} (\\phi_i^\\sigma\\phi_j^\\sigma | \\hat w | \\phi_j^\\sigma \\phi_i^\\sigma ). $$"
   ]
  },
  {
   "cell_type": "markdown",
   "metadata": {},
   "source": [
    "\\begin{align} \\langle \\Phi_{UHF} | \\hat W | \\Phi_{UHF} \\rangle\n",
    " &= \\sum_{ij\\sigma\\tau\\alpha\\beta} ( \\langle \\phi_{i\\sigma}\\phi_{j\\tau} | \\hat w | \\phi_{i\\alpha} \\phi_{j\\beta} \\rangle - \\langle \\phi_{i\\sigma} \\phi_{j\\tau}| \\hat w| \\phi_{j\\beta} \\phi_{i\\alpha} \\rangle  \\\\\n",
    " &= \\sum_{ij\\sigma\\tau\\alpha\\beta} \\left(\n",
    "\\delta_{\\sigma\\alpha}\\delta_{\\tau\\beta}(\\phi_i^\\sigma \\phi_j^\\tau| \\hat w|\\phi_i^\\alpha \\phi_j^\\beta ) - \\delta_{\\sigma\\beta} \\delta_{\\tau\\alpha}(\\phi_i^\\sigma \\phi_j^\\tau | \\hat w| \\phi_j^\\beta \\phi_i^\\alpha )\n",
    "\\right) \\\\\n",
    " &= \n",
    "\\end{align}"
   ]
  },
  {
   "cell_type": "markdown",
   "metadata": {},
   "source": [
    "### Unrestricted Hartree-Fock (UHF) Equations"
   ]
  },
  {
   "cell_type": "markdown",
   "metadata": {},
   "source": [
    "#### A\n",
    "Some single-particle function in the Slater determinant can be varied by a linear combination of all occupied single particle basis functions\n",
    "$$ |\\Phi\\rangle \\rightarrow |\\Phi '\\rangle\n",
    "=  |\\varphi_{i\\sigma} \\dots (\\varphi_{j\\sigma} + \\sum_i \\delta\\varphi_{i\\sigma}) \\dots \\varphi_{N\\sigma}\\rangle $$"
   ]
  },
  {
   "cell_type": "markdown",
   "metadata": {},
   "source": [
    "Any determinant can be split, leaving two separate Slater determinants\n",
    "$$ | \\Phi \\rangle  + \\sum_i | \\varphi_{1\\sigma} \\dots \\delta\\phi_{i\\sigma} \\dots \\phi_{N\\sigma} \\rangle \n",
    "= | \\Phi \\rangle  + \\sum_{ip} \\eta_{pi}^\\sigma | \\varphi_{1\\sigma} \\dots \\varphi_{p\\sigma} \\dots \\varphi_{N\\sigma}\\rangle. $$"
   ]
  },
  {
   "cell_type": "markdown",
   "metadata": {},
   "source": [
    "Then the last term can be split into occupied and unoccupied states\n",
    "$$ |\\Phi' \\rangle = | \\Phi \\rangle + \\sum_i \\big(\\eta_{ji}^\\sigma | \\varphi_{1\\sigma} \\dots \\varphi_{j\\sigma} \\dots \\varphi_{N\\sigma} \\rangle + \\sum_a \\eta_{ai}^\\sigma |\\varphi_{1\\sigma}^\\sigma \\dots \\varphi_{a\\sigma} \\dots \\varphi_{N\\sigma} \\rangle \\big) $$"
   ]
  },
  {
   "cell_type": "markdown",
   "metadata": {},
   "source": [
    "Shortening and wrting with second quantization SOMETHING OPERATOR this becomes\n",
    "$$ |\\Phi ' \\rangle = | \\Phi \\rangle + \\sum_i \\eta_{ji}^\\sigma |\\Phi \\rangle + \\sum_{ia} \\eta_{ai}^\\sigma c_{a\\sigma}^\\dagger c_{j\\sigma} |\\Phi\\rangle\n",
    "= (1 + \\sum_i\\eta_{ji}^\\sigma)|\\Phi\\rangle + \\sum_{ia}\\eta_{ai}^\\sigma |\\Phi_{j\\sigma}^{a\\sigma}\\rangle, $$\n",
    "Where $|\\Phi_{j\\sigma}^{a\\sigma}\\rangle$ is called the singly excited stated and one can rewrite as $T = \\sum_{ia} \\eta_{ai}^\\sigma$ and $\\epsilon_j^\\sigma = \\sum_j\\eta_{ij}^\\sigma$."
   ]
  },
  {
   "cell_type": "markdown",
   "metadata": {},
   "source": [
    "Now one can compute the energy with the new perturbed Slater determinant, taking care to normalizer at the same time.\n",
    "$$ \\frac{\\langle \\Phi '| \\hat H| \\Phi ' \\rangle}{\\langle\\Phi'|\\Phi' \\rangle}\n",
    "= \\frac{(1+\\epsilon_j^\\sigma)^2\\langle \\Phi |\\hat H|\\Phi \\rangle +2(1 + \\epsilon_j^\\sigma)T\\langle \\Phi | \\hat H | \\Phi_{j\\sigma}^{a\\sigma} \\rangle + |T|^2 \\langle \\Phi_{j\\sigma}^{a\\sigma}|\\hat H | \\Phi_{j\\sigma}^{a\\sigma}\\rangle}  \n",
    "{(1+\\epsilon_j^\\sigma)^2 \\langle \\Phi | \\Phi \\rangle + 2(1 + \\epsilon_j^\\sigma)T\\langle \\Phi | \\Phi_{j\\sigma}^{a\\sigma} \\rangle + |T|^2 \\langle \\Phi_{j\\sigma}^{a\\sigma}| \\Phi_{j\\sigma}^{a\\sigma}\\rangle }.\n",
    "$$\n",
    "The higher order terms are simply ignored."
   ]
  },
  {
   "cell_type": "markdown",
   "metadata": {},
   "source": [
    "Substituting for $E_{HF} = \\langle \\Phi | \\hat H | \\Phi \\rangle$ an $\\langle \\Phi | \\Phi \\rangle$ yields\n",
    "\n",
    "$$ \\Leftrightarrow\n",
    "\\frac{E_{HF}(1 + \\epsilon_j^\\sigma)^2 + 2(1 + \\epsilon_j^\\sigma) T }{(1 + \\epsilon_j^\\sigma)^2\\langle \\Phi | \\hat H \\Phi_{j\\sigma}^{a\\sigma} \\rangle}\n",
    "+ \\mathscr{O}(\\epsilon^2)\n",
    "= \\frac{E_{HF} + 2 (1+\\epsilon_j^\\sigma)^{-1} T \\langle \\Phi | \\hat H \\Phi_{j\\sigma}^{a\\sigma} \\rangle}{1} + \\mathscr{O}(\\epsilon) $$"
   ]
  },
  {
   "cell_type": "markdown",
   "metadata": {},
   "source": [
    "Now one can expand $(1 + \\epsilon_j^\\sigma)^{-1}$ to get\n",
    "$$ \\Leftrightarrow\n",
    "E_{HF} + 2\\big[ 1 - \\epsilon_j^\\sigma + \\mathscr{O}(\\epsilon) \\big] T \\langle \\Phi|\\hat H| \\Phi_{j\\sigma}^{a\\sigma} \\rangle\n",
    "= E_{HF} + 2T\\langle \\Phi | \\hat H \\Phi_{j\\sigma}^{a\\sigma} \\rangle + \\mathscr{O}(\\epsilon) \\\\\n",
    "\\approx E_{HF} + 2\\sum_{ia}\\eta_{ai}^\\sigma \\langle \\Phi | \\hat H \\Phi_{j\\sigma}^{a\\sigma} \\rangle\n",
    "$$"
   ]
  },
  {
   "cell_type": "markdown",
   "metadata": {},
   "source": [
    "#### B\n",
    "\n",
    "$$ E_{UHF} + \\delta E_{UHF} = \\langle \\Phi_{UHF} + \\delta \\Phi_{UHF} | \\hat h | \\Phi_{UHF} \\rangle \\\\\n",
    "= \\sum_{i\\sigma} (\\varphi_i^\\sigma + \\delta \\varphi_i^\\sigma | \\hat h | \\varphi_i^\\sigma )\n",
    "+ \\frac{1}{2} \\sum_{ij\\sigma\\tau}((\\varphi_i^\\sigma + \\delta\\varphi_i^\\sigma)(\\varphi_j^\\tau + \\delta\\varphi_j^\\tau) | \\hat w | \\varphi_i^\\sigma \\varphi_j^\\tau ) - \\frac{1}{2} \\sum_{ij\\sigma} ((\\varphi_i^\\sigma + \\delta\\varphi_i^\\sigma)(\\varphi_j^\\sigma + \\delta\\varphi_i^\\sigma)| \\hat w | \\varphi_j^\\sigma \\varphi_i^\\sigma) \\\\\n",
    "= \\sum_{i\\sigma} (\\varphi_i^\\sigma + \\delta \\varphi_i^\\sigma | \\hat h | \\varphi_i^\\sigma )\n",
    "+ \\frac{1}{2} \\sum_{ij\\sigma\\tau}(\\varphi_i^\\sigma \\varphi_j^\\tau + \\varphi_i^\\sigma \\delta\\varphi_j^\\tau + \\delta\\varphi_i^\\sigma \\varphi_j^\\tau + \\delta\\varphi_i^\\sigma \\delta\\varphi_j^\\tau | \\hat w | \\varphi_i^\\sigma \\varphi_j^\\tau)\n",
    "- \\frac{1}{2} \\sum_{ij\\sigma} (\\varphi_i^\\sigma \\varphi_j^\\sigma + \\varphi_i^\\sigma \\delta\\varphi_j^\\sigma + \\delta\\varphi_i^\\sigma \\varphi_j^\\sigma + \\delta\\varphi_i^\\sigma \\delta\\varphi_j^\\sigma | \\hat w | \\varphi_j^\\sigma \\varphi_i^\\sigma)$$"
   ]
  },
  {
   "cell_type": "markdown",
   "metadata": {},
   "source": [
    "The terms with a product of two deltas (e.g $\\delta\\varphi_i^\\sigma\\delta\\varphi_j^\\tau$) can be ignored, as we are only interested in the first order approximation (delta is tiny). This leaves\n",
    "$$ \\Leftrightarrow \\sum_{i\\sigma}(\\varphi_i^\\sigma + \\sum_p\\varphi_p^\\sigma\\eta_{pi}^\\sigma | \\hat h | \\varphi_i^\\sigma) \n",
    "+ \\frac{1}{2} \\sum_{ij\\sigma\\tau} ( \\varphi_i^\\sigma\\varphi_i^\\tau + \\varphi_i^\\sigma\\sum_p\\varphi_p^\\tau\\eta_{pj}^\\tau + \\sum_q\\varphi_q^\\sigma\\eta_{qi}^\\sigma\\varphi_j^\\tau | \\hat w | \\varphi_i^\\sigma \\varphi_j^\\tau)\n",
    "- \\frac{1}{2}\\sum_{ij\\sigma}(\\varphi_i^\\sigma\\varphi_j^\\sigma + \\varphi_i^\\sigma\\sum_p\\varphi_p^\\sigma\\eta_{pj}^\\sigma + \\sum_q\\varphi_q^\\sigma\\eta_{qi}^\\sigma\\varphi_j^\\sigma | \\hat w | \\varphi_j^\\sigma \\varphi_i^\\sigma) \\\\\n",
    "= \\sum_{i\\sigma}(\\varphi_i^\\sigma | \\hat h | \\varphi_i^\\sigma)\n",
    "+ \\sum_{i\\sigma p} \\eta_{pi}^\\sigma (\\varphi_p^\\sigma | \\hat h | \\varphi_i^\\sigma)\n",
    "+ \\frac{1}{2}\\sum_{ij\\sigma\\tau}(\\varphi_i^\\sigma\\varphi_j^\\tau | \\hat w | \\varphi_i^\\sigma\\varphi_j^\\tau)\n",
    "+ \\frac{1}{2}\\sum_{ij\\sigma\\tau p}\\eta_{pj}^\\tau (\\varphi_i^\\sigma\\varphi_p^\\tau | \\hat w | \\varphi_i^\\sigma\\varphi_j^\\tau)\n",
    "+ \\frac{1}{2}\\sum_{ij\\sigma\\tau q}\\eta_{qi}^\\sigma (\\varphi_q^\\sigma\\varphi_j^\\tau | \\hat w |\\varphi_i^\\sigma \\varphi_j^\\tau)\n",
    "- \\frac{1}{2}\\sum_{ij\\sigma}(\\varphi_i^\\sigma\\varphi_j^\\sigma | \\hat w | \\varphi_j^\\sigma \\varphi_i^\\sigma)\n",
    "- \\frac{1}{2} \\sum_{ij\\sigma p} \\eta_{pj}^\\sigma (\\varphi_i^\\sigma\\varphi_p^\\sigma | \\hat w | \\varphi_j^\\sigma\\varphi_i^\\sigma)\n",
    "-\\frac{1}{2}\\sum_{ij\\sigma q}\\eta_{qi}^\\sigma ( \\varphi_q^\\sigma\\varphi_j^\\sigma | \\hat w | \\varphi_j^\\sigma \\varphi_i^\\sigma)\n",
    "$$ "
   ]
  },
  {
   "cell_type": "markdown",
   "metadata": {},
   "source": [
    "Recognize three of theterms as the unperturbed energy and limit $\\eta$ be zero for all instances but one $\\eta_{ak}^\\rho$. The energy pertrubation remains\n",
    "$$ \\delta E_{UHF}\n",
    "= (\\varphi_a^\\sigma | \\hat h | \\varphi_i^\\sigma)\n",
    "+ \\frac{1}{2}\\sum_{i\\sigma}(\\varphi_i^\\sigma\\varphi_a^\\rho | \\hat w | \\varphi_i^\\sigma\\varphi_k^\\rho) \n",
    "+ \\frac{1}{2}\\sum_{j\\tau}(\\varphi_a^\\rho\\varphi_j^\\tau | \\hat w | \\varphi_k^\\rho \\varphi_j^\\tau)\n",
    "- \\frac{1}{2}\\sum_i (\\varphi_i^\\rho\\varphi_a^\\rho | \\hat w | \\varphi_k^\\rho\\varphi_i^\\rho)\n",
    "- \\frac{1}{2}\\sum_j(\\varphi_a^\\rho\\varphi_j^\\rho | \\hat w | \\varphi_j^\\rho \\varphi_k^\\rho)\n",
    "$$"
   ]
  },
  {
   "cell_type": "markdown",
   "metadata": {},
   "source": [
    "One can switch the position of two adjacent $\\varphi$ as long as the sign changes. All the needed switches come in pairs, so the signs stay the same,\n",
    "$$ \\delta E_{UHF}\n",
    "= (\\varphi_a^\\sigma | \\hat h | \\varphi_i^\\sigma)\n",
    "+ \\frac{1}{2}\\sum_{i\\sigma}(\\varphi_a^\\rho \\varphi_i^\\sigma| \\hat w | \\varphi_k^\\rho \\varphi_i^\\sigma) \n",
    "+ \\frac{1}{2}\\sum_{j\\tau}(\\varphi_a^\\rho \\varphi_j^\\tau| \\hat w | \\varphi_k^\\rho \\varphi_j^\\tau)\n",
    "- \\frac{1}{2}\\sum_i (\\varphi_a^\\rho \\varphi_i^\\rho | \\hat w | \\varphi_i^\\rho \\varphi_k^\\rho)\n",
    "- \\frac{1}{2}\\sum_j(\\varphi_a^\\rho\\varphi_j^\\rho | \\hat w | \\varphi_j^\\rho \\varphi_k^\\rho)\n",
    "$$"
   ]
  },
  {
   "cell_type": "markdown",
   "metadata": {},
   "source": [
    "Changing the name of an index within a term is okay. Doing this yields the following\n",
    "$$ \\delta E_{UHF}\n",
    "= (\\varphi_a^\\sigma|\\hat h|\\varphi_i^\\sigma)\n",
    "+ \\sum_{j\\tau}(\\varphi_a^\\sigma\\varphi_j^\\tau|\\hat w|\\varphi_i^\\sigma\\varphi_j^\\tau)\n",
    "- \\sum(\\varphi_a^\\sigma\\varphi_j^\\sigma|\\hat w|\\varphi_j^\\sigma\\varphi_i^\\sigma)\n",
    "$$"
   ]
  },
  {
   "cell_type": "markdown",
   "metadata": {},
   "source": [
    "### Roothan Hall Equations\n",
    "We can replace the non-canonical equations with the canonical equations which are of eigenvalue form\n",
    "$$ \\hat f^\\sigma \\varphi_i^\\sigma = \\epsilon_i^\\sigma \\varphi_i^\\sigma. $$\n",
    "This is in fact two coupled eigenvalue problems, one for each spin $\\sigma$. \n",
    "\n",
    "For numerical treatment the orbitals are expanded in </i>atomic orbital basis functions</i> $\\phi_p$, $p=1,2,\\dots, K$,\n",
    "$$ \\varphi_q^\\sigma = \\sum_p \\psi_p U_{pq}^\\sigma, $$\n",
    "often called molecular orbitals.\n",
    "\n",
    "The basis is the same in each spin direction, and the atomic orbitals are not necessarily orthonormal, the general non-diagonal overlap matrix is given by\n",
    "$$ S_{pq} = (\\psi_p|\\psi_q). $$\n",
    "When the basis functions are linearly independent, $S$ is invertible. $S$ is symmetric and positive definite.\n",
    "\n",
    "The <i>atomic integrals</i> are defined thusly\n",
    "$$ h_{qp} = (\\psi_q | \\hat h | \\psi_p), \\quad (pr | qs) = (\\psi_p \\psi_q | \\hat w | \\psi_r \\psi_s), $$\n",
    "note the index placement in the two-electron integral.\n",
    "\n",
    "Lastly, the <i>density matrices</i> are given by\n",
    "$$ D_{rs}^\\sigma = \\sum_j U_{rj}^\\sigma (U_{sj}^\\sigma)^* = U_{occ}^\\sigma (U_{occ}^\\sigma)^H, $$\n",
    "where $U_{occ}^\\sigma$ is the $K \\times N_\\sigma$ submatrix of $U^\\sigma$ formed by the first $N_\\sigma$ columns."
   ]
  },
  {
   "cell_type": "markdown",
   "metadata": {
    "collapsed": true
   },
   "source": [
    "#### A\n",
    "The Roothan-Hall equations are obtained by projecting the UHF equations onto the atomic orbital basis. The one-body operator becomes\n",
    "$$ (\\psi_p | \\hat h | \\varphi_i^\\sigma) \n",
    "= (\\psi_p | \\hat p | \\sum_q \\psi_q U_{qi}^\\sigma) \n",
    "= \\sum_q (\\psi_p |\\hat h| \\psi_q) U_{qi}^\\sigma \n",
    "= \\sum_q h_{pq} U_{qi}^\\sigma. $$"
   ]
  },
  {
   "cell_type": "markdown",
   "metadata": {},
   "source": [
    "The Hartree potential becomes\n",
    "$$ (\\psi_p | \\hat v_H^\\tau | \\varphi_i^\\sigma ) \n",
    "= \\sum_j ( \\psi_p \\varphi_j^\\tau | \\hat w | \\varphi_i^\\sigma \\varphi_j^\\tau)\n",
    "= \\sum_j (\\psi_p \\sum_r \\psi_r U_{rj}^\\tau | \\hat w | \\sum_q \\psi_q U_{qi}^\\sigma \\sum_s \\psi_s U_{sj}^\\tau )\n",
    "= \\sum_{rsq} \\big((\\psi_p \\psi_r | \\hat w | \\psi_q \\psi_s ) \\sum_j U_{sj}^\\tau (U_{rj}^\\tau)^* U_{qi}^\\sigma \\big)\n",
    "= \\sum_q \\big(\\sum_{rs} (p q | r s) D_{rs}^\\sigma \\big) U_{qi}^\\sigma.$$"
   ]
  },
  {
   "cell_type": "markdown",
   "metadata": {},
   "source": [
    "The exchange potential\n",
    "$$(\\psi_p | \\hat v_{ex}^\\sigma | \\varphi_i^\\sigma)\n",
    "= \\sum_j (\\psi_p \\varphi_j^\\sigma | \\hat w | \\varphi_j^\\sigma \\varphi_i^\\sigma)\n",
    "= \\sum_j (\\psi_p \\sum_r \\psi_r U_{rj}^\\sigma | \\hat w | \\sum_s \\psi_s U_{sj}^\\sigma \\sum_q \\psi_q U_{qi}^\\sigma)\n",
    "= \\sum_{rsq} \\big((\\psi_p \\psi_r | \\hat w | \\psi_s \\psi_q ) \\sum_j U_{sj}^\\sigma (u_{rj}^\\sigma)^* U_{qi}^\\sigma \\big)\n",
    "= \\sum_q \\big( \\sum_{rs} (p s | r q) D_{rs}^\\sigma \\big) U_{qi}^\\sigma.$$"
   ]
  },
  {
   "cell_type": "markdown",
   "metadata": {},
   "source": [
    "The inner product between atomic orbitals and molecular orbitals is\n",
    "$$ (\\psi_p | \\varphi_i^\\sigma) = (\\psi_p | \\sum_q \\psi_q U_{qi}^\\sigma) \n",
    "=  \\sum_q (\\psi_p| \\psi_q) U_{qi}^\\sigma = \\sum_q S_{pq} U_{qi}^\\sigma.$$"
   ]
  },
  {
   "cell_type": "markdown",
   "metadata": {},
   "source": [
    "#### B\n",
    "The Fock matrix is defined as\n",
    "$$ F^\\sigma = h + J(D^\\uparrow + D^\\downarrow) - K(D^\\sigma), $$\n",
    "where \n",
    "$$ J(D)_{pq} = \\sum_{rs}(pq|rs)D_{sr} \\quad \n",
    "   K(D)_{pq} = \\sum_{rs}(ps|rq)D_{sr}. $$"
   ]
  },
  {
   "cell_type": "markdown",
   "metadata": {},
   "source": [
    "## Implementation"
   ]
  },
  {
   "cell_type": "markdown",
   "metadata": {},
   "source": [
    "The following is a simple implementation of how to find the lowest energy state (hopefulle the ground state) of a many-body system through self-consistent field (SCF) iterations. The main idea is to iterate over the Roothan-Hall equations until convergence,\n",
    "\n",
    "$$ F^\\sigma(D^\\uparrow_k, D^\\downarrow_k) U^\\sigma_{k + 1} \n",
    "    = SU^\\sigma_{k + 1} \\epsilon^\\sigma_{k + 1}. $$\n",
    "\n",
    "We will use `NumPy` and `SciPy` for arrays and linear algebra, and `Psi4` to define a molecule and extract integrals. First the computation will be done for the water molecule, $H_2O$."
   ]
  },
  {
   "cell_type": "code",
   "execution_count": 53,
   "metadata": {
    "collapsed": true
   },
   "outputs": [],
   "source": [
    "# Necessary imports\n",
    "import numpy as np\n",
    "import scipy.linalg\n",
    "import psi4"
   ]
  },
  {
   "cell_type": "code",
   "execution_count": 54,
   "metadata": {},
   "outputs": [],
   "source": [
    "# Preliminaries in PSI4\n",
    "\n",
    "# Defining molecule: water\n",
    "r_h2o = 1.84    # Bond distance\n",
    "theta_h2o = 104 # Bond angle\n",
    "\n",
    "h2o = \"\"\"\n",
    "        O\n",
    "        H 1 {0}\n",
    "        H 1 {0} 2 {1}\n",
    "        symmetry c1\n",
    "        units bohr\n",
    "    \"\"\" .format(r_h2o, theta_h2o)\n",
    "\n",
    "# Psi4 molecule geometry object\n",
    "molecule = psi4.geometry(h2o)\n",
    "\n",
    "# Options / parameters for algorithm\n",
    "options = {\n",
    "    'basis' : 'cc-pVDZ',\n",
    "    'reference' : 'uhf',\n",
    "    'scf_type' : 'direct',\n",
    "    'guess' : 'core',\n",
    "    'guess_mix' : 'true',\n",
    "    'e_convergence' : 1e-7\n",
    "}\n",
    "\n",
    "psi4.set_options(options)\n",
    "\n",
    "# Building wavefunction from geometry object and specific basis\n",
    "wavefunction = psi4.core.Wavefunction.build(molecule,\n",
    "                        psi4.core.get_global_option('basis'))\n",
    "\n",
    "# Mints Helper function for extracting integrals\n",
    "mints = psi4.core.MintsHelper(wavefunction.basisset())"
   ]
  },
  {
   "cell_type": "markdown",
   "metadata": {},
   "source": [
    "Now that all the preliminary settings are done, we can begin to use `Psi4` as a tool to extract integrals that will be helpful."
   ]
  },
  {
   "cell_type": "code",
   "execution_count": 55,
   "metadata": {},
   "outputs": [
    {
     "name": "stdout",
     "output_type": "stream",
     "text": [
      "Number of occupied ups:    5\n",
      "Number of occupied downs:  5\n",
      "Total orbitals:            24\n"
     ]
    }
   ],
   "source": [
    "# Hamilton operator\n",
    "T = np.asarray(mints.ao_kinetic())   # Atomic orbitals kinetic energy\n",
    "V = np.asarray(mints.ao_potential()) # Atomic orbitals potential\n",
    "H = T + V\n",
    "\n",
    "# Integrals\n",
    "W = np.asarray(mints.ao_eri())     # Electronic repulsion integral (4-tensor)\n",
    "S = np.asarray(mints.ao_overlap()) # Overlap matrix\n",
    "\n",
    "# Orbitals and occupied states\n",
    "num_orbitals  = wavefunction.nso()    # No of orbitals, occupied + virtual\n",
    "num_occ_ups   = wavefunction.nalpha() # No of occupied up states\n",
    "num_occ_downs = wavefunction.nbeta()  # No of occupied down states\n",
    "\n",
    "print(\"Number of occupied ups:   \", num_occ_ups)\n",
    "print(\"Number of occupied downs: \", num_occ_downs)\n",
    "print(\"Total orbitals:           \", num_orbitals)"
   ]
  },
  {
   "cell_type": "markdown",
   "metadata": {},
   "source": [
    "We can see that the number of occupied states are ten in total. This makes sense as the atomic numbers for the atoms in the water molecule adds up to ten, i.e. they should have ten electrons combined in a charge-neutral state. Now we need only a few functions to get started."
   ]
  },
  {
   "cell_type": "markdown",
   "metadata": {},
   "source": [
    "The density matrix of the system is defined as \n",
    "\n",
    "$$D_rs^\\sigma = U_{occ}^\\sigma(U_{occ}^\\sigma)^H,$$\n",
    "\n",
    "and the Fock matrix is defined as \n",
    "\n",
    "$$ F^\\sigma = h + J(D^\\uparrow + D^\\downarrow) - K(D^\\sigma), $$\n",
    "\n",
    "where $$J(D)_{pq} = \\sum_{rs}(pq|rs) D_{rs} \\quad \\text{and} \\quad K(D)_{pq} = \\sum_{rs}(ps|rq)D_{sr}.$$\n",
    "\n",
    "Since there are two spin states (up and down), we are in fact diagonalizing <i>two</i> matrices, $F^\\uparrow$ and $F^\\downarrow$, for each iteration. "
   ]
  },
  {
   "cell_type": "code",
   "execution_count": 56,
   "metadata": {
    "collapsed": true
   },
   "outputs": [],
   "source": [
    "def generate_density_matrix(U_init, num_occ, noise=False):\n",
    "    \n",
    "    U = np.matrix(U_init[:, 0:num_occ])\n",
    "    D = np.dot(U, np.conjugate(U).T)\n",
    "    \n",
    "    # Adding Hermitian noise.\n",
    "    if noise:\n",
    "        X = np.random.rand(*D.shape)\n",
    "        X = X + X.T\n",
    "        D += 0.001 * X\n",
    "    \n",
    "    return D"
   ]
  },
  {
   "cell_type": "markdown",
   "metadata": {},
   "source": [
    "The density matrix generation function has the option to add some \"Hermitian noise\". This ensures that one will not be trapped in a RHF state-type state. If the initial guess for $U^\\uparrow$ and $U^\\downarrow$ are identical, each iteration will also have identical parts."
   ]
  },
  {
   "cell_type": "code",
   "execution_count": 57,
   "metadata": {
    "collapsed": true
   },
   "outputs": [],
   "source": [
    "def generate_fock_matrices(H, W, D_up, D_down):\n",
    "    \n",
    "    J      = np.einsum('pqrs, sr->pq', W, D_up + D_down)\n",
    "    K_up   = np.einsum('psrq, sr->pq', W, D_up)\n",
    "    K_down = np.einsum('psrq, sr->pq', W, D_down)\n",
    "    F_up   = H + J - K_up\n",
    "    F_down = H + J - K_down\n",
    "    \n",
    "    return F_up, F_down"
   ]
  },
  {
   "cell_type": "markdown",
   "metadata": {},
   "source": [
    "This function makes use of `np.einsum()`, which is `NumPy`'s Einstein summation function. This very useful functions vectorizes a summations, resulting in an incredible speed-up over the more naïve iterative method."
   ]
  },
  {
   "cell_type": "markdown",
   "metadata": {},
   "source": [
    "### Unrestricted Hartree-Fock"
   ]
  },
  {
   "cell_type": "code",
   "execution_count": 58,
   "metadata": {},
   "outputs": [],
   "source": [
    "# Initial guess\n",
    "E_up_prev,   U_up   = scipy.linalg.eigh(H, S)\n",
    "E_down_prev, U_down = scipy.linalg.eigh(H, S)\n",
    "\n",
    "# Generating density matrices (w/ Hermitian noise)\n",
    "D_up   = generate_density_matrix(U_up,   num_occ_ups,   True)\n",
    "D_down = generate_density_matrix(U_down, num_occ_downs, True)\n",
    "\n",
    "# Generating Fock matrices\n",
    "F_up, F_down = generate_fock_matrices(H, W, D_up, D_down)\n",
    "\n",
    "# First solution\n",
    "E_up,   U_up   = scipy.linalg.eigh(F_up,   S)\n",
    "E_down, U_down = scipy.linalg.eigh(F_down, S)\n",
    "\n",
    "# Counter for iterations\n",
    "i = 0\n",
    "\n",
    "# Setting tolerance level\n",
    "tol = 1e-7\n",
    "\n",
    "# SCF Iterations\n",
    "while (np.max(abs(E_up_prev - E_up)) > tol \\\n",
    "       and np.max(abs(E_down_prev - E_down)) > tol):\n",
    "    \n",
    "    # Storing previous energies for next iteration\n",
    "    E_up_prev   = E_up\n",
    "    E_down_prev = E_down\n",
    "    \n",
    "    # Generating new density matrices (w/o Hermitian noise)\n",
    "    D_up   = generate_density_matrix(U_up,   num_occ_ups)\n",
    "    D_down = generate_density_matrix(U_down, num_occ_downs)\n",
    "    \n",
    "    # Generating new Fock matrices\n",
    "    F_up, F_down = generate_fock_matrices(H, W, D_up, D_down)\n",
    "    \n",
    "    # New solution\n",
    "    E_up,   U_up   = scipy.linalg.eigh(F_up,   S)\n",
    "    E_down, U_down = scipy.linalg.eigh(F_down, S)\n",
    "    \n",
    "    i += 1"
   ]
  },
  {
   "cell_type": "code",
   "execution_count": 60,
   "metadata": {},
   "outputs": [
    {
     "name": "stdout",
     "output_type": "stream",
     "text": [
      "The loop exited after  38  iterations.\n",
      "Up state energies: \n",
      " [-20.55359646  -1.32890907  -0.689642    -0.56457925  -0.49219899]\n",
      "Down state energies: \n",
      " [-20.55359646  -1.32890907  -0.689642    -0.56457925  -0.49219899]\n"
     ]
    }
   ],
   "source": [
    "print(\"The loop exited after \", i, \" iterations.\")\n",
    "print(\"Up state energies: \\n\", E_up[0:num_occ_ups])\n",
    "print(\"Down state energies: \\n\", E_down[0:num_occ_downs])"
   ]
  },
  {
   "cell_type": "markdown",
   "metadata": {},
   "source": [
    "Now what remains is to compute the energy. The Fock operator corresponding to the Fock matrix is given by\n",
    "\n",
    "$$ \\hat f^\\sigma = \\hat h + \\sum_\\tau \\hat v_H^\\tau - \\hat v_{ex}^\\sigma\n",
    "  \\rightarrow \\hat h = \\hat f - \\sum_\\tau \\hat v_H^\\tau + \\hat v_{ex}^\\sigma,$$\n",
    "  \n",
    "where \n",
    "\n",
    "$$ \\hat v_H^\\tau = \\sum_j(\\cdot \\varphi_j^\\tau | \\hat w | \\cdot \\varphi_j^\\tau), \\quad \n",
    "   \\hat v_{ex}^\\sigma = \\sum_j(\\cdot \\varphi_j^\\sigma | \\hat w | \\varphi_j^\\sigma \\cdot )$$\n",
    "\n",
    "The UHF energy is\n",
    "\n",
    "$$ E_{UHF} = \\sum_{i\\sigma}(\\varphi_i^\\sigma | \\hat h | \\varphi_i^\\sigma ) + E_H - E_{ex}, $$\n",
    "\n",
    "where\n",
    "\n",
    "$$ E_H = \\frac{1}{2} \\sum_{ij\\sigma\\tau} (\\varphi_i^\\sigma \\varphi_j^\\tau| \\hat w | \\varphi_i^\\sigma \\varphi_j^\\tau), \\quad\n",
    "E_{ex} = \\frac{1}{2} \\sum_{ij\\sigma} (\\varphi_i^\\sigma \\varphi_j^\\sigma |\\hat w |\\varphi_j^\\sigma \\varphi_i^\\sigma). $$ "
   ]
  },
  {
   "cell_type": "markdown",
   "metadata": {},
   "source": [
    "Inserting the expression for $\\hat h$, $\\hat v_H^\\tau$ and $\\hat v_{ex}^\\sigma$ into the first term of the UHF energy gives us\n",
    "\n",
    "$$ \\sum_{i\\sigma} (\\varphi_i^\\sigma |\\hat f^\\sigma |\\varphi_i^\\sigma)\n",
    " - \\sum_{i\\sigma\\tau}(\\varphi_i^\\sigma | v_H^\\tau|\\varphi_i^\\sigma)\n",
    " + \\sum_{i\\sigma}(\\varphi_i^\\sigma | v_{ex}^\\sigma | \\varphi_i^\\sigma )\\\\\n",
    " =\n",
    " \\sum_{i\\sigma pq} (\\psi_p| \\hat f^\\sigma | \\psi_q)\n",
    " U_{qi}^\\sigma (U_{pi}^\\sigma)^\\dagger\n",
    " -\\sum_{ij\\sigma\\tau}\\sum_{pqrs}(\\psi_p \\psi_r | \\hat w | \\psi_q \\psi_s)\n",
    " (U_{pi}^\\sigma)^\\dagger (U_{rj}^\\tau)^\\dagger U_{qi}^\\sigma U_{sj}^\\tau\n",
    " +\\sum_{ij\\sigma}\\sum_{pqrs}(\\psi_p\\psi_r |\\hat w | \\psi_s \\psi_q)\n",
    " (U_{pq}^\\sigma)^\\dagger (U_{rj}^\\sigma)^\\dagger U_{sj}^\\sigma U_{qi}^\\sigma \\\\\n",
    " =\n",
    " \\sum_{pq\\sigma}(\\psi_p | \\hat f^\\sigma | \\psi_q) D_{qp}^\\sigma\n",
    " -\\sum_{\\sigma\\tau}\\sum_{pqrs}(pq|rs)D_{qp}^\\sigma D_{sr}^\\tau\n",
    " +\\sum_{\\sigma}\\sum_{pqrs}(ps|rq)D_{qp}^\\sigma D_{sr}^\\sigma \\\\\n",
    " =\n",
    " \\sum_{pq\\sigma}(\\psi_p | \\hat f^\\sigma | \\psi_q) D_{qp}^\\sigma - 2E_H + 2E_{ex}\n",
    "$$"
   ]
  },
  {
   "cell_type": "markdown",
   "metadata": {},
   "source": [
    "The full expression for the energy becomes\n",
    "$$ E_{UHF} = \\sum_{pq\\sigma}(\\psi_p | \\hat f^\\sigma | \\psi_q) D_{qp}^\\sigma\n",
    "        - \\frac{1}{2}\\sum_{\\sigma\\tau}\\sum_{pqrs}(pq|rs)D_{qp}^\\sigma D_{sr}^\\tau\n",
    "        + \\frac{1}{2}\\sum_{\\sigma}\\sum_{pqrs}(ps|rq)D_{qp}^\\sigma D_{sr}^\\sigma \\\\\n",
    "        =\n",
    "        \\sum_{\\sigma}\\sum_{pq} F_{pq}^\\sigma D_{qp}^\\sigma\n",
    "        - \\frac{1}{2}\\sum_{\\sigma}\\sum_{pq}J(D^\\uparrow + D^\\downarrow)_{pq}D_{qp}^\\sigma\n",
    "        + \\frac{1}{2}\\sum_{\\sigma}\\sum_{pq}K(D^\\sigma)_{pq}D_{qp}^\\sigma.\n",
    "$$\n",
    "We now see the point of solving the Hartree-Fock energy eigenvalue problem in the first place, and are now able to compute the energy"
   ]
  },
  {
   "cell_type": "code",
   "execution_count": 61,
   "metadata": {},
   "outputs": [
    {
     "name": "stdout",
     "output_type": "stream",
     "text": [
      "Energy from Psi4 (the answer):  -76.02551761074352\n",
      "Energy from my own algorithm:   -76.0255176107\n"
     ]
    }
   ],
   "source": [
    "# Computing energy\n",
    "J      = np.einsum('pqrs, sr->pq', W, D_up + D_down )\n",
    "J_up   = np.einsum('pqrs, sr->pq', W, D_up)\n",
    "J_down = np.einsum('pqrs, sr->pq', W, D_down)\n",
    "K_up   = np.einsum('psrq, sr->pq', W, D_up)\n",
    "K_down = np.einsum('psrq, sr->pq', W, D_down)\n",
    "\n",
    "F_up   = H + J - K_up\n",
    "F_down = H + J - K_down \n",
    "\n",
    "# Fock energy\n",
    "# Fock energy\n",
    "energy  =      np.einsum('pq, qp->', F_up,    D_up)\\\n",
    "             + np.einsum('pq, qp->', F_down, D_down)\n",
    "\n",
    "# Hartree energy\n",
    "energy -= 0.5*(np.einsum('pq, qp->', J_up,    D_up)\\\n",
    "             + np.einsum('pq, qp->', J_up,    D_down)\\\n",
    "             + np.einsum('pq, qp->', J_down,  D_up)\\\n",
    "             + np.einsum('pq, qp->', J_up,    D_down))\n",
    "\n",
    "# Exchange energy\n",
    "energy += 0.5*(np.einsum('pq, qp->', K_up,    D_up)\\\n",
    "             + np.einsum('pq, qp->', K_down,  D_down))\n",
    "\n",
    "# Nuclear energy\n",
    "energy += molecule.nuclear_repulsion_energy()\n",
    "\n",
    "print(\"Energy from Psi4 (the answer): \", psi4.energy('scf'))\n",
    "print(\"Energy from my own algorithm:  \", energy)"
   ]
  },
  {
   "cell_type": "markdown",
   "metadata": {},
   "source": [
    "We can see that the algorithm gives the same answer as Psi4 up to ten decimal places!"
   ]
  }
 ],
 "metadata": {
  "kernelspec": {
   "display_name": "Python 3",
   "language": "python",
   "name": "python3"
  },
  "language_info": {
   "codemirror_mode": {
    "name": "ipython",
    "version": 3
   },
   "file_extension": ".py",
   "mimetype": "text/x-python",
   "name": "python",
   "nbconvert_exporter": "python",
   "pygments_lexer": "ipython3",
   "version": "3.6.1"
  }
 },
 "nbformat": 4,
 "nbformat_minor": 2
}
