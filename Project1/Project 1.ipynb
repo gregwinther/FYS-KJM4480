{
 "cells": [
  {
   "cell_type": "markdown",
   "metadata": {},
   "source": [
    "# Project 1 FYS-KJM4480 2017"
   ]
  },
  {
   "cell_type": "markdown",
   "metadata": {},
   "source": [
    "## Theory"
   ]
  },
  {
   "cell_type": "markdown",
   "metadata": {},
   "source": [
    "The Hamiltonian can be split into ground state and the other part :p\n",
    "$$ \\hat H = \\hat H_0 + \\hat W. $$\n",
    "Moreover, any operator can be written as\n",
    "$$ \\hat O = \\sum_{ij}o_{ij} |i\\rangle \\langle j| = \\sum_{ij} o_{ij}c_i^\\dagger c_j, $$\n",
    "where $o_{ij} = \\langle i|\\hat O| j\\rangle$ are the matrix elements."
   ]
  },
  {
   "cell_type": "markdown",
   "metadata": {},
   "source": [
    "The expected value for the ground state Hamiltonian becomes\n",
    "$$ \\langle \\Phi |\\hat H_0 |\\Phi \\rangle\n",
    "  =\\langle \\Phi |\\sum_{pq} h_{pq} |p\\rangle \\langle q | \\Phi \\rangle \n",
    "  =\\langle \\Phi |\\sum_{pq} h_{pq} c_p^\\dagger c_q | \\Phi \\rangle\n",
    "  =\\sum_{pq} h_{pq}\\langle \\Phi | c_p^\\dagger c_q |\\Phi \\rangle. $$"
   ]
  },
  {
   "cell_type": "markdown",
   "metadata": {},
   "source": [
    "### Energy Expression\n",
    "#### A\n",
    "A Slater determinant is denoted by $|\\phi \\rangle = |\\phi_1 \\phi_2 \\dots \\phi_N \\rangle$, where $\\{\\phi_i\\}$, $i\\in \\{1, \\dots, N \\}$ is a basis consisting of single-particle functions."
   ]
  },
  {
   "cell_type": "markdown",
   "metadata": {},
   "source": [
    "Herein it will be shown that \n",
    "$$\\langle \\Phi | \\hat{H} | \\Phi \\rangle \n",
    " = \\sum_I \\langle \\phi_I |\\hat h |\\phi_I \\rangle\n",
    " + \\frac{1}{2} \\sum_{IJ} \\langle \\phi_I \\phi_J|\\hat W |\\phi_I \\phi_J - \\phi_J \\phi_I \\rangle, $$\n",
    "where capital indices imply summation over all occupied single-particle functions."
   ]
  },
  {
   "cell_type": "markdown",
   "metadata": {},
   "source": [
    "Now, if capital letter indices indicates occupied states, this can be rewritten as\n",
    "$$ \\Leftrightarrow\n",
    "    \\sum_{IJ} h_{IJ} \\langle \\Phi |C_I^\\dagger C_J | \\Phi \\rangle\n",
    "  + \\sum_{\\alpha J} h_{\\alpha J} \\langle \\Phi |C_\\alpha^\\dagger C_J | \\Phi \\rangle\n",
    "  + \\sum_{\\alpha \\beta} h_{\\alpha \\beta} \\langle \\Phi |C_\\alpha^\\dagger C_\\beta | \\Phi \\rangle\n",
    "  + \\sum_{I \\beta} h_{I \\beta} \\langle \\Phi |C_I^\\dagger C_\\beta | \\Phi \\rangle, $$\n",
    "where $\\alpha$ and $\\beta$ is any state that is not occupied by a single-particle function. This means that all states $\\phi_I$ and $\\phi_\\alpha$ are included in the states $\\phi_p$ and that all states $\\phi_J$ and $\\phi_\\beta$ are included in states $\\phi_q$."
   ]
  },
  {
   "cell_type": "markdown",
   "metadata": {},
   "source": [
    "Because the states $\\phi_\\beta \\notin \\{\\phi\\}$, $c_\\beta |\\phi\\rangle = 0$, so the last two terms are zero. What remains is\n",
    "$$ \\Leftrightarrow\n",
    "   \\sum_{IJ} h_{IJ}\\delta_{IJ} \\langle \\Phi | \\Phi \\rangle \n",
    " + \\sum_{\\alpha J} h_{\\alpha J} \\delta_{\\alpha J} \\langle \\Phi | \\Phi \\rangle. $$\n",
    "Here the last term is zero because $\\delta_{\\alpha J} = 0 \\forall \\alpha, J$ because $\\phi_\\alpha \\notin \\{\\phi\\}$ and $\\phi_J \\in \\{\\phi\\}$."
   ]
  },
  {
   "cell_type": "markdown",
   "metadata": {},
   "source": [
    "This leaves\n",
    "$$ \\Leftrightarrow \\langle \\Phi |\\hat H_0 |\\Phi \\rangle =  \\sum_I h_I = \\sum_I \\langle \\phi_I | \\hat h | \\phi_I \\rangle. $$"
   ]
  },
  {
   "cell_type": "markdown",
   "metadata": {},
   "source": [
    "#### B\n",
    "Show\n",
    "$$ E_{UHF} = \\sum_{i\\sigma} ( \\varphi_i^\\sigma | \\hat{h} | \\varphi_i^\\sigma) + E_H - E_{ex}$$\n",
    "with the <i> Hartree energy </i> (or direct energy) \n",
    "$$ E_H = \\frac{1}{2} \\sum_{ij\\sigma\\tau}(\\phi_i^\\sigma\\phi_j^\\tau | \\hat w | \\phi_i^\\sigma \\phi_j^\\tau) $$\n",
    "and the <i> exchange energy </i> \n",
    "$$ E_{ex} = \\frac{1}{2} \\sum_{ij\\sigma} (\\phi_i^\\sigma\\phi_j^\\sigma | \\hat w | \\phi_j^\\sigma \\phi_i^\\sigma ). $$"
   ]
  },
  {
   "cell_type": "markdown",
   "metadata": {},
   "source": [
    "\\begin{align} \\langle \\Phi_{UHF} | \\hat W | \\Phi_{UHF} \\rangle\n",
    " &= \\sum_{ij\\sigma\\tau\\alpha\\beta} ( \\langle \\phi_{i\\sigma}\\phi_{j\\tau} | \\hat w | \\phi_{i\\alpha} \\phi_{j\\beta} \\rangle - \\langle \\phi_{i\\sigma} \\phi_{j\\tau}| \\hat w| \\phi_{j\\beta} \\phi_{i\\alpha} \\rangle  \\\\\n",
    " &= \\sum_{ij\\sigma\\tau\\alpha\\beta} \\left(\n",
    "\\delta_{\\sigma\\alpha}\\delta_{\\tau\\beta}(\\phi_i^\\sigma \\phi_j^\\tau| \\hat w|\\phi_i^\\alpha \\phi_j^\\beta ) - \\delta_{\\sigma\\beta} \\delta_{\\tau\\alpha}(\\phi_i^\\sigma \\phi_j^\\tau | \\hat w| \\phi_j^\\beta \\phi_i^\\alpha )\n",
    "\\right) \\\\\n",
    " &= \n",
    "\\end{align}"
   ]
  },
  {
   "cell_type": "markdown",
   "metadata": {},
   "source": [
    "### Unrestricted Hartree-Fock (UHF) Equations"
   ]
  },
  {
   "cell_type": "markdown",
   "metadata": {},
   "source": [
    "#### A\n",
    "Some single-particle function in the Slater determinant can be varied by a linear combination of all occupied single particle basis functions\n",
    "$$ |\\Phi\\rangle \\rightarrow |\\Phi '\\rangle\n",
    "=  |\\varphi_{i\\sigma} \\dots (\\varphi_{j\\sigma} + \\sum_i \\delta\\varphi_{i\\sigma}) \\dots \\varphi_{N\\sigma}\\rangle $$"
   ]
  },
  {
   "cell_type": "markdown",
   "metadata": {},
   "source": [
    "Any determinant can be split, leaving two separate Slater determinants\n",
    "$$ | \\Phi \\rangle  + \\sum_i | \\varphi_{1\\sigma} \\dots \\delta\\phi_{i\\sigma} \\dots \\phi_{N\\sigma} \\rangle \n",
    "= | \\Phi \\rangle  + \\sum_{ip} \\eta_{pi}^\\sigma | \\varphi_{1\\sigma} \\dots \\varphi_{p\\sigma} \\dots \\varphi_{N\\sigma}\\rangle. $$"
   ]
  },
  {
   "cell_type": "markdown",
   "metadata": {},
   "source": [
    "Then the last term can be split into occupied and unoccupied states\n",
    "$$ |\\Phi' \\rangle = | \\Phi \\rangle + \\sum_i \\big(\\eta_{ji}^\\sigma | \\varphi_{1\\sigma} \\dots \\varphi_{j\\sigma} \\dots \\varphi_{N\\sigma} \\rangle + \\sum_a \\eta_{ai}^\\sigma |\\varphi_{1\\sigma}^\\sigma \\dots \\varphi_{a\\sigma} \\dots \\varphi_{N\\sigma} \\rangle \\big) $$"
   ]
  },
  {
   "cell_type": "markdown",
   "metadata": {},
   "source": [
    "Shortening and wrting with second quantization SOMETHING OPERATOR this becomes\n",
    "$$ |\\Phi ' \\rangle = | \\Phi \\rangle + \\sum_i \\eta_{ji}^\\sigma |\\Phi \\rangle + \\sum_{ia} \\eta_{ai}^\\sigma c_{a\\sigma}^\\dagger c_{j\\sigma} |\\Phi\\rangle\n",
    "= (1 + \\sum_i\\eta_{ji}^\\sigma)|\\Phi\\rangle + \\sum_{ia}\\eta_{ai}^\\sigma |\\Phi_{j\\sigma}^{a\\sigma}\\rangle, $$\n",
    "Where $|\\Phi_{j\\sigma}^{a\\sigma}\\rangle$ is called the singly excited stated and one can rewrite as $T = \\sum_{ia} \\eta_{ai}^\\sigma$ and $\\epsilon_j^\\sigma = \\sum_j\\eta_{ij}^\\sigma$."
   ]
  },
  {
   "cell_type": "markdown",
   "metadata": {},
   "source": [
    "Now one can compute the energy with the new perturbed Slater determinant, taking care to normalizer at the same time.\n",
    "$$ \\frac{\\langle \\Phi '| \\hat H| \\Phi ' \\rangle}{\\langle\\Phi'|\\Phi' \\rangle}\n",
    "= \\frac{(1+\\epsilon_j^\\sigma)^2\\langle \\Phi |\\hat H|\\Phi \\rangle +2(1 + \\epsilon_j^\\sigma)T\\langle \\Phi | \\hat H | \\Phi_{j\\sigma}^{a\\sigma} \\rangle + |T|^2 \\langle \\Phi_{j\\sigma}^{a\\sigma}|\\hat H | \\Phi_{j\\sigma}^{a\\sigma}\\rangle}  \n",
    "{(1+\\epsilon_j^\\sigma)^2 \\langle \\Phi | \\Phi \\rangle + 2(1 + \\epsilon_j^\\sigma)T\\langle \\Phi | \\Phi_{j\\sigma}^{a\\sigma} \\rangle + |T|^2 \\langle \\Phi_{j\\sigma}^{a\\sigma}| \\Phi_{j\\sigma}^{a\\sigma}\\rangle }.\n",
    "$$\n",
    "The higher order terms are simply ignored."
   ]
  },
  {
   "cell_type": "markdown",
   "metadata": {},
   "source": [
    "Substituting for $E_{HF} = \\langle \\Phi | \\hat H | \\Phi \\rangle$ an $\\langle \\Phi | \\Phi \\rangle$ yields\n",
    "\n",
    "$$ \\Leftrightarrow\n",
    "\\frac{E_{HF}(1 + \\epsilon_j^\\sigma)^2 + 2(1 + \\epsilon_j^\\sigma) T }{(1 + \\epsilon_j^\\sigma)^2\\langle \\Phi | \\hat H \\Phi_{j\\sigma}^{a\\sigma} \\rangle}\n",
    "+ \\mathscr{O}(\\epsilon^2)\n",
    "= \\frac{E_{HF} + 2 (1+\\epsilon_j^\\sigma)^{-1} T \\langle \\Phi | \\hat H \\Phi_{j\\sigma}^{a\\sigma} \\rangle}{1} + \\mathscr{O}(\\epsilon) $$"
   ]
  },
  {
   "cell_type": "markdown",
   "metadata": {},
   "source": [
    "Now one can expand $(1 + \\epsilon_j^\\sigma)^{-1}$ to get\n",
    "$$ \\Leftrightarrow\n",
    "E_{HF} + 2\\big[ 1 - \\epsilon_j^\\sigma + \\mathscr{O}(\\epsilon) \\big] T \\langle \\Phi|\\hat H| \\Phi_{j\\sigma}^{a\\sigma} \\rangle\n",
    "= E_{HF} + 2T\\langle \\Phi | \\hat H \\Phi_{j\\sigma}^{a\\sigma} \\rangle + \\mathscr{O}(\\epsilon) \\\\\n",
    "\\approx E_{HF} + 2\\sum_{ia}\\eta_{ai}^\\sigma \\langle \\Phi | \\hat H \\Phi_{j\\sigma}^{a\\sigma} \\rangle\n",
    "$$"
   ]
  },
  {
   "cell_type": "markdown",
   "metadata": {},
   "source": [
    "#### B\n",
    "\n",
    "$$ E_{UHF} + \\delta E_{UHF} = \\langle \\Phi_{UHF} + \\delta \\Phi_{UHF} | \\hat h | \\Phi_{UHF} \\rangle \\\\\n",
    "= \\sum_{i\\sigma} (\\varphi_i^\\sigma + \\delta \\varphi_i^\\sigma | \\hat h | \\varphi_i^\\sigma )\n",
    "+ \\frac{1}{2} \\sum_{ij\\sigma\\tau}((\\varphi_i^\\sigma + \\delta\\varphi_i^\\sigma)(\\varphi_j^\\tau + \\delta\\varphi_j^\\tau) | \\hat w | \\varphi_i^\\sigma \\varphi_j^\\tau ) - \\frac{1}{2} \\sum_{ij\\sigma} ((\\varphi_i^\\sigma + \\delta\\varphi_i^\\sigma)(\\varphi_j^\\sigma + \\delta\\varphi_i^\\sigma)| \\hat w | \\varphi_j^\\sigma \\varphi_i^\\sigma) \\\\\n",
    "= \\sum_{i\\sigma} (\\varphi_i^\\sigma + \\delta \\varphi_i^\\sigma | \\hat h | \\varphi_i^\\sigma )\n",
    "+ \\frac{1}{2} \\sum_{ij\\sigma\\tau}(\\varphi_i^\\sigma \\varphi_j^\\tau + \\varphi_i^\\sigma \\delta\\varphi_j^\\tau + \\delta\\varphi_i^\\sigma \\varphi_j^\\tau + \\delta\\varphi_i^\\sigma \\delta\\varphi_j^\\tau | \\hat w | \\varphi_i^\\sigma \\varphi_j^\\tau)\n",
    "- \\frac{1}{2} \\sum_{ij\\sigma} (\\varphi_i^\\sigma \\varphi_j^\\sigma + \\varphi_i^\\sigma \\delta\\varphi_j^\\sigma + \\delta\\varphi_i^\\sigma \\varphi_j^\\sigma + \\delta\\varphi_i^\\sigma \\delta\\varphi_j^\\sigma | \\hat w | \\varphi_j^\\sigma \\varphi_i^\\sigma)$$"
   ]
  },
  {
   "cell_type": "markdown",
   "metadata": {},
   "source": [
    "The terms with a product of two deltas (e.g $\\delta\\varphi_i^\\sigma\\delta\\varphi_j^\\tau$) can be ignored, as we are only interested in the first order approximation (delta is tiny). This leaves\n",
    "$$ \\Leftrightarrow \\sum_{i\\sigma}(\\varphi_i^\\sigma + \\sum_p\\varphi_p^\\sigma\\eta_{pi}^\\sigma | \\hat h | \\varphi_i^\\sigma) \n",
    "+ \\frac{1}{2} \\sum_{ij\\sigma\\tau} ( \\varphi_i^\\sigma\\varphi_i^\\tau + \\varphi_i^\\sigma\\sum_p\\varphi_p^\\tau\\eta_{pj}^\\tau + \\sum_q\\varphi_q^\\sigma\\eta_{qi}^\\sigma\\varphi_j^\\tau | \\hat w | \\varphi_i^\\sigma \\varphi_j^\\tau)\n",
    "- \\frac{1}{2}\\sum_{ij\\sigma}(\\varphi_i^\\sigma\\varphi_j^\\sigma + \\varphi_i^\\sigma\\sum_p\\varphi_p^\\sigma\\eta_{pj}^\\sigma + \\sum_q\\varphi_q^\\sigma\\eta_{qi}^\\sigma\\varphi_j^\\sigma | \\hat w | \\varphi_j^\\sigma \\varphi_i^\\sigma) \\\\\n",
    "= \\sum_{i\\sigma}(\\varphi_i^\\sigma | \\hat h | \\varphi_i^\\sigma)\n",
    "+ \\sum_{i\\sigma p} \\eta_{pi}^\\sigma (\\varphi_p^\\sigma | \\hat h | \\varphi_i^\\sigma)\n",
    "+ \\frac{1}{2}\\sum_{ij\\sigma\\tau}(\\varphi_i^\\sigma\\varphi_j^\\tau | \\hat w | \\varphi_i^\\sigma\\varphi_j^\\tau)\n",
    "+ \\frac{1}{2}\\sum_{ij\\sigma\\tau p}\\eta_{pj}^\\tau (\\varphi_i^\\sigma\\varphi_p^\\tau | \\hat w | \\varphi_i^\\sigma\\varphi_j^\\tau)\n",
    "+ \\frac{1}{2}\\sum_{ij\\sigma\\tau q}\\eta_{qi}^\\sigma (\\varphi_q^\\sigma\\varphi_j^\\tau | \\hat w |\\varphi_i^\\sigma \\varphi_j^\\tau)\n",
    "- \\frac{1}{2}\\sum_{ij\\sigma}(\\varphi_i^\\sigma\\varphi_j^\\sigma | \\hat w | \\varphi_j^\\sigma \\varphi_i^\\sigma)\n",
    "- \\frac{1}{2} \\sum_{ij\\sigma p} \\eta_{pj}^\\sigma (\\varphi_i^\\sigma\\varphi_p^\\sigma | \\hat w | \\varphi_j^\\sigma\\varphi_i^\\sigma)\n",
    "-\\frac{1}{2}\\sum_{ij\\sigma q}\\eta_{qi}^\\sigma ( \\varphi_q^\\sigma\\varphi_j^\\sigma | \\hat w | \\varphi_j^\\sigma \\varphi_i^\\sigma)\n",
    "$$ "
   ]
  },
  {
   "cell_type": "markdown",
   "metadata": {},
   "source": [
    "Recognize three of theterms as the unperturbed energy and limit $\\eta$ be zero for all instances but one $\\eta_{ak}^\\rho$. The energy pertrubation remains\n",
    "$$ \\delta E_{UHF}\n",
    "= (\\varphi_a^\\sigma | \\hat h | \\varphi_i^\\sigma)\n",
    "+ \\frac{1}{2}\\sum_{i\\sigma}(\\varphi_i^\\sigma\\varphi_a^\\rho | \\hat w | \\varphi_i^\\sigma\\varphi_k^\\rho) \n",
    "+ \\frac{1}{2}\\sum_{j\\tau}(\\varphi_a^\\rho\\varphi_j^\\tau | \\hat w | \\varphi_k^\\rho \\varphi_j^\\tau)\n",
    "- \\frac{1}{2}\\sum_i (\\varphi_i^\\rho\\varphi_a^\\rho | \\hat w | \\varphi_k^\\rho\\varphi_i^\\rho)\n",
    "- \\frac{1}{2}\\sum_j(\\varphi_a^\\rho\\varphi_j^\\rho | \\hat w | \\varphi_j^\\rho \\varphi_k^\\rho)\n",
    "$$"
   ]
  },
  {
   "cell_type": "markdown",
   "metadata": {},
   "source": [
    "One can switch the position of two adjacent $\\varphi$ as long as the sign changes. All the needed switches come in pairs, so the signs stay the same,\n",
    "$$ \\delta E_{UHF}\n",
    "= (\\varphi_a^\\sigma | \\hat h | \\varphi_i^\\sigma)\n",
    "+ \\frac{1}{2}\\sum_{i\\sigma}(\\varphi_a^\\rho \\varphi_i^\\sigma| \\hat w | \\varphi_k^\\rho \\varphi_i^\\sigma) \n",
    "+ \\frac{1}{2}\\sum_{j\\tau}(\\varphi_a^\\rho \\varphi_j^\\tau| \\hat w | \\varphi_k^\\rho \\varphi_j^\\tau)\n",
    "- \\frac{1}{2}\\sum_i (\\varphi_a^\\rho \\varphi_i^\\rho | \\hat w | \\varphi_i^\\rho \\varphi_k^\\rho)\n",
    "- \\frac{1}{2}\\sum_j(\\varphi_a^\\rho\\varphi_j^\\rho | \\hat w | \\varphi_j^\\rho \\varphi_k^\\rho)\n",
    "$$"
   ]
  },
  {
   "cell_type": "markdown",
   "metadata": {},
   "source": [
    "Changing the name of an index within a term is okay. Doing this yields the following\n",
    "$$ \\delta E_{UHF}\n",
    "= (\\varphi_a^\\sigma|\\hat h|\\varphi_i^\\sigma)\n",
    "+ \\sum_{j\\tau}(\\varphi_a^\\sigma\\varphi_j^\\tau|\\hat w|\\varphi_i^\\sigma\\varphi_j^\\tau)\n",
    "- \\sum(\\varphi_a^\\sigma\\varphi_j^\\sigma|\\hat w|\\varphi_j^\\sigma\\varphi_i^\\sigma)\n",
    "$$"
   ]
  },
  {
   "cell_type": "markdown",
   "metadata": {},
   "source": [
    "### Roothan Hall Equations\n",
    "We can replace the non-canonical equations with the canonical equations which are of eigenvalue form\n",
    "$$ \\hat f^\\sigma \\varphi_i^\\sigma = \\epsilon_i^\\sigma \\varphi_i^\\sigma. $$\n",
    "This is in fact two coupled eigenvalue problems, one for each spin $\\sigma$. \n",
    "\n",
    "For numerical treatment the orbitals are expanded in </i>atomic orbital basis functions</i> $\\phi_p$, $p=1,2,\\dots, K$,\n",
    "$$ \\varphi_q^\\sigma = \\sum_p \\psi_p U_{pq}^\\sigma, $$\n",
    "often called molecular orbitals.\n",
    "\n",
    "The basis is the same in each spin direction, and the atomic orbitals are not necessarily orthonormal, the general non-diagonal overlap matrix is given by\n",
    "$$ S_{pq} = (\\psi_p|\\psi_q). $$\n",
    "When the basis functions are linearly independent, $S$ is invertible. $S$ is symmetric and positive definite.\n",
    "\n",
    "The <i>atomic integrals</i> are defined thusly\n",
    "$$ h_{qp} = (\\psi_q | \\hat h | \\psi_p), \\quad (pr | qs) = (\\psi_p \\psi_q | \\hat w | \\psi_r \\psi_s), $$\n",
    "note the index placement in the two-electron integral.\n",
    "\n",
    "Lastly, the <i>density matrices</i> are given by\n",
    "$$ D_{rs}^\\sigma = \\sum_j U_{rj}^\\sigma (U_{sj}^\\sigma)^* = U_{occ}^\\sigma (U_{occ}^\\sigma)^H, $$\n",
    "where $U_{occ}^\\sigma$ is the $K \\times N_\\sigma$ submatrix of $U^\\sigma$ formed by the first $N_\\sigma$ columns."
   ]
  },
  {
   "cell_type": "markdown",
   "metadata": {
    "collapsed": true
   },
   "source": [
    "#### A\n",
    "The Roothan-Hall equations are obtained by projecting the UHF equations onto the atomic orbital basis. The one-body operator becomes\n",
    "$$ (\\psi_p | \\hat h | \\varphi_i^\\sigma) \n",
    "= (\\psi_p | \\hat p | \\sum_q \\psi_q U_{qi}^\\sigma) \n",
    "= \\sum_q (\\psi_p |\\hat h| \\psi_q) U_{qi}^\\sigma \n",
    "= \\sum_q h_{pq} U_{qi}^\\sigma. $$"
   ]
  },
  {
   "cell_type": "markdown",
   "metadata": {},
   "source": [
    "The Hartree potential becomes\n",
    "$$ (\\psi_p | \\hat v_H^\\tau | \\varphi_i^\\sigma ) \n",
    "= \\sum_j ( \\psi_p \\varphi_j^\\tau | \\hat w | \\varphi_i^\\sigma \\varphi_j^\\tau)\n",
    "= \\sum_j (\\psi_p \\sum_r \\psi_r U_{rj}^\\tau | \\hat w | \\sum_q \\psi_q U_{qi}^\\sigma \\sum_s \\psi_s U_{sj}^\\tau )\n",
    "= \\sum_{rsq} \\big((\\psi_p \\psi_r | \\hat w | \\psi_q \\psi_s ) \\sum_j U_{sj}^\\tau (U_{rj}^\\tau)^* U_{qi}^\\sigma \\big)\n",
    "= \\sum_q \\big(\\sum_{rs} (p q | r s) D_{rs}^\\sigma \\big) U_{qi}^\\sigma.$$"
   ]
  },
  {
   "cell_type": "markdown",
   "metadata": {},
   "source": [
    "The exchange potential\n",
    "$$(\\psi_p | \\hat v_{ex}^\\sigma | \\varphi_i^\\sigma)\n",
    "= \\sum_j (\\psi_p \\varphi_j^\\sigma | \\hat w | \\varphi_j^\\sigma \\varphi_i^\\sigma)\n",
    "= \\sum_j (\\psi_p \\sum_r \\psi_r U_{rj}^\\sigma | \\hat w | \\sum_s \\psi_s U_{sj}^\\sigma \\sum_q \\psi_q U_{qi}^\\sigma)\n",
    "= \\sum_{rsq} \\big((\\psi_p \\psi_r | \\hat w | \\psi_s \\psi_q ) \\sum_j U_{sj}^\\sigma (u_{rj}^\\sigma)^* U_{qi}^\\sigma \\big)\n",
    "= \\sum_q \\big( \\sum_{rs} (p s | r q) D_{rs}^\\sigma \\big) U_{qi}^\\sigma.$$"
   ]
  },
  {
   "cell_type": "markdown",
   "metadata": {},
   "source": [
    "The inner product between atomic orbitals and molecular orbitals is\n",
    "$$ (\\psi_p | \\varphi_i^\\sigma) = (\\psi_p | \\sum_q \\psi_q U_{qi}^\\sigma) \n",
    "=  \\sum_q (\\psi_p| \\psi_q) U_{qi}^\\sigma = \\sum_q S_{pq} U_{qi}^\\sigma.$$"
   ]
  },
  {
   "cell_type": "markdown",
   "metadata": {},
   "source": [
    "#### B\n",
    "The Fock matrix is defined as\n",
    "$$ F^\\sigma = h + J(D^\\uparrow + D^\\downarrow) - K(D^\\sigma), $$\n",
    "where \n",
    "$$ J(D)_{pq} = \\sum_{rs}(pq|rs)D_{sr} \\quad \n",
    "   K(D)_{pq} = \\sum_{rs}(ps|rq)D_{sr}. $$"
   ]
  },
  {
   "cell_type": "markdown",
   "metadata": {},
   "source": []
  }
 ],
 "metadata": {
  "kernelspec": {
   "display_name": "Python 3",
   "language": "python",
   "name": "python3"
  },
  "language_info": {
   "codemirror_mode": {
    "name": "ipython",
    "version": 3
   },
   "file_extension": ".py",
   "mimetype": "text/x-python",
   "name": "python",
   "nbconvert_exporter": "python",
   "pygments_lexer": "ipython3",
   "version": "3.6.1"
  }
 },
 "nbformat": 4,
 "nbformat_minor": 2
}
