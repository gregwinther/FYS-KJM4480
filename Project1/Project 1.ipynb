{
 "cells": [
  {
   "cell_type": "markdown",
   "metadata": {},
   "source": [
    "# Project 1 FYS-KJM4480 2017"
   ]
  },
  {
   "cell_type": "markdown",
   "metadata": {},
   "source": [
    "## Theory"
   ]
  },
  {
   "cell_type": "markdown",
   "metadata": {},
   "source": [
    "### Energy Expression\n",
    "#### A\n",
    "A Slater determinant is denoted by $|\\phi \\rangle = |\\phi_1 \\phi_2 \\dots \\phi_N \\rangle$, where $\\{\\phi_i\\}$, $i\\in \\{1, \\dots, N \\}$ is a basis consisting of single-particle functions."
   ]
  },
  {
   "cell_type": "markdown",
   "metadata": {},
   "source": [
    "Herein it will be shown that \n",
    "$$\\langle \\Phi | \\hat{H} | \\Phi \\rangle \n",
    " = \\sum_I \\langle \\phi_I |\\hat h |\\phi_I \\rangle\n",
    " + \\frac{1}{2} \\sum_{IJ} \\langle \\phi_I \\phi_J|\\hat W |\\phi_I \\phi_J - \\phi_J \\phi_I \\rangle, $$\n",
    "where capital indices imply summation over all occupied single-particle functions."
   ]
  },
  {
   "cell_type": "markdown",
   "metadata": {},
   "source": [
    "The Hamiltonian can be split into ground state and the other part :p\n",
    "$$ \\hat H = \\hat H_0 + \\hat W. $$\n",
    "Moreover, any operator can be written as\n",
    "$$ \\hat O = \\sum_{ij}o_{ij} |i\\rangle \\langle j| = \\sum_{ij} o_{ij}c_i^\\dagger c_j, $$\n",
    "where $o_{ij} = \\langle i|\\hat O| j\\rangle$ are the matrix elements."
   ]
  },
  {
   "cell_type": "markdown",
   "metadata": {},
   "source": [
    "The expected value for the ground state Hamiltonian becomes\n",
    "$$ \\langle \\Phi |\\hat H_0 |\\Phi \\rangle\n",
    "  =\\langle \\Phi |\\sum_{pq} h_{pq} |p\\rangle \\langle q | \\Phi \\rangle \n",
    "  =\\langle \\Phi |\\sum_{pq} h_{pq} c_p^\\dagger c_q | \\Phi \\rangle\n",
    "  =\\sum_{pq} h_{pq}\\langle \\Phi | c_p^\\dagger c_q |\\Phi \\rangle. $$"
   ]
  },
  {
   "cell_type": "markdown",
   "metadata": {},
   "source": [
    "Now, if capital letter indices indicates occupied states, this can be rewritten as\n",
    "$$ \\Leftrightarrow\n",
    "    \\sum_{IJ} h_{IJ} \\langle \\Phi |C_I^\\dagger C_J | \\Phi \\rangle\n",
    "  + \\sum_{\\alpha J} h_{\\alpha J} \\langle \\Phi |C_\\alpha^\\dagger C_J | \\Phi \\rangle\n",
    "  + \\sum_{\\alpha \\beta} h_{\\alpha \\beta} \\langle \\Phi |C_\\alpha^\\dagger C_\\beta | \\Phi \\rangle\n",
    "  + \\sum_{I \\beta} h_{I \\beta} \\langle \\Phi |C_I^\\dagger C_\\beta | \\Phi \\rangle, $$\n",
    "where $\\alpha$ and $\\beta$ is any state that is not occupied by a single-particle function. This means that all states $\\phi_I$ and $\\phi_\\alpha$ are included in the states $\\phi_p$ and that all states $\\phi_J$ and $\\phi_\\beta$ are included in states $\\phi_q$."
   ]
  },
  {
   "cell_type": "markdown",
   "metadata": {},
   "source": [
    "Because the states $\\phi_\\beta \\notin \\{\\phi\\}$, $c_\\beta |\\phi\\rangle = 0$, so the last two terms are zero. What remains is\n",
    "$$ \\Leftrightarrow\n",
    "   \\sum_{IJ} h_{IJ}\\delta_{IJ} \\langle \\Phi | \\Phi \\rangle \n",
    " + \\sum_{\\alpha J} h_{\\alpha J} \\delta_{\\alpha J} \\langle \\Phi | \\Phi \\rangle. $$\n",
    "Here the last term is zero because $\\delta_{\\alpha J} = 0 \\forall \\alpha, J$ because $\\phi_\\alpha \\notin \\{\\phi\\}$ and $\\phi_J \\in \\{\\phi\\}$."
   ]
  },
  {
   "cell_type": "markdown",
   "metadata": {},
   "source": [
    "This leaves\n",
    "$$ \\Leftrightarrow \\langle \\Phi |\\hat H_0 |\\Phi \\rangle =  \\sum_I h_I = \\sum_I \\langle \\phi_I | \\hat h | \\phi_I \\rangle. $$"
   ]
  },
  {
   "cell_type": "markdown",
   "metadata": {},
   "source": [
    "#### B\n",
    "Show\n",
    "$$ E_{UHF} = \\sum_{i\\sigma} ( \\varphi_i^\\sigma | \\hat{h} | \\varphi_i^\\sigma) + E_H - E_{ex}$$\n",
    "with the <i> Hartree energy </i> (or direct energy) \n",
    "$$ E_H = \\frac{1}{2} \\sum_{ij\\sigma\\tau}(\\phi_i^\\sigma\\phi_j^\\tau | \\hat w | \\phi_i^\\sigma \\phi_j^\\tau) $$\n",
    "and the <i> exchange energy </i> \n",
    "$$ E_{ex} = \\frac{1}{2} \\sum_{ij\\sigma} (\\phi_i^\\sigma\\phi_j^\\sigma | \\hat w | \\phi_j^\\sigma \\phi_i^\\sigma ). $$"
   ]
  },
  {
   "cell_type": "markdown",
   "metadata": {},
   "source": [
    "\\begin{align} \\langle \\Phi_{UHF} | \\hat W | \\Phi_{UHF} \\rangle\n",
    " &= \\sum_{ij\\sigma\\tau\\alpha\\beta} ( \\langle \\phi_{i\\sigma}\\phi_{j\\tau} | \\hat w | \\phi_{i\\alpha} \\phi_{j\\beta} \\rangle - \\langle \\phi_{i\\sigma} \\phi_{j\\tau}| \\hat w| \\phi_{j\\beta} \\phi_{i\\alpha} \\rangle  \\\\\n",
    " &= \\sum_{ij\\sigma\\tau\\alpha\\beta} \\left(\n",
    "\\delta_{\\sigma\\alpha}\\delta_{\\tau\\beta}(\\phi_i^\\sigma \\phi_j^\\tau| \\hat w|\\phi_i^\\alpha \\phi_j^\\beta ) - \\delta_{\\sigma\\beta} \\delta_{\\tau\\alpha}(\\phi_i^\\sigma \\phi_j^\\tau | \\hat w| \\phi_j^\\beta \\phi_i^\\alpha )\n",
    "\\right) \\\\\n",
    " &= \n",
    "\\end{align}"
   ]
  },
  {
   "cell_type": "markdown",
   "metadata": {},
   "source": [
    "### Unrestricted Hartree-Fock (UHF) Equations"
   ]
  },
  {
   "cell_type": "markdown",
   "metadata": {},
   "source": [
    "### Roothan Hall Equations\n",
    "We can replace the non-canonical equations with the canonical equations which are of eigenvalue form\n",
    "$$ \\hat f^\\sigma \\varphi_i^\\sigma = \\epsilon_i^\\sigma \\varphi_i^\\sigma. $$\n",
    "This is in fact two coupled eigenvalue problems, one for each spin $\\sigma$. \n",
    "\n",
    "For numerical treatment the orbitals are expanded in </i>atomic orbital basis functions</i> $\\phi_p$, $p=1,2,\\dots, K$,\n",
    "$$ \\varphi_q^\\sigma = \\sum_p \\psi_p U_{pq}^\\sigma, $$\n",
    "often called molecular orbitals.\n",
    "\n",
    "The basis is the same in each spin direction, and the atomic orbitals are not necessarily orthonormal, the general non-diagonal overlap matrix is given by\n",
    "$$ S_{pq} = (\\psi_p|\\psi_q). $$\n",
    "When the basis functions are linearly independent, $S$ is invertible. $S$ is symmetric and positive definite.\n",
    "\n",
    "The <i>atomic integrals</i> are defined thusly\n",
    "$$ h_{qp} = (\\psi_q | \\hat h | \\psi_p), \\quad (pr | qs) = (\\psi_p \\psi_q | \\hat w | \\psi_r \\psi_s), $$\n",
    "note the index placement in the two-electron integral.\n",
    "\n",
    "Lastly, the <i>density matrices</i> are given by\n",
    "$$ D_{rs}^\\sigma = \\sum_j U_{rj}^\\sigma (U_{sj}^\\sigma)^* = U_{occ}^\\sigma (U_{occ}^\\sigma)^H, $$\n",
    "where $U_{occ}^\\sigma$ is the $K \\times N_\\sigma$ submatrix of $U^\\sigma$ formed by the first $N_\\sigma$ columns."
   ]
  },
  {
   "cell_type": "markdown",
   "metadata": {
    "collapsed": true
   },
   "source": [
    "#### A\n",
    "The Roothan-Hall equations are obtained by projecting the UHF equations onto the atomic orbital basis. The one-body operator becomes\n",
    "$$ (\\psi_p | \\hat h | \\varphi_i^\\sigma) \n",
    "= (\\psi_p | \\hat p | \\sum_q \\psi_q U_{qi}^\\sigma) \n",
    "= \\sum_q (\\psi_p |\\hat h| \\psi_q) U_{qi}^\\sigma \n",
    "= \\sum_q h_{pq} U_{qi}^\\sigma. $$"
   ]
  },
  {
   "cell_type": "markdown",
   "metadata": {},
   "source": [
    "The Hartree potential becomes\n",
    "$$ (\\psi_p | \\hat v_H^\\tau | \\varphi_i^\\sigma ) \n",
    "= \\sum_j ( \\psi_p \\varphi_j^\\tau | \\hat w | \\varphi_i^\\sigma \\varphi_j^\\tau)\n",
    "= \\sum_j (\\psi_p \\sum_r \\psi_r U_{rj}^\\tau | \\hat w | \\sum_q \\psi_q U_{qi}^\\sigma \\sum_s \\psi_s U_{sj}^\\tau )\n",
    "= \\sum_{rsq} \\big((\\psi_p \\psi_r | \\hat w | \\psi_q \\psi_s ) \\sum_j U_{sj}^\\tau (U_{rj}^\\tau)^* U_{qi}^\\sigma \\big)\n",
    "= \\sum_q \\big(\\sum_{rs} (p q | r s) D_{rs}^\\sigma \\big) U_{qi}^\\sigma.$$"
   ]
  },
  {
   "cell_type": "markdown",
   "metadata": {},
   "source": [
    "The exchange potential\n",
    "$$(\\psi_p | \\hat v_{ex}^\\sigma | \\varphi_i^\\sigma)\n",
    "= \\sum_j (\\psi_p \\varphi_j^\\sigma | \\hat w | \\varphi_j^\\sigma \\varphi_i^\\sigma)\n",
    "= \\sum_j (\\psi_p \\sum_r \\psi_r U_{rj}^\\sigma | \\hat w | \\sum_s \\psi_s U_{sj}^\\sigma \\sum_q \\psi_q U_{qi}^\\sigma)\n",
    "= \\sum_{rsq} \\big((\\psi_p \\psi_r | \\hat w | \\psi_s \\psi_q ) \\sum_j U_{sj}^\\sigma (u_{rj}^\\sigma)^* U_{qi}^\\sigma \\big)\n",
    "= \\sum_q \\big( \\sum_{rs} (p s | r q) D_{rs}^\\sigma \\big) U_{qi}^\\sigma.$$"
   ]
  },
  {
   "cell_type": "markdown",
   "metadata": {},
   "source": [
    "The inner product between atomic orbitals and molecular orbitals is\n",
    "$$ (\\psi_p | \\varphi_i^\\sigma) = (\\psi_p | \\sum_q \\psi_q U_{qi}^\\sigma) \n",
    "=  \\sum_q (\\psi_p| \\psi_q) U_{qi}^\\sigma = \\sum_q S_{pq} U_{qi}^\\sigma.$$"
   ]
  },
  {
   "cell_type": "markdown",
   "metadata": {},
   "source": [
    "#### B\n",
    "The Fock matrix is defined as\n",
    "$$ F^\\sigma = h + J(D^\\uparrow + D^\\downarrow) - K(D^\\sigma), $$\n",
    "where \n",
    "$$ J(D)_{pq} = \\sum_{rs}(pq|rs)D_{sr} \\quad \n",
    "   K(D)_{pq} = \\sum_{rs}(ps|rq)D_{sr}. $$"
   ]
  }
 ],
 "metadata": {
  "kernelspec": {
   "display_name": "Python 3",
   "language": "python",
   "name": "python3"
  },
  "language_info": {
   "codemirror_mode": {
    "name": "ipython",
    "version": 3
   },
   "file_extension": ".py",
   "mimetype": "text/x-python",
   "name": "python",
   "nbconvert_exporter": "python",
   "pygments_lexer": "ipython3",
   "version": "3.6.1"
  }
 },
 "nbformat": 4,
 "nbformat_minor": 2
}
