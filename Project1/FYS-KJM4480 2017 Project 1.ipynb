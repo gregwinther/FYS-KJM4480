{
 "cells": [
  {
   "cell_type": "markdown",
   "metadata": {},
   "source": [
    "# The Hartree-Fock Method"
   ]
  },
  {
   "cell_type": "markdown",
   "metadata": {},
   "source": [
    "## Theory"
   ]
  },
  {
   "cell_type": "markdown",
   "metadata": {},
   "source": [
    "The Hamiltonian can be split into an analytically solvable term and a perturbation term,\n",
    "\n",
    "\n",
    "\\begin{align}\n",
    "\\hat H = \\hat H_0 + \\hat W.\n",
    "\\end{align}\n",
    "\n",
    "$\\hat H_0 = \\sum_i \\hat h_i$ i almost alway a one-body operator, and $\\hat W$ can be seen as an inter-electron Coulomb force term.\n",
    "\n",
    "Moreover, any operator can be written as\n",
    "\n",
    "\\begin{align}\n",
    "\\hat O = \\sum_{ij}o_{ij} |i\\rangle \\langle j| = \\sum_{ij} o_{ij}c_i^\\dagger c_j, \n",
    "\\end{align}\n",
    "\n",
    "where $o_{ij} = \\langle i|\\hat O| j\\rangle$ are the matrix elements."
   ]
  },
  {
   "cell_type": "markdown",
   "metadata": {},
   "source": [
    "The expected value for the single particle Hamiltonian becomes\n",
    "\\begin{align} \n",
    "\\langle \\Phi |\\hat H_0 |\\Phi \\rangle\n",
    "  =\\langle \\Phi |\\sum_{pq} h_{pq} |p\\rangle \\langle q | \\Phi \\rangle \n",
    "  =\\langle \\Phi |\\sum_{pq} h_{pq} c_p^\\dagger c_q | \\Phi \\rangle\n",
    "  =\\sum_{pq} h_{pq}\\langle \\Phi | c_p^\\dagger c_q |\\Phi \\rangle.\n",
    "\\end{align}"
   ]
  },
  {
   "cell_type": "markdown",
   "metadata": {},
   "source": [
    "### Energy Expression\n",
    "#### General Energy Expression\n",
    "A Slater determinant is denoted by $|\\phi \\rangle = |\\phi_1 \\phi_2 \\dots \\phi_N \\rangle$, where $\\{\\phi_i\\}$, $i\\in \\{1, \\dots, N \\}$ is a basis consisting of single-particle functions. The energy of the expression on second-quantized form is\n",
    "\n",
    "\\begin{align}\n",
    "\\langle \\Phi | \\hat{H} | \\Phi \\rangle \n",
    "&=\n",
    "   \\langle \\Phi | \\hat{H}_0 | \\Phi \\rangle\n",
    "+  \\langle \\Phi | \\hat{W} | \\Phi \\rangle \\\\\n",
    "&=\n",
    "   \\langle \\Phi | \\sum_{pq} h_{pq} c_p^\\dagger c_q^\\dagger | \\Phi \\rangle \n",
    "+  \\langle \\Phi | \\frac{1}{2} \\sum_{pqrs} w_{pqrs} c_p^\\dagger c_q^\\dagger c_s c_r | \\Phi \\rangle\n",
    "\\end{align}\n",
    "\n",
    "Where $h_{pq} = \\langle \\phi_p | \\hat h | \\rangle$ and $w_{pqrs} = \\langle \\phi_p \\phi_q | \\hat w | \\phi_r \\phi_s \\rangle$ are the matrix elements."
   ]
  },
  {
   "cell_type": "markdown",
   "metadata": {},
   "source": [
    "If $\\alpha$ and $\\beta$ denotes virtual states and $I$ and $J$ denotes occupied states, we have that,\n",
    "\n",
    "\\begin{align}\n",
    "\\langle \\Phi | \\hat{H}_0 | \\Phi \\rangle\n",
    "&=\n",
    "  \\sum_{IJ}h_{IJ} \\langle \\Phi | c_I^\\dagger c_J | \\Phi \\rangle\n",
    "+ \\sum_{\\alpha J} h_{\\alpha J} \\langle \\Phi | c_\\alpha^\\dagger c_J | \\Phi \\rangle \\\\\n",
    "&+ \\sum_{I \\beta} h_{I \\beta} \\langle \\Phi | c_I^\\dagger c_\\beta | \\Phi \\rangle\n",
    "+ \\sum_{\\alpha \\beta} h_{\\alpha \\beta} \\langle \\Phi | c_\\alpha^\\dagger c_\\beta | \\Phi \\rangle.\n",
    "\\end{align}"
   ]
  },
  {
   "cell_type": "markdown",
   "metadata": {},
   "source": [
    "Since $\\phi_\\alpha, \\phi_\\beta \\not\\in \\{\\phi_I\\}, \\{\\phi_J\\}$ and $\\phi_\\beta | \\Phi \\rangle = 0$, the last two terms must be zero. This leaves us with\n",
    "\n",
    "\\begin{align}\n",
    "\\langle \\Phi | \\hat{H}_0 | \\Phi \\rangle\n",
    "&=\n",
    "  \\sum_{IJ}h_{IJ} \\langle \\Phi | c_I^\\dagger c_J | \\Phi \\rangle\n",
    "+ \\sum_{\\alpha J} h_{\\alpha J} \\langle \\Phi | c_\\alpha^\\dagger c_J | \\Phi \\rangle \\\\\n",
    "&=\n",
    "  \\sum_{IJ}h_{IJ} \\delta_{IJ} \\langle \\Phi | \\Phi\\rangle\n",
    "+ \\sum_{\\alpha J} h_{\\alpha J} \\delta_{\\alpha J} \\langle \\Phi | \\Phi \\rangle \\\\\n",
    "&=\n",
    "  \\sum_{I} h_{II} = \\sum_{I} \\langle \\phi_I|\\hat h|\\phi_I \\rangle,\n",
    "\\end{align}\n",
    "\n",
    "as $\\delta_{\\alpha J} = 0$."
   ]
  },
  {
   "cell_type": "markdown",
   "metadata": {},
   "source": [
    "The same kind of computation for the $\\hat W$ term yields\n",
    "\n",
    "\\begin{align}\n",
    "\\langle \\Phi | \\hat W | \\Phi \\rangle\n",
    "&=\n",
    "  \\frac{1}{2} \\sum_{pqIJ} w_{pqIJ} \\langle \\Phi | c_p^\\dagger c_q^\\dagger c_J c_I | \\Phi \\rangle\n",
    "+ \\frac{1}{2} \\sum_{pq\\alpha J} w_{pq\\alpha J} \\langle \\Phi | c_p^\\dagger c_q^\\dagger c_J c_\\alpha | \\Phi \\rangle \\\\\n",
    "&+ \\frac{1}{2} \\sum_{pqI\\beta} w_{pqI\\beta} \\langle \\Phi | c_p^\\dagger c_q^\\dagger c_\\beta c_I | \\Phi \\rangle\n",
    "+ \\frac{1}{2} \\sum_{pq\\alpha\\beta} w_{pq\\alpha\\beta} \\langle \\Phi | c_p^\\dagger c_q^\\dagger c_\\beta c_\\alpha | \\Phi \\rangle \\\\\n",
    "&=\n",
    "  \\frac{1}{2} \\sum_{KLIJ} w_{KLIJ} \\langle \\Phi |c_K^\\dagger c_L^\\dagger c_J c_I | \\Phi \\rangle\n",
    "+ \\frac{1}{2} \\sum_{\\gamma LIJ} w_{\\gamma LIJ} \\langle \\Phi |c_\\gamma^\\dagger c_L^\\dagger c_J c_I | \\Phi \\rangle \\\\ \n",
    "&+ \\frac{1}{2} \\sum_{K \\delta IJ} w_{K \\delta IJ} \\langle \\Phi |c_K^\\dagger c_\\delta^\\dagger c_J c_I | \\Phi \\rangle\n",
    "+ \\frac{1}{2} \\sum_{\\gamma \\delta IJ} w_{\\gamma \\delta IJ} \\langle \\Phi |c_\\gamma^\\dagger c_\\delta^\\dagger c_J c_I | \\Phi \\rangle \\\\\n",
    "&- \\frac{1}{2} \\sum_{pqI\\beta} w_{pqI\\beta} \\langle \\Phi |c_p^\\dagger c_q^\\dagger c_I c_\\beta | \\Phi \\rangle \\\\\n",
    "\\end{align}"
   ]
  },
  {
   "cell_type": "markdown",
   "metadata": {},
   "source": [
    "Using anti-commutator relations,\n",
    "\n",
    "\\begin{align}\n",
    "\\langle \\Phi | \\hat W | \\Phi \\rangle\n",
    "&=\n",
    "\\frac{1}{2} \\sum_{KLIJ} w_{KLIJ} \\langle \\Phi |c_K^\\dagger (\\delta_{JL} - c_J c_L^\\dagger) c_I | \\Phi \\rangle\n",
    "+ \\frac{1}{2} \\sum_{\\gamma LIJ} w_{\\gamma LIJ} \\langle \\Phi |c_\\gamma^\\dagger c_L^\\dagger c_J c_I | \\Phi \\rangle \\\\ \n",
    "&+ \\frac{1}{2} \\sum_{K\\delta IJ} w_{\\delta KIJ} \\langle \\Phi |c_\\delta^\\dagger c_K^\\dagger c_J c_I | \\Phi \\rangle\n",
    "+ \\frac{1}{2} \\sum_{\\gamma \\delta IJ} w_{\\gamma \\delta IJ} \\langle \\Phi |c_\\gamma^\\dagger(\\delta_{J\\delta} - c_J c_\\delta^\\dagger) c_I | \\Phi \\rangle,\n",
    "\\end{align}\n",
    "\n",
    "where $\\delta_{J\\delta} = 0$."
   ]
  },
  {
   "cell_type": "markdown",
   "metadata": {},
   "source": [
    "Now we can switch index from $\\delta$ to $\\gamma$ in the thrid term. We get,\n",
    "\n",
    "\\begin{align}\n",
    "\\langle \\Phi |\\hat W | \\Phi \\rangle\n",
    "&=\n",
    "  \\frac{1}{2} \\sum_{KIJ} w_{KJIJ} \\langle \\Phi | c_K^\\dagger c_I| \\Phi \\rangle\n",
    "- \\frac{1}{2} \\sum_{KLIJ} w_{KLIJ} \\langle \\Phi | c_K^\\dagger c_J c_L^\\dagger c_I | \\Phi \\rangle \\\\\n",
    "&+ \\sum_{\\gamma LIJ} w_{\\gamma LIJ} \\langle \\Phi |c_\\gamma^\\dagger c_L^\\dagger c_J c_I | \\Phi \\rangle\n",
    "- \\frac{1}{2} \\sum_{\\gamma \\delta IJ} w_{\\gamma \\delta IJ} \\langle \\Phi |c_\\gamma^\\dagger c_J c_\\delta^\\dagger c_I| \\Phi \\rangle.\n",
    "\\end{align}\n",
    "\n",
    "The last term is zero, because we get an overlap of a doubly excited state and an ordinary Slater determinant."
   ]
  },
  {
   "cell_type": "markdown",
   "metadata": {},
   "source": [
    "Now we have,\n",
    "\n",
    "\\begin{align}\n",
    "\\langle \\Phi |\\hat W | \\Phi \\rangle\n",
    "&=\n",
    "  \\frac{1}{2} \\sum_{KIJ} w_{KJIJ} \\delta_{KI} \\langle \\Phi | \\Phi \\rangle\n",
    "- \\frac{1}{2} \\sum_{KLIJ} w_{KLIJ} \\langle \\Phi |c_K^\\dagger c_J (\\delta_{IL} - c_I c_L^\\dagger) | \\Phi \\rangle \\\\\n",
    "&+ \\sum_{\\gamma LIJ} w_{\\gamma LIJ} \\langle \\Phi |c_\\gamma^\\dagger (\\delta_{JL} - c_J c_L^\\dagger) c_I | \\Phi \\rangle.\n",
    "\\end{align}"
   ]
  },
  {
   "cell_type": "markdown",
   "metadata": {},
   "source": [
    "Because $\\phi_I \\not\\in \\{\\phi_L \\}$, then $c_I c_L^\\dagger |\\Phi\\rangle = 0$, yielding\n",
    "\n",
    "\\begin{align}\n",
    "\\langle \\Phi |\\hat W | \\Phi \\rangle\n",
    "&=\n",
    "  \\frac{1}{2} \\sum_{IJ} w_{IJIJ} \n",
    "- \\frac{1}{2} \\sum_{KIJ} w_{KIIJ} \\delta_{KJ} \\langle \\Phi | \\Phi\n",
    "\\rangle\n",
    "+ \\sum_{\\gamma IJ} w_{\\gamma JIJ} \\langle \\Phi |c_\\gamma^\\dagger c_I | \\Phi \\rangle \\\\\n",
    "&- \\sum_{\\gamma LIJ} w_{\\gamma LIJ} \\langle \\Phi |c_\\gamma^\\dagger c_J (\\delta_{IL} - c_I c_L^\\dagger) | \\Phi \\rangle \\\\\n",
    "&=\n",
    " \\frac{1}{2} \\sum_{ij} (w_{IJIJ} - w_{JIIJ}) \n",
    "+ \\sum_{\\gamma IJ} w_{\\gamma IIJ} \\langle \\Phi | c_\\gamma^\\dagger c_J | \\Phi \\rangle \\\\\n",
    "&=\n",
    " \\frac{1}{2} \\sum_{IJ} \\langle \\phi_I \\phi_J | \\hat w | \\phi_I \\phi_J - \\phi_J \\phi_I \\rangle\n",
    "\\end{align}"
   ]
  },
  {
   "cell_type": "markdown",
   "metadata": {},
   "source": [
    "Putting it all together, we get\n",
    "\n",
    "\\begin{align}\n",
    "\\langle \\Phi | \\hat H | \\Phi \\rangle \n",
    "&=\n",
    "  \\langle \\Phi | \\hat H_0 | \\Phi \\rangle\n",
    "+ \\langle \\Phi | \\hat W   | \\Phi \\rangle \\\\\n",
    "&=\n",
    "  \\sum_{I} \\langle \\phi_I | \\hat h | \\phi_I \\rangle\n",
    "+ \\frac{1}{2} \\sum_{IJ} \\langle \\phi_I \\phi_J | \\hat w | \\phi_I \\phi_J - \\phi_J \\phi_I \\rangle\n",
    "\\end{align}"
   ]
  },
  {
   "cell_type": "markdown",
   "metadata": {},
   "source": [
    "#### Unrestricted Hartree-Fock Energy\n",
    "In unrestricted Hartree-Fock (UHF) we have $N_\\uparrow$ and $N_\\downarrow$ of spin up and spin down electrons, respectively. the spin up electrons have orbitals $\\varphi_i^\\uparrow(r)$, while the spin down electrons have $\\varphi_i^\\downarrow(r)$. The UHF Slater determinant is thus given by\n",
    "\n",
    "\n",
    "\\begin{align}\n",
    "|\\Phi_{UHF}\\rangle = | \\phi_{1\\uparrow} \\dots \\phi_{N_\\uparrow\\uparrow} \\phi_{1\\downarrow} \\dots \\phi_{N_\\downarrow\\downarrow} \\rangle.\n",
    "\\end{align}\n",
    "\n",
    "Moreover, a single particle function can be separated into an orbital and a spin-component,\n",
    "\n",
    "\\begin{align}\n",
    "\\phi_P = \\phi_{p\\sigma}(x) = \\varphi_p^\\sigma(r)\\chi_\\sigma(s),\n",
    "\\end{align}\n",
    "\n",
    "where $x = (r,s)$ and $P=(p,\\sigma)$. $r$ is the position of a given particle and $s$ is the particle's spin, while $p$ is the orbital quantum number and $\\sigma$ is the spin quantum number. The orbital function $\\varphi_p^\\sigma$ defines spatial orbital of a particle, dependent on orbital and spin quantum numbers."
   ]
  },
  {
   "cell_type": "markdown",
   "metadata": {},
   "source": [
    "The Hamiltonian is independent of spins, and it will therefore be useful, in this project, to introduce a new matrix element involving only spatial components. These will be denoted with round brackets,\n",
    "\n",
    "\\begin{align}\n",
    "\\langle \\phi_{p\\sigma}| \\hat h | \\phi_{q\\tau}\\rangle \n",
    "&= \\delta_{\\sigma\\tau} ( \\varphi_p^\\sigma | \\hat h | \\varphi_q^\\tau) \\\\\n",
    "\\langle \\phi_{p\\sigma}\\phi_{q\\tau} | \\hat w | \\phi_{r\\chi} \\phi_{s\\omega} \\rangle\n",
    "&= \\delta_{\\sigma\\chi} \\delta_{\\tau\\omega} (\\varphi_p^\\sigma \\varphi_q^\\tau | \\hat w | \\varphi_r^\\chi \\varphi_s^\\omega)\n",
    "\\end{align}"
   ]
  },
  {
   "cell_type": "markdown",
   "metadata": {},
   "source": [
    "The UHF energy is\n",
    "\n",
    "\\begin{align}\n",
    "E_{UHF} = \\langle \\Phi_{UHF} | \\hat H | \\Phi_{UHF} \\rangle\n",
    "= \\langle \\Phi_{UHF} | \\hat H_0 | \\Phi_{UHF} \\rangle\n",
    "+ \\langle \\Phi_{UHF} | \\hat W | \\Phi_{UHF} \\rangle.\n",
    "\\end{align}"
   ]
  },
  {
   "cell_type": "markdown",
   "metadata": {},
   "source": [
    "Starting with the one-body Hamiltonian,\n",
    "\n",
    "$$\n",
    "\\langle \\Phi_{UHF} | \\hat H_0 | \\Phi_{UHF} \\rangle\n",
    "=\n",
    "\\sum_{i\\sigma}\\langle \\phi_{i\\sigma}| \\hat h | \\phi_{i\\sigma}\\rangle\n",
    "= \n",
    "\\sum_{i\\sigma}\\delta_{\\sigma\\sigma} ( \\varphi_i^\\sigma | \\hat h | \\varphi_i^\\sigma)\n",
    "=\n",
    "\\sum_{i\\sigma} ( \\varphi_i^\\sigma | \\hat h | \\varphi_i^\\sigma).\n",
    "$$"
   ]
  },
  {
   "cell_type": "markdown",
   "metadata": {},
   "source": [
    "\\begin{align}\n",
    "\\langle \\Phi_{UHF} | \\hat W | \\Phi_{UHF} \\rangle\n",
    "&= \n",
    " \\frac{1}{2}\\sum_{ij\\sigma\\tau} ( \\langle \\phi_{i\\sigma}\\phi_{j\\tau} | \\hat w | \\phi_{i\\sigma} \\phi_{j\\tau} \\rangle \n",
    "- \\langle \\phi_{i\\sigma} \\phi_{j\\tau}| \\hat w| \\phi_{j\\tau} \\phi_{i\\sigma} \\rangle ) \\\\\n",
    "&= \\frac{1}{2}\\sum_{ij\\sigma\\tau} \\left(\n",
    "\\delta_{\\sigma\\sigma}\\delta_{\\tau\\tau}(\\varphi_i^\\sigma \\varphi_j^\\tau| \\hat w|\\varphi_i^\\sigma \\varphi_j^\\tau ) - \\delta_{\\sigma\\tau} \\delta_{\\tau\\sigma}(\\varphi_i^\\sigma \\varphi_j^\\tau | \\hat w| \\varphi_j^\\tau \\varphi_i^\\sigma)\n",
    "\\right) \\\\\n",
    " &= \\frac{1}{2} \\sum_{ij\\sigma\\tau} (\\varphi_i^\\sigma \\varphi_j^\\tau| \\hat w|\\varphi_i^\\sigma \\varphi_j^\\tau )\n",
    " - \\frac{1}{2} \\sum_{ij\\sigma} (\\varphi_i^\\sigma \\varphi_j^\\sigma | \\hat w| \\varphi_j^\\sigma \\varphi_i^\\sigma)\n",
    "\\end{align}"
   ]
  },
  {
   "cell_type": "markdown",
   "metadata": {},
   "source": [
    "All in all, the unrestricted Hartree-Fock energy is,\n",
    "\n",
    "\\begin{align}\n",
    "E_{UHF} = \\sum_{i\\sigma} ( \\varphi_i^\\sigma | \\hat{h} | \\varphi_i^\\sigma) + E_H - E_{ex}\n",
    "\\end{align}\n",
    "\n",
    "with the <i> Hartree energy </i> (or direct energy) \n",
    "\n",
    "\\begin{align} \n",
    "E_H = \\frac{1}{2} \\sum_{ij\\sigma\\tau}(\\varphi_i^\\sigma\\varphi_j^\\tau | \\hat w | \\varphi_i^\\sigma \\varphi_j^\\tau)\n",
    "\\end{align}\n",
    "\n",
    "and the <i> exchange energy </i> \n",
    "\n",
    "\\begin{align}\n",
    "E_{ex} = \\frac{1}{2} \\sum_{ij\\sigma} (\\varphi_i^\\sigma\\varphi_j^\\sigma | \\hat w | \\varphi_j^\\sigma \\varphi_i^\\sigma ).\n",
    "\\end{align}"
   ]
  },
  {
   "cell_type": "markdown",
   "metadata": {},
   "source": [
    "### Unrestricted Hartree-Fock Equations"
   ]
  },
  {
   "cell_type": "markdown",
   "metadata": {},
   "source": [
    "#### Validity of the Variational Principle\n",
    "Some single-particle function in the Slater determinant can be varied by a linear combination of all occupied single particle basis functions\n",
    "\n",
    "\\begin{align}\n",
    "|\\Phi\\rangle \\rightarrow |\\Phi '\\rangle\n",
    "=  |\\varphi_{i\\sigma} \\dots (\\varphi_{j\\sigma} + \\sum_i \\delta\\varphi_{i\\sigma}) \\dots \\varphi_{N\\sigma}\\rangle\n",
    "\\end{align}"
   ]
  },
  {
   "cell_type": "markdown",
   "metadata": {},
   "source": [
    "Any determinant can be split, leaving two separate Slater determinants\n",
    "\\begin{align}\n",
    "| \\Phi \\rangle  + \\sum_i | \\varphi_{1\\sigma} \\dots \\delta\\phi_{i\\sigma} \\dots \\phi_{N\\sigma} \\rangle \n",
    "= | \\Phi \\rangle  + \\sum_{ip} \\eta_{pi}^\\sigma | \\varphi_{1\\sigma} \\dots \\varphi_{p\\sigma} \\dots \\varphi_{N\\sigma}\\rangle.\n",
    "\\end{align}"
   ]
  },
  {
   "cell_type": "markdown",
   "metadata": {},
   "source": [
    "Then the last term can be split into occupied and unoccupied states\n",
    "\\begin{align}\n",
    "|\\Phi' \\rangle = | \\Phi \\rangle + \\sum_i \\big(\\eta_{ji}^\\sigma | \\varphi_{1\\sigma} \\dots \\varphi_{j\\sigma} \\dots \\varphi_{N\\sigma} \\rangle + \\sum_a \\eta_{ai}^\\sigma |\\varphi_{1\\sigma}^\\sigma \\dots \\varphi_{a\\sigma} \\dots \\varphi_{N\\sigma} \\rangle \\big)\n",
    "\\end{align}"
   ]
  },
  {
   "cell_type": "markdown",
   "metadata": {},
   "source": [
    "Shortening and writing with second quantization creation and annihilation operators this becomes\n",
    "\n",
    "\\begin{align}\n",
    "|\\Phi ' \\rangle = | \\Phi \\rangle + \\sum_i \\eta_{ji}^\\sigma |\\Phi \\rangle + \\sum_{ia} \\eta_{ai}^\\sigma c_{a\\sigma}^\\dagger c_{j\\sigma} |\\Phi\\rangle\n",
    "= (1 + \\sum_i\\eta_{ji}^\\sigma)|\\Phi\\rangle + \\sum_{ia}\\eta_{ai}^\\sigma c_{a\\sigma}^\\dagger c_{j\\sigma} |\\Phi\\rangle, \n",
    "\\end{align}\n",
    "\n",
    "One can rewrite as $T = \\sum_{ia} \\eta_{ai}^\\sigma c_{a\\sigma}^\\dagger c_{j\\sigma}$ and $\\epsilon_j^\\sigma = \\sum_j\\eta_{ij}^\\sigma$."
   ]
  },
  {
   "cell_type": "markdown",
   "metadata": {},
   "source": [
    "Now one can compute the energy with the new perturbed Slater determinant, taking care to normalize at the same time.\n",
    "\n",
    "\\begin{align}\n",
    "\\frac{\\langle \\Phi '| \\hat H| \\Phi ' \\rangle}{\\langle\\Phi'|\\Phi' \\rangle}\n",
    "= \\frac{(1+\\epsilon_j^\\sigma)^2\\langle \\Phi |\\hat H|\\Phi \\rangle +2(1 + \\epsilon_j^\\sigma)\\langle \\Phi | \\hat H \\hat T| \\Phi \\rangle +  \\langle \\Phi|\\hat T ^\\dagger\\hat H \\hat T | \\Phi\\rangle}  \n",
    "{(1+\\epsilon_j^\\sigma)^2 \\langle \\Phi | \\Phi \\rangle + 2(1 + \\epsilon_j^\\sigma)\\langle \\Phi | \\hat T| \\Phi \\rangle +  \\langle \\Phi| \\hat T^\\dagger \\hat T |\\Phi\\rangle }.\n",
    "\\end{align}\n",
    "\n",
    "The higher order terms $\\langle\\Phi |\\hat T^\\dagger \\hat H \\hat T|\\Phi\\rangle$ and $\\langle \\Phi | \\hat T^\\dagger \\hat T | \\phi \\rangle$ go to zero quickly, while $\\langle\\Phi | \\hat T | \\Phi \\rangle = 0$."
   ]
  },
  {
   "cell_type": "markdown",
   "metadata": {},
   "source": [
    "Inserting $\\langle \\Phi | \\hat H | \\Phi \\rangle = E_{UHF}$ and $\\langle \\Phi | \\Phi \\rangle = 1$ yields\n",
    "\n",
    "\\begin{align}\n",
    "\\Leftrightarrow\n",
    "\\frac{E_{UHF}(1 + \\epsilon_j^\\sigma)^2 + 2(1 + \\epsilon_j^\\sigma) \\langle \\Phi | \\hat H \\hat T | \\Phi \\rangle }\n",
    "{(1 + \\epsilon_j^\\sigma)^2}\n",
    "+ \\mathcal{O}(\\epsilon^2)\n",
    "= \\frac{E_{UHF} + 2 (1+\\epsilon_j^\\sigma)^{-1} \\langle \\Phi | \\hat H \\hat T | \\Phi \\rangle}\n",
    "{1} + \\mathcal{O}(\\epsilon^2)\n",
    "\\end{align}"
   ]
  },
  {
   "cell_type": "markdown",
   "metadata": {},
   "source": [
    "Now one can expand $(1 + \\epsilon_j^\\sigma)^{-1}$ to get\n",
    "\\begin{align} \n",
    "E_{UHF}'\n",
    "&=\n",
    "E_{UHF} + 2\\big[ 1 - \\epsilon_j^\\sigma + \\dots \\big] \\langle \\Phi|\\hat H \\hat T| \\Phi \\rangle\n",
    "= E_{UHF} + 2\\langle \\Phi | \\hat H \\hat T |\\Phi \\rangle + \\mathcal{O}(\\epsilon) \\\\\n",
    "&\\approx \n",
    "E_{UHF} + 2 \\langle \\Phi |\\hat H \\hat T | \\Phi\\rangle\n",
    "= \n",
    "E_{UHF} + \\delta E_{UHF}\n",
    "\\end{align}"
   ]
  },
  {
   "cell_type": "markdown",
   "metadata": {},
   "source": [
    "Because $\\hat T$ only includes $\\eta_{ai}^\\sigma$ only virtual particles contributes to the perturbation. Therefore one can conclude that \n",
    "\n",
    "\\begin{align}\n",
    "\\eta_{ij}^\\sigma = (\\varphi_j^\\sigma | \\delta \\varphi_i^\\sigma) = 0,\n",
    "\\end{align}\n",
    "\n",
    "up to first order approximation. Additionally, we have that\n",
    "\n",
    "\\begin{align}\n",
    "\\langle \\Phi | \\hat T^\\dagger \\hat H | \\Phi \\rangle \n",
    "=\n",
    "\\big( \\langle \\Phi | \\hat H \\hat T | \\Phi \\rangle \\big)^\\dagger,\n",
    "\\end{align}\n",
    "\n",
    "meaning that it is sufficient to only vary the bra $|\\Phi_{UHF}\\rangle$. One could vary just the ket as well, but this would have been a more difficult computation."
   ]
  },
  {
   "cell_type": "markdown",
   "metadata": {},
   "source": [
    "#### Energy Perturbation \n",
    "\n",
    "The energy with pertrubation can be calculated by varying the ket in the expectation value expression of the Hamiltonian:\n",
    "\n",
    "\\begin{align} \n",
    "E_{UHF} + \\delta E_{UHF} &= \n",
    "\\langle \\Phi_{UHF} + \\delta \\Phi_{UHF} | \\hat h | \\Phi_{UHF} \\rangle \\\\\n",
    "&= \\sum_{i\\sigma} (\\varphi_i^\\sigma + \\delta \\varphi_i^\\sigma | \\hat h | \\varphi_i^\\sigma ) \n",
    "+ \\frac{1}{2} \\sum_{ij\\sigma\\tau}((\\varphi_i^\\sigma + \\delta\\varphi_i^\\sigma)(\\varphi_j^\\tau + \\delta\\varphi_j^\\tau) | \\hat w | \\varphi_i^\\sigma \\varphi_j^\\tau ) \\\\\n",
    "&- \\frac{1}{2} \\sum_{ij\\sigma} ((\\varphi_i^\\sigma + \\delta\\varphi_i^\\sigma)(\\varphi_j^\\sigma + \\delta\\varphi_i^\\sigma)| \\hat w | \\varphi_j^\\sigma \\varphi_i^\\sigma) \\\\\n",
    "&= \\sum_{i\\sigma} (\\varphi_i^\\sigma + \\delta \\varphi_i^\\sigma | \\hat h | \\varphi_i^\\sigma )\n",
    "+ \\frac{1}{2} \\sum_{ij\\sigma\\tau}(\\varphi_i^\\sigma \\varphi_j^\\tau + \\varphi_i^\\sigma \\delta\\varphi_j^\\tau + \\delta\\varphi_i^\\sigma \\varphi_j^\\tau + \\delta\\varphi_i^\\sigma \\delta\\varphi_j^\\tau | \\hat w | \\varphi_i^\\sigma \\varphi_j^\\tau) \\\\\n",
    "&- \\frac{1}{2} \\sum_{ij\\sigma} (\\varphi_i^\\sigma \\varphi_j^\\sigma + \\varphi_i^\\sigma \\delta\\varphi_j^\\sigma + \\delta\\varphi_i^\\sigma \\varphi_j^\\sigma + \\delta\\varphi_i^\\sigma \\delta\\varphi_j^\\sigma | \\hat w | \\varphi_j^\\sigma \\varphi_i^\\sigma)\n",
    "\\end{align}"
   ]
  },
  {
   "cell_type": "markdown",
   "metadata": {},
   "source": [
    "The terms with a product of two deltas (e.g $\\delta\\varphi_i^\\sigma\\delta\\varphi_j^\\tau$) goes to zero quite quickly and can be ignored. We are only interested in the first order approximation (delta is tiny). This leaves\n",
    "\n",
    "\\begin{align} \n",
    "\\Leftrightarrow& \\sum_{i\\sigma}(\\varphi_i^\\sigma + \\sum_p\\varphi_p^\\sigma\\eta_{pi}^\\sigma | \\hat h | \\varphi_i^\\sigma) \n",
    "+ \\frac{1}{2} \\sum_{ij\\sigma\\tau} ( \\varphi_i^\\sigma\\varphi_i^\\tau + \\varphi_i^\\sigma\\sum_p\\varphi_p^\\tau\\eta_{pj}^\\tau + \\sum_q\\varphi_q^\\sigma\\eta_{qi}^\\sigma\\varphi_j^\\tau | \\hat w | \\varphi_i^\\sigma \\varphi_j^\\tau) \\\\\n",
    "&- \\frac{1}{2}\\sum_{ij\\sigma}(\\varphi_i^\\sigma\\varphi_j^\\sigma + \\varphi_i^\\sigma\\sum_p\\varphi_p^\\sigma\\eta_{pj}^\\sigma + \\sum_q\\varphi_q^\\sigma\\eta_{qi}^\\sigma\\varphi_j^\\sigma | \\hat w | \\varphi_j^\\sigma \\varphi_i^\\sigma) \\\\\n",
    "&= \\sum_{i\\sigma}(\\varphi_i^\\sigma | \\hat h | \\varphi_i^\\sigma)\n",
    "+ \\sum_{i\\sigma p} \\eta_{pi}^\\sigma (\\varphi_p^\\sigma | \\hat h | \\varphi_i^\\sigma) \\\\\n",
    "&+ \\frac{1}{2}\\sum_{ij\\sigma\\tau}(\\varphi_i^\\sigma\\varphi_j^\\tau | \\hat w | \\varphi_i^\\sigma\\varphi_j^\\tau) \n",
    "+ \\frac{1}{2}\\sum_{ij\\sigma\\tau p}\\eta_{pj}^\\tau (\\varphi_i^\\sigma\\varphi_p^\\tau | \\hat w | \\varphi_i^\\sigma\\varphi_j^\\tau) \n",
    "+ \\frac{1}{2}\\sum_{ij\\sigma\\tau q}\\eta_{qi}^\\sigma (\\varphi_q^\\sigma\\varphi_j^\\tau | \\hat w |\\varphi_i^\\sigma \\varphi_j^\\tau) \\\\\n",
    "&- \\frac{1}{2}\\sum_{ij\\sigma}(\\varphi_i^\\sigma\\varphi_j^\\sigma | \\hat w | \\varphi_j^\\sigma \\varphi_i^\\sigma) \n",
    "- \\frac{1}{2} \\sum_{ij\\sigma p} \\eta_{pj}^\\sigma (\\varphi_i^\\sigma\\varphi_p^\\sigma | \\hat w | \\varphi_j^\\sigma\\varphi_i^\\sigma)\n",
    "-\\frac{1}{2}\\sum_{ij\\sigma q}\\eta_{qi}^\\sigma ( \\varphi_q^\\sigma\\varphi_j^\\sigma | \\hat w | \\varphi_j^\\sigma \\varphi_i^\\sigma)\n",
    "\\end{align}"
   ]
  },
  {
   "cell_type": "markdown",
   "metadata": {},
   "source": [
    "Recognize three of the terms as the unperturbed energy and limit $\\eta$ be zero for all instances but one $\\eta_{ak}^\\rho$. The energy perturbation remains as\n",
    "\n",
    "\\begin{align}\n",
    "\\delta E_{UHF}\n",
    "&= (\\varphi_a^\\sigma | \\hat h | \\varphi_i^\\sigma)\n",
    "+ \\frac{1}{2}\\sum_{i\\sigma}(\\varphi_i^\\sigma\\varphi_a^\\rho | \\hat w | \\varphi_i^\\sigma\\varphi_k^\\rho) \n",
    "+ \\frac{1}{2}\\sum_{j\\tau}(\\varphi_a^\\rho\\varphi_j^\\tau | \\hat w | \\varphi_k^\\rho \\varphi_j^\\tau) \\\\\n",
    "&- \\frac{1}{2}\\sum_i (\\varphi_i^\\rho\\varphi_a^\\rho | \\hat w | \\varphi_k^\\rho\\varphi_i^\\rho)\n",
    "- \\frac{1}{2}\\sum_j(\\varphi_a^\\rho\\varphi_j^\\rho | \\hat w | \\varphi_j^\\rho \\varphi_k^\\rho)\n",
    "\\end{align}"
   ]
  },
  {
   "cell_type": "markdown",
   "metadata": {},
   "source": [
    "One can switch the position of two adjacent $\\varphi$ as long as the sign changes. All the needed switches come in pairs, so the signs stay the same,\n",
    "\n",
    "\\begin{align} \n",
    "\\delta E_{UHF}\n",
    "&= (\\varphi_a^\\sigma | \\hat h | \\varphi_i^\\sigma)\n",
    "+ \\frac{1}{2}\\sum_{i\\sigma}(\\varphi_a^\\rho \\varphi_i^\\sigma| \\hat w | \\varphi_k^\\rho \\varphi_i^\\sigma) \n",
    "+ \\frac{1}{2}\\sum_{j\\tau}(\\varphi_a^\\rho \\varphi_j^\\tau| \\hat w | \\varphi_k^\\rho \\varphi_j^\\tau) \\\\\n",
    "&- \\frac{1}{2}\\sum_i (\\varphi_a^\\rho \\varphi_i^\\rho | \\hat w | \\varphi_i^\\rho \\varphi_k^\\rho)\n",
    "- \\frac{1}{2}\\sum_j(\\varphi_a^\\rho\\varphi_j^\\rho | \\hat w | \\varphi_j^\\rho \\varphi_k^\\rho)\n",
    "\\end{align}"
   ]
  },
  {
   "cell_type": "markdown",
   "metadata": {},
   "source": [
    "Changing the name of a few indices within a term, yields an expression for the energy perturbation\n",
    "\n",
    "\\begin{align} \n",
    "\\delta E_{UHF}\n",
    "= (\\varphi_a^\\sigma|\\hat h|\\varphi_i^\\sigma)\n",
    "+ \\sum_{j\\tau}(\\varphi_a^\\sigma\\varphi_j^\\tau|\\hat w|\\varphi_i^\\sigma\\varphi_j^\\tau)\n",
    "- \\sum_j (\\varphi_a^\\sigma\\varphi_j^\\sigma|\\hat w|\\varphi_j^\\sigma\\varphi_i^\\sigma)\n",
    "\\end{align}"
   ]
  },
  {
   "cell_type": "markdown",
   "metadata": {},
   "source": [
    "Unperturbed energy, $\\delta E_{UHF} = 0$ gives\n",
    "\n",
    "\\begin{align}\n",
    "&\\ (\\varphi_a^\\sigma | \\hat h | \\varphi_i^\\sigma) + \\sum_{j\\tau} (\\varphi_q^\\sigma \\varphi_j^\\tau | \\hat w | \\varphi_i^\\sigma \\varphi_j^\\tau) - \\sum_j (\\varphi_a^\\sigma \\varphi_j^\\sigma |\\hat w | \\varphi_j^\\sigma \\varphi_i^\\sigma ) = 0 \\\\\n",
    "\\Leftrightarrow&\\   \n",
    "(\\varphi_a^\\sigma | \\hat h | \\varphi_i^\\sigma) + (\\varphi_a^\\sigma | \\sum_\\tau \\left(\\sum_j(\\cdot \\varphi_j^\\tau | \\hat w | \\cdot \\varphi_j^\\sigma) \\right) | \\varphi_i^\\sigma) \\\\\n",
    "&\\quad - (\\varphi_a^\\sigma| \\left(\\sum_j (\\cdot \\varphi_j^\\sigma | \\hat w | \\varphi_j^\\sigma \\cdot) \\right) | \\varphi_i^\\sigma ) = 0 \\\\\n",
    "\\Leftrightarrow&\\\n",
    "(\\varphi_a^\\sigma | \\left(\\hat h + \\sum_\\tau \\hat v_H^\\tau -\\hat v_{ex}^\\sigma \\right) | \\varphi_i^\\sigma ) = 0 \\\\\n",
    "\\Leftrightarrow&\\ \n",
    "(\\varphi_a^\\sigma | \\hat f^\\sigma | \\varphi_i^\\sigma) = 0,\n",
    "\\end{align}\n",
    "\n",
    "where $\\hat f^\\sigma$ is the Fock operator. In other words, having no perturbation in the energy leaves elements of the Fock matrix unchanged. This is what we want."
   ]
  },
  {
   "cell_type": "markdown",
   "metadata": {},
   "source": [
    "#### Minimizing Energy\n",
    "We want energy to be minimized, but in a physical system it goes without saying that energy cannot me minimied ad infinitum. This calls for the use of Lagrange's method for optimization under constraints."
   ]
  },
  {
   "cell_type": "markdown",
   "metadata": {},
   "source": [
    "Our contraints are\n",
    "\n",
    "\\begin{align}\n",
    "\\langle \\phi_I | \\phi_J \\rangle - \\delta_{IJ} = 0\n",
    "\\end{align}\n",
    "\n",
    "making the Lagrange function becomes\n",
    "\n",
    "\\begin{align}\n",
    "\\mathcal{L}[\\phi_1, \\dots, \\phi_N, \\lambda] = \\langle \\Phi | \\hat H | \\Phi \\rangle - \\sum_{IJ} \\lambda_{IJ} (\\langle \\phi_I | \\phi_J \\rangle - \\delta_{IJ})\n",
    "\\end{align}"
   ]
  },
  {
   "cell_type": "markdown",
   "metadata": {},
   "source": [
    "The method dictates to find the derivate of $\\mathcal{L}$ and set it equal to zero in order to find an optimum. Since we do not have an expression which is easily differentiable, we employ the variational principle instead, employing the variation $\\delta\\varphi_i^\\sigma$ and vary only the bra, as before."
   ]
  },
  {
   "cell_type": "markdown",
   "metadata": {},
   "source": [
    "\\begin{align}\n",
    "\\mathcal{L} + \\delta \\mathcal{L} &= \n",
    "\\langle \\phi + \\delta\\Phi | \\hat H | \\Phi \\rangle - \\sum_{ij\\sigma} \\lambda_{ji}^\\sigma \\left( (\\varphi_i^\\sigma + \\delta\\varphi_i^\\sigma | \\varphi_i^\\sigma) - \\delta_{ij}\\right) \\\\\n",
    "&= E - \\sum_{ij\\sigma} \\lambda_{ji}^\\sigma \\left((\\varphi_i^\\sigma | \\varphi_j^\\sigma) - \\delta_{ij} \\right) + \\delta E - \\sum_{ij\\sigma} \\lambda_{ji}^\\sigma ( \\delta\\varphi_i^\\sigma | \\varphi_j^\\sigma )\n",
    "\\end{align}"
   ]
  },
  {
   "cell_type": "markdown",
   "metadata": {},
   "source": [
    "Making the excellent choice of an orthogonal basis, where $(\\varphi_i^\\sigma | \\varphi_j^\\sigma) = \\delta_{ij}$, allows us to focus on the perturbed parts,\n",
    "\n",
    "\\begin{align}\n",
    "\\delta E - \\sum_{ij\\sigma}\\lambda_{ji}^\\sigma ( \\delta\\varphi_i^\\sigma | \\varphi_j^\\sigma ) = 0 \\\\\n",
    "\\Leftrightarrow\n",
    "\\sum_{ip\\sigma}\\eta_{pi}^\\sigma (\\varphi_p^\\sigma | \\hat f^\\sigma | \\varphi_i^\\sigma ) - \\sum_{ijp\\sigma}\\lambda_{ji}^\\sigma \\eta_{pi}^\\sigma ( \\varphi_p^\\sigma | \\varphi_j^\\sigma ) = 0.\n",
    "\\end{align}\n",
    "\n",
    "Once more, as before, we can limit $\\eta$ to be zero for all instances but one, $\\eta_{ai}^\\sigma$. What remains is\n",
    "\n",
    "\\begin{align}\n",
    "(\\varphi_a^\\sigma | \\hat f^\\sigma | \\varphi_i^\\sigma) - \\sum_j \\lambda_{ji}^\\sigma ( \\varphi_a^\\sigma | \\sigma_j^\\sigma ) = 0 \\\\\n",
    "\\Leftrightarrow\n",
    "\\hat f^\\sigma | \\varphi_i^\\sigma) = \\sum_j \\lambda_{ji}^\\sigma | \\varphi_j^\\sigma) \\\\\n",
    "\\Leftrightarrow\n",
    "\\hat f^\\sigma \\varphi_i^\\sigma (r) = \\sum_j \\lambda_{ji}^\\sigma \\varphi_j^\\sigma (r).\n",
    "\\end{align}"
   ]
  },
  {
   "cell_type": "markdown",
   "metadata": {},
   "source": [
    "### Roothan Hall Equations\n",
    "We can replace the non-canonical equations with the canonical equations which are of eigenvalue form\n",
    "\n",
    "\\begin{align} \n",
    "\\hat f^\\sigma \\varphi_i^\\sigma = \\epsilon_i^\\sigma \\varphi_i^\\sigma.\n",
    "\\end{align}\n",
    "\n",
    "This is in fact two coupled eigenvalue problems, one for each spin $\\sigma$. \n",
    "\n",
    "For numerical treatment the orbitals are expanded in </i>atomic orbital basis functions</i> $\\phi_p$, $p=1,2,\\dots, K$,\n",
    "\n",
    "\\begin{align} \n",
    "\\varphi_q^\\sigma = \\sum_p \\psi_p U_{pq}^\\sigma, \n",
    "\\end{align}\n",
    "\n",
    "often called molecular orbitals.\n",
    "\n",
    "The basis is the same in each spin direction, and the atomic orbitals are not necessarily orthonormal, the general non-diagonal overlap matrix is given by\n",
    "\n",
    "\\begin{align}\n",
    "S_{pq} = (\\psi_p|\\psi_q).\n",
    "\\end{align}\n",
    "\n",
    "When the basis functions are linearly independent, $S$ is invertible. $S$ is symmetric and positive definite.\n",
    "\n",
    "The <i>atomic integrals</i> are defined thusly\n",
    "\n",
    "\\begin{align}\n",
    "h_{qp} = (\\psi_q | \\hat h | \\psi_p), \\quad (pr | qs) = (\\psi_p \\psi_q | \\hat w | \\psi_r \\psi_s),\n",
    "\\end{align}\n",
    "\n",
    "note the index placement in the two-electron integral.\n",
    "\n",
    "Lastly, the <i>density matrices</i> are given by\n",
    "\n",
    "\\begin{align}\n",
    "D_{rs}^\\sigma = \\sum_j U_{rj}^\\sigma (U_{sj}^\\sigma)^* = U_{occ}^\\sigma (U_{occ}^\\sigma)^H,\n",
    "\\end{align}\n",
    "\n",
    "where $U_{occ}^\\sigma$ is the $K \\times N_\\sigma$ submatrix of $U^\\sigma$ formed by the first $N_\\sigma$ columns."
   ]
  },
  {
   "cell_type": "markdown",
   "metadata": {
    "collapsed": true
   },
   "source": [
    "#### Projection onto Atomic Orbitals\n",
    "The Roothan-Hall equations are obtained by projecting the UHF equations onto the atomic orbital basis. The one-body operator becomes\n",
    "\\begin{align}\n",
    "(\\psi_p | \\hat h | \\varphi_i^\\sigma) \n",
    "= (\\psi_p | \\hat p | \\sum_q \\psi_q U_{qi}^\\sigma) \n",
    "= \\sum_q (\\psi_p |\\hat h| \\psi_q) U_{qi}^\\sigma \n",
    "= \\sum_q h_{pq} U_{qi}^\\sigma. \n",
    "\\end{align}"
   ]
  },
  {
   "cell_type": "markdown",
   "metadata": {},
   "source": [
    "The Hartree potential becomes\n",
    "\\begin{align}\n",
    "(\\psi_p | \\hat v_H^\\tau | \\varphi_i^\\sigma ) \n",
    "&= \\sum_j ( \\psi_p \\varphi_j^\\tau | \\hat w | \\varphi_i^\\sigma \\varphi_j^\\tau)\n",
    "= \\sum_j (\\psi_p \\sum_r \\psi_r U_{rj}^\\tau | \\hat w | \\sum_q \\psi_q U_{qi}^\\sigma \\sum_s \\psi_s U_{sj}^\\tau ) \\\\\n",
    "&= \\sum_{rsq} \\big((\\psi_p \\psi_r | \\hat w | \\psi_q \\psi_s ) \\sum_j U_{sj}^\\tau (U_{rj}^\\tau)^* U_{qi}^\\sigma \\big)\n",
    "= \\sum_q \\big(\\sum_{rs} (p q | r s) D_{rs}^\\sigma \\big) U_{qi}^\\sigma.\n",
    "\\end{align}"
   ]
  },
  {
   "cell_type": "markdown",
   "metadata": {},
   "source": [
    "The exchange potential\n",
    "\\begin{align}\n",
    "(\\psi_p | \\hat v_{ex}^\\sigma | \\varphi_i^\\sigma)\n",
    "&= \\sum_j (\\psi_p \\varphi_j^\\sigma | \\hat w | \\varphi_j^\\sigma \\varphi_i^\\sigma)\n",
    "= \\sum_j (\\psi_p \\sum_r \\psi_r U_{rj}^\\sigma | \\hat w | \\sum_s \\psi_s U_{sj}^\\sigma \\sum_q \\psi_q U_{qi}^\\sigma) \\\\\n",
    "&= \\sum_{rsq} \\big((\\psi_p \\psi_r | \\hat w | \\psi_s \\psi_q ) \\sum_j U_{sj}^\\sigma (u_{rj}^\\sigma)^* U_{qi}^\\sigma \\big)\n",
    "= \\sum_q \\big( \\sum_{rs} (p s | r q) D_{rs}^\\sigma \\big) U_{qi}^\\sigma.\n",
    "\\end{align}"
   ]
  },
  {
   "cell_type": "markdown",
   "metadata": {},
   "source": [
    "The inner product between atomic orbitals and molecular orbitals is\n",
    "\\begin{align}\n",
    "(\\psi_p | \\varphi_i^\\sigma) = (\\psi_p | \\sum_q \\psi_q U_{qi}^\\sigma) \n",
    "=  \\sum_q (\\psi_p| \\psi_q) U_{qi}^\\sigma = \\sum_q S_{pq} U_{qi}^\\sigma.\n",
    "\\end{align}"
   ]
  },
  {
   "cell_type": "markdown",
   "metadata": {},
   "source": [
    "#### Matrix Equation"
   ]
  },
  {
   "cell_type": "markdown",
   "metadata": {},
   "source": [
    "The Roothan equations on non-canonical form is\n",
    "\n",
    "\\begin{align}\n",
    "\\hat f^\\sigma \\varphi_i^\\sigma = \\epsilon_i^\\sigma\\varphi_i^\\sigma.\n",
    "\\end{align}\n",
    "\n",
    "The Roothan equations can be written on matrix form, this can be shown by projection onto atomic orbital basis. The left-hand side yields\n",
    "\n",
    "\\begin{align}\n",
    "(\\psi_p | \\hat v_H^\\tau | \\varphi_i^\\sigma )\n",
    "&=\n",
    "( \\phi_p | \\left(\\hat h + \\sum_\\tau \\hat v_H^\\tau - \\hat v_{ex}^\\sigma \\right) | \\varphi_i^\\sigma ) \\\\\n",
    "&= \n",
    "\\sum_q h_{pq}U_{qi}^\\sigma\n",
    "+ \\sum_{q\\tau} \\left(\\sum_{rs}(pq|rs)D_{sr}^\\tau \\right) U_{qi}^\\sigma\n",
    "- \\sum_q \\left(\\sum_{rs}(ps|rq) D_{sr}^\\sigma\\right)U_{qi}^\\sigma \\\\\n",
    "&= \n",
    "\\sum_q \\left(h_{pq} + \\sum_{rs}(pq|rs)\\left[D_{sr}^\\uparrow + D_{sr}^\\downarrow \\right] - \\sum_{rs} (ps|rq) D_{sr}^\\sigma\\right)U_{qi}^\\sigma \\\\\n",
    "&=\n",
    "\\sum_{q}\\left( h_{pq} + J(D^\\uparrow + D^\\downarrow)_{pq} - K(D^\\sigma)_{pq} \\right)U_{qi}^\\sigma \\\\\n",
    "&=\n",
    "\\sum_q (\\psi_p |\\hat f^\\sigma | \\psi_q )U_{qi}^\\sigma = \\sum_q F_{pq}^\\sigma U_{qi}^\\sigma\n",
    "\\end{align}"
   ]
  },
  {
   "cell_type": "markdown",
   "metadata": {},
   "source": [
    "This is a projection of elements of the Fock matrix as defined by\n",
    "\\begin{align}\n",
    "F^\\sigma = h + J(D^\\uparrow + D^\\downarrow) - K(D^\\sigma),\n",
    "\\end{align}\n",
    "where \n",
    "\\begin{align} \n",
    "J(D)_{pq} = \\sum_{rs}(pq|rs)D_{sr} \\quad \n",
    "   K(D)_{pq} = \\sum_{rs}(ps|rq)D_{sr}. \n",
    "\\end{align}"
   ]
  },
  {
   "cell_type": "markdown",
   "metadata": {},
   "source": [
    "Likewise, the projection of the right-hand side gives\n",
    "\n",
    "\\begin{align}\n",
    "\\epsilon_i^\\sigma(\\psi_p|\\varphi_i^\\sigma) = \\epsilon_i^\\sigma \\sum_q S_{pq}U_{qi}^\\sigma.\n",
    "\\end{align}"
   ]
  },
  {
   "cell_type": "markdown",
   "metadata": {},
   "source": [
    "This leads to the matrix equation\n",
    "\n",
    "\\begin{align}\n",
    "F^\\sigma (D^\\uparrow, D^\\downarrow) U^\\sigma = SU^\\sigma \\epsilon^\\sigma, \\quad \\epsilon^\\sigma = \\text{diag}(\\epsilon_1^\\sigma, \\dots, \\epsilon_k^\\sigma)\n",
    "\\end{align}\n",
    "\n",
    "which turns the problem at hand into an eigenvalue problem, easily represented numerically."
   ]
  },
  {
   "cell_type": "markdown",
   "metadata": {},
   "source": [
    "### Restricted Hartree-Fock"
   ]
  },
  {
   "cell_type": "markdown",
   "metadata": {},
   "source": [
    "The RHF formulas are still value if we introduce restrictions $U = U^\\uparrow + U^\\downarrow$ and $N = N^\\uparrow + N^\\downarrow$. This further implies that $D/2 = D^\\uparrow = D^\\downarrow$ and $F = F^\\uparrow = F^\\downarrow$. In other words, the restricted Hartree-Fock (RHF) is simply as special case of UHF. One need only insert the constraints into the UHF Roothan-Hall equations to see so."
   ]
  },
  {
   "cell_type": "markdown",
   "metadata": {},
   "source": [
    "\\begin{align}\n",
    "F^\\sigma(D^\\uparrow, D^\\downarrow)U^\\sigma &= SU^\\sigma \\epsilon^\\sigma \\\\\n",
    "\\left( h + J(D^\\uparrow + D^\\downarrow) - K(D^\\sigma) \\right)U^\\sigma &= SU^\\sigma\\epsilon^\\sigma \\\\\n",
    "\\left( h + J(D) - K(D/2) \\right)U &= SU\\epsilon \\\\\n",
    "F(D)U &= SU\\epsilon\n",
    "\\end{align}"
   ]
  },
  {
   "cell_type": "markdown",
   "metadata": {},
   "source": [
    "Where the Fock operator reads\n",
    "\n",
    "\\begin{align}\n",
    "F = h + J(D) - \\frac{1}{2}K(D).\n",
    "\\end{align}"
   ]
  },
  {
   "cell_type": "markdown",
   "metadata": {},
   "source": [
    "## Implementation"
   ]
  },
  {
   "cell_type": "markdown",
   "metadata": {},
   "source": [
    "The following is a simple implementation of how to find the lowest energy state (hopefulle the ground state) of a many-body system through self-consistent field (SCF) iterations. The main idea is to iterate over the Roothan-Hall equations until convergence,\n",
    "\n",
    "\\begin{align} \n",
    "F^\\sigma(D^\\uparrow_k, D^\\downarrow_k) U^\\sigma_{k + 1} \n",
    "    = SU^\\sigma_{k + 1} \\epsilon^\\sigma_{k + 1}.\n",
    "\\end{align}\n",
    "\n",
    "We will use `NumPy` and `SciPy` for arrays and linear algebra, and `Psi4` to define a molecule and extract integrals. First the computation will be done for the water molecule, $H_2O$."
   ]
  },
  {
   "cell_type": "code",
   "execution_count": 2,
   "metadata": {
    "collapsed": true
   },
   "outputs": [],
   "source": [
    "# Necessary imports\n",
    "import numpy as np\n",
    "import scipy.linalg\n",
    "import psi4\n",
    "from call_psi4 import call_psi4"
   ]
  },
  {
   "cell_type": "code",
   "execution_count": 3,
   "metadata": {
    "collapsed": true
   },
   "outputs": [],
   "source": [
    "# Defining molecule: water\n",
    "r_h2o = 1.84    # Bond distance\n",
    "theta_h2o = 104 # Bond angle\n",
    "\n",
    "h2o = \"\"\"\n",
    "        O\n",
    "        H 1 {0}\n",
    "        H 1 {0} 2 {1}\n",
    "        symmetry c1\n",
    "        units bohr\n",
    "    \"\"\" .format(r_h2o, theta_h2o)"
   ]
  },
  {
   "cell_type": "markdown",
   "metadata": {},
   "source": [
    "Now that all the preliminary settings are done, we can begin to use `Psi4` as a tool to extract integrals that will be helpful."
   ]
  },
  {
   "cell_type": "code",
   "execution_count": 4,
   "metadata": {},
   "outputs": [
    {
     "name": "stdout",
     "output_type": "stream",
     "text": [
      "Number of occupied ups:    5\n",
      "Number of occupied downs:  5\n",
      "Total orbitals:            24\n"
     ]
    }
   ],
   "source": [
    "# Call to Psi4\n",
    "E_UHF_psi4, E_nuc, H, W, S, num_orbitals, num_occ_ups, num_occ_downs \\\n",
    "    = call_psi4(h2o, {'reference' : 'uhf'})\n",
    "\n",
    "print(\"Number of occupied ups:   \", num_occ_ups)\n",
    "print(\"Number of occupied downs: \", num_occ_downs)\n",
    "print(\"Total orbitals:           \", num_orbitals)"
   ]
  },
  {
   "cell_type": "markdown",
   "metadata": {},
   "source": [
    "We can see that the number of occupied states are ten in total. This makes sense as the atomic numbers for the atoms in the water molecule adds up to ten, i.e. they should have ten electrons combined in a charge-neutral state. Now we need only a few functions to get started."
   ]
  },
  {
   "cell_type": "markdown",
   "metadata": {},
   "source": [
    "The density matrix of the system is defined as \n",
    "\n",
    "\\begin{align}\n",
    "D_rs^\\sigma = U_{occ}^\\sigma(U_{occ}^\\sigma)^H,\n",
    "\\end{align}\n",
    "\n",
    "and the Fock matrix is defined as \n",
    "\n",
    "\\begin{align}\n",
    "F^\\sigma = h + J(D^\\uparrow + D^\\downarrow) - K(D^\\sigma),\n",
    "\\end{align}\n",
    "\n",
    "where \n",
    "\n",
    "\\begin{align}\n",
    "J(D)_{pq} = \\sum_{rs}(pq|rs) D_{rs} \\quad \\text{and} \\quad K(D)_{pq} = \\sum_{rs}(ps|rq)D_{sr}.\n",
    "\\end{align}\n",
    "\n",
    "Since there are two spin states (up and down), we are in fact diagonalizing <i>two</i> matrices, $F^\\uparrow$ and $F^\\downarrow$, for each iteration. "
   ]
  },
  {
   "cell_type": "code",
   "execution_count": 5,
   "metadata": {
    "collapsed": true
   },
   "outputs": [],
   "source": [
    "def generate_density_matrix(U_init, num_occ, noise=False):\n",
    "    \n",
    "    U = np.matrix(U_init[:, 0:num_occ])\n",
    "    D = np.dot(U, np.conjugate(U).T)\n",
    "    \n",
    "    # Hermitian noise.\n",
    "    if noise:\n",
    "        X = np.random.rand(*D.shape)\n",
    "        X = X + X.T\n",
    "        D += 0.001 * X\n",
    "    \n",
    "    return D"
   ]
  },
  {
   "cell_type": "markdown",
   "metadata": {},
   "source": [
    "The density matrix generation function has the option to add some \"Hermitian noise\". This ensures that one will not be trapped in a RHF state-type state. If the initial guess for $U^\\uparrow$ and $U^\\downarrow$ are identical, each iteration will also have identical parts."
   ]
  },
  {
   "cell_type": "code",
   "execution_count": 6,
   "metadata": {
    "collapsed": true
   },
   "outputs": [],
   "source": [
    "def generate_fock_matrices(H, W, D_up, D_down):\n",
    "    \n",
    "    J      = np.einsum('pqrs, sr->pq', W, D_up + D_down)\n",
    "    K_up   = np.einsum('psrq, sr->pq', W, D_up)\n",
    "    K_down = np.einsum('psrq, sr->pq', W, D_down)\n",
    "    F_up   = H + J - K_up\n",
    "    F_down = H + J - K_down\n",
    "    \n",
    "    return F_up, F_down"
   ]
  },
  {
   "cell_type": "markdown",
   "metadata": {},
   "source": [
    "This function makes use of `np.einsum()`, which is `NumPy`'s Einstein summation function. This very useful functions vectorizes a summations, resulting in an incredible speed-up over the more naïve iterative method."
   ]
  },
  {
   "cell_type": "markdown",
   "metadata": {},
   "source": [
    "### Unrestricted Hartree-Fock SCF Iterations"
   ]
  },
  {
   "cell_type": "code",
   "execution_count": 7,
   "metadata": {
    "collapsed": true
   },
   "outputs": [],
   "source": [
    "def uhf_scf(H, W, S, num_occ_ups, num_occ_downs,\n",
    "            tol=1e-7, info=True, theta=0):\n",
    "    \n",
    "    # Initial guess\n",
    "    E_up_prev,   U_up   = scipy.linalg.eigh(H, S)\n",
    "    E_down_prev, U_down = scipy.linalg.eigh(H, S)\n",
    "\n",
    "    # Generating density matrices (w/ Hermitian noise)\n",
    "    D_up   = generate_density_matrix(U_up,   num_occ_ups,   noise=True)\n",
    "    D_down = generate_density_matrix(U_down, num_occ_downs, noise=True)\n",
    "\n",
    "    # Generating Fock matrices\n",
    "    F_up, F_down = generate_fock_matrices(H, W, D_up, D_down)\n",
    "\n",
    "    # First solution\n",
    "    E_up,   U_up   = scipy.linalg.eigh(F_up,   S)\n",
    "    E_down, U_down = scipy.linalg.eigh(F_down, S)\n",
    "\n",
    "    # Counter for iterations\n",
    "    i = 0\n",
    "\n",
    "    # SCF Iterations\n",
    "    while (np.max(abs(E_up_prev - E_up)) > tol \\\n",
    "           and np.max(abs(E_down_prev - E_down)) > tol):\n",
    "    \n",
    "        # Storing previous energies for next iteration\n",
    "        E_up_prev   = E_up\n",
    "        E_down_prev = E_down\n",
    "    \n",
    "        # Generating new density matrices (w/o Hermitian noise)\n",
    "        D_up   = (1 - theta) \\\n",
    "            * generate_density_matrix(U_up,   num_occ_ups) \\\n",
    "            + theta * D_up\n",
    "        D_down = (1 - theta) \\\n",
    "            * generate_density_matrix(U_down, num_occ_downs) \\\n",
    "            + theta * D_down\n",
    "    \n",
    "        # Generating new Fock matrices\n",
    "        F_up, F_down = generate_fock_matrices(H, W, D_up, D_down)\n",
    "    \n",
    "        # New solution\n",
    "        E_up,   U_up   = scipy.linalg.eigh(F_up,   S)\n",
    "        E_down, U_down = scipy.linalg.eigh(F_down, S)\n",
    "    \n",
    "        i += 1\n",
    "    \n",
    "    if info:\n",
    "        print(\"UHF SCF iterations.\")\n",
    "        print(\"Convergence reached after\", i, \"iterations.\")\n",
    "        print(\"Up state energies: \\n\", E_up[0:num_occ_ups])\n",
    "        print(\"Down state energies: \\n\", E_down[0:num_occ_downs])\n",
    "        print(\"\\n\")\n",
    "    \n",
    "    return F_up, F_down, D_up, D_down"
   ]
  },
  {
   "cell_type": "markdown",
   "metadata": {},
   "source": [
    "Now what remains is to compute the energy. The Fock operator corresponding to the Fock matrix is given by\n",
    "\n",
    "\\begin{align} \n",
    "\\hat f^\\sigma = \\hat h + \\sum_\\tau \\hat v_H^\\tau - \\hat v_{ex}^\\sigma\n",
    "  \\rightarrow \\hat h = \\hat f - \\sum_\\tau \\hat v_H^\\tau + \\hat v_{ex}^\\sigma,\n",
    "\\end{align}\n",
    "  \n",
    "where \n",
    "\n",
    "\\begin{align} \n",
    "\\hat v_H^\\tau = \\sum_j(\\cdot \\varphi_j^\\tau | \\hat w | \\cdot \\varphi_j^\\tau), \\quad \n",
    "   \\hat v_{ex}^\\sigma = \\sum_j(\\cdot \\varphi_j^\\sigma | \\hat w | \\varphi_j^\\sigma \\cdot )\n",
    "\\end{align}\n",
    "\n",
    "The UHF energy is\n",
    "\n",
    "\\begin{align}\n",
    "E_{UHF} = \\sum_{i\\sigma}(\\varphi_i^\\sigma | \\hat h | \\varphi_i^\\sigma ) + E_H - E_{ex},\n",
    "\\end{align}\n",
    "\n",
    "where\n",
    "\n",
    "\\begin{align}\n",
    "E_H = \\frac{1}{2} \\sum_{ij\\sigma\\tau} (\\varphi_i^\\sigma \\varphi_j^\\tau| \\hat w | \\varphi_i^\\sigma \\varphi_j^\\tau), \\quad\n",
    "E_{ex} = \\frac{1}{2} \\sum_{ij\\sigma} (\\varphi_i^\\sigma \\varphi_j^\\sigma |\\hat w |\\varphi_j^\\sigma \\varphi_i^\\sigma).\n",
    "\\end{align}"
   ]
  },
  {
   "cell_type": "markdown",
   "metadata": {},
   "source": [
    "Inserting the expression for $\\hat h$, $\\hat v_H^\\tau$ and $\\hat v_{ex}^\\sigma$ into the first term of the UHF energy gives us\n",
    "\n",
    "\\begin{align}\n",
    "&\\sum_{i\\sigma} (\\varphi_i^\\sigma |\\hat f^\\sigma |\\varphi_i^\\sigma)\n",
    " - \\sum_{i\\sigma\\tau}(\\varphi_i^\\sigma | v_H^\\tau|\\varphi_i^\\sigma)\n",
    " + \\sum_{i\\sigma}(\\varphi_i^\\sigma | v_{ex}^\\sigma | \\varphi_i^\\sigma )\\\\\n",
    " &=\n",
    " \\sum_{i\\sigma pq} (\\psi_p| \\hat f^\\sigma | \\psi_q)\n",
    " U_{qi}^\\sigma (U_{pi}^\\sigma)^\\dagger\n",
    " -\\sum_{ij\\sigma\\tau}\\sum_{pqrs}(\\psi_p \\psi_r | \\hat w | \\psi_q \\psi_s)\n",
    " (U_{pi}^\\sigma)^\\dagger (U_{rj}^\\tau)^\\dagger U_{qi}^\\sigma U_{sj}^\\tau \\\\\n",
    " &\\quad+\\sum_{ij\\sigma}\\sum_{pqrs}(\\psi_p\\psi_r |\\hat w | \\psi_s \\psi_q)\n",
    " (U_{pq}^\\sigma)^\\dagger (U_{rj}^\\sigma)^\\dagger U_{sj}^\\sigma U_{qi}^\\sigma \\\\\n",
    " &=\n",
    " \\sum_{pq\\sigma}(\\psi_p | \\hat f^\\sigma | \\psi_q) D_{qp}^\\sigma\n",
    " -\\sum_{\\sigma\\tau}\\sum_{pqrs}(pq|rs)D_{qp}^\\sigma D_{sr}^\\tau\n",
    " +\\sum_{\\sigma}\\sum_{pqrs}(ps|rq)D_{qp}^\\sigma D_{sr}^\\sigma \\\\\n",
    " &=\n",
    " \\sum_{pq\\sigma}(\\psi_p | \\hat f^\\sigma | \\psi_q) D_{qp}^\\sigma - 2E_H + 2E_{ex}\n",
    "\\end{align}"
   ]
  },
  {
   "cell_type": "markdown",
   "metadata": {},
   "source": [
    "The full expression for the energy becomes\n",
    "\n",
    "\\begin{align}\n",
    "E_{UHF} &= \\sum_{pq\\sigma}(\\psi_p | \\hat f^\\sigma | \\psi_q) D_{qp}^\\sigma\n",
    "        - \\frac{1}{2}\\sum_{\\sigma\\tau}\\sum_{pqrs}(pq|rs)D_{qp}^\\sigma D_{sr}^\\tau\n",
    "        + \\frac{1}{2}\\sum_{\\sigma}\\sum_{pqrs}(ps|rq)D_{qp}^\\sigma D_{sr}^\\sigma \\\\\n",
    "        &=\n",
    "        \\sum_{\\sigma}\\sum_{pq} F_{pq}^\\sigma D_{qp}^\\sigma\n",
    "        - \\frac{1}{2}\\sum_{\\sigma}\\sum_{pq}J(D^\\uparrow + D^\\downarrow)_{pq}D_{qp}^\\sigma\n",
    "        + \\frac{1}{2}\\sum_{\\sigma}\\sum_{pq}K(D^\\sigma)_{pq}D_{qp}^\\sigma.\n",
    "\\end{align}\n",
    "\n",
    "We now see the point of solving the Hartree-Fock energy eigenvalue problem in the first place, and are now able to compute the energy"
   ]
  },
  {
   "cell_type": "code",
   "execution_count": 8,
   "metadata": {
    "collapsed": true
   },
   "outputs": [],
   "source": [
    "# Function to compute energy\n",
    "def compute_energy(F_up, F_down, W, D_up, D_down):\n",
    "\n",
    "    J      = np.einsum('prqs, sq->pr', W, D_up + D_down)\n",
    "    K_up   = np.einsum('psrq, sr->pq', W, D_up)\n",
    "    K_down = np.einsum('psrq, sr->pq', W, D_down) \n",
    "\n",
    "    # \"Fock\" energy\n",
    "    energy =        np.einsum('pq,qp->', F_up, D_up) \\\n",
    "                  + np.einsum('pq,qp->', F_down, D_down)\n",
    "    \n",
    "    # Hartree energy\n",
    "    energy -= 0.5 * (np.einsum('pq,qp->', J, D_up) \\\n",
    "                   + np.einsum('pq,qp->', J, D_down))\n",
    "    \n",
    "    # Exchange energy\n",
    "    energy += 0.5 * (np.einsum('pq,qp->', K_up, D_up) \\\n",
    "                   + np.einsum('pq,qp->', K_down, D_down))\n",
    "                     \n",
    "    return energy"
   ]
  },
  {
   "cell_type": "code",
   "execution_count": 9,
   "metadata": {},
   "outputs": [
    {
     "name": "stdout",
     "output_type": "stream",
     "text": [
      "UHF SCF iterations.\n",
      "Convergence reached after 38 iterations.\n",
      "Up state energies: \n",
      " [-20.55359646  -1.32890907  -0.689642    -0.56457925  -0.49219899]\n",
      "Down state energies: \n",
      " [-20.55359646  -1.32890907  -0.689642    -0.56457925  -0.49219899]\n",
      "\n",
      "\n",
      "Energy from Psi4 (the answer):  -76.02551761074363\n",
      "Energy from this algorithm:     -76.0255176108\n"
     ]
    }
   ],
   "source": [
    "# Call to Psi4\n",
    "E_UHF_psi4, E_nuc, H, W, S, num_orbitals, num_occ_ups, num_occ_downs \\\n",
    "    = call_psi4(h2o, {'reference' : 'uhf'})\n",
    "\n",
    "# Generating Fock matrices and density matrices\n",
    "F_up, F_down, D_up, D_down = uhf_scf(H, W, S, num_occ_ups, num_occ_downs)\n",
    "\n",
    "# Computing Energy\n",
    "uhf_energy  = compute_energy(F_up, F_down, W, D_up, D_down)\n",
    "uhf_energy += E_nuc\n",
    "\n",
    "# Printing\n",
    "print(\"Energy from Psi4 (the answer): \", E_UHF_psi4)\n",
    "print(\"Energy from this algorithm:    \", uhf_energy)"
   ]
  },
  {
   "cell_type": "markdown",
   "metadata": {},
   "source": [
    "We can see that the algorithm gives the same answer as Psi4 up to ten decimal places!"
   ]
  },
  {
   "cell_type": "markdown",
   "metadata": {},
   "source": [
    "### Restricted Hartree-Fock\n",
    "In the restricted Hartree-Fock scheme we set $D^\\uparrow = D^\\downarrow$. We therefore build a density matrix for <i>all</i> occupied states. we also need a new Fock matrix generator to accomodate these changes."
   ]
  },
  {
   "cell_type": "markdown",
   "metadata": {},
   "source": [
    "Now we would have been all set to build the Fock matrix, but since the original UHF matrix generator takes two density matrices as input argument, we need to make a new function."
   ]
  },
  {
   "cell_type": "code",
   "execution_count": 10,
   "metadata": {
    "collapsed": true
   },
   "outputs": [],
   "source": [
    "# RHF Fock matrix generator\n",
    "def generate_rhf_fock_matrix(H, W, D):\n",
    "    \n",
    "    J = np.einsum('pqrs, sr->pq', W, D)\n",
    "    K = np.einsum('psrq, sr->pq', W, D)\n",
    "    \n",
    "    return H + J - 0.5 * K"
   ]
  },
  {
   "cell_type": "markdown",
   "metadata": {},
   "source": [
    "Then we need also need a special function for the SCF iteration."
   ]
  },
  {
   "cell_type": "code",
   "execution_count": 11,
   "metadata": {
    "collapsed": true
   },
   "outputs": [],
   "source": [
    "def rhf_scf(H, W, S, num_occ_states, tol=1e-7, info=True, theta=0):\n",
    "    \n",
    "    # Initial guess\n",
    "    E_prev, U = scipy.linalg.eigh(H, S)\n",
    "\n",
    "    # Generating density matrix, the same in both spin directions\n",
    "    # One requirement is that num_occ_ups = num_occ_downs\n",
    "    D = 2 * generate_density_matrix(U, num_occ_ups, False)\n",
    "\n",
    "    # Generating RHF Fock matrix\n",
    "    F = generate_rhf_fock_matrix(H, W, D)\n",
    "\n",
    "    # First iteration energy\n",
    "    E, U = scipy.linalg.eigh(F, S)\n",
    "\n",
    "    # Iteration counter\n",
    "    i = 0\n",
    "\n",
    "    # SCF iterations\n",
    "    while np.max(abs(E_prev - E)) > tol:\n",
    "    \n",
    "        # Storing previous energy for next iteration\n",
    "        E_prev = E\n",
    "    \n",
    "        # Generating new density matrix with convex recombination\n",
    "        D = (1 - theta) \\\n",
    "            * 2 * generate_density_matrix(U, num_occ_states, False) \\\n",
    "            + theta * D\n",
    "    \n",
    "        # Generating new Fock matrix\n",
    "        F = generate_rhf_fock_matrix(H, W, D)\n",
    "    \n",
    "        # Solving eigenvalue problem\n",
    "        E, U = scipy.linalg.eigh(F, S)\n",
    "    \n",
    "        # Incrementing iteration counter\n",
    "        i += 1\n",
    "    \n",
    "    if info:\n",
    "        print(\"RHF SCF iterations\")\n",
    "        print(\"Convergence reached after \", i, \" iterations.\")\n",
    "        print(\"Doubly occupied states energies: \\n\", E[0:num_occ_states], \"\\n\")\n",
    "    \n",
    "    return F, D"
   ]
  },
  {
   "cell_type": "markdown",
   "metadata": {},
   "source": [
    "What remains is to compute the energy, which can be done with the same function as for the UHF scheme. One only needs to bear in mind that for RHF $F^\\uparrow = F^\\downarrow$ and $D_{RHF} = D^\\uparrow + D^\\downarrow$."
   ]
  },
  {
   "cell_type": "code",
   "execution_count": 12,
   "metadata": {},
   "outputs": [
    {
     "name": "stdout",
     "output_type": "stream",
     "text": [
      "RHF SCF iterations\n",
      "Convergence reached after  38  iterations.\n",
      "Doubly occupied states energies: \n",
      " [-20.55359646  -1.32890907  -0.689642    -0.56457925  -0.49219899] \n",
      "\n",
      "RHF energy:      -76.0255176108\n",
      "UHF energy:      -76.0255176108\n",
      "Psi4 RHF energy: -76.02551761074407\n"
     ]
    }
   ],
   "source": [
    "# Call to Psi4\n",
    "E_RHF_psi4, E_nuc, H, W, S, num_orbitals, num_occ_ups, num_occ_downs \\\n",
    "    = call_psi4(h2o, {'reference' : 'rhf'})\n",
    "\n",
    "# Generating Fock matrix and density matrix\n",
    "F, D = rhf_scf(H, W, S, num_occ_ups)\n",
    "\n",
    "# Computing energy\n",
    "rhf_energy  = compute_energy(F, F, W, 0.5 * D, 0.5 * D)\n",
    "rhf_energy += E_nuc\n",
    "\n",
    "# Printing\n",
    "print(\"RHF energy:     \", rhf_energy)\n",
    "print(\"UHF energy:     \", uhf_energy)\n",
    "print(\"Psi4 RHF energy:\", E_RHF_psi4)"
   ]
  },
  {
   "cell_type": "markdown",
   "metadata": {},
   "source": [
    "We can see that the RHF and UHF schemes give the same result for the ground state energy of the water molecule, with the given parameters."
   ]
  },
  {
   "cell_type": "markdown",
   "metadata": {},
   "source": [
    "### The Hydrogen Molecule\n",
    "A case more interesting than the $H_2O$ molecule when comparing RHF and UHF is the $H_2$ molecule. The bond distance of the molecule is set quite high on purpose."
   ]
  },
  {
   "cell_type": "code",
   "execution_count": 13,
   "metadata": {
    "collapsed": true
   },
   "outputs": [],
   "source": [
    "# Defining Hydrogen molecule\n",
    "r_h2 = 5.0 # Bond distance\n",
    "\n",
    "h2 = \"\"\"\n",
    "    0 1\n",
    "    H\n",
    "    H 1 {0}\n",
    "    symmetry c1\n",
    "    units bohr\n",
    "    \"\"\" .format(r_h2)"
   ]
  },
  {
   "cell_type": "code",
   "execution_count": 14,
   "metadata": {},
   "outputs": [
    {
     "name": "stdout",
     "output_type": "stream",
     "text": [
      "UHF SCF iterations.\n",
      "Convergence reached after 24 iterations.\n",
      "Up state energies: \n",
      " [-0.49914086]\n",
      "Down state energies: \n",
      " [-0.49914086]\n",
      "\n",
      "\n",
      "RHF SCF iterations\n",
      "Convergence reached after  11  iterations.\n",
      "Doubly occupied states energies: \n",
      " [-0.34086983] \n",
      "\n",
      "UHF energy:      -0.999058914089\n",
      "RHF energy:      -0.852424365607\n",
      "UHF Psi4 energy: -0.9990589140884636\n",
      "RHF Psi4 energy: -0.8524243656064912\n"
     ]
    }
   ],
   "source": [
    "## UHF\n",
    "# Calling Psi4 with specified H2 molecule\n",
    "E_psi4_uhf_h2, E_nuc, H, W, S, num_orbs, n_occ_up, n_occ_dn \\\n",
    "= call_psi4(h2, {'reference' : 'uhf'})\n",
    "\n",
    "# UHF energy\n",
    "F_up, F_down, D_up, D_down =\\\n",
    "    uhf_scf(H, W, S, n_occ_up, n_occ_dn, theta = 0.001)\n",
    "E_uhf_h2  = compute_energy(F_up, F_down, W, D_up, D_down)\n",
    "E_uhf_h2 += E_nuc\n",
    "\n",
    "## RHF\n",
    "# Calling Psi4 with specified H2 molecule\n",
    "E_psi4_rhf_h2, E_nuc, H, W, S, num_orbs, n_occ_up, n_occ_dn \\\n",
    "= call_psi4(h2, {'reference' : 'rhf'})\n",
    "\n",
    "# RHF energy\n",
    "F, D = rhf_scf(H, W, S, n_occ_up, theta=0.001)\n",
    "E_rhf_h2  = compute_energy(F, F, W, 0.5 * D, 0.5 * D)\n",
    "E_rhf_h2 += E_nuc\n",
    "\n",
    "# Printing energies\n",
    "print(\"UHF energy:     \", E_uhf_h2)\n",
    "print(\"RHF energy:     \", E_rhf_h2)\n",
    "print(\"UHF Psi4 energy:\", E_psi4_uhf_h2)\n",
    "print(\"RHF Psi4 energy:\", E_psi4_rhf_h2)"
   ]
  },
  {
   "cell_type": "markdown",
   "metadata": {},
   "source": [
    "Observe that we get different energies from the two methods. Psi4 and our own SCF schemes seems to be in agreement."
   ]
  },
  {
   "cell_type": "markdown",
   "metadata": {},
   "source": [
    "### Dissociation of $H_2$\n",
    "This last piece is a study of how the two methods diverges for the Hydrogen molecule. This is a nice illustration of what is called the <i>symmetry dilemma</i> in Hartree-Fock theory. We would want a solution with as low energy as possible and as high symmetry as possible, but we cannot always get both."
   ]
  },
  {
   "cell_type": "code",
   "execution_count": 19,
   "metadata": {},
   "outputs": [],
   "source": [
    "# Setting number of points for analysis\n",
    "N = 100\n",
    "\n",
    "# Atomic spacing array\n",
    "r_h2 = np.linspace(0.7, 8.0, N)\n",
    "\n",
    "# Making arrays for storage of energy results\n",
    "uhf_energies = np.zeros(N)\n",
    "rhf_energies = np.zeros(N)\n",
    "psi4_uhf_energies = np.zeros(N)\n",
    "psi4_rhf_energies = np.zeros(N)\n",
    "\n",
    "# Iterating over all points\n",
    "for i in range(N):\n",
    "    \n",
    "    # Instead of calling the call_psi4() function for each iteration,\n",
    "    # everything is done. It goes faster, because one won't need\n",
    "    # to compute the energy every time.\n",
    "    \n",
    "    # Molecule parameter definition\n",
    "    h2 = \"\"\"\n",
    "    0 1\n",
    "    H\n",
    "    H 1 {}\n",
    "    symmetry c1\n",
    "    units bohr\n",
    "    \"\"\" .format(r_h2[i])\n",
    "    \n",
    "    # Molecule geometry class instance\n",
    "    molecule = psi4.geometry(h2)\n",
    "\n",
    "    # Wavefunction object\n",
    "    wavefunction = psi4.core.Wavefunction.build(molecule, 'cc-pVDZ') \n",
    "\n",
    "    # Mints helper for integrals\n",
    "    mints = psi4.core.MintsHelper(wavefunction.basisset())\n",
    "\n",
    "    # Hamiltonian\n",
    "    T = np.asarray(mints.ao_kinetic())\n",
    "    V = np.asarray(mints.ao_potential())\n",
    "    H = T + V\n",
    "    \n",
    "    # Electronic repulsion integral\n",
    "    W = np.asarray(mints.ao_eri())\n",
    "    \n",
    "    # Overlap integral\n",
    "    S = np.asarray(mints.ao_overlap())\n",
    "    \n",
    "    # Number of orbitals\n",
    "    num_orbitals  = wavefunction.nso()    \n",
    "    num_occ_ups   = wavefunction.nalpha() \n",
    "    num_occ_downs = wavefunction.nbeta()\n",
    "    \n",
    "    # Nuclear repulsion energy\n",
    "    E_nuc = molecule.nuclear_repulsion_energy()\n",
    "    \n",
    "    ## UHF\n",
    "    # Generating Fock matrices and density matrices\n",
    "    F_up, F_down, D_up, D_down = uhf_scf(H, W, S, num_occ_ups, num_occ_downs,\n",
    "                                         info=False, theta=0.001)\n",
    "    \n",
    "    # Computing energies\n",
    "    uhf_energy = compute_energy(F_up, F_down, W, D_up, D_down)\n",
    "    uhf_energy += E_nuc\n",
    "    uhf_energies[i] = uhf_energy\n",
    "    \n",
    "    # #RHF\n",
    "    # Generating Fock matrix and density matrix\n",
    "    F, D = rhf_scf(H, W, S, num_occ_ups, info=False, theta=0.001)\n",
    "    \n",
    "    # Computing energies\n",
    "    rhf_energy  = compute_energy(F, F, W, 0.5 * D, 0.5 * D)\n",
    "    rhf_energy += E_nuc\n",
    "    rhf_energies[i] = rhf_energy"
   ]
  },
  {
   "cell_type": "code",
   "execution_count": 20,
   "metadata": {},
   "outputs": [
    {
     "data": {
      "image/png": "[encoded data removed]",
      "text/plain": [
       "<matplotlib.figure.Figure at 0x121b15c50>"
      ]
     },
     "metadata": {},
     "output_type": "display_data"
    }
   ],
   "source": [
    "# Plotting\n",
    "from matplotlib import pyplot as plt\n",
    "plt.figure()\n",
    "plt.plot(r_h2, uhf_energies, '-b', label=\"UHF\")\n",
    "plt.plot(r_h2, rhf_energies, '-r', label=\"RHF\")\n",
    "plt.legend()\n",
    "plt.title(\"Dissociation of $H_2$\")\n",
    "plt.xlabel(\"Atomic spacing\")\n",
    "plt.ylabel(\"Energy\")\n",
    "plt.show()"
   ]
  },
  {
   "cell_type": "markdown",
   "metadata": {},
   "source": [
    "In the plot above we see that at some critical atomic spacing $R_c$ the UHF and RHF energies diverges. The lowest energy is given by UHF, but RHF has an enforced symmetry, $\\varphi_i^\\uparrow = \\varphi_i^\\downarrow$. The lowest energy state, as provided by both UHF and RHF, is $E_{min} \\approx -1.12 E_h$. The exact ground state energy of the $H$ atom i $E_0 = -0.5 E_h$, meaning that two atoms would bond together in order to acchieve a lower energy state. Notice that the UHF energy converges towards $E_\\infty = -1.0$ which is the sum of energy for two ground state $H$ atoms."
   ]
  },
  {
   "cell_type": "markdown",
   "metadata": {},
   "source": [
    "Now for the interesting bit. Notice that the RHF energy does converge towards an asymptote as $R\\to\\infty$, but that the energy is clearly higher than that of two $H$ atoms. Why is this?"
   ]
  },
  {
   "cell_type": "markdown",
   "metadata": {},
   "source": [
    "At infinite distance, two hydrogen atoms will not feel their mutual presence. In the absence of a magnetic field it will not matter whether the spins of the electrons are parallel or antiparalell, so it is reasonable to assume that one would have en ensemble of roughly equal amounts of triplets (paralell spins, $S=1$) and singlets (antiparallel spins, $S=0$), since $E_{\\uparrow\\uparrow} = E_{\\uparrow\\downarrow}$."
   ]
  },
  {
   "cell_type": "markdown",
   "metadata": {},
   "source": [
    "When two atoms are brought closer together the situation changes as many things start to happen. There will be dipolar interaction between the magnetic moments of the atoms as well as spin-orbit coupling. Both these effects are very weak, but the exchange energy will play a dominant role. For the hydrogen molecule the exchange energy is negative so the state when the resultant spin is $S=0$ har lower energy than the $S=1$ state. The result is that the total energy of two atoms with paralell spins will rise! "
   ]
  },
  {
   "cell_type": "markdown",
   "metadata": {},
   "source": [
    "Recall that in the RHF scheme spin states are ignored, as a result the RHF energy can be though of as the energy curve for a molecule with paralell electron spins. As the energy is higher for the combined molecule that the two atoms separatele, one can conclude that two hydrogen atoms with paralell spins will not bond together when approaching one another from afar, but rather keep their distance."
   ]
  }
 ],
 "metadata": {
  "kernelspec": {
   "display_name": "Python 3",
   "language": "python",
   "name": "python3"
  },
  "language_info": {
   "codemirror_mode": {
    "name": "ipython",
    "version": 3
   },
   "file_extension": ".py",
   "mimetype": "text/x-python",
   "name": "python",
   "nbconvert_exporter": "python",
   "pygments_lexer": "ipython3",
   "version": "3.6.1"
  }
 },
 "nbformat": 4,
 "nbformat_minor": 2
}
