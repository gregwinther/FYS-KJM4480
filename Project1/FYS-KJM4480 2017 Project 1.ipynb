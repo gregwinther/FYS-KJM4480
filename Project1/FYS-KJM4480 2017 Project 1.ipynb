{
 "cells": [
  {
   "cell_type": "markdown",
   "metadata": {},
   "source": [
    "# The Hartree-Fock Method"
   ]
  },
  {
   "cell_type": "markdown",
   "metadata": {},
   "source": [
    "## Theory"
   ]
  },
  {
   "cell_type": "markdown",
   "metadata": {},
   "source": [
    "The Hamiltonian can be split into an analytically solvable term and a perturbation term,\n",
    "\n",
    "$$ \\hat H = \\hat H_0 + \\hat W. $$\n",
    "\n",
    "$\\hat H_0 = \\sum_i \\hat h_i$ i almost alway a one-body operator, and $\\hat W$ can be seen as an inter-electron Coulomb force term.\n",
    "\n",
    "Moreover, any operator can be written as\n",
    "$$ \\hat O = \\sum_{ij}o_{ij} |i\\rangle \\langle j| = \\sum_{ij} o_{ij}c_i^\\dagger c_j, $$\n",
    "where $o_{ij} = \\langle i|\\hat O| j\\rangle$ are the matrix elements."
   ]
  },
  {
   "cell_type": "markdown",
   "metadata": {},
   "source": [
    "The expected value for the single particle Hamiltonian becomes\n",
    "$$ \\langle \\Phi |\\hat H_0 |\\Phi \\rangle\n",
    "  =\\langle \\Phi |\\sum_{pq} h_{pq} |p\\rangle \\langle q | \\Phi \\rangle \n",
    "  =\\langle \\Phi |\\sum_{pq} h_{pq} c_p^\\dagger c_q | \\Phi \\rangle\n",
    "  =\\sum_{pq} h_{pq}\\langle \\Phi | c_p^\\dagger c_q |\\Phi \\rangle. $$"
   ]
  },
  {
   "cell_type": "markdown",
   "metadata": {},
   "source": [
    "### Energy Expression\n",
    "#### General Energy Expression\n",
    "A Slater determinant is denoted by $|\\phi \\rangle = |\\phi_1 \\phi_2 \\dots \\phi_N \\rangle$, where $\\{\\phi_i\\}$, $i\\in \\{1, \\dots, N \\}$ is a basis consisting of single-particle functions. The energy of the expression on second-quantized form is\n",
    "\n",
    "\\begin{align}\n",
    "\\langle \\Phi | \\hat{H} | \\Phi \\rangle \n",
    "&=\n",
    "   \\langle \\Phi | \\hat{H}_0 | \\Phi \\rangle\n",
    "+  \\langle \\Phi | \\hat{W} | \\Phi \\rangle \\\\\n",
    "&=\n",
    "   \\langle \\Phi | \\sum_{pq} h_{pq} c_p^\\dagger c_q^\\dagger | \\Phi \\rangle \n",
    "+  \\langle \\Phi | \\frac{1}{2} \\sum_{pqrs} w_{pqrs} c_p^\\dagger c_q^\\dagger c_s c_r | \\Phi \\rangle\n",
    "\\end{align}\n",
    "\n",
    "Where $h_{pq} = \\langle \\phi_p | \\hat h | \\rangle$ and $w_{pqrs} = \\langle \\phi_p \\phi_q | \\hat w | \\phi_r \\phi_s \\rangle$ are the matrix elements."
   ]
  },
  {
   "cell_type": "markdown",
   "metadata": {},
   "source": [
    "If $\\alpha$ and $\\beta$ denotes virtual states and $I$ and $J$ denotes occupied states, we have that,\n",
    "\n",
    "\\begin{align}\n",
    "\\langle \\Phi | \\hat{H}_0 | \\Phi \\rangle\n",
    "&=\n",
    "  \\sum_{IJ}h_{IJ} \\langle \\Phi | c_I^\\dagger c_J | \\Phi \\rangle\n",
    "+ \\sum_{\\alpha J} h_{\\alpha J} \\langle \\Phi | c_\\alpha^\\dagger c_J | \\Phi \\rangle \\\\\n",
    "&+ \\sum_{I \\beta} h_{I \\beta} \\langle \\Phi | c_I^\\dagger c_\\beta | \\Phi \\rangle\n",
    "+ \\sum_{\\alpha \\beta} h_{\\alpha \\beta} \\langle \\Phi | c_\\alpha^\\dagger c_\\beta | \\Phi \\rangle.\n",
    "\\end{align}"
   ]
  },
  {
   "cell_type": "markdown",
   "metadata": {},
   "source": [
    "Since $\\phi_\\alpha, \\phi_\\beta \\not\\in \\{\\phi_I\\}, \\{\\phi_J\\}$ and $\\phi_\\beta | \\Phi \\rangle = 0$, the last two terms must be zero. This leaves us with\n",
    "\n",
    "\\begin{align}\n",
    "\\langle \\Phi | \\hat{H}_0 | \\Phi \\rangle\n",
    "&=\n",
    "  \\sum_{IJ}h_{IJ} \\langle \\Phi | c_I^\\dagger c_J | \\Phi \\rangle\n",
    "+ \\sum_{\\alpha J} h_{\\alpha J} \\langle \\Phi | c_\\alpha^\\dagger c_J | \\Phi \\rangle \\\\\n",
    "&=\n",
    "  \\sum_{IJ}h_{IJ} \\delta_{IJ} \\langle \\Phi | \\Phi\\rangle\n",
    "+ \\sum_{\\alpha J} h_{\\alpha J} \\delta_{\\alpha J} \\langle \\Phi | \\Phi \\rangle \\\\\n",
    "&=\n",
    "  \\sum_{I} h_{II} = \\sum_{I} \\langle \\phi_I|\\hat h|\\phi_I \\rangle,\n",
    "\\end{align}\n",
    "\n",
    "as $\\delta_{\\alpha J} = 0$."
   ]
  },
  {
   "cell_type": "markdown",
   "metadata": {},
   "source": [
    "The same kind of computation for the $\\hat W$ term yields\n",
    "\n",
    "\\begin{align}\n",
    "\\langle \\Phi | \\hat W | \\Phi \\rangle\n",
    "&=\n",
    "  \\frac{1}{2} \\sum_{pqIJ} w_{pqIJ} \\langle \\Phi | c_p^\\dagger c_q^\\dagger c_J c_I | \\Phi \\rangle\n",
    "+ \\frac{1}{2} \\sum_{pq\\alpha J} w_{pq\\alpha J} \\langle \\Phi | c_p^\\dagger c_q^\\dagger c_J c_\\alpha | \\Phi \\rangle \\\\\n",
    "&+ \\frac{1}{2} \\sum_{pqI\\beta} w_{pqI\\beta} \\langle \\Phi | c_p^\\dagger c_q^\\dagger c_\\beta c_I | \\Phi \\rangle\n",
    "+ \\frac{1}{2} \\sum_{pq\\alpha\\beta} w_{pq\\alpha\\beta} \\langle \\Phi | c_p^\\dagger c_q^\\dagger c_\\beta c_\\alpha | \\Phi \\rangle \\\\\n",
    "&=\n",
    "  \\frac{1}{2} \\sum_{KLIJ} w_{KLIJ} \\langle \\Phi |c_K^\\dagger c_L^\\dagger c_J c_I | \\Phi \\rangle\n",
    "+ \\frac{1}{2} \\sum_{\\gamma LIJ} w_{\\gamma LIJ} \\langle \\Phi |c_\\gamma^\\dagger c_L^\\dagger c_J c_I | \\Phi \\rangle \\\\ \n",
    "&+ \\frac{1}{2} \\sum_{K \\delta IJ} w_{K \\delta IJ} \\langle \\Phi |c_K^\\dagger c_\\delta^\\dagger c_J c_I | \\Phi \\rangle\n",
    "+ \\frac{1}{2} \\sum_{\\gamma \\delta IJ} w_{\\gamma \\delta IJ} \\langle \\Phi |c_\\gamma^\\dagger c_\\delta^\\dagger c_J c_I | \\Phi \\rangle \\\\\n",
    "&- \\frac{1}{2} \\sum_{pqI\\beta} w_{pqI\\beta} \\langle \\Phi |c_p^\\dagger c_q^\\dagger c_I c_\\beta | \\Phi \\rangle \\\\\n",
    "\\end{align}"
   ]
  },
  {
   "cell_type": "markdown",
   "metadata": {},
   "source": [
    "Using anti-commutator relations,\n",
    "\n",
    "\\begin{align}\n",
    "\\langle \\Phi | \\hat W | \\Phi \\rangle\n",
    "&=\n",
    "\\frac{1}{2} \\sum_{KLIJ} w_{KLIJ} \\langle \\Phi |c_K^\\dagger (\\delta_{JL} - c_J c_L^\\dagger) c_I | \\Phi \\rangle\n",
    "+ \\frac{1}{2} \\sum_{\\gamma LIJ} w_{\\gamma LIJ} \\langle \\Phi |c_\\gamma^\\dagger c_L^\\dagger c_J c_I | \\Phi \\rangle \\\\ \n",
    "&+ \\frac{1}{2} \\sum_{K\\delta IJ} w_{\\delta KIJ} \\langle \\Phi |c_\\delta^\\dagger c_K^\\dagger c_J c_I | \\Phi \\rangle\n",
    "+ \\frac{1}{2} \\sum_{\\gamma \\delta IJ} w_{\\gamma \\delta IJ} \\langle \\Phi |c_\\gamma^\\dagger(\\delta_{J\\delta} - c_J c_\\delta^\\dagger) c_I | \\Phi \\rangle,\n",
    "\\end{align}\n",
    "\n",
    "where $\\delta_{J\\delta} = 0$."
   ]
  },
  {
   "cell_type": "markdown",
   "metadata": {},
   "source": [
    "Now we can switch index from $\\delta$ to $\\gamma$ in the thrid term. We get,\n",
    "\n",
    "\\begin{align}\n",
    "\\langle \\Phi |\\hat W | \\Phi \\rangle\n",
    "&=\n",
    "  \\frac{1}{2} \\sum_{KIJ} w_{KJIJ} \\langle \\Phi | c_K^\\dagger c_I| \\Phi \\rangle\n",
    "- \\frac{1}{2} \\sum_{KLIJ} w_{KLIJ} \\langle \\Phi | c_K^\\dagger c_J c_L^\\dagger c_I | \\Phi \\rangle \\\\\n",
    "&+ \\sum_{\\gamma LIJ} w_{\\gamma LIJ} \\langle \\Phi |c_\\gamma^\\dagger c_L^\\dagger c_J c_I | \\Phi \\rangle\n",
    "- \\frac{1}{2} \\sum_{\\gamma \\delta IJ} w_{\\gamma \\delta IJ} \\langle \\Phi |c_\\gamma^\\dagger c_J c_\\delta^\\dagger c_I| \\Phi \\rangle.\n",
    "\\end{align}\n",
    "\n",
    "The last term is zero, because we get an overlap of a doubly excited state and an ordinary Slater determinant."
   ]
  },
  {
   "cell_type": "markdown",
   "metadata": {},
   "source": [
    "Now we have,\n",
    "\n",
    "\\begin{align}\n",
    "\\langle \\Phi |\\hat W | \\Phi \\rangle\n",
    "&=\n",
    "  \\frac{1}{2} \\sum_{KIJ} w_{KJIJ} \\delta_{KI} \\langle \\Phi | \\Phi \\rangle\n",
    "- \\frac{1}{2} \\sum_{KLIJ} w_{KLIJ} \\langle \\Phi |c_K^\\dagger c_J (\\delta_{IL} - c_I c_L^\\dagger) | \\Phi \\rangle \\\\\n",
    "&+ \\sum_{\\gamma LIJ} w_{\\gamma LIJ} \\langle \\Phi |c_\\gamma^\\dagger (\\delta_{JL} - c_J c_L^\\dagger) c_I | \\Phi \\rangle.\n",
    "\\end{align}"
   ]
  },
  {
   "cell_type": "markdown",
   "metadata": {},
   "source": [
    "Because $\\phi_I \\not\\in \\{\\phi_L \\}$, then $c_I c_L^\\dagger |\\Phi\\rangle = 0$, yielding\n",
    "\n",
    "\\begin{align}\n",
    "\\langle \\Phi |\\hat W | \\Phi \\rangle\n",
    "&=\n",
    "  \\frac{1}{2} \\sum_{IJ} w_{IJIJ} \n",
    "- \\frac{1}{2} \\sum_{KIJ} w_{KIIJ} \\delta_{KJ} \\langle \\Phi | \\Phi\n",
    "\\rangle\n",
    "+ \\sum_{\\gamma IJ} w_{\\gamma JIJ} \\langle \\Phi |c_\\gamma^\\dagger c_I | \\Phi \\rangle \\\\\n",
    "&- \\sum_{\\gamma LIJ} w_{\\gamma LIJ} \\langle \\Phi |c_\\gamma^\\dagger c_J (\\delta_{IL} - c_I c_L^\\dagger) | \\Phi \\rangle \\\\\n",
    "&=\n",
    " \\frac{1}{2} \\sum_{ij} (w_{IJIJ} - w_{JIIJ}) \n",
    "+ \\sum_{\\gamma IJ} w_{\\gamma IIJ} \\langle \\Phi | c_\\gamma^\\dagger c_J | \\Phi \\rangle \\\\\n",
    "&=\n",
    " \\frac{1}{2} \\sum_{IJ} \\langle \\phi_I \\phi_J | \\hat w | \\phi_I \\phi_J - \\phi_J \\phi_I \\rangle\n",
    "\\end{align}"
   ]
  },
  {
   "cell_type": "markdown",
   "metadata": {},
   "source": [
    "Putting it all together, we get\n",
    "\n",
    "\\begin{align}\n",
    "\\langle \\Phi | \\hat H | \\Phi \\rangle \n",
    "&=\n",
    "  \\langle \\Phi | \\hat H_0 | \\Phi \\rangle\n",
    "+ \\langle \\Phi | \\hat W   | \\Phi \\rangle \\\\\n",
    "&=\n",
    "  \\sum_{I} \\langle \\phi_I | \\hat h | \\phi_I \\rangle\n",
    "+ \\frac{1}{2} \\sum_{IJ} \\langle \\phi_I \\phi_J | \\hat w | \\phi_I \\phi_J - \\phi_J \\phi_I \\rangle\n",
    "\\end{align}"
   ]
  },
  {
   "cell_type": "markdown",
   "metadata": {},
   "source": [
    "#### Unrestricted Hartree-Fock Energy\n",
    "In unrestricted Hartree-Fock (UHF) we have $N_\\uparrow$ and $N_\\downarrow$ of spin up and spin down electrons, respectively. the spin up electrons have orbitals $\\varphi_i^\\uparrow(r)$, while the spin down electrons have $\\varphi_i^\\downarrow(r)$. The UHF Slater determinant is thus given by\n",
    "\n",
    "$$ |\\Phi_{UHG}\\rangle = | \\phi_{1\\uparrow} \\dots \\phi_{N_\\uparrow\\uparrow} \\phi_{1\\downarrow} \\dots \\phi_{N_\\downarrow\\downarrow} \\rangle. $$\n",
    "\n",
    "Moreover, a single particle function can be separated into an orbital and a spin-component,\n",
    "\n",
    "$$ \\phi_P = \\phi_{p\\sigma}(x) = \\varphi_p^\\sigma(r)\\chi_\\sigma(s), $$\n",
    "\n",
    "where $x = (r,s)$ and $P=(p,\\sigma)$. $r$ is the position of a given particle and $s$ is the particle's spin, while $p$ is the orbital quantum number and $\\sigma$ is the spin quantum number. The orbital function $\\varphi_p^\\sigma$ defines spatial orbital of a particle, dependent on orbital and spin quantum numbers."
   ]
  },
  {
   "cell_type": "markdown",
   "metadata": {},
   "source": [
    "The Hamiltonian is independent of spins, and it will therefore be useful, in this project, to introduce a new matrix element involving only spatial components. These will be denoted with round brackets,\n",
    "\n",
    "\\begin{align}\n",
    "\\langle \\phi_{p\\sigma}| \\hat h | \\phi_{q\\tau}\\rangle \n",
    "&= \\delta_{\\sigma\\tau} ( \\varphi_p^\\sigma | \\hat h | \\varphi_q^\\tau) \\\\\n",
    "\\langle \\phi_{p\\sigma}\\phi_{q\\tau} | \\hat w | \\phi_{r\\chi} \\phi_{s\\omega} \\rangle\n",
    "&= \\delta_{\\sigma\\chi} \\delta_{\\tau\\omega} (\\varphi_p^\\sigma \\varphi_q^\\tau | \\hat w | \\varphi_r^\\chi \\varphi_s^\\omega)\n",
    "\\end{align}"
   ]
  },
  {
   "cell_type": "markdown",
   "metadata": {},
   "source": [
    "The UHF energy is\n",
    "\n",
    "$$ E_{UHF} = \\langle \\Phi_{UHF} | \\hat H | \\Phi_{UHF} \\rangle\n",
    "= \\langle \\Phi_{UHF} | \\hat H_0 | \\Phi_{UHF} \\rangle\n",
    "+ \\langle \\Phi_{UHF} | \\hat W | \\Phi_{UHF} \\rangle. $$"
   ]
  },
  {
   "cell_type": "markdown",
   "metadata": {},
   "source": [
    "Starting with the one-body Hamiltonian,\n",
    "\n",
    "$$\n",
    "\\langle \\Phi_{UHF} | \\hat H_0 | \\Phi_{UHF} \\rangle\n",
    "=\n",
    "\\sum_{i\\sigma}\\langle \\phi_{i\\sigma}| \\hat h | \\phi_{i\\sigma}\\rangle\n",
    "= \n",
    "\\sum_{i\\sigma}\\delta_{\\sigma\\sigma} ( \\varphi_i^\\sigma | \\hat h | \\varphi_i^\\sigma)\n",
    "=\n",
    "\\sum_{i\\sigma} ( \\varphi_i^\\sigma | \\hat h | \\varphi_i^\\sigma).\n",
    "$$"
   ]
  },
  {
   "cell_type": "markdown",
   "metadata": {},
   "source": [
    "\\begin{align}\n",
    "\\langle \\Phi_{UHF} | \\hat W | \\Phi_{UHF} \\rangle\n",
    "&= \n",
    " \\frac{1}{2}\\sum_{ij\\sigma\\tau} ( \\langle \\phi_{i\\sigma}\\phi_{j\\tau} | \\hat w | \\phi_{i\\sigma} \\phi_{j\\tau} \\rangle \n",
    "- \\langle \\phi_{i\\sigma} \\phi_{j\\tau}| \\hat w| \\phi_{j\\tau} \\phi_{i\\sigma} \\rangle ) \\\\\n",
    "&= \\frac{1}{2}\\sum_{ij\\sigma\\tau} \\left(\n",
    "\\delta_{\\sigma\\sigma}\\delta_{\\tau\\tau}(\\varphi_i^\\sigma \\varphi_j^\\tau| \\hat w|\\varphi_i^\\sigma \\varphi_j^\\tau ) - \\delta_{\\sigma\\tau} \\delta_{\\tau\\sigma}(\\varphi_i^\\sigma \\varphi_j^\\tau | \\hat w| \\varphi_j^\\tau \\varphi_i^\\sigma)\n",
    "\\right) \\\\\n",
    " &= \\frac{1}{2} \\sum_{ij\\sigma\\tau} (\\varphi_i^\\sigma \\varphi_j^\\tau| \\hat w|\\varphi_i^\\sigma \\varphi_j^\\tau )\n",
    " - \\frac{1}{2} \\sum_{ij\\sigma} (\\varphi_i^\\sigma \\varphi_j^\\sigma | \\hat w| \\varphi_j^\\sigma \\varphi_i^\\sigma)\n",
    "\\end{align}"
   ]
  },
  {
   "cell_type": "markdown",
   "metadata": {},
   "source": [
    "All in all, the unrestricted Hartree-Fock energy is,\n",
    "\n",
    "$$ E_{UHF} = \\sum_{i\\sigma} ( \\varphi_i^\\sigma | \\hat{h} | \\varphi_i^\\sigma) + E_H - E_{ex}$$\n",
    "with the <i> Hartree energy </i> (or direct energy) \n",
    "$$ E_H = \\frac{1}{2} \\sum_{ij\\sigma\\tau}(\\varphi_i^\\sigma\\varphi_j^\\tau | \\hat w | \\varphi_i^\\sigma \\varphi_j^\\tau) $$\n",
    "and the <i> exchange energy </i> \n",
    "$$ E_{ex} = \\frac{1}{2} \\sum_{ij\\sigma} (\\varphi_i^\\sigma\\varphi_j^\\sigma | \\hat w | \\varphi_j^\\sigma \\varphi_i^\\sigma ). $$"
   ]
  },
  {
   "cell_type": "markdown",
   "metadata": {},
   "source": [
    "### Unrestricted Hartree-Fock Equations"
   ]
  },
  {
   "cell_type": "markdown",
   "metadata": {},
   "source": [
    "#### Validity of the Principle of Variations\n",
    "Some single-particle function in the Slater determinant can be varied by a linear combination of all occupied single particle basis functions\n",
    "$$ |\\Phi\\rangle \\rightarrow |\\Phi '\\rangle\n",
    "=  |\\varphi_{i\\sigma} \\dots (\\varphi_{j\\sigma} + \\sum_i \\delta\\varphi_{i\\sigma}) \\dots \\varphi_{N\\sigma}\\rangle $$"
   ]
  },
  {
   "cell_type": "markdown",
   "metadata": {},
   "source": [
    "Any determinant can be split, leaving two separate Slater determinants\n",
    "$$ | \\Phi \\rangle  + \\sum_i | \\varphi_{1\\sigma} \\dots \\delta\\phi_{i\\sigma} \\dots \\phi_{N\\sigma} \\rangle \n",
    "= | \\Phi \\rangle  + \\sum_{ip} \\eta_{pi}^\\sigma | \\varphi_{1\\sigma} \\dots \\varphi_{p\\sigma} \\dots \\varphi_{N\\sigma}\\rangle. $$"
   ]
  },
  {
   "cell_type": "markdown",
   "metadata": {},
   "source": [
    "Then the last term can be split into occupied and unoccupied states\n",
    "$$ |\\Phi' \\rangle = | \\Phi \\rangle + \\sum_i \\big(\\eta_{ji}^\\sigma | \\varphi_{1\\sigma} \\dots \\varphi_{j\\sigma} \\dots \\varphi_{N\\sigma} \\rangle + \\sum_a \\eta_{ai}^\\sigma |\\varphi_{1\\sigma}^\\sigma \\dots \\varphi_{a\\sigma} \\dots \\varphi_{N\\sigma} \\rangle \\big) $$"
   ]
  },
  {
   "cell_type": "markdown",
   "metadata": {},
   "source": [
    "Shortening and writing with second quantization creation and annihilation operators this becomes\n",
    "\n",
    "$$\n",
    "|\\Phi ' \\rangle = | \\Phi \\rangle + \\sum_i \\eta_{ji}^\\sigma |\\Phi \\rangle + \\sum_{ia} \\eta_{ai}^\\sigma c_{a\\sigma}^\\dagger c_{j\\sigma} |\\Phi\\rangle\n",
    "= (1 + \\sum_i\\eta_{ji}^\\sigma)|\\Phi\\rangle + \\sum_{ia}\\eta_{ai}^\\sigma c_{a\\sigma}^\\dagger c_{j\\sigma} |\\Phi\\rangle, \n",
    "$$\n",
    "\n",
    "One can rewrite as $T = \\sum_{ia} \\eta_{ai}^\\sigma c_{a\\sigma}^\\dagger c_{j\\sigma}$ and $\\epsilon_j^\\sigma = \\sum_j\\eta_{ij}^\\sigma$."
   ]
  },
  {
   "cell_type": "markdown",
   "metadata": {},
   "source": [
    "Now one can compute the energy with the new perturbed Slater determinant, taking care to normalizer at the same time.\n",
    "\n",
    "$$ \n",
    "\\frac{\\langle \\Phi '| \\hat H| \\Phi ' \\rangle}{\\langle\\Phi'|\\Phi' \\rangle}\n",
    "= \\frac{(1+\\epsilon_j^\\sigma)^2\\langle \\Phi |\\hat H|\\Phi \\rangle +2(1 + \\epsilon_j^\\sigma)\\langle \\Phi | \\hat H \\hat T| \\Phi \\rangle +  \\langle \\Phi|\\hat T ^\\dagger\\hat H \\hat T | \\Phi\\rangle}  \n",
    "{(1+\\epsilon_j^\\sigma)^2 \\langle \\Phi | \\Phi \\rangle + 2(1 + \\epsilon_j^\\sigma)\\langle \\Phi | \\hat T| \\Phi \\rangle +  \\langle \\Phi| \\hat T^\\dagger \\hat T |\\Phi\\rangle }.\n",
    "$$\n",
    "\n",
    "The higher order terms $ \\langle \\Phi | \\hat T^\\dagger \\hat H \\hat T  \\rangle$ and $\\langle \\Phi | \\hat T^\\dagger \\hat T | \\phi \\rangle$ go to zero quickly, while $ \\langle \\Phi | \\hat T | \\Phi \\rangle = 0$."
   ]
  },
  {
   "cell_type": "markdown",
   "metadata": {},
   "source": [
    "Inserting $\\langle \\Phi | \\hat H | \\Phi \\rangle = E_{UHF}$ and $\\langle \\Phi | \\Phi \\rangle = 1$ yields\n",
    "\n",
    "$$ \\Leftrightarrow\n",
    "\\frac{E_{HF}(1 + \\epsilon_j^\\sigma)^2 + 2(1 + \\epsilon_j^\\sigma) \\langle \\Phi | \\hat H \\hat T | \\Phi \\rangle }\n",
    "{(1 + \\epsilon_j^\\sigma)^2}\n",
    "+ \\mathcal{O}(\\epsilon^2)\n",
    "= \\frac{E_{HF} + 2 (1+\\epsilon_j^\\sigma)^{-1} \\langle \\Phi | \\hat H \\hat T | \\Phi \\rangle}\n",
    "{1} + \\mathcal{O}(\\epsilon^2) $$"
   ]
  },
  {
   "cell_type": "markdown",
   "metadata": {},
   "source": [
    "Now one can expand $(1 + \\epsilon_j^\\sigma)^{-1}$ to get\n",
    "$$ E_{UHF}'\n",
    "=\n",
    "E_{UHF} + 2\\big[ 1 - \\epsilon_j^\\sigma + \\dots \\big] \\langle \\Phi|\\hat H \\hat T| \\Phi \\rangle\n",
    "= E_{UHF} + 2\\langle \\Phi | \\hat H \\hat T |\\Phi \\rangle + \\mathcal{O}(\\epsilon) \\\\\n",
    "\\approx \n",
    "E_{UHF} + 2 \\langle \\Phi |\\hat H \\hat T | \\Phi\\rangle\n",
    "= \n",
    "E_{UHF} + \\delta E_{UHF}\n",
    "$$"
   ]
  },
  {
   "cell_type": "markdown",
   "metadata": {},
   "source": [
    "Because $\\hat T$ only includes $\\eta_{ai}^\\sigma$ only virtual particles contributes to the perturbation. Therefore one can conclude that \n",
    "\n",
    "$$\n",
    "\\eta_{ij}^\\sigma = (\\varphi_j^\\sigma | \\delta \\varphi_i^\\sigma) = 0,\n",
    "$$\n",
    "\n",
    "up to first order approximation. Additionally, we have that\n",
    "\n",
    "$$\n",
    "\\langle \\Phi | \\hat T^\\dagger \\hat H | \\Phi \\rangle \n",
    "=\n",
    "\\big( \\langle \\Phi | \\hat H \\hat T | \\Phi \\rangle \\big)^\\dagger,\n",
    "$$\n",
    "\n",
    "meaning that it is sufficient to only vary the bra $ | \\Phi_{UHF} \\rangle$. One could vary just the ket as well, but this would have been a more difficult computation."
   ]
  },
  {
   "cell_type": "markdown",
   "metadata": {},
   "source": [
    "#### B\n",
    "\n",
    "$$ E_{UHF} + \\delta E_{UHF} = \\langle \\Phi_{UHF} + \\delta \\Phi_{UHF} | \\hat h | \\Phi_{UHF} \\rangle \\\\\n",
    "= \\sum_{i\\sigma} (\\varphi_i^\\sigma + \\delta \\varphi_i^\\sigma | \\hat h | \\varphi_i^\\sigma )\n",
    "+ \\frac{1}{2} \\sum_{ij\\sigma\\tau}((\\varphi_i^\\sigma + \\delta\\varphi_i^\\sigma)(\\varphi_j^\\tau + \\delta\\varphi_j^\\tau) | \\hat w | \\varphi_i^\\sigma \\varphi_j^\\tau ) - \\frac{1}{2} \\sum_{ij\\sigma} ((\\varphi_i^\\sigma + \\delta\\varphi_i^\\sigma)(\\varphi_j^\\sigma + \\delta\\varphi_i^\\sigma)| \\hat w | \\varphi_j^\\sigma \\varphi_i^\\sigma) \\\\\n",
    "= \\sum_{i\\sigma} (\\varphi_i^\\sigma + \\delta \\varphi_i^\\sigma | \\hat h | \\varphi_i^\\sigma )\n",
    "+ \\frac{1}{2} \\sum_{ij\\sigma\\tau}(\\varphi_i^\\sigma \\varphi_j^\\tau + \\varphi_i^\\sigma \\delta\\varphi_j^\\tau + \\delta\\varphi_i^\\sigma \\varphi_j^\\tau + \\delta\\varphi_i^\\sigma \\delta\\varphi_j^\\tau | \\hat w | \\varphi_i^\\sigma \\varphi_j^\\tau)\n",
    "- \\frac{1}{2} \\sum_{ij\\sigma} (\\varphi_i^\\sigma \\varphi_j^\\sigma + \\varphi_i^\\sigma \\delta\\varphi_j^\\sigma + \\delta\\varphi_i^\\sigma \\varphi_j^\\sigma + \\delta\\varphi_i^\\sigma \\delta\\varphi_j^\\sigma | \\hat w | \\varphi_j^\\sigma \\varphi_i^\\sigma)$$"
   ]
  },
  {
   "cell_type": "markdown",
   "metadata": {},
   "source": [
    "The terms with a product of two deltas (e.g $\\delta\\varphi_i^\\sigma\\delta\\varphi_j^\\tau$) can be ignored, as we are only interested in the first order approximation (delta is tiny). This leaves\n",
    "$$ \\Leftrightarrow \\sum_{i\\sigma}(\\varphi_i^\\sigma + \\sum_p\\varphi_p^\\sigma\\eta_{pi}^\\sigma | \\hat h | \\varphi_i^\\sigma) \n",
    "+ \\frac{1}{2} \\sum_{ij\\sigma\\tau} ( \\varphi_i^\\sigma\\varphi_i^\\tau + \\varphi_i^\\sigma\\sum_p\\varphi_p^\\tau\\eta_{pj}^\\tau + \\sum_q\\varphi_q^\\sigma\\eta_{qi}^\\sigma\\varphi_j^\\tau | \\hat w | \\varphi_i^\\sigma \\varphi_j^\\tau)\n",
    "- \\frac{1}{2}\\sum_{ij\\sigma}(\\varphi_i^\\sigma\\varphi_j^\\sigma + \\varphi_i^\\sigma\\sum_p\\varphi_p^\\sigma\\eta_{pj}^\\sigma + \\sum_q\\varphi_q^\\sigma\\eta_{qi}^\\sigma\\varphi_j^\\sigma | \\hat w | \\varphi_j^\\sigma \\varphi_i^\\sigma) \\\\\n",
    "= \\sum_{i\\sigma}(\\varphi_i^\\sigma | \\hat h | \\varphi_i^\\sigma)\n",
    "+ \\sum_{i\\sigma p} \\eta_{pi}^\\sigma (\\varphi_p^\\sigma | \\hat h | \\varphi_i^\\sigma)\n",
    "+ \\frac{1}{2}\\sum_{ij\\sigma\\tau}(\\varphi_i^\\sigma\\varphi_j^\\tau | \\hat w | \\varphi_i^\\sigma\\varphi_j^\\tau)\n",
    "+ \\frac{1}{2}\\sum_{ij\\sigma\\tau p}\\eta_{pj}^\\tau (\\varphi_i^\\sigma\\varphi_p^\\tau | \\hat w | \\varphi_i^\\sigma\\varphi_j^\\tau)\n",
    "+ \\frac{1}{2}\\sum_{ij\\sigma\\tau q}\\eta_{qi}^\\sigma (\\varphi_q^\\sigma\\varphi_j^\\tau | \\hat w |\\varphi_i^\\sigma \\varphi_j^\\tau)\n",
    "- \\frac{1}{2}\\sum_{ij\\sigma}(\\varphi_i^\\sigma\\varphi_j^\\sigma | \\hat w | \\varphi_j^\\sigma \\varphi_i^\\sigma)\n",
    "- \\frac{1}{2} \\sum_{ij\\sigma p} \\eta_{pj}^\\sigma (\\varphi_i^\\sigma\\varphi_p^\\sigma | \\hat w | \\varphi_j^\\sigma\\varphi_i^\\sigma)\n",
    "-\\frac{1}{2}\\sum_{ij\\sigma q}\\eta_{qi}^\\sigma ( \\varphi_q^\\sigma\\varphi_j^\\sigma | \\hat w | \\varphi_j^\\sigma \\varphi_i^\\sigma)\n",
    "$$ "
   ]
  },
  {
   "cell_type": "markdown",
   "metadata": {},
   "source": [
    "Recognize three of theterms as the unperturbed energy and limit $\\eta$ be zero for all instances but one $\\eta_{ak}^\\rho$. The energy pertrubation remains\n",
    "$$ \\delta E_{UHF}\n",
    "= (\\varphi_a^\\sigma | \\hat h | \\varphi_i^\\sigma)\n",
    "+ \\frac{1}{2}\\sum_{i\\sigma}(\\varphi_i^\\sigma\\varphi_a^\\rho | \\hat w | \\varphi_i^\\sigma\\varphi_k^\\rho) \n",
    "+ \\frac{1}{2}\\sum_{j\\tau}(\\varphi_a^\\rho\\varphi_j^\\tau | \\hat w | \\varphi_k^\\rho \\varphi_j^\\tau)\n",
    "- \\frac{1}{2}\\sum_i (\\varphi_i^\\rho\\varphi_a^\\rho | \\hat w | \\varphi_k^\\rho\\varphi_i^\\rho)\n",
    "- \\frac{1}{2}\\sum_j(\\varphi_a^\\rho\\varphi_j^\\rho | \\hat w | \\varphi_j^\\rho \\varphi_k^\\rho)\n",
    "$$"
   ]
  },
  {
   "cell_type": "markdown",
   "metadata": {},
   "source": [
    "One can switch the position of two adjacent $\\varphi$ as long as the sign changes. All the needed switches come in pairs, so the signs stay the same,\n",
    "$$ \\delta E_{UHF}\n",
    "= (\\varphi_a^\\sigma | \\hat h | \\varphi_i^\\sigma)\n",
    "+ \\frac{1}{2}\\sum_{i\\sigma}(\\varphi_a^\\rho \\varphi_i^\\sigma| \\hat w | \\varphi_k^\\rho \\varphi_i^\\sigma) \n",
    "+ \\frac{1}{2}\\sum_{j\\tau}(\\varphi_a^\\rho \\varphi_j^\\tau| \\hat w | \\varphi_k^\\rho \\varphi_j^\\tau)\n",
    "- \\frac{1}{2}\\sum_i (\\varphi_a^\\rho \\varphi_i^\\rho | \\hat w | \\varphi_i^\\rho \\varphi_k^\\rho)\n",
    "- \\frac{1}{2}\\sum_j(\\varphi_a^\\rho\\varphi_j^\\rho | \\hat w | \\varphi_j^\\rho \\varphi_k^\\rho)\n",
    "$$"
   ]
  },
  {
   "cell_type": "markdown",
   "metadata": {},
   "source": [
    "Changing the name of an index within a term is okay. Doing this yields the following\n",
    "$$ \\delta E_{UHF}\n",
    "= (\\varphi_a^\\sigma|\\hat h|\\varphi_i^\\sigma)\n",
    "+ \\sum_{j\\tau}(\\varphi_a^\\sigma\\varphi_j^\\tau|\\hat w|\\varphi_i^\\sigma\\varphi_j^\\tau)\n",
    "- \\sum(\\varphi_a^\\sigma\\varphi_j^\\sigma|\\hat w|\\varphi_j^\\sigma\\varphi_i^\\sigma)\n",
    "$$"
   ]
  },
  {
   "cell_type": "markdown",
   "metadata": {},
   "source": [
    "### Roothan Hall Equations\n",
    "We can replace the non-canonical equations with the canonical equations which are of eigenvalue form\n",
    "$$ \\hat f^\\sigma \\varphi_i^\\sigma = \\epsilon_i^\\sigma \\varphi_i^\\sigma. $$\n",
    "This is in fact two coupled eigenvalue problems, one for each spin $\\sigma$. \n",
    "\n",
    "For numerical treatment the orbitals are expanded in </i>atomic orbital basis functions</i> $\\phi_p$, $p=1,2,\\dots, K$,\n",
    "$$ \\varphi_q^\\sigma = \\sum_p \\psi_p U_{pq}^\\sigma, $$\n",
    "often called molecular orbitals.\n",
    "\n",
    "The basis is the same in each spin direction, and the atomic orbitals are not necessarily orthonormal, the general non-diagonal overlap matrix is given by\n",
    "$$ S_{pq} = (\\psi_p|\\psi_q). $$\n",
    "When the basis functions are linearly independent, $S$ is invertible. $S$ is symmetric and positive definite.\n",
    "\n",
    "The <i>atomic integrals</i> are defined thusly\n",
    "$$ h_{qp} = (\\psi_q | \\hat h | \\psi_p), \\quad (pr | qs) = (\\psi_p \\psi_q | \\hat w | \\psi_r \\psi_s), $$\n",
    "note the index placement in the two-electron integral.\n",
    "\n",
    "Lastly, the <i>density matrices</i> are given by\n",
    "$$ D_{rs}^\\sigma = \\sum_j U_{rj}^\\sigma (U_{sj}^\\sigma)^* = U_{occ}^\\sigma (U_{occ}^\\sigma)^H, $$\n",
    "where $U_{occ}^\\sigma$ is the $K \\times N_\\sigma$ submatrix of $U^\\sigma$ formed by the first $N_\\sigma$ columns."
   ]
  },
  {
   "cell_type": "markdown",
   "metadata": {
    "collapsed": true
   },
   "source": [
    "#### A\n",
    "The Roothan-Hall equations are obtained by projecting the UHF equations onto the atomic orbital basis. The one-body operator becomes\n",
    "$$ (\\psi_p | \\hat h | \\varphi_i^\\sigma) \n",
    "= (\\psi_p | \\hat p | \\sum_q \\psi_q U_{qi}^\\sigma) \n",
    "= \\sum_q (\\psi_p |\\hat h| \\psi_q) U_{qi}^\\sigma \n",
    "= \\sum_q h_{pq} U_{qi}^\\sigma. $$"
   ]
  },
  {
   "cell_type": "markdown",
   "metadata": {},
   "source": [
    "The Hartree potential becomes\n",
    "$$ (\\psi_p | \\hat v_H^\\tau | \\varphi_i^\\sigma ) \n",
    "= \\sum_j ( \\psi_p \\varphi_j^\\tau | \\hat w | \\varphi_i^\\sigma \\varphi_j^\\tau)\n",
    "= \\sum_j (\\psi_p \\sum_r \\psi_r U_{rj}^\\tau | \\hat w | \\sum_q \\psi_q U_{qi}^\\sigma \\sum_s \\psi_s U_{sj}^\\tau )\n",
    "= \\sum_{rsq} \\big((\\psi_p \\psi_r | \\hat w | \\psi_q \\psi_s ) \\sum_j U_{sj}^\\tau (U_{rj}^\\tau)^* U_{qi}^\\sigma \\big)\n",
    "= \\sum_q \\big(\\sum_{rs} (p q | r s) D_{rs}^\\sigma \\big) U_{qi}^\\sigma.$$"
   ]
  },
  {
   "cell_type": "markdown",
   "metadata": {},
   "source": [
    "The exchange potential\n",
    "$$(\\psi_p | \\hat v_{ex}^\\sigma | \\varphi_i^\\sigma)\n",
    "= \\sum_j (\\psi_p \\varphi_j^\\sigma | \\hat w | \\varphi_j^\\sigma \\varphi_i^\\sigma)\n",
    "= \\sum_j (\\psi_p \\sum_r \\psi_r U_{rj}^\\sigma | \\hat w | \\sum_s \\psi_s U_{sj}^\\sigma \\sum_q \\psi_q U_{qi}^\\sigma)\n",
    "= \\sum_{rsq} \\big((\\psi_p \\psi_r | \\hat w | \\psi_s \\psi_q ) \\sum_j U_{sj}^\\sigma (u_{rj}^\\sigma)^* U_{qi}^\\sigma \\big)\n",
    "= \\sum_q \\big( \\sum_{rs} (p s | r q) D_{rs}^\\sigma \\big) U_{qi}^\\sigma.$$"
   ]
  },
  {
   "cell_type": "markdown",
   "metadata": {},
   "source": [
    "The inner product between atomic orbitals and molecular orbitals is\n",
    "$$ (\\psi_p | \\varphi_i^\\sigma) = (\\psi_p | \\sum_q \\psi_q U_{qi}^\\sigma) \n",
    "=  \\sum_q (\\psi_p| \\psi_q) U_{qi}^\\sigma = \\sum_q S_{pq} U_{qi}^\\sigma.$$"
   ]
  },
  {
   "cell_type": "markdown",
   "metadata": {},
   "source": [
    "#### B\n",
    "The Fock matrix is defined as\n",
    "$$ F^\\sigma = h + J(D^\\uparrow + D^\\downarrow) - K(D^\\sigma), $$\n",
    "where \n",
    "$$ J(D)_{pq} = \\sum_{rs}(pq|rs)D_{sr} \\quad \n",
    "   K(D)_{pq} = \\sum_{rs}(ps|rq)D_{sr}. $$"
   ]
  },
  {
   "cell_type": "markdown",
   "metadata": {},
   "source": [
    "## Implementation"
   ]
  },
  {
   "cell_type": "markdown",
   "metadata": {},
   "source": [
    "The following is a simple implementation of how to find the lowest energy state (hopefulle the ground state) of a many-body system through self-consistent field (SCF) iterations. The main idea is to iterate over the Roothan-Hall equations until convergence,\n",
    "\n",
    "$$ F^\\sigma(D^\\uparrow_k, D^\\downarrow_k) U^\\sigma_{k + 1} \n",
    "    = SU^\\sigma_{k + 1} \\epsilon^\\sigma_{k + 1}. $$\n",
    "\n",
    "We will use `NumPy` and `SciPy` for arrays and linear algebra, and `Psi4` to define a molecule and extract integrals. First the computation will be done for the water molecule, $H_2O$."
   ]
  },
  {
   "cell_type": "code",
   "execution_count": 58,
   "metadata": {
    "collapsed": true
   },
   "outputs": [],
   "source": [
    "# Necessary imports\n",
    "import numpy as np\n",
    "import scipy.linalg\n",
    "import psi4"
   ]
  },
  {
   "cell_type": "code",
   "execution_count": 59,
   "metadata": {
    "collapsed": true
   },
   "outputs": [],
   "source": [
    "# Preliminaries in PSI4\n",
    "\n",
    "# Defining molecule: water\n",
    "r_h2o = 1.84    # Bond distance\n",
    "theta_h2o = 104 # Bond angle\n",
    "\n",
    "h2o = \"\"\"\n",
    "        O\n",
    "        H 1 {0}\n",
    "        H 1 {0} 2 {1}\n",
    "        symmetry c1\n",
    "        units bohr\n",
    "    \"\"\" .format(r_h2o, theta_h2o)\n",
    "\n",
    "# Psi4 molecule geometry object\n",
    "molecule = psi4.geometry(h2o)\n",
    "\n",
    "# Options / parameters for algorithm\n",
    "options = {\n",
    "    'basis' : 'cc-pVDZ',\n",
    "    'reference' : 'uhf',\n",
    "    'scf_type' : 'direct',\n",
    "    'guess' : 'core',\n",
    "    'guess_mix' : 'true',\n",
    "    'e_convergence' : 1e-7\n",
    "}\n",
    "\n",
    "psi4.set_options(options)\n",
    "\n",
    "# Building wavefunction from geometry object and specific basis\n",
    "wavefunction = psi4.core.Wavefunction.build(molecule,\n",
    "                        psi4.core.get_global_option('basis'))\n",
    "\n",
    "# Mints Helper function for extracting integrals\n",
    "mints = psi4.core.MintsHelper(wavefunction.basisset())\n",
    "\n",
    "# Nuclear repulsion energy\n",
    "E_nuc = molecule.nuclear_repulsion_energy()"
   ]
  },
  {
   "cell_type": "markdown",
   "metadata": {},
   "source": [
    "Now that all the preliminary settings are done, we can begin to use `Psi4` as a tool to extract integrals that will be helpful."
   ]
  },
  {
   "cell_type": "code",
   "execution_count": 60,
   "metadata": {},
   "outputs": [
    {
     "name": "stdout",
     "output_type": "stream",
     "text": [
      "Number of occupied ups:    5\n",
      "Number of occupied downs:  5\n",
      "Total orbitals:            24\n"
     ]
    }
   ],
   "source": [
    "# Hamilton operator\n",
    "T = np.asarray(mints.ao_kinetic())   # Atomic orbitals kinetic energy\n",
    "V = np.asarray(mints.ao_potential()) # Atomic orbitals potential\n",
    "H = T + V\n",
    "\n",
    "# Integrals\n",
    "W = np.asarray(mints.ao_eri())     # Electronic repulsion integral (4-tensor)\n",
    "S = np.asarray(mints.ao_overlap()) # Overlap matrix\n",
    "\n",
    "# Orbitals and occupied states\n",
    "num_orbitals  = wavefunction.nso()    # No of orbitals, occupied + virtual\n",
    "num_occ_ups   = wavefunction.nalpha() # No of occupied up states\n",
    "num_occ_downs = wavefunction.nbeta()  # No of occupied down states\n",
    "\n",
    "print(\"Number of occupied ups:   \", num_occ_ups)\n",
    "print(\"Number of occupied downs: \", num_occ_downs)\n",
    "print(\"Total orbitals:           \", num_orbitals)"
   ]
  },
  {
   "cell_type": "markdown",
   "metadata": {},
   "source": [
    "We can see that the number of occupied states are ten in total. This makes sense as the atomic numbers for the atoms in the water molecule adds up to ten, i.e. they should have ten electrons combined in a charge-neutral state. Now we need only a few functions to get started."
   ]
  },
  {
   "cell_type": "markdown",
   "metadata": {},
   "source": [
    "The density matrix of the system is defined as \n",
    "\n",
    "$$D_rs^\\sigma = U_{occ}^\\sigma(U_{occ}^\\sigma)^H,$$\n",
    "\n",
    "and the Fock matrix is defined as \n",
    "\n",
    "$$ F^\\sigma = h + J(D^\\uparrow + D^\\downarrow) - K(D^\\sigma), $$\n",
    "\n",
    "where $$J(D)_{pq} = \\sum_{rs}(pq|rs) D_{rs} \\quad \\text{and} \\quad K(D)_{pq} = \\sum_{rs}(ps|rq)D_{sr}.$$\n",
    "\n",
    "Since there are two spin states (up and down), we are in fact diagonalizing <i>two</i> matrices, $F^\\uparrow$ and $F^\\downarrow$, for each iteration. "
   ]
  },
  {
   "cell_type": "code",
   "execution_count": 61,
   "metadata": {
    "collapsed": true
   },
   "outputs": [],
   "source": [
    "def generate_density_matrix(U_init, num_occ, noise=False):\n",
    "    \n",
    "    U = np.matrix(U_init[:, 0:num_occ])\n",
    "    D = np.dot(U, np.conjugate(U).T)\n",
    "    \n",
    "    # Adding Hermitian noise.\n",
    "    if noise:\n",
    "        X = np.random.rand(*D.shape)\n",
    "        X = X + X.T\n",
    "        D += 0.001 * X\n",
    "    \n",
    "    return D"
   ]
  },
  {
   "cell_type": "markdown",
   "metadata": {},
   "source": [
    "The density matrix generation function has the option to add some \"Hermitian noise\". This ensures that one will not be trapped in a RHF state-type state. If the initial guess for $U^\\uparrow$ and $U^\\downarrow$ are identical, each iteration will also have identical parts."
   ]
  },
  {
   "cell_type": "code",
   "execution_count": 62,
   "metadata": {
    "collapsed": true
   },
   "outputs": [],
   "source": [
    "def generate_fock_matrices(H, W, D_up, D_down):\n",
    "    \n",
    "    J      = np.einsum('pqrs, sr->pq', W, D_up + D_down)\n",
    "    K_up   = np.einsum('psrq, sr->pq', W, D_up)\n",
    "    K_down = np.einsum('psrq, sr->pq', W, D_down)\n",
    "    F_up   = H + J - K_up\n",
    "    F_down = H + J - K_down\n",
    "    \n",
    "    return F_up, F_down"
   ]
  },
  {
   "cell_type": "markdown",
   "metadata": {},
   "source": [
    "This function makes use of `np.einsum()`, which is `NumPy`'s Einstein summation function. This very useful functions vectorizes a summations, resulting in an incredible speed-up over the more naïve iterative method."
   ]
  },
  {
   "cell_type": "markdown",
   "metadata": {},
   "source": [
    "### Unrestricted Hartree-Fock SCF Iterations"
   ]
  },
  {
   "cell_type": "code",
   "execution_count": 77,
   "metadata": {
    "collapsed": true
   },
   "outputs": [],
   "source": [
    "def uhf_scf(H, W, S, num_occ_ups, num_occ_downs, tol=1e-7, info=True):\n",
    "    \n",
    "    # Initial guess\n",
    "    E_up_prev,   U_up   = scipy.linalg.eigh(H, S)\n",
    "    E_down_prev, U_down = scipy.linalg.eigh(H, S)\n",
    "\n",
    "    # Generating density matrices (w/ Hermitian noise)\n",
    "    D_up   = generate_density_matrix(U_up,   num_occ_ups,   True)\n",
    "    D_down = generate_density_matrix(U_down, num_occ_downs, True)\n",
    "\n",
    "    # Generating Fock matrices\n",
    "    F_up, F_down = generate_fock_matrices(H, W, D_up, D_down)\n",
    "\n",
    "    # First solution\n",
    "    E_up,   U_up   = scipy.linalg.eigh(F_up,   S)\n",
    "    E_down, U_down = scipy.linalg.eigh(F_down, S)\n",
    "\n",
    "    # Counter for iterations\n",
    "    i = 0\n",
    "\n",
    "    # SCF Iterations\n",
    "    while (np.max(abs(E_up_prev - E_up)) > tol \\\n",
    "           and np.max(abs(E_down_prev - E_down)) > tol):\n",
    "    \n",
    "        # Storing previous energies for next iteration\n",
    "        E_up_prev   = E_up\n",
    "        E_down_prev = E_down\n",
    "    \n",
    "        # Generating new density matrices (w/o Hermitian noise)\n",
    "        D_up   = generate_density_matrix(U_up,   num_occ_ups)\n",
    "        D_down = generate_density_matrix(U_down, num_occ_downs)\n",
    "    \n",
    "        # Generating new Fock matrices\n",
    "        F_up, F_down = generate_fock_matrices(H, W, D_up, D_down)\n",
    "    \n",
    "        # New solution\n",
    "        E_up,   U_up   = scipy.linalg.eigh(F_up,   S)\n",
    "        E_down, U_down = scipy.linalg.eigh(F_down, S)\n",
    "    \n",
    "        i += 1\n",
    "    \n",
    "    if info:\n",
    "        print(\"UHF SCF iterations.\")\n",
    "        print(\"Convergence reached after\", i, \"iterations.\")\n",
    "        print(\"Up state energies: \\n\", E_up[0:num_occ_ups])\n",
    "        print(\"Down state energies: \\n\", E_down[0:num_occ_downs])\n",
    "        print(\"\\n\")\n",
    "    \n",
    "    return F_up, F_down, D_up, D_down"
   ]
  },
  {
   "cell_type": "markdown",
   "metadata": {},
   "source": [
    "Now what remains is to compute the energy. The Fock operator corresponding to the Fock matrix is given by\n",
    "\n",
    "$$ \\hat f^\\sigma = \\hat h + \\sum_\\tau \\hat v_H^\\tau - \\hat v_{ex}^\\sigma\n",
    "  \\rightarrow \\hat h = \\hat f - \\sum_\\tau \\hat v_H^\\tau + \\hat v_{ex}^\\sigma,$$\n",
    "  \n",
    "where \n",
    "\n",
    "$$ \\hat v_H^\\tau = \\sum_j(\\cdot \\varphi_j^\\tau | \\hat w | \\cdot \\varphi_j^\\tau), \\quad \n",
    "   \\hat v_{ex}^\\sigma = \\sum_j(\\cdot \\varphi_j^\\sigma | \\hat w | \\varphi_j^\\sigma \\cdot )$$\n",
    "\n",
    "The UHF energy is\n",
    "\n",
    "$$ E_{UHF} = \\sum_{i\\sigma}(\\varphi_i^\\sigma | \\hat h | \\varphi_i^\\sigma ) + E_H - E_{ex}, $$\n",
    "\n",
    "where\n",
    "\n",
    "$$ E_H = \\frac{1}{2} \\sum_{ij\\sigma\\tau} (\\varphi_i^\\sigma \\varphi_j^\\tau| \\hat w | \\varphi_i^\\sigma \\varphi_j^\\tau), \\quad\n",
    "E_{ex} = \\frac{1}{2} \\sum_{ij\\sigma} (\\varphi_i^\\sigma \\varphi_j^\\sigma |\\hat w |\\varphi_j^\\sigma \\varphi_i^\\sigma). $$ "
   ]
  },
  {
   "cell_type": "markdown",
   "metadata": {},
   "source": [
    "Inserting the expression for $\\hat h$, $\\hat v_H^\\tau$ and $\\hat v_{ex}^\\sigma$ into the first term of the UHF energy gives us\n",
    "\n",
    "$$ \\sum_{i\\sigma} (\\varphi_i^\\sigma |\\hat f^\\sigma |\\varphi_i^\\sigma)\n",
    " - \\sum_{i\\sigma\\tau}(\\varphi_i^\\sigma | v_H^\\tau|\\varphi_i^\\sigma)\n",
    " + \\sum_{i\\sigma}(\\varphi_i^\\sigma | v_{ex}^\\sigma | \\varphi_i^\\sigma )\\\\\n",
    " =\n",
    " \\sum_{i\\sigma pq} (\\psi_p| \\hat f^\\sigma | \\psi_q)\n",
    " U_{qi}^\\sigma (U_{pi}^\\sigma)^\\dagger\n",
    " -\\sum_{ij\\sigma\\tau}\\sum_{pqrs}(\\psi_p \\psi_r | \\hat w | \\psi_q \\psi_s)\n",
    " (U_{pi}^\\sigma)^\\dagger (U_{rj}^\\tau)^\\dagger U_{qi}^\\sigma U_{sj}^\\tau\n",
    " +\\sum_{ij\\sigma}\\sum_{pqrs}(\\psi_p\\psi_r |\\hat w | \\psi_s \\psi_q)\n",
    " (U_{pq}^\\sigma)^\\dagger (U_{rj}^\\sigma)^\\dagger U_{sj}^\\sigma U_{qi}^\\sigma \\\\\n",
    " =\n",
    " \\sum_{pq\\sigma}(\\psi_p | \\hat f^\\sigma | \\psi_q) D_{qp}^\\sigma\n",
    " -\\sum_{\\sigma\\tau}\\sum_{pqrs}(pq|rs)D_{qp}^\\sigma D_{sr}^\\tau\n",
    " +\\sum_{\\sigma}\\sum_{pqrs}(ps|rq)D_{qp}^\\sigma D_{sr}^\\sigma \\\\\n",
    " =\n",
    " \\sum_{pq\\sigma}(\\psi_p | \\hat f^\\sigma | \\psi_q) D_{qp}^\\sigma - 2E_H + 2E_{ex}\n",
    "$$"
   ]
  },
  {
   "cell_type": "markdown",
   "metadata": {},
   "source": [
    "The full expression for the energy becomes\n",
    "$$ E_{UHF} = \\sum_{pq\\sigma}(\\psi_p | \\hat f^\\sigma | \\psi_q) D_{qp}^\\sigma\n",
    "        - \\frac{1}{2}\\sum_{\\sigma\\tau}\\sum_{pqrs}(pq|rs)D_{qp}^\\sigma D_{sr}^\\tau\n",
    "        + \\frac{1}{2}\\sum_{\\sigma}\\sum_{pqrs}(ps|rq)D_{qp}^\\sigma D_{sr}^\\sigma \\\\\n",
    "        =\n",
    "        \\sum_{\\sigma}\\sum_{pq} F_{pq}^\\sigma D_{qp}^\\sigma\n",
    "        - \\frac{1}{2}\\sum_{\\sigma}\\sum_{pq}J(D^\\uparrow + D^\\downarrow)_{pq}D_{qp}^\\sigma\n",
    "        + \\frac{1}{2}\\sum_{\\sigma}\\sum_{pq}K(D^\\sigma)_{pq}D_{qp}^\\sigma.\n",
    "$$\n",
    "We now see the point of solving the Hartree-Fock energy eigenvalue problem in the first place, and are now able to compute the energy"
   ]
  },
  {
   "cell_type": "code",
   "execution_count": 64,
   "metadata": {
    "collapsed": true
   },
   "outputs": [],
   "source": [
    "# Function to compute energy\n",
    "def compute_energy(F_up, F_down, W, D_up, D_down):\n",
    "    J      = np.einsum('pqrs, sr->pq', W, D_up + D_down )\n",
    "    J_up   = np.einsum('pqrs, sr->pq', W, D_up)\n",
    "    J_down = np.einsum('pqrs, sr->pq', W, D_down)\n",
    "    K_up   = np.einsum('psrq, sr->pq', W, D_up)\n",
    "    K_down = np.einsum('psrq, sr->pq', W, D_down)\n",
    "\n",
    "    F_up   = H + J - K_up\n",
    "    F_down = H + J - K_down \n",
    "\n",
    "    # Fock energy\n",
    "    energy  =      np.einsum('pq, qp->', F_up,    D_up)\\\n",
    "                 + np.einsum('pq, qp->', F_down, D_down)\n",
    "\n",
    "    # Hartree energy\n",
    "    energy -= 0.5*(np.einsum('pq, qp->', J_up,    D_up)\\\n",
    "                 + np.einsum('pq, qp->', J_up,    D_down)\\\n",
    "                 + np.einsum('pq, qp->', J_down,  D_up)\\\n",
    "                 + np.einsum('pq, qp->', J_up,    D_down))\n",
    "\n",
    "    # Exchange energy\n",
    "    energy += 0.5*(np.einsum('pq, qp->', K_up,    D_up)\\\n",
    "                 + np.einsum('pq, qp->', K_down,  D_down))\n",
    "    \n",
    "    return energy"
   ]
  },
  {
   "cell_type": "code",
   "execution_count": 65,
   "metadata": {},
   "outputs": [
    {
     "name": "stdout",
     "output_type": "stream",
     "text": [
      "\n",
      "UHF SCF iterations ...\n",
      "Convergence reached after 38 iterations.\n",
      "Up state energies: \n",
      " [-20.55359646  -1.32890907  -0.689642    -0.56457925  -0.49219899]\n",
      "Down state energies: \n",
      " [-20.55359646  -1.32890907  -0.689642    -0.56457925  -0.49219899]\n",
      "\n",
      "\n",
      "Energy from Psi4 (the answer):  -76.02551761074346\n",
      "Energy from this algorithm:     -76.0255176108\n"
     ]
    }
   ],
   "source": [
    "F_up, F_down, D_up, D_down = uhf_scf(H, W, S, num_occ_ups, num_occ_downs)\n",
    "uhf_energy  = compute_energy(F_up, F_down, W, D_up, D_down)\n",
    "uhf_energy += E_nuc\n",
    "print(\"Energy from Psi4 (the answer): \", psi4.energy('scf'))\n",
    "print(\"Energy from this algorithm:    \", uhf_energy)"
   ]
  },
  {
   "cell_type": "markdown",
   "metadata": {},
   "source": [
    "We can see that the algorithm gives the same answer as Psi4 up to ten decimal places!"
   ]
  },
  {
   "cell_type": "markdown",
   "metadata": {},
   "source": [
    "### Restricted Hartree-Fock\n",
    "In the restricted Hartree-Fock scheme we set $D^\\uparrow = D^\\downarrow$. We therefore build a density matrix for <i>all</i> occupied states. we also need a new Fock matrix generator to accomodate these changes."
   ]
  },
  {
   "cell_type": "markdown",
   "metadata": {},
   "source": [
    "Now we would have been all set to build the Fock matrix, but since the original UHF matrix generator takes two density matrices as input argument, we need to make a new function."
   ]
  },
  {
   "cell_type": "code",
   "execution_count": 66,
   "metadata": {
    "collapsed": true
   },
   "outputs": [],
   "source": [
    "# RHF Fock matrix generator\n",
    "def generate_rhf_fock_matrix(H, W, D):\n",
    "    \n",
    "    J = np.einsum('pqrs, sr->pq', W, D)\n",
    "    K = np.einsum('psrq, sr->pq', W, D)\n",
    "    \n",
    "    return H + J - 0.5 * K"
   ]
  },
  {
   "cell_type": "markdown",
   "metadata": {},
   "source": [
    "Then we need also need a special function for the SCF iteration."
   ]
  },
  {
   "cell_type": "code",
   "execution_count": 78,
   "metadata": {
    "collapsed": true
   },
   "outputs": [],
   "source": [
    "def rhf_scf(H, W, S, num_occ_states, tol=1e-7, info=True):\n",
    "    \n",
    "    # Initial guess\n",
    "    E_prev, U = scipy.linalg.eigh(H, S)\n",
    "\n",
    "    # Generating density matrix, the same in both spin directions\n",
    "    D = 2 * generate_density_matrix(U, num_occ_ups, False)\n",
    "\n",
    "    # Generating RHF Fock matrix\n",
    "    F = generate_rhf_fock_matrix(H, W, D)\n",
    "\n",
    "    # First iteration energy\n",
    "    E, U = scipy.linalg.eigh(F, S)\n",
    "\n",
    "    # Iteration counter\n",
    "    i = 0\n",
    "\n",
    "    # SCF iterations\n",
    "    while np.max(abs(E_prev - E)) > tol:\n",
    "    \n",
    "        # Storing previous energy for next iteration\n",
    "        E_prev = E\n",
    "    \n",
    "        # Generating new density matrix with convex recombination\n",
    "        D = 2 * generate_density_matrix(U, num_occ_states, False)\n",
    "    \n",
    "        # Generating new Fock matrix\n",
    "        F = generate_rhf_fock_matrix(H, W, D)\n",
    "    \n",
    "        # Solving eigenvalue problem\n",
    "        E, U = scipy.linalg.eigh(F, S)\n",
    "    \n",
    "        # Incrementing iteration counter\n",
    "        i += 1\n",
    "    \n",
    "    if info:\n",
    "        print(\"RHF SCF iterations\")\n",
    "        print(\"Convergence reached after \", i, \" iterations.\")\n",
    "        print(\"Eigenstate energies: \\n\", E[0:num_occ_states])\n",
    "        print(\"The up and down states are identical as a consquence of RHF scheme.\")\n",
    "        print(\"\\n\")\n",
    "    \n",
    "    return F, D"
   ]
  },
  {
   "cell_type": "markdown",
   "metadata": {},
   "source": [
    "What remains is to compute the energy, which can be done with the same function as for the UHF scheme. One only needs to bear in mind that for RHF $F^\\uparrow = F^\\downarrow$ and $D_{RHF} = D^\\uparrow + D^\\downarrow$."
   ]
  },
  {
   "cell_type": "code",
   "execution_count": 68,
   "metadata": {},
   "outputs": [
    {
     "name": "stdout",
     "output_type": "stream",
     "text": [
      "\n",
      "RHF SCF iterations ...\n",
      "The loop exited after  38  iterations.\n",
      "Eigenstate energies: \n",
      " [-20.55359646  -1.32890907  -0.689642    -0.56457925  -0.49219899]\n",
      "The up and down states are identical as a consquence of RHF scheme.\n",
      "\n",
      "\n",
      "RHF energy:  -76.0255176108\n",
      "UHF energy:  -76.0255176108\n"
     ]
    }
   ],
   "source": [
    "F, D = rhf_scf(H, W, S, num_occ_ups)\n",
    "rhf_energy  = compute_energy(F, F, W, 0.5 * D, 0.5 * D)\n",
    "rhf_energy += E_nuc\n",
    "print(\"RHF energy: \", rhf_energy)\n",
    "print(\"UHF energy: \", uhf_energy)"
   ]
  },
  {
   "cell_type": "markdown",
   "metadata": {},
   "source": [
    "We can see that the RHF and UHF schemes give the same result for the ground state energy of the water molecule, with the given parameters."
   ]
  },
  {
   "cell_type": "markdown",
   "metadata": {},
   "source": [
    "### The Hydrogen Molecule\n",
    "A case more interesting than the $H_2O$ molecule when comparing RHF and UHF is the $H_2$ molecule. The bond distance of the molecule is set very high on purpose."
   ]
  },
  {
   "cell_type": "code",
   "execution_count": 69,
   "metadata": {
    "collapsed": true
   },
   "outputs": [],
   "source": [
    "# Defining Hydrogen molecule\n",
    "r_h2 = 5.0 # Bond distance\n",
    "\n",
    "h2 = \"\"\"\n",
    "    0 1\n",
    "    H\n",
    "    H 1 {}\n",
    "    symmetry c1\n",
    "    units bohr\n",
    "    \"\"\" .format(r_h2)\n",
    "\n",
    "molecule = psi4.geometry(h2)\n",
    "\n",
    "E_nuc = molecule.nuclear_repulsion_energy()\n",
    "\n",
    "wavefunction = psi4.core.Wavefunction.build(molecule, 'cc-pVDZ') \n",
    "\n",
    "mints = psi4.core.MintsHelper(wavefunction.basisset())\n",
    "\n",
    "T = np.asarray(mints.ao_kinetic())\n",
    "V = np.asarray(mints.ao_potential())\n",
    "H = T + V\n",
    "W = np.asarray(mints.ao_eri())\n",
    "S = np.asarray(mints.ao_overlap())\n",
    "\n",
    "# Orbitals and occupied states\n",
    "num_orbitals  = wavefunction.nso()    # No of orbitals, occupied + virtual\n",
    "num_occ_ups   = wavefunction.nalpha() # No of occupied up states\n",
    "num_occ_downs = wavefunction.nbeta()  # No of occupied down states"
   ]
  },
  {
   "cell_type": "code",
   "execution_count": 70,
   "metadata": {},
   "outputs": [
    {
     "name": "stdout",
     "output_type": "stream",
     "text": [
      "\n",
      "UHF SCF iterations ...\n",
      "Convergence reached after 26 iterations.\n",
      "Up state energies: \n",
      " [-0.49914086]\n",
      "Down state energies: \n",
      " [-0.49914086]\n",
      "\n",
      "\n",
      "\n",
      "RHF SCF iterations ...\n",
      "The loop exited after  9  iterations.\n",
      "Eigenstate energies: \n",
      " [-0.34086982]\n",
      "The up and down states are identical as a consquence of RHF scheme.\n",
      "\n",
      "\n",
      "UHF energy:  -0.987788646576\n",
      "RHF energy:  -1.05242436561\n"
     ]
    }
   ],
   "source": [
    "# UHF energy\n",
    "F_up, F_down, D_up, D_down = uhf_scf(H, W, S, num_occ_ups, num_occ_downs)\n",
    "uhf_energy  = compute_energy(F_up, F_down, W, D_up, D_down)\n",
    "uhf_energy += E_nuc\n",
    "\n",
    "# RHF energy\n",
    "F, D = rhf_scf(H, W, S, num_occ_ups)\n",
    "rhf_energy  = compute_energy(F, F, W, 0.5 * D, 0.5 * D)\n",
    "rhf_energy += E_nuc\n",
    "\n",
    "print(\"UHF energy: \", uhf_energy)\n",
    "print(\"RHF energy: \", rhf_energy)"
   ]
  },
  {
   "cell_type": "markdown",
   "metadata": {},
   "source": [
    "Observe that we get different energies from the two methods."
   ]
  },
  {
   "cell_type": "markdown",
   "metadata": {},
   "source": [
    "### Dissociation of $H_2$"
   ]
  },
  {
   "cell_type": "code",
   "execution_count": 83,
   "metadata": {
    "collapsed": true
   },
   "outputs": [],
   "source": [
    "N = 50\n",
    "r_h2 = np.linspace(0.7, 7.0, N)\n",
    "uhf_energies = np.zeros(N)\n",
    "rhf_energies = np.zeros(N)\n",
    "\n",
    "for i in range(N):\n",
    "    h2 = \"\"\"\n",
    "    0 1\n",
    "    H\n",
    "    H 1 {}\n",
    "    symmetry c1\n",
    "    units bohr\n",
    "    \"\"\" .format(r_h2[i])\n",
    "    \n",
    "    molecule = psi4.geometry(h2)\n",
    "\n",
    "    E_nuc = molecule.nuclear_repulsion_energy()\n",
    "\n",
    "    wavefunction = psi4.core.Wavefunction.build(molecule, 'cc-pVDZ') \n",
    "\n",
    "    mints = psi4.core.MintsHelper(wavefunction.basisset())\n",
    "\n",
    "    T = np.asarray(mints.ao_kinetic())\n",
    "    V = np.asarray(mints.ao_potential())\n",
    "    H = T + V\n",
    "    W = np.asarray(mints.ao_eri())\n",
    "    S = np.asarray(mints.ao_overlap())\n",
    "    \n",
    "    num_orbitals  = wavefunction.nso()    \n",
    "    num_occ_ups   = wavefunction.nalpha() \n",
    "    num_occ_downs = wavefunction.nbeta()\n",
    "    \n",
    "    F_up, F_down, D_up, D_down = uhf_scf(H, W, S, num_occ_ups, num_occ_downs, info=False)\n",
    "    uhf_energy  = compute_energy(F_up, F_down, W, D_up, D_down)\n",
    "    uhf_energy += E_nuc\n",
    "    uhf_energies[i] = uhf_energy\n",
    "    \n",
    "    F, D = rhf_scf(H, W, S, num_occ_ups, info=False)\n",
    "    rhf_energy  = compute_energy(F, F, W, 0.5 * D, 0.5 * D)\n",
    "    rhf_energy += E_nuc\n",
    "    rhf_energies[i] = rhf_energy"
   ]
  },
  {
   "cell_type": "code",
   "execution_count": 88,
   "metadata": {},
   "outputs": [
    {
     "data": {
      "image/png": "[encoded data removed]",
      "text/plain": [
       "<matplotlib.figure.Figure at 0x12356ef98>"
      ]
     },
     "metadata": {},
     "output_type": "display_data"
    }
   ],
   "source": [
    "from matplotlib import pyplot as plt\n",
    "plt.plot(r_h2, uhf_energies, '-b', label=\"UHF\")\n",
    "plt.plot(r_h2, rhf_energies, '-r', label=\"RHF\")\n",
    "plt.legend()\n",
    "plt.title(\"Dissociation of $H_2$\")\n",
    "plt.xlabel(\"Atomic spacing\")\n",
    "plt.ylabel(\"Energy\")\n",
    "plt.show()"
   ]
  }
 ],
 "metadata": {
  "kernelspec": {
   "display_name": "Python 3",
   "language": "python",
   "name": "python3"
  },
  "language_info": {
   "codemirror_mode": {
    "name": "ipython",
    "version": 3
   },
   "file_extension": ".py",
   "mimetype": "text/x-python",
   "name": "python",
   "nbconvert_exporter": "python",
   "pygments_lexer": "ipython3",
   "version": "3.6.1"
  }
 },
 "nbformat": 4,
 "nbformat_minor": 2
}
