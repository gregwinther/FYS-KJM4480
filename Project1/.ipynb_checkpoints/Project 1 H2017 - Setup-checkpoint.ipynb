{
 "cells": [
  {
   "cell_type": "markdown",
   "metadata": {},
   "source": [
    "# Getting integrals from Psi4\n",
    "\n",
    "This is a notebook showing how to call Psi4 and obtain integrals, etc. We also show how to call Psi4 to get benchmark energies for RHF and UHF calculations.\n",
    "\n",
    "Here, we choose a fixed basis with acronym cc-pVDZ; a common basis set. You may experiment with other basis sets in your calculations, such as cc-pVTQ, cc-pVQZ, sto-3G.\n"
   ]
  },
  {
   "cell_type": "code",
   "execution_count": 1,
   "metadata": {
    "collapsed": true
   },
   "outputs": [],
   "source": [
    "import psi4\n",
    "import numpy as np\n",
    "import matplotlib.pyplot as plt"
   ]
  },
  {
   "cell_type": "code",
   "execution_count": 2,
   "metadata": {
    "collapsed": true
   },
   "outputs": [],
   "source": [
    "def call_psi4(mol_spec, extra_opts = {}):\n",
    "    mol = psi4.geometry(mol_spec)\n",
    "\n",
    "    # Set options to Psi4.\n",
    "    opts = {'basis': 'cc-pVDZ',\n",
    "                     'reference' : 'uhf',\n",
    "                     'scf_type' :'direct',\n",
    "                     'guess' : 'core',\n",
    "                     'guess_mix' : 'true',\n",
    "                     'e_convergence': 1e-7}\n",
    "\n",
    "    opts.update(extra_opts)\n",
    "\n",
    "    # If you uncomment this line, Psi4 will *not* write to an output file.\n",
    "    psi4.core.set_output_file('output.dat', False)\n",
    "    \n",
    "    psi4.set_options(opts)\n",
    "\n",
    "    # Set up Psi4's wavefunction. Psi4 parses the molecule specification,\n",
    "    # creates the basis based on the option 'basis' and the geometry,\n",
    "    # and computes all necessary integrals.\n",
    "    wfn = psi4.core.Wavefunction.build(mol, psi4.core.get_global_option('BASIS'))\n",
    "    \n",
    "    # Get access to integral objects\n",
    "    mints = psi4.core.MintsHelper(wfn.basisset())\n",
    "\n",
    "    # Get the integrals, and store as numpy arrays\n",
    "    T = np.asarray(mints.ao_kinetic())\n",
    "    V = np.asarray(mints.ao_potential())\n",
    "    H = T + V\n",
    "    W = np.asarray(mints.ao_eri())\n",
    "    S = np.asarray(mints.ao_overlap())\n",
    "\n",
    "    # Get number of basis functions and number of occupied orbitals of each type\n",
    "    nbf = wfn.nso()\n",
    "    nalpha = wfn.nalpha()\n",
    "    nbeta = wfn.nbeta()\n",
    "\n",
    "\n",
    "    # Perform a SCF calculation based on the options.\n",
    "    SCF_E_psi4 = psi4.energy('SCF')\n",
    "    Enuc = mol.nuclear_repulsion_energy()\n",
    "\n",
    "    # We're done, return.\n",
    "    return SCF_E_psi4, Enuc, H,W,S, nbf, nalpha, nbeta\n"
   ]
  },
  {
   "cell_type": "markdown",
   "metadata": {},
   "source": [
    "# Do a test calculation\n",
    "\n",
    "We define two molecule geometries and perform UHF and RHF calculations using Psi4."
   ]
  },
  {
   "cell_type": "code",
   "execution_count": 3,
   "metadata": {},
   "outputs": [
    {
     "name": "stdout",
     "output_type": "stream",
     "text": [
      "RHF energy of H2 molecule at interatomic distance R = 2.000000 is E_RHF = -1.089283\n",
      "The nuclear term is Enuc =  0.5\n",
      "Basis size = 10, N_up = 1, N_down = 1\n",
      "RHF energy of H2O molecule at interatomic distance R = 2.000000 is E_RHF = -76.025518\n",
      "The nuclear term is Enuc =  9.040494080182766\n",
      "Basis size = 24, N_up = 5, N_down = 5\n"
     ]
    }
   ],
   "source": [
    "r = 1.84 \n",
    "\n",
    "h2o =\"\"\"\n",
    "    O\n",
    "    H 1 r\n",
    "    H 1 r 2 104\n",
    "    symmetry c1\n",
    "    r = %f\n",
    "    units bohr\n",
    "\"\"\" % (r)\n",
    "\n",
    "E_UHF_psi4, Enuc, H, W, S, norb, nocc_up, nocc_dn = call_psi4(h2o, {'reference' : 'uhf'})\n",
    "\n",
    "r = 2.0\n",
    "\n",
    "\n",
    "h2 = \"\"\"\n",
    "    0 1\n",
    "    H\n",
    "    H 1 %f\n",
    "    symmetry c1\n",
    "    units bohr\n",
    "    \"\"\" % (r)\n",
    "    \n",
    "E_RHF_psi4, Enuc, H, W, S, norb, nocc_up, nocc_dn = call_psi4(h2, {'reference' : 'rhf'})\n",
    "   \n",
    "print(\"RHF energy of H2 molecule at interatomic distance R = %f is E_RHF = %f\" % (r, E_RHF_psi4))\n",
    "print(\"The nuclear term is Enuc = \", Enuc)\n",
    "print(\"Basis size = %d, N_up = %d, N_down = %d\" % (norb, nocc_dn, nocc_up))\n",
    "\n",
    "E_UHF_psi4, Enuc, H, W, S, norb, nocc_up, nocc_dn = call_psi4(h2o, {'reference' : 'uhf'})\n",
    "   \n",
    "print(\"RHF energy of H2O molecule at interatomic distance R = %f is E_RHF = %f\" % (r, E_UHF_psi4))\n",
    "print(\"The nuclear term is Enuc = \", Enuc)\n",
    "print(\"Basis size = %d, N_up = %d, N_down = %d\" % (norb, nocc_dn, nocc_up))\n",
    "\n",
    "\n",
    "#print(np.allclose(np.dot(S12,np.dot(S,S12)),np.eye(norb)))\n"
   ]
  },
  {
   "cell_type": "markdown",
   "metadata": {},
   "source": [
    "# Solving the generalized eigenvalue problem with numpy\n",
    "\n",
    "For unknown reasons, the numpy team has removed the direct support for solution of the generalized eigenvalue prolem: for Hermitian matrices $A$ and $B$, with $B$ positive definite, solve\n",
    "\n",
    "$$ AU = BU\\lambda , \\quad \\lambda \\; \\text{diagonal}. $$\n",
    "\n",
    "This generalized eigenvalue problem is at the core of the SCF iterations, so we need to be able to solve them. Here is a small routine that transforms the generalized eigenvalue problem to standard form by computing the Cholesky decomposition $B = L L^T$, with $L$ lower triangular. A solution to the generalized EVP can then be found by solving\n",
    "the symmetric EVP\n",
    "\n",
    "$$ (L^{-1}A L^{-T}) V = V\\lambda, $$\n",
    "\n",
    "and compute $U = L^{-T} V$.\n",
    "\n",
    "The routine returns the eigenvalues in ascending order (a feature of LAPACK)."
   ]
  },
  {
   "cell_type": "code",
   "execution_count": 4,
   "metadata": {
    "collapsed": true
   },
   "outputs": [],
   "source": [
    "\n",
    "def geig(A,B):\n",
    "    \"\"\"\n",
    "    Solve the generalized eigenvalue problem A*U = B*U*lambda,\n",
    "    where B is symmetric, positive definite, and where A is symmetric.\n",
    "    \n",
    "    Turns out numpy has removed the generalize eigenvalue call to LAPACK ... \n",
    "    Why? Beats me.\n",
    "    \n",
    "    Returns lamb, U.\n",
    "    lamb = vector of eigenvalues in ascending order\n",
    "    U = matrix of eigenvectors.\n",
    "    \"\"\"\n",
    "    # Compute Cholesky decomp B = L * L^T\n",
    "    L = np.linalg.cholesky(B)\n",
    "    \n",
    "    # Compute new matrix C = L^{-1} A L^{-T}\n",
    "    Linv = np.linalg.inv(L)\n",
    "    LinvT = np.transpose(Linv)\n",
    "    C = np.linalg.multi_dot([Linv, A, LinvT])\n",
    "\n",
    "    lamb, V = np.linalg.eigh(C)\n",
    "    U = np.dot(LinvT, V)\n",
    "    return lamb, U\n",
    "\n",
    "\n",
    "\n"
   ]
  },
  {
   "cell_type": "code",
   "execution_count": 5,
   "metadata": {
    "collapsed": true
   },
   "outputs": [],
   "source": [
    "E_RHF_psi4, Enuc, H, W, S, norb, nocc_up, nocc_dn = call_psi4(h2, {'reference' : 'rhf'})\n",
    "lamb, U = geig(H,S)"
   ]
  },
  {
   "cell_type": "code",
   "execution_count": 6,
   "metadata": {},
   "outputs": [
    {
     "name": "stdout",
     "output_type": "stream",
     "text": [
      "Eigenvalues of H: [-1.10026467 -0.66459207 -0.22970275 -0.06169326  0.24348876  0.24348876\n",
      "  0.54773078  0.79117215  0.79117215  1.56633065]\n",
      "Eigenvectors: [[ -4.80361032e-01   5.66026402e-01   6.93239252e-01   8.70606993e-01\n",
      "    4.94103810e-17  -3.87012485e-17  -4.52709658e-01  -2.54221242e-16\n",
      "   -4.25523637e-17  -6.51665963e-01]\n",
      " [ -1.25456465e-01   6.80678739e-01  -7.51915609e-01  -1.76769067e+00\n",
      "   -3.29192486e-17  -1.38729074e-16   2.43196575e-01   1.64965128e-16\n",
      "    1.29289156e-16  -4.49691060e-01]\n",
      " [ -5.03728667e-02  -2.25580810e-02   1.09426703e-01  -6.55225220e-02\n",
      "   -1.02819037e-16   1.72570205e-16   6.08045718e-01   6.78057773e-17\n",
      "   -4.37180877e-17  -1.29762105e+00]\n",
      " [ -3.43313454e-19   5.38867286e-17   1.63977196e-16  -1.07297867e-16\n",
      "   -1.88581426e-01   6.08065525e-01  -4.73449048e-17  -7.88727153e-01\n",
      "   -1.74181387e-01   2.32232635e-16]\n",
      " [ -7.26403456e-20   2.70370170e-17  -1.54106682e-16   5.23509410e-17\n",
      "    6.08065525e-01   1.88581426e-01  -1.99324344e-17   1.74181387e-01\n",
      "   -7.88727153e-01  -9.84226545e-19]\n",
      " [ -4.80361032e-01  -5.66026402e-01   6.93239252e-01  -8.70606993e-01\n",
      "    3.13387209e-17  -1.26374418e-16  -4.52709658e-01  -2.64452198e-16\n",
      "    4.59157241e-17   6.51665963e-01]\n",
      " [ -1.25456465e-01  -6.80678739e-01  -7.51915609e-01   1.76769067e+00\n",
      "   -9.17035538e-19   2.26706972e-16   2.43196575e-01   2.28950985e-16\n",
      "   -1.23400868e-16   4.49691060e-01]\n",
      " [  5.03728667e-02  -2.25580810e-02  -1.09426703e-01  -6.55225220e-02\n",
      "    5.24473595e-17  -1.24841149e-16  -6.08045718e-01  -2.56403479e-16\n",
      "    1.39247526e-17  -1.29762105e+00]\n",
      " [  1.46945063e-18   6.95285550e-18   1.09412974e-17  -1.59413339e-17\n",
      "   -1.88581426e-01   6.08065525e-01  -3.91351515e-16   7.88727153e-01\n",
      "    1.74181387e-01  -4.36068184e-17]\n",
      " [  3.10915289e-19   3.07557539e-18  -5.31890840e-17   1.35263356e-17\n",
      "    6.08065525e-01   1.88581426e-01   8.53148282e-17  -1.74181387e-01\n",
      "    7.88727153e-01   4.21268757e-18]]\n"
     ]
    },
    {
     "data": {
      "image/png": "[encoded data removed]",
      "text/plain": [
       "<matplotlib.figure.Figure at 0x11507e668>"
      ]
     },
     "metadata": {},
     "output_type": "display_data"
    }
   ],
   "source": [
    "print(\"Eigenvalues of H:\", lamb)\n",
    "print(\"Eigenvectors:\", U)\n",
    "plt.imshow(np.linalg.multi_dot([np.transpose(U),S,U]))\n",
    "plt.show()"
   ]
  },
  {
   "cell_type": "code",
   "execution_count": null,
   "metadata": {
    "collapsed": true
   },
   "outputs": [],
   "source": []
  }
 ],
 "metadata": {
  "kernelspec": {
   "display_name": "Python 3",
   "language": "python",
   "name": "python3"
  },
  "language_info": {
   "codemirror_mode": {
    "name": "ipython",
    "version": 3
   },
   "file_extension": ".py",
   "mimetype": "text/x-python",
   "name": "python",
   "nbconvert_exporter": "python",
   "pygments_lexer": "ipython3",
   "version": "3.6.1"
  }
 },
 "nbformat": 4,
 "nbformat_minor": 2
}
