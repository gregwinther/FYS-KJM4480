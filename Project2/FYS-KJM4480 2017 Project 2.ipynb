{
 "cells": [
  {
   "cell_type": "markdown",
   "metadata": {},
   "source": [
    "# Coupled Cluster and Friends"
   ]
  },
  {
   "cell_type": "markdown",
   "metadata": {},
   "source": [
    "## Introduction\n",
    "We write the Hamiltonian as\n",
    "\\begin{align}\n",
    "\\hat H = \\hat H_0 + \\hat V\n",
    "\\end{align}\n",
    "\n",
    "where \n",
    "\\begin{align}\n",
    "\\hat H_0 = \\sum_{p\\sigma}\\epsilon_p c^\\dagger_{p\\sigma} c_{p\\sigma},\n",
    "\\quad\n",
    "\\epsilon_p = \\xi \\cdot (p-1),\n",
    "\\end{align}\n",
    "\n",
    "and\n",
    "\\begin{align}\n",
    "\\hat V = - \\frac{1}{2} g \\sum_{pq}c^\\dagger_{p+}c^\\dagger_{p-}c_{q-}c_{q+}.\n",
    "\\end{align}\n",
    "\n",
    "Moreover, the so-called <i>pair creation</i> and <i>pair annihilation</i> operators are given by\n",
    "\n",
    "\\begin{align}\n",
    "\\hat P^\\dagger_p \\equiv c^\\dagger_{p+}c^\\dagger_{p-}\n",
    "\\end{align}\n",
    "\n",
    "and\n",
    "\\begin{align}\n",
    "\\hat P_p \\equiv c_{p-}c_{p+}.\n",
    "\\end{align}\n",
    "\n",
    "The number operator for level $p$ is\n",
    "\\begin{align}\n",
    "\\hat n_p \\equiv \\sum_{\\sigma} c^\\dagger_{p\\sigma} c_{p\\sigma},\n",
    "\\end{align}\n",
    "\n",
    "the pair number operator is\n",
    "\\begin{align}\n",
    "\\hat P = \\sum_p \\hat P^\\dagger_p \\hat P_p,\n",
    "\\end{align}\n",
    "\n",
    "and the spin-projection operator is given by\n",
    "\\begin{align}\n",
    "\\hat S_z = \\frac{1}{2} \\sigma c^\\dagger_{p\\sigma}c_{p\\sigma}.\n",
    "\\end{align}"
   ]
  },
  {
   "cell_type": "markdown",
   "metadata": {},
   "source": [
    "## Excercise 1\n",
    "We will make use of the following anti-commutating relations\n",
    "\\begin{align}\n",
    "\\{c_{p\\sigma}, c_{q\\tau}\\} &= 0 \\\\\n",
    "\\{c^\\dagger_{p\\sigma}, c^\\dagger_{q\\tau}\\} &= 0 \\\\\n",
    "\\{c_{p\\sigma}, c^\\dagger_{q \\tau}\\} &= \\delta_{pq}\\delta_{\\sigma\\tau}.\n",
    "\\end{align}"
   ]
  },
  {
   "cell_type": "markdown",
   "metadata": {},
   "source": [
    "### Commutation Relation of Hamiltonian and Spin Operator\n",
    "\n",
    "The product of the unperturbed Hamiltonian and the spin-projection operator is\n",
    "\n",
    "\\begin{align}\n",
    "\\hat H_0 \\hat S_z &= \n",
    "\\sum_{p\\sigma}\\epsilon^\\dagger_{p\\sigma}c_{p\\sigma} \\frac{1}{2}\\sigma_{q\\tau}\\tau c^\\dagger_{q\\tau}c_{q\\tau} \\\\\n",
    "&=\n",
    "\\frac{1}{2}\\sum_{p\\sigma q\\tau}\\epsilon_p\\tau c^\\dagger_{p\\sigma} c_{p\\sigma}c^\\dagger_{q\\tau}c_{q\\tau} \\\\\n",
    "&=\n",
    "\\frac{1}{2}\\Big[\\sum_{p\\sigma q\\tau} \\epsilon_p \\tau c^\\dagger_{p\\sigma}(\\delta_{pq}\\delta_{\\sigma\\tau} - c^\\dagger_{q\\tau}c_{p\\sigma})c_{q\\tau}\\Big] \\\\\n",
    "&=\n",
    "\\frac{1}{2}\\Big[\\sum_{p\\sigma}\\epsilon_p\\sigma c^\\dagger_{p\\sigma}c_{p\\sigma} - \\sum_{p\\sigma q\\tau}\\epsilon_p \\tau c^\\dagger_{p\\sigma}c^\\dagger_{q\\tau}c_{p\\sigma}c_{q\\tau} \\Big] \\\\\n",
    "&=\n",
    "\\frac{1}{2}\\Big[\\sum_{p\\sigma}\\epsilon_p\\sigma c^\\dagger_{p\\sigma}c_{p\\sigma} - \\sum_{p\\sigma q\\tau}\\epsilon_p \\tau c^\\dagger_{q\\tau}c^\\dagger_{p\\sigma}c_{q\\tau}c_{p\\sigma} \\Big] \\\\\n",
    "&=\n",
    "\\frac{1}{2}\\Big[\\sum_{p\\sigma}\\epsilon_p\\sigma c^\\dagger_{p\\sigma}c_{p\\sigma} - \\sum_{p\\sigma q\\tau}\\epsilon_p \\tau c^\\dagger_{q\\tau}(\\delta_{pq}\\delta_{\\sigma\\tau} - c_{q\\tau}c^\\dagger_{p\\sigma})c_{p\\sigma} \\Big] \\\\\n",
    "&=\n",
    "\\frac{1}{2}\\Big[\\sum_{p\\sigma} \\epsilon_p \\sigma c^\\dagger_{p\\sigma}c_{p\\sigma} - \\sum_{p\\sigma}\\epsilon_p \\sigma c^\\dagger_{p\\sigma}c_{p\\sigma} + \\sum_{q\\tau}\\tau c^\\dagger_{q\\tau}c_{q\\tau}\\sum_{p\\sigma}\\epsilon_p c^\\dagger_{p\\sigma}c_{p\\sigma} \\Big] \\\\\n",
    "&= \\hat S_z \\hat H_0,\n",
    "\\end{align}\n",
    "\n",
    "which implies that $[\\hat H_0, \\hat S_z ] = 0$."
   ]
  },
  {
   "cell_type": "markdown",
   "metadata": {},
   "source": [
    "We would also like to compute $[\\hat V, \\hat S_z]$. This is easiest to do by taking a couple of preparatory steps first."
   ]
  },
  {
   "cell_type": "markdown",
   "metadata": {},
   "source": [
    "\\begin{align}\n",
    "\\hat P^\\dagger_p c^\\dagger_{q\\sigma} = c^\\dagger_{p+}c^\\dagger_{p-}c^\\dagger_{q\\sigma} = c^\\dagger_{q\\sigma}c^\\dagger_{p+}c^\\dagger_{p-} = c^\\dagger_{q\\sigma} \\hat P^\\dagger_p,\n",
    "\\end{align}\n",
    "which means that \n",
    "\n",
    "\\begin{align}\n",
    "[\\hat{P}^\\dagger_p, c^\\dagger_{q\\sigma}] = 0,\n",
    "\\end{align}\n",
    "\n",
    "a similar computation yields\n",
    "\n",
    "\\begin{align}\n",
    "[\\hat P_p, c_{q\\sigma}] = 0.\n",
    "\\end{align}"
   ]
  },
  {
   "cell_type": "markdown",
   "metadata": {},
   "source": [
    "The product of a Hermitian conjugate part and a non-hermitian part is a bit trickier.\n",
    "\n",
    "\\begin{align}\n",
    "\\hat P^\\dagger_p c_{q\\sigma} &= c^\\dagger_{p+} c^\\dagger_{p-} c_{q\\sigma} = c^\\dagger_{p+}(\\delta_{pq}\\delta_{-\\sigma} - c_{q\\sigma}c^\\dagger_{p-}) \\\\\n",
    "&= c^\\dagger_{p+}\\delta_{pq}\\delta_{-\\sigma} - c^\\dagger_{p+}c_{q\\sigma}c^\\dagger_{p-} \\\\\n",
    "&= c^\\dagger_{p+}\\delta_{pq}\\delta_{-\\sigma} - (\\delta_{pq}\\delta_{+\\sigma} - c_{q\\sigma}c^\\dagger_{p+})c^\\dagger_{p-} \\\\\n",
    "&= \\delta_{pq}(c^\\dagger_{p+}\\delta_{-\\sigma} - c^\\dagger_{p-}\\delta_{+\\sigma}) + c_{q\\sigma}\\hat P^\\dagger_p\n",
    "\\end{align}"
   ]
  },
  {
   "cell_type": "markdown",
   "metadata": {},
   "source": [
    "Which means that\n",
    "\\begin{align}\n",
    "[\\hat P^\\dagger_p, c_{q\\sigma}] = \\delta_{pq}(c^\\dagger_{p+}\\delta_{-\\sigma} - c^\\dagger_{p-}\\delta_{+\\sigma}).\n",
    "\\end{align}"
   ]
  },
  {
   "cell_type": "markdown",
   "metadata": {},
   "source": [
    "Similarly,\n",
    "\n",
    "\\begin{align}\n",
    "\\hat P_p c^\\dagger_{q\\sigma} &= c_{p-} c_{p+} c^\\dagger_{q\\sigma} = c_{p-}(\\delta_{pq}\\delta_{+\\sigma} - c^\\dagger_{q\\sigma}c_{p+}) \\\\\n",
    "&= c_{p-}\\delta_{pq}\\delta_{+\\sigma} - c_{p-}c^\\dagger_{q\\sigma}c_{p+} \\\\\n",
    "&= c_{p-}\\delta_{pq}\\delta_{+\\sigma} - (\\delta_{pq}\\delta_{-\\sigma} - c^\\dagger_{q\\sigma}c_{p-})c_{p+} \\\\\n",
    "&= \\delta_{pq}(c_{p-}\\delta_{+\\sigma} - c_{p+}\\delta_{-\\sigma}) + c^\\dagger_{q\\sigma}\\hat P_p,\n",
    "\\end{align}"
   ]
  },
  {
   "cell_type": "markdown",
   "metadata": {},
   "source": [
    "which gives\n",
    "\\begin{align}\n",
    "[\\hat P_p, c^\\dagger_{q\\sigma}] = \\delta_{pq}(c_{p-}\\delta_{+\\sigma} - c_{p+}\\delta_{-\\sigma}).\n",
    "\\end{align}"
   ]
  },
  {
   "cell_type": "markdown",
   "metadata": {},
   "source": [
    "We are finally ready to compute the last bit,\n",
    "\\begin{align}\n",
    "\\hat V \\hat S_z =& -\\frac{1}{2}g \\sum_{pq}c^\\dagger_{p+} c^\\dagger_{p-}c_{q-}c_{q+}\\frac{1}{2}\\sum_{r\\sigma}\\sigma c^\\dagger_{r\\sigma}c_{r\\sigma} \\\\\n",
    "=&\n",
    "-\\frac{1}{4}g \\sum_{pqr\\sigma}\\big(\\hat P^\\dagger_p \\hat P_q c^\\dagger_{r\\sigma} c_{r\\sigma} \\big) \\\\\n",
    "=&\n",
    "-\\frac{1}{4}g\\Big(\\sum_{pqr\\sigma} \\sigma \\hat P^\\dagger_p \\delta_{qr}(c_{q-}\\delta_{+\\sigma} - c_{q+}\\delta_{-\\sigma})c_{r\\sigma}\n",
    "- \\sum_{pqr\\sigma} \\hat P^\\dagger_p c^\\dagger_{r\\sigma} \\hat P_q c_{r\\sigma}\n",
    "\\Big) \\\\\n",
    "=& \n",
    "-\\frac{1}{4}g \\Big(\\sum_{pq}[+]\\hat P^\\dagger_p c_{q-} c_{q+} - \\sum_{pq}[-] \\hat P^\\dagger_p c_{q+}c_{q-} - \\sum_{pqr\\sigma}\\sigma c^\\dagger_{r\\sigma}\\hat P^\\dagger_p c_{r\\sigma} \\hat P_q \\Big) \\\\\n",
    "=&\n",
    "-\\frac{1}{4}g\\Big(\\sum_{pq}[+]\\hat P^\\dagger_pc_{q-}c_{q+} - \\sum_{pq}[-]\\hat P^\\dagger_p c_{q+}c_{q-} \\\\ &- \\sum_{pqr\\sigma}\\sigma c^\\dagger_{r\\sigma}\\delta_{pr}(c^\\dagger_{p+}\\delta_{-\\sigma} - c^\\dagger_{p-}\\delta_{+\\sigma})\\hat P_qs\n",
    "+ \\sum_{pqr\\sigma}\\sigma c^\\dagger_{r\\sigma}c_{r\\sigma}\\hat P^\\dagger_p \\hat P_q\\Big) \\\\\n",
    "=& -\\frac{1}{4} g \\Big(\\sum_{pq}[+]\\hat P^\\dagger_p c_{q-}c_{q+} - \\sum_{pq}[-]\\hat P^\\dagger_p c_{q+}C_{q-} \\\\\n",
    "&- \\sum_{pq}[-]c^\\dagger_{p-}c^\\dagger_{p+}\\hat P_q + \\sum_{pq}[+] c^\\dagger_{p+}c^\\dagger_{p-}\\hat P_q \\Big) + \\hat S_z \\hat V.\n",
    "\\end{align}\n",
    "\n",
    "When inserting for $\\hat P^\\dagger_p = c^\\dagger_{p+}c^\\dagger_{p-}$ and $\\hat P_q = c_{q-}c_{q+}$ the terms inside the paranthesis will cancel. leading to\n",
    "\n",
    "\\begin{align} \n",
    "\\hat V \\hat S_z = \\hat S_z \\hat V \\rightarrow [\\hat V, \\hat S_z] = 0.\n",
    "\\end{align}"
   ]
  },
  {
   "cell_type": "markdown",
   "metadata": {},
   "source": [
    "This leads to a nice result for the full Hamiltonian\n",
    "\n",
    "\\begin{align} \n",
    "[\\hat H, \\hat S_z] = [\\hat H_0 + \\hat V, \\hat S_z] = [\\hat H_0, \\hat S_z] + [\\hat V, \\hat S_z] = 0. \n",
    "\\end{align}"
   ]
  },
  {
   "cell_type": "markdown",
   "metadata": {},
   "source": [
    "### Commutation Relation of Hamiltonian and Pair Number Operator  "
   ]
  },
  {
   "cell_type": "markdown",
   "metadata": {},
   "source": [
    "By using some ordinary commutator properties we see that\n",
    "\\begin{align}\n",
    "[\\hat H_0, \\hat P] = [\\hat H_0, \\sum_p\\hat P^\\dagger_p \\hat P_p] = \\sum_p [\\hat H_0, \\hat P^\\dagger_p \\hat P_p] = \\sum_p \\big([\\hat H_0, \\hat P^\\dagger_p]\\hat P_p + \\hat P^\\dagger_p[\\hat H_0, \\hat P_p] \\big),\n",
    "\\end{align}\n",
    "\n",
    "which implies that the unperturbed Hamiltonian commutes with the pair number operator if it commutes with the pair creation and pair annihilation operators. This, as will be shown, is not the case. However, we are able to split the computation into several parts."
   ]
  },
  {
   "cell_type": "markdown",
   "metadata": {},
   "source": [
    "First for the pair annihilation operator,\n",
    "\n",
    "\\begin{align}\n",
    "\\hat H_0\\hat P_q =& \\sum_{p\\sigma}\\epsilon_p c^\\dagger_{p\\sigma}c_{p\\sigma}c_{q-}c_{q+} \\\\\n",
    "=& \\sum_{p\\sigma} \\epsilon_p c^\\dagger_{p\\sigma}c_{q-}c_{q+}c_{p\\sigma} \\\\\n",
    "=& \\sum_{p\\sigma} \\epsilon_p \\delta_{pq}\\delta_{\\sigma -}c_{q+}c_{p\\sigma}\n",
    "+ \\sum_{p\\sigma} \\epsilon_p c_{q-} c^\\dagger_{p\\sigma}c_{q+}c_{p\\sigma} \\\\\n",
    "=& \\sum_{p\\sigma} \\epsilon_p \\delta_{pq}\\delta_{\\sigma -}c_{q+}c_{p\\sigma}\n",
    "- \\sum_{p\\sigma} \\epsilon_p c_{q-} \\delta_{pq} \\delta_{\\sigma +} c_{p\\sigma} \\\\\n",
    "&+ \\sum_{p\\sigma} \\epsilon_p c_{q-} c_{q+} c^\\dagger_{p\\sigma}c_{p\\sigma} \\\\\n",
    "=& \\sum_p \\epsilon_p c_{p+} c_{p-} - \\sum_p \\epsilon_p c_{p-} c_{p+} \\\\\n",
    "&+ c_{q-}c_{q+}\\sum_{p\\sigma} \\epsilon_p c^\\dagger_{p\\sigma} c_{p\\sigma} \\\\\n",
    "=& - 2\\epsilon_p c_{p-} c_{p+} + \\hat P_q \\hat H_0,\n",
    "\\end{align}\n",
    "implying\n",
    "\\begin{align}\n",
    "[\\hat H_0, \\hat P_q] = -2\\epsilon_p c_{p-} c_{p+}.\n",
    "\\end{align}"
   ]
  },
  {
   "cell_type": "markdown",
   "metadata": {},
   "source": [
    "Proceeding with the pair creation operator,\n",
    "\\begin{align}\n",
    "\\hat H_0 \\hat P^\\dagger_q =&\n",
    "\\sum_{pq}\\epsilon_p c^\\dagger_{p\\sigma}c_{p\\sigma}c^\\dagger_{q+}c^\\dagger_{q-} \\\\\n",
    "=& \n",
    "\\sum_{p\\sigma}\\epsilon_p c^\\dagger_{p\\sigma}\\delta_{pq}\\delta_{\\sigma +} c^\\dagger_{q -}\n",
    "- \\sum_{p\\sigma} \\epsilon_p c^\\dagger_{p \\sigma} c^\\dagger_{q +}c_{p\\sigma}c^\\dagger_{q -} \\\\\n",
    "=&\n",
    "\\sum_{p\\sigma} \\epsilon_p c^\\dagger_{p\\sigma} \\delta_{pq} \\delta_{\\sigma +} c^\\dagger_{q-}\n",
    "-\\sum_{p\\sigma} \\epsilon_p c^\\dagger_{p\\sigma} c^\\dagger_{q+} \\delta_{pq} \\delta_{\\sigma -} \\\\\n",
    "&+ \\sum_{p\\sigma} \\epsilon_p c^\\dagger_{p\\sigma} c^\\dagger_{q+} c^\\dagger_{q-} c_{p\\sigma} \\\\\n",
    "=&\n",
    "\\sum_p \\epsilon_p c^\\dagger_{p+}c^\\dagger_{p-} - \\sum_p\\epsilon_p c^\\dagger_{p-} c^\\dagger_{p+} \\\\\n",
    "&+ c^\\dagger_{q+}c^\\dagger_{q-}\\sum_{p\\sigma}\\epsilon_p c^\\dagger_{p\\sigma} c_{p\\sigma} \\\\\n",
    "=& 2\\epsilon_p c^\\dagger_{p+} c^\\dagger_{p-}\\hat P^\\dagger_q \\hat H_0,\n",
    "\\end{align}\n",
    "\n",
    "which gives\n",
    "\n",
    "\\begin{align} \n",
    "[\\hat H_0, \\hat P^\\dagger_q] = 2\\epsilon_p c^\\dagger_{p+} c^\\dagger_{p-}.\n",
    "\\end{align}"
   ]
  },
  {
   "cell_type": "markdown",
   "metadata": {},
   "source": [
    "Which eventually leads to (half of) the commutation relation we are after,\n",
    "\n",
    "\\begin{align} \n",
    "[\\hat H_0, \\hat P] =& \\sum_p \\big([\\hat H_0, \\hat P^\\dagger_p]\\hat P_p + \\hat P^\\dagger_p[\\hat H_0, \\hat P_p] \\big) = \\sum_p \\big(\\epsilon_p c^\\dagger_{p+}c^\\dagger_{p-}\\hat P_p - \\hat P^\\dagger_p 2\\epsilon_p c_{p-} c_{p+} \\big) \\\\\n",
    "=& \\sum_p \\big(2\\epsilon_p c^\\dagger_{p+}c^\\dagger_{p-}c_{p-}c_{p+} - 2\\epsilon_p c^\\dagger_{p+} c^\\dagger_{p-} c_{p-} c_{p+} \\big) = 0.\n",
    "\\end{align}"
   ]
  },
  {
   "cell_type": "markdown",
   "metadata": {},
   "source": [
    "### Commutation Relation of Pair Number Operator and Spin Operator"
   ]
  },
  {
   "cell_type": "markdown",
   "metadata": {},
   "source": [
    "The product of the pair number operator and the spin projection operator gives\n",
    "\n",
    "\\begin{align}\n",
    "2\\hat P \\hat S_z \n",
    "=&\n",
    "\\sum_{pq\\sigma}\\sigma \\hat P^\\dagger_q \\hat P_q c^\\dagger_{p\\sigma} c_{p\\sigma} \\\\\n",
    "=&\n",
    "\\sum_{pq\\sigma}\\sigma \\hat P^\\dagger_q \\delta_{pq} (c_{q-}\\delta_{+\\sigma} - c_{q+} \\delta_{-\\sigma}) c_{p\\sigma} \n",
    "+ \\sum_{pq\\sigma}\\sigma \\hat P^\\dagger_q c^\\dagger_{p\\sigma} \\hat P_q c_{p\\sigma} \\\\\n",
    "=& \n",
    "\\sum_p \\big([+]\\hat P^\\dagger_p c_{p-} c_{p+} - [-]\\hat P^\\dagger_p c_{p+}c_{p-} \\big) + \\sum_{pq\\sigma} c^\\dagger_{p\\sigma} \\hat P^\\dagger_q c_{p\\sigma} \\hat P_q \\\\\n",
    "=&\n",
    "\\sum_{pq\\sigma}\\sigma c^\\dagger_{p\\sigma} \\delta_{pq}(c^\\dagger_{q+}\\delta_{-\\sigma} - c^\\dagger_{q-}\\delta_{+\\sigma})\\hat P_q \n",
    "+ \\sum_{pq\\sigma}\\sigma c^\\dagger_{p\\sigma} c_{p\\sigma}\\hat P^\\dagger_q \\hat P_q \\\\\n",
    "=&\n",
    "\\sum_p \\big([-]c^\\dagger_{p-}c^\\dagger_{p+} \\hat P_p - [+]c^\\dagger_{p+} c^\\dagger_{p-} \\hat P_p \\big) + \\sum_{p\\sigma}\\sigma c^\\dagger_{p\\sigma}c_{p\\sigma} \\sum_q \\hat P^\\dagger_q \\hat P_q \\\\\n",
    "=& 2\\hat S_z \\hat P,\n",
    "\\end{align}\n",
    "\n",
    "implying\n",
    "\n",
    "\\begin{align}\n",
    "[\\hat P, \\hat S_z] = 0.\n",
    "\\end{align}"
   ]
  },
  {
   "cell_type": "markdown",
   "metadata": {},
   "source": [
    "Because of the vanishing commutators derived above, the Hamiltionian is block diagonal. This means that we can find a complete set of eigenfunctions $|\\Psi_k; S_z, P\\rangle$ of $\\hat H$ so that,\n",
    "\n",
    "\\begin{align}\n",
    "\\hat H |\\Psi_k; S_z, P\\rangle &= E_{k, S_z, P} |\\Psi_k; S_z, P\\rangle, \\\\\n",
    "\\hat P |\\Psi_k; S_z, P\\rangle &= S_z |\\Psi_k; S_z, P\\rangle \\\\\n",
    "\\hat S_z |\\Psi_k; S_z, P\\rangle &= P |\\Psi_k; S_z, P\\rangle. \n",
    "\\end{align}"
   ]
  },
  {
   "cell_type": "markdown",
   "metadata": {},
   "source": [
    "The focus from now on will be on the case $N=4$, $S_z = 0$, $P=2$ and $M=4$ levels. We seek eigenfunctions $|\\Psi_k\\rangle \\equiv |\\Psi_k;0,2\\rangle$ and eigenvalues $E_k \\equiv E_{k,S_z,P}$ and set $\\xi = 0$ for the remainder of this study."
   ]
  },
  {
   "cell_type": "markdown",
   "metadata": {},
   "source": [
    "### Commutation Relation of Pair Creation and Annihilation Operator\n",
    "\n",
    "The product of the pair creation and annihilation operators is\n",
    "\n",
    "\\begin{align}\n",
    "\\hat P_p \\hat P^\\dagger_q \n",
    "=&\n",
    "c_{p-}c_{p+}c^\\dagger_{q+}c^\\dagger_{q-} \\\\\n",
    "=&\n",
    "c_{p-}\\delta_{pq}\\delta_{++}c^\\dagger_{q-} - c_{p-}c^\\dagger_{q+}c_{p+}c^\\dagger_{q-} \\\\\n",
    "=&\n",
    "\\delta_{pq}c_{q-}c^\\dagger_{q-} - (\\delta_{pq}\\delta_{-+} - c^\\dagger_{q+} c_{p-})(\\delta_{pq} \\delta_{+-} - c^\\dagger_{q-} c^\\dagger_{p+}) \\\\\n",
    "=&\n",
    "\\delta_{pq}(\\delta_{qq}\\delta_{--} - c^\\dagger_{q-}c_{q-}) - c^\\dagger_{q+}c_{p-}c^\\dagger_{q-}c_{p+} \\\\\n",
    "=&\n",
    "\\delta_{pq}(1 - c^\\dagger_{q-}c_{q-}) - \\delta_{pq}\\delta_{--}c^\\dagger_{q+} c_{p+} + c^\\dagger_{q+}c^\\dagger_{q-} c_{p-} c_{p+} \\\\\n",
    "=&\n",
    "\\delta_{pq}(1 - c^\\dagger_{q-}c_{q-} - c^\\dagger_{q+}c_{q+}) + \\hat P^\\dagger_q \\hat P_p \\\\\n",
    "=&\n",
    "\\delta_{pq}(1 - \\hat n_q) + \\hat P^\\dagger_q \\hat P_p,\n",
    "\\end{align}\n",
    "\n",
    "which gives the desired result\n",
    "\n",
    "\\begin{align}\n",
    "[\\hat P_p , \\hat P^\\dagger_q] = \\delta_{pq}(1 - \\hat n_q).\n",
    "\\end{align}"
   ]
  },
  {
   "cell_type": "markdown",
   "metadata": {},
   "source": [
    "In the derivation above I have been a bit naughty by changing indices in order to make them work in my favour. The Kronecker deltas should make this perfectly fine, however."
   ]
  },
  {
   "cell_type": "markdown",
   "metadata": {},
   "source": [
    "### Eigenvalue Equations for the Reduced Case"
   ]
  },
  {
   "cell_type": "markdown",
   "metadata": {},
   "source": [
    "First, let us look at the pair number operator acting on the Slater's determinant. The sum in the pair number operator only runs up to two in the constrained/reduced case, so that $\\hat P = \\hat P^\\dagger_1 \\hat P_1 + \\hat P^\\dagger_2 \\hat P_2$, and as always $|\\Phi \\rangle = \\hat P^\\dagger_1 \\hat P^\\dagger_2|-\\rangle$. Before we begin, we need the commutators of two pair creation and two pair annihalation operators,\n",
    "\n",
    "\\begin{align}\n",
    "\\hat P_p\\hat P_q =& c_{p-}c_{p+}c_{q-}c_{q+} = c_{p+}c_{q-}c_{q+}c_{p-} = c_{q-}c_{q+}c_{p-}c_{q+} = \\hat P_q \\hat P_p,\n",
    "\\end{align}\n",
    "\n",
    "yielding\n",
    "\n",
    "\\begin{align}\n",
    "[\\hat P_p, \\hat P_q] = 0.\n",
    "\\end{align}\n",
    "\n",
    "The computation of the pair creation operator commutator is, for all intents an purposes, identical\n",
    "\n",
    "\\begin{align}\n",
    "[\\hat P^\\dagger_p, \\hat P^\\dagger_q] = 0.\n",
    "\\end{align}"
   ]
  },
  {
   "cell_type": "markdown",
   "metadata": {
    "collapsed": true
   },
   "source": [
    "The pair number operator acting on the Slater determinant gives\n",
    "\n",
    "\\begin{align}\n",
    "\\hat P |\\Phi \\rangle =& \\hat P^\\dagger_1 \\hat P_1 \\hat P^\\dagger_1 \\hat P^\\dagger_2 |-\\rangle \n",
    "     + \\hat P^\\dagger_2 \\hat P_2 \\hat P^\\dagger_1 \\hat P^\\dagger_2 |-\\rangle \\\\\n",
    "    =&  \\hat P^\\dagger_1\\big(\\hat P^\\dagger_1 \\hat P_1 + \\delta_{11}(1 - \\hat n_1)\\big) \\hat P^\\dagger_2 |-\\rangle\n",
    "      + \\hat P^\\dagger_2\\big(\\hat P^\\dagger_2 \\hat P_2 + \\delta_{12}(1 - \\hat n_2)\\big) \\hat P^\\dagger_2 |-\\rangle \\\\\n",
    "    =& \\hat P^\\dagger_1 \\hat P^\\dagger_1 \\hat P_1 \\hat P^\\dagger_2|-\\rangle + \\hat P^\\dagger_1 \\hat P^\\dagger_2 |-\\rangle\n",
    "      - \\hat P^\\dagger_1\\hat n_1 \\hat P^\\dagger_2 |-\\rangle + \\hat P^\\dagger_2 \\hat P^\\dagger_2 \\hat P_2 \\hat P^\\dagger_2 |-\\rangle \\\\\n",
    "    =& \\hat P^\\dagger_1 \\hat P^\\dagger_1\\big(\\hat P^\\dagger_2 \\hat P_1 + \\delta_{12}(1 - \\hat n_2) \\big) |-\\rangle\n",
    "     + \\hat P^\\dagger_2 \\hat P^\\dagger_1\\big(\\hat P^\\dagger_2 \\hat P_2 + \\delta_{22}(1 - \\hat n_2) \\big) |-\\rangle \\\\\n",
    "     &+ |\\Phi\\rangle \\\\\n",
    "    =& \\hat P^\\dagger_1 \\hat P^\\dagger_1 \\hat P^\\dagger_2 \\hat P_1 |-\\rangle + \\hat P^\\dagger_2 \\hat P^\\dagger_1 \\hat P^\\dagger_2 \\hat P_2 |-\\rangle + \\hat P^\\dagger_2 \\hat P^\\dagger_1 |-\\rangle - \\hat P^\\dagger_2 \\hat P^\\dagger_1 \\hat n_2 |-\\rangle \\\\\n",
    "     &+ |\\Phi\\rangle \\\\\n",
    "    =& \\hat P^\\dagger_1 \\hat P^\\dagger_2 |-\\rangle + |\\Phi\\rangle = 2|\\Phi\\rangle.\n",
    "\\end{align}"
   ]
  },
  {
   "cell_type": "markdown",
   "metadata": {},
   "source": [
    "Proceeding with the spin-projection operator, \n",
    "\n",
    "\\begin{align}\n",
    "\\hat S_z =&\n",
    "\\frac{1}{2} \\sum_{p\\sigma} \\sigma c^\\dagger_{p\\sigma} c_{p\\sigma} \\hat P^\\dagger_1 \\hat P^\\dagger_2 |-\\rangle \\\\\n",
    "=&\n",
    "\\frac{1}{2} \\sum_{p\\sigma} \\sigma \\Big( c^\\dagger_{p\\sigma} \\hat P^\\dagger_1 c_{p\\sigma} \\hat P^\\dagger_2 - c^\\dagger_{p\\sigma} \\delta_{1p}(c^\\dagger_{1+} \\delta_{-\\sigma} - c^\\dagger_{1-}\\delta_{+\\sigma})\\hat P^\\dagger_2\\Big) |-\\rangle \\\\\n",
    "=& \n",
    "\\frac{1}{2} \\sum_{p\\sigma} \\sigma \\Big(c^\\dagger_{p\\sigma} \\hat P^\\dagger_1 \\hat P^\\dagger_2 c_{p\\sigma} - c^\\dagger_{p\\sigma} \\delta_{1p}(c^\\dagger_{1+} \\delta_{-\\sigma} - c^\\dagger_{1-}\\delta_{+\\sigma})\\hat P^\\dagger_2 \\\\\n",
    "&- c^\\dagger_{p\\sigma} \\hat P^\\dagger_1 \\delta_{2p}(c^\\dagger_{2+}\\delta_{-\\sigma} - c^\\dagger_{2-}\\delta_{+\\sigma})\\Big)|-\\rangle \\\\\n",
    "=&\n",
    "\\frac{1}{2}\\Big( c^\\dagger_{1-} c^\\dagger_{1+}\\hat P^\\dagger_2 + c^\\dagger_{1+}c^\\dagger_{1-}\\hat P^\\dagger_2 + c^\\dagger_{2-}\\hat P^\\dagger_1 c^\\dagger_{2+} + c^\\dagger_{2+}\\hat P_1 c^\\dagger_{2-}\\Big)|-\\rangle \\\\\n",
    "=&\n",
    "\\frac{1}{2}\\Big(-\\hat P^\\dagger_2\\hat P^\\dagger_1 + \\hat P^\\dagger_2\\hat P^\\dagger_1 - \\hat P^\\dagger_2\\hat P^\\dagger_1 + \\hat P^\\dagger_2\\hat P^\\dagger_1 \\Big) |-\\rangle \\\\\n",
    "=& 0\n",
    "\\end{align}"
   ]
  },
  {
   "cell_type": "markdown",
   "metadata": {},
   "source": [
    "### Basis of Subspace of Hilbert Space"
   ]
  },
  {
   "cell_type": "markdown",
   "metadata": {},
   "source": [
    "For the case where the spin is zero, $S_z = 0$ and the number of pairs is $P=2$ one can write Slater determinants in the following way\n",
    "\n",
    "\\begin{align}\n",
    "|p\\bar p q \\bar q\\rangle \\equiv P^\\dagger_p P^\\dagger_q|-\\rangle,\n",
    "\\end{align}\n",
    "\n",
    "where $\\bar p$ indicates the state $p-$ and $p$ is the state $p+$. \n",
    "\n",
    "Any state in the Hilbert space must have total spin zero, meaning that there are an equal number of spin-$+$ and spin-$-$ particles. Moreover, each state must contain excatly two particles. The set of these slater determinants give all different ways two pairs can be inserted into the available levels $M$, and is therefore a basis for the space. For $M=4$ there are ${{4}\\choose{2}} = 6$ ways to do this."
   ]
  },
  {
   "cell_type": "markdown",
   "metadata": {},
   "source": [
    "<img src=\"figures/basis_figures/basisfigure.pdf\">"
   ]
  },
  {
   "cell_type": "markdown",
   "metadata": {},
   "source": [
    "### Spin-Orbital Diagrams, No Pairs"
   ]
  },
  {
   "cell_type": "markdown",
   "metadata": {},
   "source": [
    "In the subspace where $P = 0$, $\\hat S_z = 0$ and $M=4$ there are no pairs, equal numbers of spin-$+$ and spin-$-$ particles and four levels. Assuming again that the total number of particles are $N=4$, we get the following possible configurations."
   ]
  },
  {
   "cell_type": "markdown",
   "metadata": {},
   "source": [
    "<img src=\"figures/no_pairs/no_pairs.pdf\">"
   ]
  },
  {
   "cell_type": "markdown",
   "metadata": {},
   "source": [
    "### Rewriting the Hamiltonian"
   ]
  },
  {
   "cell_type": "markdown",
   "metadata": {},
   "source": [
    "We will now rewrite the Hamiltonian to a more convenient form, setting $\\xi = 1$ the unperturbed can be rewritten to\n",
    "\n",
    "\\begin{align}\n",
    "\\hat H_0 = \\sum_{p\\sigma} (1-p) c^\\dagger_{p\\sigma}c_{p\\sigma}\n",
    "         = \\sum_{p} (1-p) \\sum_{\\sigma} c^\\dagger_{p\\sigma}c_{p\\sigma}\n",
    "         = \\sum_{p} (1-p) \\hat n_p.\n",
    "\\end{align}"
   ]
  },
  {
   "cell_type": "markdown",
   "metadata": {},
   "source": [
    "Moreover, the pairing force term can be rewritten as follows\n",
    "\n",
    "\\begin{align}\n",
    "\\hat V =& -\\frac{1}{2}g\\sum_{pq}c^\\dagger_{p+}c^\\dagger_{p-}c_{q-}c_{q+}\n",
    "       = -\\frac{1}{2}g\\Big(\\sum_{p} c^\\dagger_{p+}c^\\dagger_{p-} \\Big) \\Big( \\sum_{q} c_{q-} c_{q+} \\Big) \\\\\n",
    "       =& -\\frac{1}{2}g\\Big(\\sum_{p} \\hat P^\\dagger_p \\Big) \\Big(\\sum_{q} \\hat P_q\\Big)\n",
    "\\end{align}"
   ]
  },
  {
   "cell_type": "markdown",
   "metadata": {},
   "source": [
    "Limiting the number of pairs to $P=4$ gives the full Hamiltonian as\n",
    "\n",
    "\\begin{align}\n",
    "\\hat H = \\sum_p (p-1) \\hat n_p - \\frac{1}{2} \\Big(\\sum_{p=1}^4 \\hat P^\\dagger_p \\Big) \\Big(\\sum_{q=1}^4 \\hat P_q \\Big).\n",
    "\\end{align}"
   ]
  },
  {
   "cell_type": "markdown",
   "metadata": {},
   "source": [
    "## Exercise 2"
   ]
  },
  {
   "cell_type": "markdown",
   "metadata": {},
   "source": [
    "### Matrix Elements\n",
    "\n",
    "Acting on the two-pair Slater determinant with a sum of all pair annihilation operators should, logically, remove pairs sequentially. This leaves a sum of the two single-pair Slaters.\n",
    "\n",
    "\\begin{align}\n",
    "\\sum_s \\hat P_s |p\\bar p q \\bar q\\rangle \n",
    "=&\n",
    "\\sum_s c_{s-}c_{s+} |p \\bar p q \\bar q \\rangle \\\\\n",
    "=&\n",
    "c_{1-}c_{1+} |p \\bar p q \\bar q \\rangle \\\\\n",
    "&+ \\dots + c_{p-}c_{p+}|p \\bar p q \\bar q \\rangle \\\\\n",
    "&+ \\dots + c_{q-}c_{q+}|p \\bar p q \\bar q \\rangle \\\\\n",
    "&+ \\dots + c_{M-}c_{M+} |p \\bar p q \\bar q \\rangle \\\\\n",
    "=& |q \\bar q\\rangle + |p \\bar p \\rangle,\n",
    "\\end{align}"
   ]
  },
  {
   "cell_type": "markdown",
   "metadata": {},
   "source": [
    "Now for the matrix elements,\n",
    "\n",
    "\\begin{align}\n",
    "\\langle p' \\bar p' q' \\bar q' | \\hat H | p \\bar p q \\bar q \\rangle\n",
    "= \\langle p' \\bar p' q' \\bar q' | \\hat H_0 + \\hat V | p \\bar p q \\bar q \\rangle.\n",
    "\\end{align}"
   ]
  },
  {
   "cell_type": "markdown",
   "metadata": {},
   "source": [
    "Starting with the unperturbed Hamiltonian\n",
    "\n",
    "\\begin{align}\n",
    "\\langle p' \\bar p' q' \\bar q' |\\hat H_0 | p \\bar p q \\bar q \\rangle\n",
    "=& \n",
    "\\langle p' \\bar p' q' \\bar q' |\\sum_r (r-1)\\hat n_r | p \\bar p q \\bar q \\rangle \\\\\n",
    "=& \n",
    "\\langle p' \\bar p' q' \\bar q' |[(p - 1)\\hat n_p + (q - 1)\\hat n_q] | p \\bar p q \\bar q \\rangle \\\\\n",
    "=&\n",
    "\\langle p' \\bar p' q' \\bar q' |[2(p - 1) + 2(q - 1)] | p \\bar p q \\bar q \\rangle \\\\\n",
    "=&\n",
    "2(p + q - 2)\\langle p' \\bar p' q' \\bar q' | p \\bar p q \\bar q \\rangle \\\\\n",
    "=&\n",
    "2(p + q - 2)\\delta_{p'p}\\delta_{q'q},\n",
    "\\end{align}"
   ]
  },
  {
   "cell_type": "markdown",
   "metadata": {},
   "source": [
    "and then the two-body pairing force term\n",
    "\n",
    "\\begin{align}\n",
    "\\langle p' \\bar p' q' \\bar q' |\\hat V | p \\bar p q \\bar q \\rangle\n",
    "=& \n",
    "-\\frac{1}{2}g \\langle p' \\bar p' q' \\bar q' |\\Big(\\sum_{r=1}^4 \\hat P^\\dagger_r \\Big) \\Big( \\sum_{s=1}^4 \\hat P_s \\Big) | p \\bar p q \\bar q \\rangle \\\\\n",
    "=& \n",
    "-\\frac{1}{2}g \\langle p' \\bar p' q' \\bar q' |\\Big(\\sum_{r=1}^4 \\hat P^\\dagger_r \\Big)\\big(|p\\bar p \\rangle + |q \\bar q \\rangle \\big) \\\\\n",
    "=&\n",
    "-\\frac{1}{2} g \\big(\\langle p'\\bar p'| + \\langle q' \\bar q' | \\big) \\big( |p\\bar p \\rangle + |q \\bar q \\rangle \\big) \\\\\n",
    "=&\n",
    "-\\frac{1}{2} g \\big(\\langle p'\\bar p'|p\\bar p \\rangle + \\langle q' \\bar q' |q \\bar q \\rangle + \\langle p'\\bar p'|q \\bar q \\rangle + \\langle q' \\bar q |p\\bar p \\rangle  \\big) \\\\\n",
    "=&\n",
    "-\\frac{1}{2} g ( \\delta_{p'p} + \\delta_{q'q} + \\delta_{q'p} + \\delta_{p'q}),\n",
    "\\end{align}"
   ]
  },
  {
   "cell_type": "markdown",
   "metadata": {},
   "source": [
    "which gives the full Hamiltonian\n",
    "\n",
    "\\begin{align}\n",
    "\\langle p' \\bar p' q' \\bar q' | \\hat H | p \\bar p q \\bar q \\rangle\n",
    "= 2(p + q - 2)\\delta_{p'p}\\delta_{q'q} -\\frac{1}{2} g ( \\delta_{p'p} + \\delta_{q'q} + \\delta_{q'p} + \\delta_{p'q}).\n",
    "\\end{align}"
   ]
  },
  {
   "cell_type": "markdown",
   "metadata": {},
   "source": [
    "### Numerical Diagonolization of the Hamiltonian"
   ]
  },
  {
   "cell_type": "markdown",
   "metadata": {},
   "source": [
    "We now set $\\xi = 1$ and consider $g \\in [-1,1]$."
   ]
  },
  {
   "cell_type": "code",
   "execution_count": 9,
   "metadata": {},
   "outputs": [],
   "source": [
    "# Importing necessary libraries\n",
    "import numpy as np\n",
    "from scipy import linalg\n",
    "from matplotlib import pyplot as plt"
   ]
  },
  {
   "cell_type": "code",
   "execution_count": 44,
   "metadata": {
    "collapsed": true
   },
   "outputs": [],
   "source": [
    "# Defining Kronecker delta\n",
    "delta = lambda p, q: p == q\n",
    "\n",
    "# One-body / unperturbed Hamiltonian <pq|H_0|rs>\n",
    "def H_0(p, q, r, s):\n",
    "    return 2*(r + s -2) * delta(p, r) * delta(q, s)\n",
    "\n",
    "# Two-body operators <pq|V|rs>\n",
    "def V(p, q, r, s, g):\n",
    "    return - 0.5*g*(delta(p, r) + delta(q, s) + delta(q, r) + delta(p, s))\n",
    "\n",
    "# Full Hamiltonian\n",
    "def H(p, q, r, s, g):\n",
    "    return H_0(p, q, r, s) + V(p, q, r, s, g)"
   ]
  },
  {
   "cell_type": "code",
   "execution_count": 45,
   "metadata": {},
   "outputs": [],
   "source": [
    "# Parameters\n",
    "M = 4\n",
    "N = 4\n",
    "P = 2\n",
    "n = 100\n",
    "basis_size = 6\n",
    "\n",
    "# Array of interaction terms\n",
    "G = np.linspace(-1, 1, n)\n",
    "\n",
    "# Basis space configurations mapping to a single coordinate\n",
    "pair_levels = { 0: (0, 1),\n",
    "                1: (0, 2),\n",
    "                2: (0, 3),\n",
    "                3: (1, 2),\n",
    "                4: (1, 3),\n",
    "                5: (2, 3) }\n",
    "\n",
    "# Empty FCI matrix\n",
    "H_CI = np.zeros((basis_size, basis_size))\n",
    "E_CI = np.zeros((n, basis_size))"
   ]
  },
  {
   "cell_type": "code",
   "execution_count": 46,
   "metadata": {},
   "outputs": [],
   "source": [
    "# Iterating over pairing force constant\n",
    "for k in range(n):\n",
    "    g = G[k]\n",
    "    \n",
    "    # Iterating over possible basis set configurations\n",
    "    for i in range(basis_size):\n",
    "        for j in range(basis_size):\n",
    "            \n",
    "            # Extracting pair configurations\n",
    "            bra = pair_levels[i]\n",
    "            ket = pair_levels[j]\n",
    "            p = bra[0]\n",
    "            q = bra[1]\n",
    "            r = ket[0]\n",
    "            s = ket[1]\n",
    "        \n",
    "            # Hamiltonian matrix element\n",
    "            H_CI[i, j] = H(p, q, r, s, g)\n",
    "    \n",
    "    # Solving eigenvalue problem -> getting energies\n",
    "    e_CI, v_CI = scipy.linalg.eigh(H_CI)\n",
    "    \n",
    "    # Storing eigenvalues to array\n",
    "    E_CI[k, :] = e_CI"
   ]
  },
  {
   "cell_type": "code",
   "execution_count": 71,
   "metadata": {},
   "outputs": [
    {
     "data": {
      "image/png": "[encoded data removed]",
      "text/plain": [
       "<matplotlib.figure.Figure at 0x10dda96a0>"
      ]
     },
     "metadata": {},
     "output_type": "display_data"
    }
   ],
   "source": [
    "# Plotting all levels M\n",
    "for level in range(basis_size):\n",
    "\n",
    "    # Making sure ground state is clearly marked with thicker line\n",
    "    if level == 0:\n",
    "        plt.plot(G, E_CI[:, level], lw=2, label=\"$E_0$\")\n",
    "    \n",
    "    # Plotting every second level in dashed line to reveal degeneracy\n",
    "    elif level % 2 == 0:\n",
    "        plt.plot(G, E_CI[:, level], \"--\", label = \"$E_{}$\".format(level + 1))\n",
    "        \n",
    "    else:\n",
    "        plt.plot(G, E_CI[:, level], lw=0.5, label = \"$E_{}$\".format(level + 1))\n",
    "\n",
    "# Title and axis labels\n",
    "plt.title(\"Eigenenergies vs Pairing Force\")\n",
    "plt.xlabel(\"Pairing Force, $g$\")\n",
    "plt.ylabel(\"Energy\")\n",
    "plt.legend()\n",
    "plt.show()"
   ]
  }
 ],
 "metadata": {
  "kernelspec": {
   "display_name": "Python 3",
   "language": "python",
   "name": "python3"
  },
  "language_info": {
   "codemirror_mode": {
    "name": "ipython",
    "version": 3
   },
   "file_extension": ".py",
   "mimetype": "text/x-python",
   "name": "python",
   "nbconvert_exporter": "python",
   "pygments_lexer": "ipython3",
   "version": "3.6.1"
  }
 },
 "nbformat": 4,
 "nbformat_minor": 2
}
