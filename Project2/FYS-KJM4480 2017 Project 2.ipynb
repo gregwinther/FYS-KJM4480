{
 "cells": [
  {
   "cell_type": "markdown",
   "metadata": {},
   "source": [
    "# Coupled Cluster and Friends"
   ]
  },
  {
   "cell_type": "markdown",
   "metadata": {},
   "source": [
    "## Introduction\n",
    "We write the Hamiltonian as\n",
    "$$\n",
    "\\hat H = \\hat H_0 + \\hat V\n",
    "$$\n",
    "\n",
    "where \n",
    "$$ \n",
    "\\hat H_0 = \\sum_{p\\sigma}\\epsilon_p c^\\dagger_{p\\sigma} c_{p\\sigma}\n",
    "$$\n",
    "\n",
    "and\n",
    "$$\n",
    "\\hat V = - \\frac{1}{2} g \\sum_{pq}c^\\dagger_{p+}c^\\dagger_{p-}c_{q-}c_{q+}.\n",
    "$$\n",
    "\n",
    "Moreover, the so-called <i>pair creation</i> and <i>pair annihilation</i> operators are given by\n",
    "\n",
    "$$\n",
    "\\hat P^\\dagger_p \\equiv c^\\dagger_{p+}c^\\dagger_{p-}\n",
    "$$\n",
    "\n",
    "and\n",
    "$$\n",
    "\\hat P_p \\equiv c_{p-}c_{p+}.\n",
    "$$\n",
    "\n",
    "The number operator for level $p$ is\n",
    "$$\n",
    "\\hat n_p \\equiv \\sum_{\\sigma} c^\\dagger_{p\\sigma} c_{p\\sigma},\n",
    "$$\n",
    "\n",
    "the pair number operator is\n",
    "$$\n",
    "\\hat P = \\sum_p \\hat P^\\dagger_p \\hat P_p,\n",
    "$$\n",
    "\n",
    "and the spin-projection operator is given by\n",
    "$$\n",
    "\\hat S_z = \\frac{1}{2} \\sigma c^\\dagger_{p\\sigma}c_{p\\sigma}.\n",
    "$$"
   ]
  },
  {
   "cell_type": "markdown",
   "metadata": {},
   "source": [
    "## Excercise 1\n",
    "We will make use of the following anti-commutating relations\n",
    "\\begin{align}\n",
    "\\{c_{p\\sigma}, c_{q\\tau}\\} &= 0 \\\\\n",
    "\\{c^\\dagger_{p\\sigma}, c^\\dagger_{q\\tau}\\} &= 0 \\\\\n",
    "\\{c_{p\\sigma}, c^\\dagger_{q \\tau}\\} &= \\delta_{pq}\\delta_{\\sigma\\tau}.\n",
    "\\end{align}"
   ]
  },
  {
   "cell_type": "markdown",
   "metadata": {},
   "source": [
    "### Commutation relation between Hamiltonian and Spin Operator\n",
    "\n",
    "\\begin{align}\n",
    "\\hat H_0 \\hat S_z &= \n",
    "\\sum_{p\\sigma}\\epsilon^\\dagger_{p\\sigma}c_{p\\sigma} \\frac{1}{2}\\sigma_{q\\tau}\\tau c^\\dagger_{q\\tau}c_{q\\tau} \\\\\n",
    "&=\n",
    "\\frac{1}{2}\\sum_{p\\sigma q\\tau}\\epsilon_p\\tau c^\\dagger_{p\\sigma} c_{p\\sigma}c^\\dagger_{q\\tau}c_{q\\tau} \\\\\n",
    "&=\n",
    "\\frac{1}{2}\\Big[\\sum_{p\\sigma q\\tau} \\epsilon_p \\tau c^\\dagger_{p\\sigma}(\\delta_{pq}\\delta_{\\sigma\\tau} - c^\\dagger_{q\\tau}c_{p\\sigma})c_{q\\tau}\\Big] \\\\\n",
    "&=\n",
    "\\frac{1}{2}\\Big[\\sum_{p\\sigma}\\epsilon_p\\sigma c^\\dagger_{p\\sigma}c_{p\\sigma} - \\sum_{p\\sigma q\\tau}\\epsilon_p \\tau c^\\dagger_{p\\sigma}c^\\dagger_{q\\tau}c_{p\\sigma}c_{q\\tau} \\Big] \\\\\n",
    "&=\n",
    "\\frac{1}{2}\\Big[\\sum_{p\\sigma}\\epsilon_p\\sigma c^\\dagger_{p\\sigma}c_{p\\sigma} - \\sum_{p\\sigma q\\tau}\\epsilon_p \\tau c^\\dagger_{q\\tau}c^\\dagger_{p\\sigma}c_{q\\tau}c_{p\\sigma} \\Big] \\\\\n",
    "&=\n",
    "\\frac{1}{2}\\Big[\\sum_{p\\sigma}\\epsilon_p\\sigma c^\\dagger_{p\\sigma}c_{p\\sigma} - \\sum_{p\\sigma q\\tau}\\epsilon_p \\tau c^\\dagger_{q\\tau}(\\delta_{pq}\\delta_{\\sigma\\tau} - c_{q\\tau}c^\\dagger_{p\\sigma})c_{p\\sigma} \\Big] \\\\\n",
    "&=\n",
    "\\frac{1}{2}\\Big[\\sum_{p\\sigma} \\epsilon_p \\sigma c^\\dagger_{p\\sigma}c_{p\\sigma} - \\sum_{p\\sigma}\\epsilon_p \\sigma c^\\dagger_{p\\sigma}c_{p\\sigma} + \\sum_{q\\tau}\\tau c^\\dagger_{q\\tau}c_{q\\tau}\\sum_{p\\sigma}\\epsilon_p c^\\dagger_{p\\sigma}c_{p\\sigma} \\Big] \\\\\n",
    "&= \\hat S_z \\hat H_0,\n",
    "\\end{align}\n",
    "\n",
    "which must imply that $[\\hat H_0, \\hat S_z ] = 0$."
   ]
  },
  {
   "cell_type": "markdown",
   "metadata": {},
   "source": []
  }
 ],
 "metadata": {
  "kernelspec": {
   "display_name": "Python 3",
   "language": "python",
   "name": "python3"
  },
  "language_info": {
   "codemirror_mode": {
    "name": "ipython",
    "version": 3
   },
   "file_extension": ".py",
   "mimetype": "text/x-python",
   "name": "python",
   "nbconvert_exporter": "python",
   "pygments_lexer": "ipython3",
   "version": "3.6.1"
  }
 },
 "nbformat": 4,
 "nbformat_minor": 2
}
