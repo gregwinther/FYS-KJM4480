{
 "cells": [
  {
   "cell_type": "markdown",
   "metadata": {},
   "source": [
    "# Coupled Cluster and Friends"
   ]
  },
  {
   "cell_type": "markdown",
   "metadata": {},
   "source": [
    "## Introduction\n",
    "We write the Hamiltonian as\n",
    "$$\n",
    "\\hat H = \\hat H_0 + \\hat V\n",
    "$$\n",
    "\n",
    "where \n",
    "$$ \n",
    "\\hat H_0 = \\sum_{p\\sigma}\\epsilon_p c^\\dagger_{p\\sigma} c_{p\\sigma}\n",
    "$$\n",
    "\n",
    "and\n",
    "$$\n",
    "\\hat V = - \\frac{1}{2} g \\sum_{pq}c^\\dagger_{p+}c^\\dagger_{p-}c_{q-}c_{q+}.\n",
    "$$\n",
    "\n",
    "Moreover, the so-called <i>pair creation</i> and <i>pair annihilation</i> operators are given by\n",
    "\n",
    "$$\n",
    "\\hat P^\\dagger_p \\equiv c^\\dagger_{p+}c^\\dagger_{p-}\n",
    "$$\n",
    "\n",
    "and\n",
    "$$\n",
    "\\hat P_p \\equiv c_{p-}c_{p+}.\n",
    "$$\n",
    "\n",
    "The number operator for level $p$ is\n",
    "$$\n",
    "\\hat n_p \\equiv \\sum_{\\sigma} c^\\dagger_{p\\sigma} c_{p\\sigma},\n",
    "$$\n",
    "\n",
    "the pair number operator is\n",
    "$$\n",
    "\\hat P = \\sum_p \\hat P^\\dagger_p \\hat P_p,\n",
    "$$\n",
    "\n",
    "and the spin-projection operator is given by\n",
    "$$\n",
    "\\hat S_z = \\frac{1}{2} \\sigma c^\\dagger_{p\\sigma}c_{p\\sigma}.\n",
    "$$"
   ]
  },
  {
   "cell_type": "markdown",
   "metadata": {},
   "source": [
    "## Excercise 1\n",
    "We will make use of the following anti-commutating relations\n",
    "\\begin{align}\n",
    "\\{c_{p\\sigma}, c_{q\\tau}\\} &= 0 \\\\\n",
    "\\{c^\\dagger_{p\\sigma}, c^\\dagger_{q\\tau}\\} &= 0 \\\\\n",
    "\\{c_{p\\sigma}, c^\\dagger_{q \\tau}\\} &= \\delta_{pq}\\delta_{\\sigma\\tau}.\n",
    "\\end{align}"
   ]
  },
  {
   "cell_type": "markdown",
   "metadata": {},
   "source": [
    "### Commutation Relation of Hamiltonian and Spin Operator\n",
    "\n",
    "The product of the unperturbed Hamiltonian and the spin-projection operator is\n",
    "\n",
    "\\begin{align}\n",
    "\\hat H_0 \\hat S_z &= \n",
    "\\sum_{p\\sigma}\\epsilon^\\dagger_{p\\sigma}c_{p\\sigma} \\frac{1}{2}\\sigma_{q\\tau}\\tau c^\\dagger_{q\\tau}c_{q\\tau} \\\\\n",
    "&=\n",
    "\\frac{1}{2}\\sum_{p\\sigma q\\tau}\\epsilon_p\\tau c^\\dagger_{p\\sigma} c_{p\\sigma}c^\\dagger_{q\\tau}c_{q\\tau} \\\\\n",
    "&=\n",
    "\\frac{1}{2}\\Big[\\sum_{p\\sigma q\\tau} \\epsilon_p \\tau c^\\dagger_{p\\sigma}(\\delta_{pq}\\delta_{\\sigma\\tau} - c^\\dagger_{q\\tau}c_{p\\sigma})c_{q\\tau}\\Big] \\\\\n",
    "&=\n",
    "\\frac{1}{2}\\Big[\\sum_{p\\sigma}\\epsilon_p\\sigma c^\\dagger_{p\\sigma}c_{p\\sigma} - \\sum_{p\\sigma q\\tau}\\epsilon_p \\tau c^\\dagger_{p\\sigma}c^\\dagger_{q\\tau}c_{p\\sigma}c_{q\\tau} \\Big] \\\\\n",
    "&=\n",
    "\\frac{1}{2}\\Big[\\sum_{p\\sigma}\\epsilon_p\\sigma c^\\dagger_{p\\sigma}c_{p\\sigma} - \\sum_{p\\sigma q\\tau}\\epsilon_p \\tau c^\\dagger_{q\\tau}c^\\dagger_{p\\sigma}c_{q\\tau}c_{p\\sigma} \\Big] \\\\\n",
    "&=\n",
    "\\frac{1}{2}\\Big[\\sum_{p\\sigma}\\epsilon_p\\sigma c^\\dagger_{p\\sigma}c_{p\\sigma} - \\sum_{p\\sigma q\\tau}\\epsilon_p \\tau c^\\dagger_{q\\tau}(\\delta_{pq}\\delta_{\\sigma\\tau} - c_{q\\tau}c^\\dagger_{p\\sigma})c_{p\\sigma} \\Big] \\\\\n",
    "&=\n",
    "\\frac{1}{2}\\Big[\\sum_{p\\sigma} \\epsilon_p \\sigma c^\\dagger_{p\\sigma}c_{p\\sigma} - \\sum_{p\\sigma}\\epsilon_p \\sigma c^\\dagger_{p\\sigma}c_{p\\sigma} + \\sum_{q\\tau}\\tau c^\\dagger_{q\\tau}c_{q\\tau}\\sum_{p\\sigma}\\epsilon_p c^\\dagger_{p\\sigma}c_{p\\sigma} \\Big] \\\\\n",
    "&= \\hat S_z \\hat H_0,\n",
    "\\end{align}\n",
    "\n",
    "which implies that $[\\hat H_0, \\hat S_z ] = 0$."
   ]
  },
  {
   "cell_type": "markdown",
   "metadata": {},
   "source": [
    "We would also like to compute $[\\hat V, \\hat S_z]$. This is easiest to do by taking a couple of preparatory steps first."
   ]
  },
  {
   "cell_type": "markdown",
   "metadata": {},
   "source": [
    "$$\n",
    "\\hat P^\\dagger_p c^\\dagger_{q\\sigma} = c^\\dagger_{p+}c^\\dagger_{p-}c^\\dagger_{q\\sigma} = c^\\dagger_{q\\sigma}c^\\dagger_{p+}c^\\dagger_{p-} = c^\\dagger_{q\\sigma} \\hat P^\\dagger_p,\n",
    "$$\n",
    "which means that \n",
    "\n",
    "$$\n",
    "[\\hat{P}^\\dagger_p, c^\\dagger_{q\\sigma}] = 0,\n",
    "$$\n",
    "\n",
    "a similar computation yields\n",
    "\n",
    "$$\n",
    "[\\hat P_p, c_{q\\sigma}] = 0.\n",
    "$$"
   ]
  },
  {
   "cell_type": "markdown",
   "metadata": {},
   "source": [
    "The product of a Hermitian conjugate part and a non-hermitian part is a bit trickier.\n",
    "\n",
    "\\begin{align}\n",
    "\\hat P^\\dagger_p c_{q\\sigma} &= c^\\dagger_{p+} c^\\dagger_{p-} c_{q\\sigma} = c^\\dagger_{p+}(\\delta_{pq}\\delta_{-\\sigma} - c_{q\\sigma}c^\\dagger_{p-}) \\\\\n",
    "&= c^\\dagger_{p+}\\delta_{pq}\\delta_{-\\sigma} - c^\\dagger_{p+}c_{q\\sigma}c^\\dagger_{p-} \\\\\n",
    "&= c^\\dagger_{p+}\\delta_{pq}\\delta_{-\\sigma} - (\\delta_{pq}\\delta_{+\\sigma} - c_{q\\sigma}c^\\dagger_{p+})c^\\dagger_{p-} \\\\\n",
    "&= \\delta_{pq}(c^\\dagger_{p+}\\delta_{-\\sigma} - c^\\dagger_{p-}\\delta_{+\\sigma}) + c_{q\\sigma}\\hat P^\\dagger_p\n",
    "\\end{align}"
   ]
  },
  {
   "cell_type": "markdown",
   "metadata": {},
   "source": [
    "Which means that\n",
    "$$\n",
    "[\\hat P^\\dagger_p, c_{q\\sigma}] = \\delta_{pq}(c^\\dagger_{p+}\\delta_{-\\sigma} - c^\\dagger_{p-}\\delta_{+\\sigma}).\n",
    "$$"
   ]
  },
  {
   "cell_type": "markdown",
   "metadata": {},
   "source": [
    "Similarly,\n",
    "\n",
    "\\begin{align}\n",
    "\\hat P_p c^\\dagger_{q\\sigma} &= c_{p-} c_{p+} c^\\dagger_{q\\sigma} = c_{p-}(\\delta_{pq}\\delta_{+\\sigma} - c^\\dagger_{q\\sigma}c_{p+}) \\\\\n",
    "&= c_{p-}\\delta_{pq}\\delta_{+\\sigma} - c_{p-}c^\\dagger_{q\\sigma}c_{p+} \\\\\n",
    "&= c_{p-}\\delta_{pq}\\delta_{+\\sigma} - (\\delta_{pq}\\delta_{-\\sigma} - c^\\dagger_{q\\sigma}c_{p-})c_{p+} \\\\\n",
    "&= \\delta_{pq}(c_{p-}\\delta_{+\\sigma} - c_{p+}\\delta_{-\\sigma}) + c^\\dagger_{q\\sigma}\\hat P_p,\n",
    "\\end{align}"
   ]
  },
  {
   "cell_type": "markdown",
   "metadata": {},
   "source": [
    "which gives\n",
    "$$\n",
    "[\\hat P_p, c^\\dagger_{q\\sigma}] = \\delta_{pq}(c_{p-}\\delta_{+\\sigma} - c_{p+}\\delta_{-\\sigma}).\n",
    "$$"
   ]
  },
  {
   "cell_type": "markdown",
   "metadata": {},
   "source": [
    "We are finally ready to compute the last bit,\n",
    "\\begin{align}\n",
    "\\hat V \\hat S_z =& -\\frac{1}{2}g \\sum_{pq}c^\\dagger_{p+} c^\\dagger_{p-}c_{q-}c_{q+}\\frac{1}{2}\\sum_{r\\sigma}\\sigma c^\\dagger_{r\\sigma}c_{r\\sigma} \\\\\n",
    "=&\n",
    "-\\frac{1}{4}g \\sum_{pqr\\sigma}\\big(\\hat P^\\dagger_p \\hat P_q c^\\dagger_{r\\sigma} c_{r\\sigma} \\big) \\\\\n",
    "=&\n",
    "-\\frac{1}{4}g\\Big(\\sum_{pqr\\sigma} \\sigma \\hat P^\\dagger_p \\delta_{qr}(c_{q-}\\delta_{+\\sigma} - c_{q+}\\delta_{-\\sigma})c_{r\\sigma}\n",
    "- \\sum_{pqr\\sigma} \\hat P^\\dagger_p c^\\dagger_{r\\sigma} \\hat P_q c_{r\\sigma}\n",
    "\\Big) \\\\\n",
    "=& \n",
    "-\\frac{1}{4}g \\Big(\\sum_{pq}[+]\\hat P^\\dagger_p c_{q-} c_{q+} - \\sum_{pq}[-] \\hat P^\\dagger_p c_{q+}c_{q-} - \\sum_{pqr\\sigma}\\sigma c^\\dagger_{r\\sigma}\\hat P^\\dagger_p c_{r\\sigma} \\hat P_q \\Big) \\\\\n",
    "=&\n",
    "-\\frac{1}{4}g\\Big(\\sum_{pq}[+]\\hat P^\\dagger_pc_{q-}c_{q+} - \\sum_{pq}[-]\\hat P^\\dagger_p c_{q+}c_{q-} \\\\ &- \\sum_{pqr\\sigma}\\sigma c^\\dagger_{r\\sigma}\\delta_{pr}(c^\\dagger_{p+}\\delta_{-\\sigma} - c^\\dagger_{p-}\\delta_{+\\sigma})\\hat P_qs\n",
    "+ \\sum_{pqr\\sigma}\\sigma c^\\dagger_{r\\sigma}c_{r\\sigma}\\hat P^\\dagger_p \\hat P_q\\Big) \\\\\n",
    "=& -\\frac{1}{4} g \\Big(\\sum_{pq}[+]\\hat P^\\dagger_p c_{q-}c_{q+} - \\sum_{pq}[-]\\hat P^\\dagger_p c_{q+}C_{q-} \\\\\n",
    "&- \\sum_{pq}[-]c^\\dagger_{p-}c^\\dagger_{p+}\\hat P_q + \\sum_{pq}[+] c^\\dagger_{p+}c^\\dagger_{p-}\\hat P_q \\Big) + \\hat S_z \\hat V.\n",
    "\\end{align}\n",
    "\n",
    "When inserting for $\\hat P^\\dagger_p = c^\\dagger_{p+}c^\\dagger_{p-}$ and $\\hat P_q = c_{q-}c_{q+}$ the terms inside the paranthesis will cancel. leading to\n",
    "\n",
    "$$ \\hat V \\hat S_z = \\hat S_z \\hat V \\rightarrow [\\hat V, \\hat S_z] = 0. $$"
   ]
  },
  {
   "cell_type": "markdown",
   "metadata": {},
   "source": [
    "This leads to a nice result for the full Hamiltonian\n",
    "\n",
    "$$ [\\hat H, \\hat S_z] = [\\hat H_0 + \\hat V, \\hat S_z] = [\\hat H_0, \\hat S_z] + [\\hat V, \\hat S_z] = 0. $$"
   ]
  },
  {
   "cell_type": "markdown",
   "metadata": {},
   "source": [
    "### Commutation Relation of Hamiltonian and Pair Number Operator  "
   ]
  },
  {
   "cell_type": "markdown",
   "metadata": {},
   "source": [
    "By using some ordinary commutator properties we see that\n",
    "$$\n",
    "[\\hat H_0, \\hat P] = [\\hat H_0, \\sum_p\\hat P^\\dagger_p \\hat P_p] = \\sum_p [\\hat H_0, \\hat P^\\dagger_p \\hat P_p] = \\sum_p \\big([\\hat H_0, \\hat P^\\dagger_p]\\hat P_p + \\hat P_p[\\hat H_0, \\hat P^\\dagger_p] \\big),\n",
    "$$\n",
    "\n",
    "which implies that the unperturbed Hamiltonian commutes with the pair number operator if it commutes with the pair creation and pair annihilation operators."
   ]
  },
  {
   "cell_type": "markdown",
   "metadata": {},
   "source": [
    "This can be showed with a bit of work. First for the pair annihilation operator,\n",
    "\n",
    "\\begin{align}\n",
    "\\hat H_0\\hat P_q =& \\sum_{p\\sigma}\\epsilon_p c^\\dagger_{p\\sigma}c_{p\\sigma}c_{q-}c_{q+} \\\\\n",
    "=& \\sum_{p\\sigma} \\epsilon_p c^\\dagger_{p\\sigma}c_{q-}c_{q+}c_{p\\sigma} \\\\\n",
    "=& \\sum_{p\\sigma} \\epsilon_p \\delta_{pq}\\delta_{\\sigma -}c_{q+}c_{p\\sigma}\n",
    "+ \\sum_{p\\sigma} \\epsilon_p c_{q-} c^\\dagger_{p\\sigma}c_{q+}c_{p\\sigma} \\\\\n",
    "=& \\sum_{p\\sigma} \\epsilon_p \\delta_{pq}\\delta_{\\sigma -}c_{q+}c_{p\\sigma}\n",
    "- \\sum_{p\\sigma} \\epsilon_p c_{q-} \\delta_{pq} \\delta_{\\sigma +} c_{p\\sigma} \\\\\n",
    "&+ \\sum_{p\\sigma} \\epsilon_p c_{q-} c_{q+} c^\\dagger_{p\\sigma}c_{p\\sigma} \\\\\n",
    "=& \\sum_p \\epsilon_p c_{p+} c_{p-} - \\sum_p \\epsilon_p c_{p-} c_{p+} \\\\\n",
    "&+ c_{q-}c_{q+}\\sum_{p\\sigma} \\epsilon_p c^\\dagger_{p\\sigma} c_{p\\sigma} \\\\\n",
    "=& \\hat P_q \\hat H_0,\n",
    "\\end{align}\n",
    "implying\n",
    "$$ [\\hat H_0, \\hat P_q] = 0. $$"
   ]
  },
  {
   "cell_type": "markdown",
   "metadata": {},
   "source": [
    "Proceeding with the pair creation operator,"
   ]
  }
 ],
 "metadata": {
  "kernelspec": {
   "display_name": "Python 3",
   "language": "python",
   "name": "python3"
  },
  "language_info": {
   "codemirror_mode": {
    "name": "ipython",
    "version": 3
   },
   "file_extension": ".py",
   "mimetype": "text/x-python",
   "name": "python",
   "nbconvert_exporter": "python",
   "pygments_lexer": "ipython3",
   "version": "3.6.1"
  }
 },
 "nbformat": 4,
 "nbformat_minor": 2
}
