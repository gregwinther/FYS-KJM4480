{
 "cells": [
  {
   "cell_type": "markdown",
   "metadata": {},
   "source": [
    "# Coupled Cluster and Friends"
   ]
  },
  {
   "cell_type": "markdown",
   "metadata": {},
   "source": [
    "## Introduction\n",
    "We write the Hamiltonian as\n",
    "$$\n",
    "\\hat H = \\hat H_0 + \\hat V\n",
    "$$\n",
    "\n",
    "where \n",
    "$$ \n",
    "\\hat H_0 = \\sum_{p\\sigma}\\epsilon_p c^\\dagger_{p\\sigma} c_{p\\sigma}\n",
    "$$\n",
    "\n",
    "and\n",
    "$$\n",
    "\\hat V = - \\frac{1}{2} g \\sum_{pq}c^\\dagger_{p+}c^\\dagger_{p-}c_{q-}c_{q+}.\n",
    "$$\n",
    "\n",
    "Moreover, the so-called <i>pair creation</i> and <i>pair annihilation</i> operators are given by\n",
    "\n",
    "$$\n",
    "\\hat P^\\dagger_p \\equiv c^\\dagger_{p+}c^\\dagger_{p-}\n",
    "$$\n",
    "\n",
    "and\n",
    "$$\n",
    "\\hat P_p \\equiv c_{p-}c_{p+}.\n",
    "$$\n",
    "\n",
    "The number operator for level $p$ is\n",
    "$$\n",
    "\\hat n_p \\equiv \\sum_{\\sigma} c^\\dagger_{p\\sigma} c_{p\\sigma},\n",
    "$$\n",
    "\n",
    "the pair number operator is\n",
    "$$\n",
    "\\hat P = \\sum_p \\hat P^\\dagger_p \\hat P_p,\n",
    "$$\n",
    "\n",
    "and the spin-projection operator is given by\n",
    "$$\n",
    "\\hat S_z = \\frac{1}{2} \\sigma c^\\dagger_{p\\sigma}c_{p\\sigma}.\n",
    "$$"
   ]
  },
  {
   "cell_type": "markdown",
   "metadata": {},
   "source": [
    "## Excercise 1"
   ]
  },
  {
   "cell_type": "markdown",
   "metadata": {},
   "source": [
    "### Commutation relation Hamiltonian and Spin Operator\n"
   ]
  }
 ],
 "metadata": {
  "kernelspec": {
   "display_name": "Python 3",
   "language": "python",
   "name": "python3"
  },
  "language_info": {
   "codemirror_mode": {
    "name": "ipython",
    "version": 3
   },
   "file_extension": ".py",
   "mimetype": "text/x-python",
   "name": "python",
   "nbconvert_exporter": "python",
   "pygments_lexer": "ipython3",
   "version": "3.6.1"
  }
 },
 "nbformat": 4,
 "nbformat_minor": 2
}
