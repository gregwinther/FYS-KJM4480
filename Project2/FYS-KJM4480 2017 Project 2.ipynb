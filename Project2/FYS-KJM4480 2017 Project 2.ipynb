{
 "cells": [
  {
   "cell_type": "markdown",
   "metadata": {},
   "source": [
    "# Coupled Cluster and Friends"
   ]
  },
  {
   "cell_type": "markdown",
   "metadata": {},
   "source": [
    "## Introduction\n",
    "We write the Hamiltonian as\n",
    "\\begin{align}\n",
    "\\hat H = \\hat H_0 + \\hat V\n",
    "\\end{align}\n",
    "\n",
    "where \n",
    "\\begin{align}\n",
    "\\hat H_0 = \\sum_{p\\sigma}\\epsilon_p c^\\dagger_{p\\sigma} c_{p\\sigma},\n",
    "\\quad\n",
    "\\epsilon_p = \\xi \\cdot (p-1),\n",
    "\\end{align}\n",
    "\n",
    "and\n",
    "\\begin{align}\n",
    "\\hat V = - \\frac{1}{2} g \\sum_{pq}c^\\dagger_{p+}c^\\dagger_{p-}c_{q-}c_{q+}.\n",
    "\\end{align}\n",
    "\n",
    "Moreover, the so-called <i>pair creation</i> and <i>pair annihilation</i> operators are given by\n",
    "\n",
    "\\begin{align}\n",
    "\\hat P^\\dagger_p \\equiv c^\\dagger_{p+}c^\\dagger_{p-}\n",
    "\\end{align}\n",
    "\n",
    "and\n",
    "\\begin{align}\n",
    "\\hat P_p \\equiv c_{p-}c_{p+}.\n",
    "\\end{align}\n",
    "\n",
    "The number operator for level $p$ is\n",
    "\\begin{align}\n",
    "\\hat n_p \\equiv \\sum_{\\sigma} c^\\dagger_{p\\sigma} c_{p\\sigma},\n",
    "\\end{align}\n",
    "\n",
    "the pair number operator is\n",
    "\\begin{align}\n",
    "\\hat P = \\sum_p \\hat P^\\dagger_p \\hat P_p,\n",
    "\\end{align}\n",
    "\n",
    "and the spin-projection operator is given by\n",
    "\\begin{align}\n",
    "\\hat S_z = \\frac{1}{2} \\sigma c^\\dagger_{p\\sigma}c_{p\\sigma}.\n",
    "\\end{align}"
   ]
  },
  {
   "cell_type": "markdown",
   "metadata": {},
   "source": [
    "For an even number of particles $N$, the ground state wavefunction of $\\hat H_0$ is the Slater determinant\n",
    "\n",
    "\\begin{equation}\n",
    "|\\Phi\\rangle = c^\\dagger_1 c^\\dagger_1 \\dots c^\\dagger_{N/2}c^\\dagger_{N/2}|- \\rangle = \\hat P^\\dagger_1 \\dots \\hat P^\\dagger_{N/2} |-\\rangle\n",
    "\\end{equation}\n",
    "\n",
    "This reference wavefunction alos defines a Fermi level"
   ]
  },
  {
   "cell_type": "markdown",
   "metadata": {},
   "source": [
    "## Excercise 1\n",
    "We will make use of the following anti-commutating relations\n",
    "\\begin{align}\n",
    "\\{c_{p\\sigma}, c_{q\\tau}\\} &= 0 \\\\\n",
    "\\{c^\\dagger_{p\\sigma}, c^\\dagger_{q\\tau}\\} &= 0 \\\\\n",
    "\\{c_{p\\sigma}, c^\\dagger_{q \\tau}\\} &= \\delta_{pq}\\delta_{\\sigma\\tau}.\n",
    "\\end{align}"
   ]
  },
  {
   "cell_type": "markdown",
   "metadata": {},
   "source": [
    "### Commutation Relation of Hamiltonian and Spin Operator\n",
    "\n",
    "The product of the unperturbed Hamiltonian and the spin-projection operator is\n",
    "\n",
    "\\begin{align}\n",
    "\\hat H_0 \\hat S_z &= \n",
    "\\sum_{p\\sigma}\\epsilon^\\dagger_{p\\sigma}c_{p\\sigma} \\frac{1}{2}\\sigma_{q\\tau}\\tau c^\\dagger_{q\\tau}c_{q\\tau} \\\\\n",
    "&=\n",
    "\\frac{1}{2}\\sum_{p\\sigma q\\tau}\\epsilon_p\\tau c^\\dagger_{p\\sigma} c_{p\\sigma}c^\\dagger_{q\\tau}c_{q\\tau} \\\\\n",
    "&=\n",
    "\\frac{1}{2}\\Big[\\sum_{p\\sigma q\\tau} \\epsilon_p \\tau c^\\dagger_{p\\sigma}(\\delta_{pq}\\delta_{\\sigma\\tau} - c^\\dagger_{q\\tau}c_{p\\sigma})c_{q\\tau}\\Big] \\\\\n",
    "&=\n",
    "\\frac{1}{2}\\Big[\\sum_{p\\sigma}\\epsilon_p\\sigma c^\\dagger_{p\\sigma}c_{p\\sigma} - \\sum_{p\\sigma q\\tau}\\epsilon_p \\tau c^\\dagger_{p\\sigma}c^\\dagger_{q\\tau}c_{p\\sigma}c_{q\\tau} \\Big] \\\\\n",
    "&=\n",
    "\\frac{1}{2}\\Big[\\sum_{p\\sigma}\\epsilon_p\\sigma c^\\dagger_{p\\sigma}c_{p\\sigma} - \\sum_{p\\sigma q\\tau}\\epsilon_p \\tau c^\\dagger_{q\\tau}c^\\dagger_{p\\sigma}c_{q\\tau}c_{p\\sigma} \\Big] \\\\\n",
    "&=\n",
    "\\frac{1}{2}\\Big[\\sum_{p\\sigma}\\epsilon_p\\sigma c^\\dagger_{p\\sigma}c_{p\\sigma} - \\sum_{p\\sigma q\\tau}\\epsilon_p \\tau c^\\dagger_{q\\tau}(\\delta_{pq}\\delta_{\\sigma\\tau} - c_{q\\tau}c^\\dagger_{p\\sigma})c_{p\\sigma} \\Big] \\\\\n",
    "&=\n",
    "\\frac{1}{2}\\Big[\\sum_{p\\sigma} \\epsilon_p \\sigma c^\\dagger_{p\\sigma}c_{p\\sigma} - \\sum_{p\\sigma}\\epsilon_p \\sigma c^\\dagger_{p\\sigma}c_{p\\sigma} + \\sum_{q\\tau}\\tau c^\\dagger_{q\\tau}c_{q\\tau}\\sum_{p\\sigma}\\epsilon_p c^\\dagger_{p\\sigma}c_{p\\sigma} \\Big] \\\\\n",
    "&= \\hat S_z \\hat H_0,\n",
    "\\end{align}\n",
    "\n",
    "which implies that $[\\hat H_0, \\hat S_z ] = 0$."
   ]
  },
  {
   "cell_type": "markdown",
   "metadata": {},
   "source": [
    "We would also like to compute $[\\hat V, \\hat S_z]$. This is easiest to do by taking a couple of preparatory steps first."
   ]
  },
  {
   "cell_type": "markdown",
   "metadata": {},
   "source": [
    "\\begin{align}\n",
    "\\hat P^\\dagger_p c^\\dagger_{q\\sigma} = c^\\dagger_{p+}c^\\dagger_{p-}c^\\dagger_{q\\sigma} = c^\\dagger_{q\\sigma}c^\\dagger_{p+}c^\\dagger_{p-} = c^\\dagger_{q\\sigma} \\hat P^\\dagger_p,\n",
    "\\end{align}\n",
    "which means that \n",
    "\n",
    "\\begin{align}\n",
    "[\\hat{P}^\\dagger_p, c^\\dagger_{q\\sigma}] = 0,\n",
    "\\end{align}\n",
    "\n",
    "a similar computation yields\n",
    "\n",
    "\\begin{align}\n",
    "[\\hat P_p, c_{q\\sigma}] = 0.\n",
    "\\end{align}"
   ]
  },
  {
   "cell_type": "markdown",
   "metadata": {},
   "source": [
    "The product of a Hermitian conjugate part and a non-hermitian part is a bit trickier.\n",
    "\n",
    "\\begin{align}\n",
    "\\hat P^\\dagger_p c_{q\\sigma} &= c^\\dagger_{p+} c^\\dagger_{p-} c_{q\\sigma} = c^\\dagger_{p+}(\\delta_{pq}\\delta_{-\\sigma} - c_{q\\sigma}c^\\dagger_{p-}) \\\\\n",
    "&= c^\\dagger_{p+}\\delta_{pq}\\delta_{-\\sigma} - c^\\dagger_{p+}c_{q\\sigma}c^\\dagger_{p-} \\\\\n",
    "&= c^\\dagger_{p+}\\delta_{pq}\\delta_{-\\sigma} - (\\delta_{pq}\\delta_{+\\sigma} - c_{q\\sigma}c^\\dagger_{p+})c^\\dagger_{p-} \\\\\n",
    "&= \\delta_{pq}(c^\\dagger_{p+}\\delta_{-\\sigma} - c^\\dagger_{p-}\\delta_{+\\sigma}) + c_{q\\sigma}\\hat P^\\dagger_p\n",
    "\\end{align}"
   ]
  },
  {
   "cell_type": "markdown",
   "metadata": {},
   "source": [
    "Which means that\n",
    "\\begin{align}\n",
    "[\\hat P^\\dagger_p, c_{q\\sigma}] = \\delta_{pq}(c^\\dagger_{p+}\\delta_{-\\sigma} - c^\\dagger_{p-}\\delta_{+\\sigma}).\n",
    "\\end{align}"
   ]
  },
  {
   "cell_type": "markdown",
   "metadata": {},
   "source": [
    "Similarly,\n",
    "\n",
    "\\begin{align}\n",
    "\\hat P_p c^\\dagger_{q\\sigma} &= c_{p-} c_{p+} c^\\dagger_{q\\sigma} = c_{p-}(\\delta_{pq}\\delta_{+\\sigma} - c^\\dagger_{q\\sigma}c_{p+}) \\\\\n",
    "&= c_{p-}\\delta_{pq}\\delta_{+\\sigma} - c_{p-}c^\\dagger_{q\\sigma}c_{p+} \\\\\n",
    "&= c_{p-}\\delta_{pq}\\delta_{+\\sigma} - (\\delta_{pq}\\delta_{-\\sigma} - c^\\dagger_{q\\sigma}c_{p-})c_{p+} \\\\\n",
    "&= \\delta_{pq}(c_{p-}\\delta_{+\\sigma} - c_{p+}\\delta_{-\\sigma}) + c^\\dagger_{q\\sigma}\\hat P_p,\n",
    "\\end{align}"
   ]
  },
  {
   "cell_type": "markdown",
   "metadata": {},
   "source": [
    "which gives\n",
    "\\begin{align}\n",
    "[\\hat P_p, c^\\dagger_{q\\sigma}] = \\delta_{pq}(c_{p-}\\delta_{+\\sigma} - c_{p+}\\delta_{-\\sigma}).\n",
    "\\end{align}"
   ]
  },
  {
   "cell_type": "markdown",
   "metadata": {},
   "source": [
    "We are finally ready to compute the last bit,\n",
    "\\begin{align}\n",
    "\\hat V \\hat S_z =& -\\frac{1}{2}g \\sum_{pq}c^\\dagger_{p+} c^\\dagger_{p-}c_{q-}c_{q+}\\frac{1}{2}\\sum_{r\\sigma}\\sigma c^\\dagger_{r\\sigma}c_{r\\sigma} \\\\\n",
    "=&\n",
    "-\\frac{1}{4}g \\sum_{pqr\\sigma}\\big(\\hat P^\\dagger_p \\hat P_q c^\\dagger_{r\\sigma} c_{r\\sigma} \\big) \\\\\n",
    "=&\n",
    "-\\frac{1}{4}g\\Big(\\sum_{pqr\\sigma} \\sigma \\hat P^\\dagger_p \\delta_{qr}(c_{q-}\\delta_{+\\sigma} - c_{q+}\\delta_{-\\sigma})c_{r\\sigma}\n",
    "- \\sum_{pqr\\sigma} \\hat P^\\dagger_p c^\\dagger_{r\\sigma} \\hat P_q c_{r\\sigma}\n",
    "\\Big) \\\\\n",
    "=& \n",
    "-\\frac{1}{4}g \\Big(\\sum_{pq}[+]\\hat P^\\dagger_p c_{q-} c_{q+} - \\sum_{pq}[-] \\hat P^\\dagger_p c_{q+}c_{q-} - \\sum_{pqr\\sigma}\\sigma c^\\dagger_{r\\sigma}\\hat P^\\dagger_p c_{r\\sigma} \\hat P_q \\Big) \\\\\n",
    "=&\n",
    "-\\frac{1}{4}g\\Big(\\sum_{pq}[+]\\hat P^\\dagger_pc_{q-}c_{q+} - \\sum_{pq}[-]\\hat P^\\dagger_p c_{q+}c_{q-} \\\\ &- \\sum_{pqr\\sigma}\\sigma c^\\dagger_{r\\sigma}\\delta_{pr}(c^\\dagger_{p+}\\delta_{-\\sigma} - c^\\dagger_{p-}\\delta_{+\\sigma})\\hat P_qs\n",
    "+ \\sum_{pqr\\sigma}\\sigma c^\\dagger_{r\\sigma}c_{r\\sigma}\\hat P^\\dagger_p \\hat P_q\\Big) \\\\\n",
    "=& -\\frac{1}{4} g \\Big(\\sum_{pq}[+]\\hat P^\\dagger_p c_{q-}c_{q+} - \\sum_{pq}[-]\\hat P^\\dagger_p c_{q+}C_{q-} \\\\\n",
    "&- \\sum_{pq}[-]c^\\dagger_{p-}c^\\dagger_{p+}\\hat P_q + \\sum_{pq}[+] c^\\dagger_{p+}c^\\dagger_{p-}\\hat P_q \\Big) + \\hat S_z \\hat V.\n",
    "\\end{align}\n",
    "\n",
    "When inserting for $\\hat P^\\dagger_p = c^\\dagger_{p+}c^\\dagger_{p-}$ and $\\hat P_q = c_{q-}c_{q+}$ the terms inside the paranthesis will cancel. leading to\n",
    "\n",
    "\\begin{align} \n",
    "\\hat V \\hat S_z = \\hat S_z \\hat V \\rightarrow [\\hat V, \\hat S_z] = 0.\n",
    "\\end{align}"
   ]
  },
  {
   "cell_type": "markdown",
   "metadata": {},
   "source": [
    "This leads to a nice result for the full Hamiltonian\n",
    "\n",
    "\\begin{align} \n",
    "[\\hat H, \\hat S_z] = [\\hat H_0 + \\hat V, \\hat S_z] = [\\hat H_0, \\hat S_z] + [\\hat V, \\hat S_z] = 0. \n",
    "\\end{align}"
   ]
  },
  {
   "cell_type": "markdown",
   "metadata": {},
   "source": [
    "### Commutation Relation of Hamiltonian and Pair Number Operator  "
   ]
  },
  {
   "cell_type": "markdown",
   "metadata": {},
   "source": [
    "By using some ordinary commutator properties we see that\n",
    "\\begin{align}\n",
    "[\\hat H_0, \\hat P] = [\\hat H_0, \\sum_p\\hat P^\\dagger_p \\hat P_p] = \\sum_p [\\hat H_0, \\hat P^\\dagger_p \\hat P_p] = \\sum_p \\big([\\hat H_0, \\hat P^\\dagger_p]\\hat P_p + \\hat P^\\dagger_p[\\hat H_0, \\hat P_p] \\big),\n",
    "\\end{align}\n",
    "\n",
    "which implies that the unperturbed Hamiltonian commutes with the pair number operator if it commutes with the pair creation and pair annihilation operators. This, as will be shown, is not the case. However, we are able to split the computation into several parts."
   ]
  },
  {
   "cell_type": "markdown",
   "metadata": {},
   "source": [
    "First for the pair annihilation operator,\n",
    "\n",
    "\\begin{align}\n",
    "\\hat H_0\\hat P_q =& \\sum_{p\\sigma}\\epsilon_p c^\\dagger_{p\\sigma}c_{p\\sigma}c_{q-}c_{q+} \\\\\n",
    "=& \\sum_{p\\sigma} \\epsilon_p c^\\dagger_{p\\sigma}c_{q-}c_{q+}c_{p\\sigma} \\\\\n",
    "=& \\sum_{p\\sigma} \\epsilon_p \\delta_{pq}\\delta_{\\sigma -}c_{q+}c_{p\\sigma}\n",
    "+ \\sum_{p\\sigma} \\epsilon_p c_{q-} c^\\dagger_{p\\sigma}c_{q+}c_{p\\sigma} \\\\\n",
    "=& \\sum_{p\\sigma} \\epsilon_p \\delta_{pq}\\delta_{\\sigma -}c_{q+}c_{p\\sigma}\n",
    "- \\sum_{p\\sigma} \\epsilon_p c_{q-} \\delta_{pq} \\delta_{\\sigma +} c_{p\\sigma} \\\\\n",
    "&+ \\sum_{p\\sigma} \\epsilon_p c_{q-} c_{q+} c^\\dagger_{p\\sigma}c_{p\\sigma} \\\\\n",
    "=& \\sum_p \\epsilon_p c_{p+} c_{p-} - \\sum_p \\epsilon_p c_{p-} c_{p+} \\\\\n",
    "&+ c_{q-}c_{q+}\\sum_{p\\sigma} \\epsilon_p c^\\dagger_{p\\sigma} c_{p\\sigma} \\\\\n",
    "=& - 2\\epsilon_p c_{p-} c_{p+} + \\hat P_q \\hat H_0,\n",
    "\\end{align}\n",
    "implying\n",
    "\\begin{align}\n",
    "[\\hat H_0, \\hat P_q] = -2\\epsilon_p c_{p-} c_{p+}.\n",
    "\\end{align}"
   ]
  },
  {
   "cell_type": "markdown",
   "metadata": {},
   "source": [
    "Proceeding with the pair creation operator,\n",
    "\\begin{align}\n",
    "\\hat H_0 \\hat P^\\dagger_q =&\n",
    "\\sum_{pq}\\epsilon_p c^\\dagger_{p\\sigma}c_{p\\sigma}c^\\dagger_{q+}c^\\dagger_{q-} \\\\\n",
    "=& \n",
    "\\sum_{p\\sigma}\\epsilon_p c^\\dagger_{p\\sigma}\\delta_{pq}\\delta_{\\sigma +} c^\\dagger_{q -}\n",
    "- \\sum_{p\\sigma} \\epsilon_p c^\\dagger_{p \\sigma} c^\\dagger_{q +}c_{p\\sigma}c^\\dagger_{q -} \\\\\n",
    "=&\n",
    "\\sum_{p\\sigma} \\epsilon_p c^\\dagger_{p\\sigma} \\delta_{pq} \\delta_{\\sigma +} c^\\dagger_{q-}\n",
    "-\\sum_{p\\sigma} \\epsilon_p c^\\dagger_{p\\sigma} c^\\dagger_{q+} \\delta_{pq} \\delta_{\\sigma -} \\\\\n",
    "&+ \\sum_{p\\sigma} \\epsilon_p c^\\dagger_{p\\sigma} c^\\dagger_{q+} c^\\dagger_{q-} c_{p\\sigma} \\\\\n",
    "=&\n",
    "\\sum_p \\epsilon_p c^\\dagger_{p+}c^\\dagger_{p-} - \\sum_p\\epsilon_p c^\\dagger_{p-} c^\\dagger_{p+} \\\\\n",
    "&+ c^\\dagger_{q+}c^\\dagger_{q-}\\sum_{p\\sigma}\\epsilon_p c^\\dagger_{p\\sigma} c_{p\\sigma} \\\\\n",
    "=& 2\\epsilon_p c^\\dagger_{p+} c^\\dagger_{p-}\\hat P^\\dagger_q \\hat H_0,\n",
    "\\end{align}\n",
    "\n",
    "which gives\n",
    "\n",
    "\\begin{align} \n",
    "[\\hat H_0, \\hat P^\\dagger_q] = 2\\epsilon_p c^\\dagger_{p+} c^\\dagger_{p-}.\n",
    "\\end{align}"
   ]
  },
  {
   "cell_type": "markdown",
   "metadata": {},
   "source": [
    "Which eventually leads to (half of) the commutation relation we are after,\n",
    "\n",
    "\\begin{align} \n",
    "[\\hat H_0, \\hat P] =& \\sum_p \\big([\\hat H_0, \\hat P^\\dagger_p]\\hat P_p + \\hat P^\\dagger_p[\\hat H_0, \\hat P_p] \\big) = \\sum_p \\big(\\epsilon_p c^\\dagger_{p+}c^\\dagger_{p-}\\hat P_p - \\hat P^\\dagger_p 2\\epsilon_p c_{p-} c_{p+} \\big) \\\\\n",
    "=& \\sum_p \\big(2\\epsilon_p c^\\dagger_{p+}c^\\dagger_{p-}c_{p-}c_{p+} - 2\\epsilon_p c^\\dagger_{p+} c^\\dagger_{p-} c_{p-} c_{p+} \\big) = 0.\n",
    "\\end{align}"
   ]
  },
  {
   "cell_type": "markdown",
   "metadata": {},
   "source": [
    "As for the product of the two-body operator and pair number operator, using the result that $[\\hat P_p, \\hat P^\\dagger_q] = \\delta_{pq}(q-\\hat n_q)$ (to be proven later),\n",
    "\n",
    "\\begin{align}\n",
    "\\hat V \\hat P =& -\\frac{1}{2}g\\sum_{pq}\\hat P^\\dagger_p \\hat P_q \\sum_t\\hat P^\\dagger_r \\hat P_r \\\\\n",
    "=&\n",
    "-\\frac{1}{2}g \\sum_{pqr}\\hat P^\\dagger_p\\big[\\hat P^\\dagger_r \\hat P_q + \\delta_{qr}(1-\\hat n_r) \\big]\\hat P_r \\\\\n",
    "=&\n",
    "-\\frac{1}{2}g \\sum_{pqr}\\hat P^\\dagger_r \\hat P^\\dagger_p \\hat P_r \\hat P_q - \\frac{1}{2}g \\sum_{pq}\\hat P^\\dagger_p(1-\\hat n_q\n",
    ")\\hat P_q \\\\\n",
    "=&\n",
    "\\frac{1}{2}g\\sum_{pqr}\\hat P^\\dagger_r \\big[\\hat P_r \\hat P^\\dagger_p - \\delta_{pr}(1 - \\hat n_r) \\big]\\hat P_q - \\frac{1}{2}g \\sum_{pq}\\hat P_p(1-\\hat n_q) \\hat P_q \\\\\n",
    "=&\n",
    "\\sum_r\\hat P^\\dagger_r \\hat P_r \\Big(-\\frac{1}{2}g\\sum_{pq}\\hat P^\\dagger_P \\hat P_q\\Big) + \\frac{1}{2}g\\sum_{pq}\\hat P_q(1 - \\hat n_p) \\hat P_q \\\\ &- \\frac{1}{2}g\\sum_{pq}\\hat P^\\dagger_p (1 - \\hat n_q) \\hat P_q \\\\\n",
    "=& \\hat P \\hat V + \\frac{1}{2}g \\sum_{pq} \\hat P^\\dagger_p (\\hat n_q - \\hat n_p) \\hat P_q.\n",
    "\\end{align}"
   ]
  },
  {
   "cell_type": "markdown",
   "metadata": {},
   "source": [
    "The last term must be zero. If the pair annihilation operator to the right, $\\hat P_q$, annihilates a pair at level $q$, then then the particle number operator for that level $\\hat n_q$ is zero. If the particle number operator $\\hat n_p$ gives something that is non-zero, trying to create something at the level $p$ with $\\hat P^\\dagger_p$ will give zero. This must mean that\n",
    "\n",
    "\n",
    "\\begin{equation}\n",
    "[\\hat V, \\hat P] = 0,\n",
    "\\end{equation}\n",
    "\n",
    "and we have landed at our final result,\n",
    "\n",
    "\\begin{equation}\n",
    "[\\hat H, \\hat P] = 0.\n",
    "\\end{equation}"
   ]
  },
  {
   "cell_type": "markdown",
   "metadata": {},
   "source": [
    "### Commutation Relation of Pair Number Operator and Spin Operator"
   ]
  },
  {
   "cell_type": "markdown",
   "metadata": {},
   "source": [
    "The product of the pair number operator and the spin projection operator gives\n",
    "\n",
    "\\begin{align}\n",
    "2\\hat P \\hat S_z \n",
    "=&\n",
    "\\sum_{pq\\sigma}\\sigma \\hat P^\\dagger_q \\hat P_q c^\\dagger_{p\\sigma} c_{p\\sigma} \\\\\n",
    "=&\n",
    "\\sum_{pq\\sigma}\\sigma \\hat P^\\dagger_q \\delta_{pq} (c_{q-}\\delta_{+\\sigma} - c_{q+} \\delta_{-\\sigma}) c_{p\\sigma} \n",
    "+ \\sum_{pq\\sigma}\\sigma \\hat P^\\dagger_q c^\\dagger_{p\\sigma} \\hat P_q c_{p\\sigma} \\\\\n",
    "=& \n",
    "\\sum_p \\big([+]\\hat P^\\dagger_p c_{p-} c_{p+} - [-]\\hat P^\\dagger_p c_{p+}c_{p-} \\big) + \\sum_{pq\\sigma} c^\\dagger_{p\\sigma} \\hat P^\\dagger_q c_{p\\sigma} \\hat P_q \\\\\n",
    "=&\n",
    "\\sum_{pq\\sigma}\\sigma c^\\dagger_{p\\sigma} \\delta_{pq}(c^\\dagger_{q+}\\delta_{-\\sigma} - c^\\dagger_{q-}\\delta_{+\\sigma})\\hat P_q \n",
    "+ \\sum_{pq\\sigma}\\sigma c^\\dagger_{p\\sigma} c_{p\\sigma}\\hat P^\\dagger_q \\hat P_q \\\\\n",
    "=&\n",
    "\\sum_p \\big([-]c^\\dagger_{p-}c^\\dagger_{p+} \\hat P_p - [+]c^\\dagger_{p+} c^\\dagger_{p-} \\hat P_p \\big) + \\sum_{p\\sigma}\\sigma c^\\dagger_{p\\sigma}c_{p\\sigma} \\sum_q \\hat P^\\dagger_q \\hat P_q \\\\\n",
    "=& 2\\hat S_z \\hat P,\n",
    "\\end{align}\n",
    "\n",
    "implying\n",
    "\n",
    "\\begin{align}\n",
    "[\\hat P, \\hat S_z] = 0.\n",
    "\\end{align}"
   ]
  },
  {
   "cell_type": "markdown",
   "metadata": {},
   "source": [
    "Because of the vanishing commutators derived above, the Hamiltionian is block diagonal. This means that we can find a complete set of eigenfunctions $|\\Psi_k; S_z, P\\rangle$ of $\\hat H$ so that,\n",
    "\n",
    "\\begin{align}\n",
    "\\hat H |\\Psi_k; S_z, P\\rangle &= E_{k, S_z, P} |\\Psi_k; S_z, P\\rangle, \\\\\n",
    "\\hat P |\\Psi_k; S_z, P\\rangle &= S_z |\\Psi_k; S_z, P\\rangle \\\\\n",
    "\\hat S_z |\\Psi_k; S_z, P\\rangle &= P |\\Psi_k; S_z, P\\rangle. \n",
    "\\end{align}"
   ]
  },
  {
   "cell_type": "markdown",
   "metadata": {},
   "source": [
    "The focus from now on will be on the case $N=4$, $S_z = 0$, $P=2$ and $M=4$ levels. We seek eigenfunctions $|\\Psi_k\\rangle \\equiv |\\Psi_k;0,2\\rangle$ and eigenvalues $E_k \\equiv E_{k,S_z,P}$ and set $\\xi = 0$ for the remainder of this study."
   ]
  },
  {
   "cell_type": "markdown",
   "metadata": {},
   "source": [
    "### Commutation Relation of Pair Creation and Annihilation Operator\n",
    "\n",
    "The product of the pair creation and annihilation operators is\n",
    "\n",
    "\\begin{align}\n",
    "\\hat P_p \\hat P^\\dagger_q \n",
    "=&\n",
    "c_{p-}c_{p+}c^\\dagger_{q+}c^\\dagger_{q-} \\\\\n",
    "=&\n",
    "c_{p-}\\delta_{pq}\\delta_{++}c^\\dagger_{q-} - c_{p-}c^\\dagger_{q+}c_{p+}c^\\dagger_{q-} \\\\\n",
    "=&\n",
    "\\delta_{pq}c_{q-}c^\\dagger_{q-} - (\\delta_{pq}\\delta_{-+} - c^\\dagger_{q+} c_{p-})(\\delta_{pq} \\delta_{+-} - c^\\dagger_{q-} c^\\dagger_{p+}) \\\\\n",
    "=&\n",
    "\\delta_{pq}(\\delta_{qq}\\delta_{--} - c^\\dagger_{q-}c_{q-}) - c^\\dagger_{q+}c_{p-}c^\\dagger_{q-}c_{p+} \\\\\n",
    "=&\n",
    "\\delta_{pq}(1 - c^\\dagger_{q-}c_{q-}) - \\delta_{pq}\\delta_{--}c^\\dagger_{q+} c_{p+} + c^\\dagger_{q+}c^\\dagger_{q-} c_{p-} c_{p+} \\\\\n",
    "=&\n",
    "\\delta_{pq}(1 - c^\\dagger_{q-}c_{q-} - c^\\dagger_{q+}c_{q+}) + \\hat P^\\dagger_q \\hat P_p \\\\\n",
    "=&\n",
    "\\delta_{pq}(1 - \\hat n_q) + \\hat P^\\dagger_q \\hat P_p,\n",
    "\\end{align}\n",
    "\n",
    "which gives the desired result\n",
    "\n",
    "\\begin{align}\n",
    "[\\hat P_p , \\hat P^\\dagger_q] = \\delta_{pq}(1 - \\hat n_q).\n",
    "\\end{align}"
   ]
  },
  {
   "cell_type": "markdown",
   "metadata": {},
   "source": [
    "In the derivation above I have been a bit naughty by changing indices in order to make them work in my favour. The Kronecker deltas should make this perfectly fine, however."
   ]
  },
  {
   "cell_type": "markdown",
   "metadata": {},
   "source": [
    "### Eigenvalue Equations for the Reduced Case"
   ]
  },
  {
   "cell_type": "markdown",
   "metadata": {},
   "source": [
    "First, let us look at the pair number operator acting on the Slater's determinant. The sum in the pair number operator only runs up to two in the constrained/reduced case, so that $\\hat P = \\hat P^\\dagger_1 \\hat P_1 + \\hat P^\\dagger_2 \\hat P_2$, and as always $|\\Phi \\rangle = \\hat P^\\dagger_1 \\hat P^\\dagger_2|-\\rangle$. Before we begin, we need the commutators of two pair creation and two pair annihalation operators,\n",
    "\n",
    "\\begin{align}\n",
    "\\hat P_p\\hat P_q =& c_{p-}c_{p+}c_{q-}c_{q+} = c_{p+}c_{q-}c_{q+}c_{p-} = c_{q-}c_{q+}c_{p-}c_{q+} = \\hat P_q \\hat P_p,\n",
    "\\end{align}\n",
    "\n",
    "yielding\n",
    "\n",
    "\\begin{align}\n",
    "[\\hat P_p, \\hat P_q] = 0.\n",
    "\\end{align}\n",
    "\n",
    "The computation of the pair creation operator commutator is, for all intents an purposes, identical\n",
    "\n",
    "\\begin{align}\n",
    "[\\hat P^\\dagger_p, \\hat P^\\dagger_q] = 0.\n",
    "\\end{align}"
   ]
  },
  {
   "cell_type": "markdown",
   "metadata": {
    "collapsed": true
   },
   "source": [
    "The pair number operator acting on the Slater determinant gives\n",
    "\n",
    "\\begin{align}\n",
    "\\hat P |\\Phi \\rangle =& \\hat P^\\dagger_1 \\hat P_1 \\hat P^\\dagger_1 \\hat P^\\dagger_2 |-\\rangle \n",
    "     + \\hat P^\\dagger_2 \\hat P_2 \\hat P^\\dagger_1 \\hat P^\\dagger_2 |-\\rangle \\\\\n",
    "    =&  \\hat P^\\dagger_1\\big(\\hat P^\\dagger_1 \\hat P_1 + \\delta_{11}(1 - \\hat n_1)\\big) \\hat P^\\dagger_2 |-\\rangle\n",
    "      + \\hat P^\\dagger_2\\big(\\hat P^\\dagger_2 \\hat P_2 + \\delta_{12}(1 - \\hat n_2)\\big) \\hat P^\\dagger_2 |-\\rangle \\\\\n",
    "    =& \\hat P^\\dagger_1 \\hat P^\\dagger_1 \\hat P_1 \\hat P^\\dagger_2|-\\rangle + \\hat P^\\dagger_1 \\hat P^\\dagger_2 |-\\rangle\n",
    "      - \\hat P^\\dagger_1\\hat n_1 \\hat P^\\dagger_2 |-\\rangle + \\hat P^\\dagger_2 \\hat P^\\dagger_2 \\hat P_2 \\hat P^\\dagger_2 |-\\rangle \\\\\n",
    "    =& \\hat P^\\dagger_1 \\hat P^\\dagger_1\\big(\\hat P^\\dagger_2 \\hat P_1 + \\delta_{12}(1 - \\hat n_2) \\big) |-\\rangle\n",
    "     + \\hat P^\\dagger_2 \\hat P^\\dagger_1\\big(\\hat P^\\dagger_2 \\hat P_2 + \\delta_{22}(1 - \\hat n_2) \\big) |-\\rangle \\\\\n",
    "     &+ |\\Phi\\rangle \\\\\n",
    "    =& \\hat P^\\dagger_1 \\hat P^\\dagger_1 \\hat P^\\dagger_2 \\hat P_1 |-\\rangle + \\hat P^\\dagger_2 \\hat P^\\dagger_1 \\hat P^\\dagger_2 \\hat P_2 |-\\rangle + \\hat P^\\dagger_2 \\hat P^\\dagger_1 |-\\rangle - \\hat P^\\dagger_2 \\hat P^\\dagger_1 \\hat n_2 |-\\rangle \\\\\n",
    "     &+ |\\Phi\\rangle \\\\\n",
    "    =& \\hat P^\\dagger_1 \\hat P^\\dagger_2 |-\\rangle + |\\Phi\\rangle = 2|\\Phi\\rangle.\n",
    "\\end{align}"
   ]
  },
  {
   "cell_type": "markdown",
   "metadata": {},
   "source": [
    "Proceeding with the spin-projection operator, \n",
    "\n",
    "\\begin{align}\n",
    "\\hat S_z =&\n",
    "\\frac{1}{2} \\sum_{p\\sigma} \\sigma c^\\dagger_{p\\sigma} c_{p\\sigma} \\hat P^\\dagger_1 \\hat P^\\dagger_2 |-\\rangle \\\\\n",
    "=&\n",
    "\\frac{1}{2} \\sum_{p\\sigma} \\sigma \\Big( c^\\dagger_{p\\sigma} \\hat P^\\dagger_1 c_{p\\sigma} \\hat P^\\dagger_2 - c^\\dagger_{p\\sigma} \\delta_{1p}(c^\\dagger_{1+} \\delta_{-\\sigma} - c^\\dagger_{1-}\\delta_{+\\sigma})\\hat P^\\dagger_2\\Big) |-\\rangle \\\\\n",
    "=& \n",
    "\\frac{1}{2} \\sum_{p\\sigma} \\sigma \\Big(c^\\dagger_{p\\sigma} \\hat P^\\dagger_1 \\hat P^\\dagger_2 c_{p\\sigma} - c^\\dagger_{p\\sigma} \\delta_{1p}(c^\\dagger_{1+} \\delta_{-\\sigma} - c^\\dagger_{1-}\\delta_{+\\sigma})\\hat P^\\dagger_2 \\\\\n",
    "&- c^\\dagger_{p\\sigma} \\hat P^\\dagger_1 \\delta_{2p}(c^\\dagger_{2+}\\delta_{-\\sigma} - c^\\dagger_{2-}\\delta_{+\\sigma})\\Big)|-\\rangle \\\\\n",
    "=&\n",
    "\\frac{1}{2}\\Big( c^\\dagger_{1-} c^\\dagger_{1+}\\hat P^\\dagger_2 + c^\\dagger_{1+}c^\\dagger_{1-}\\hat P^\\dagger_2 + c^\\dagger_{2-}\\hat P^\\dagger_1 c^\\dagger_{2+} + c^\\dagger_{2+}\\hat P_1 c^\\dagger_{2-}\\Big)|-\\rangle \\\\\n",
    "=&\n",
    "\\frac{1}{2}\\Big(-\\hat P^\\dagger_2\\hat P^\\dagger_1 + \\hat P^\\dagger_2\\hat P^\\dagger_1 - \\hat P^\\dagger_2\\hat P^\\dagger_1 + \\hat P^\\dagger_2\\hat P^\\dagger_1 \\Big) |-\\rangle \\\\\n",
    "=& 0\n",
    "\\end{align}"
   ]
  },
  {
   "cell_type": "markdown",
   "metadata": {},
   "source": [
    "### Basis of Subspace of Hilbert Space"
   ]
  },
  {
   "cell_type": "markdown",
   "metadata": {},
   "source": [
    "For the case where the spin is zero, $S_z = 0$ and the number of pairs is $P=2$ one can write Slater determinants in the following way\n",
    "\n",
    "\\begin{align}\n",
    "|p\\bar p q \\bar q\\rangle \\equiv P^\\dagger_p P^\\dagger_q|-\\rangle,\n",
    "\\end{align}\n",
    "\n",
    "where $\\bar p$ indicates the state $p-$ and $p$ is the state $p+$. \n",
    "\n",
    "Any state in the Hilbert space must have total spin zero, meaning that there are an equal number of spin-$+$ and spin-$-$ particles. Moreover, each state must contain excatly two particles. The set of these slater determinants give all different ways two pairs can be inserted into the available levels $M$, and is therefore a basis for the space. For $M=4$ there are ${{4}\\choose{2}} = 6$ ways to do this."
   ]
  },
  {
   "cell_type": "markdown",
   "metadata": {},
   "source": [
    "<img src=\"figures/basis_figures/basisfigure.pdf\">"
   ]
  },
  {
   "cell_type": "markdown",
   "metadata": {},
   "source": [
    "### Spin-Orbital Diagrams, No Pairs"
   ]
  },
  {
   "cell_type": "markdown",
   "metadata": {},
   "source": [
    "In the subspace where $P = 0$, $\\hat S_z = 0$ and $M=4$ there are no pairs, equal numbers of spin-$+$ and spin-$-$ particles and four levels. Assuming again that the total number of particles are $N=4$, we get the following possible configurations."
   ]
  },
  {
   "cell_type": "markdown",
   "metadata": {},
   "source": [
    "<img src=\"figures/no_pairs/no_pairs.pdf\">"
   ]
  },
  {
   "cell_type": "markdown",
   "metadata": {},
   "source": [
    "### Rewriting the Hamiltonian"
   ]
  },
  {
   "cell_type": "markdown",
   "metadata": {},
   "source": [
    "We will now rewrite the Hamiltonian to a more convenient form, setting $\\xi = 1$ the unperturbed can be rewritten to\n",
    "\n",
    "\\begin{align}\n",
    "\\hat H_0 = \\sum_{p\\sigma} (1-p) c^\\dagger_{p\\sigma}c_{p\\sigma}\n",
    "         = \\sum_{p} (1-p) \\sum_{\\sigma} c^\\dagger_{p\\sigma}c_{p\\sigma}\n",
    "         = \\sum_{p} (1-p) \\hat n_p.\n",
    "\\end{align}"
   ]
  },
  {
   "cell_type": "markdown",
   "metadata": {},
   "source": [
    "Moreover, the pairing force term can be rewritten as follows\n",
    "\n",
    "\\begin{align}\n",
    "\\hat V =& -\\frac{1}{2}g\\sum_{pq}c^\\dagger_{p+}c^\\dagger_{p-}c_{q-}c_{q+}\n",
    "       = -\\frac{1}{2}g\\Big(\\sum_{p} c^\\dagger_{p+}c^\\dagger_{p-} \\Big) \\Big( \\sum_{q} c_{q-} c_{q+} \\Big) \\\\\n",
    "       =& -\\frac{1}{2}g\\Big(\\sum_{p} \\hat P^\\dagger_p \\Big) \\Big(\\sum_{q} \\hat P_q\\Big)\n",
    "\\end{align}"
   ]
  },
  {
   "cell_type": "markdown",
   "metadata": {},
   "source": [
    "Limiting the number of pairs to $P=4$ gives the full Hamiltonian as\n",
    "\n",
    "\\begin{align}\n",
    "\\hat H = \\sum_p (p-1) \\hat n_p - \\frac{1}{2} \\Big(\\sum_{p=1}^4 \\hat P^\\dagger_p \\Big) \\Big(\\sum_{q=1}^4 \\hat P_q \\Big).\n",
    "\\end{align}"
   ]
  },
  {
   "cell_type": "markdown",
   "metadata": {},
   "source": [
    "## Exercise 2"
   ]
  },
  {
   "cell_type": "markdown",
   "metadata": {},
   "source": [
    "### Matrix Elements\n",
    "\n",
    "Acting on the two-pair Slater determinant with a sum of all pair annihilation operators should, logically, remove pairs sequentially. This leaves a sum of the two single-pair Slaters.\n",
    "\n",
    "\\begin{align}\n",
    "\\sum_s \\hat P_s |p\\bar p q \\bar q\\rangle \n",
    "=&\n",
    "\\sum_s c_{s-}c_{s+} |p \\bar p q \\bar q \\rangle \\\\\n",
    "=&\n",
    "c_{1-}c_{1+} |p \\bar p q \\bar q \\rangle \\\\\n",
    "&+ \\dots + c_{p-}c_{p+}|p \\bar p q \\bar q \\rangle \\\\\n",
    "&+ \\dots + c_{q-}c_{q+}|p \\bar p q \\bar q \\rangle \\\\\n",
    "&+ \\dots + c_{M-}c_{M+} |p \\bar p q \\bar q \\rangle \\\\\n",
    "=& |q \\bar q\\rangle + |p \\bar p \\rangle,\n",
    "\\end{align}"
   ]
  },
  {
   "cell_type": "markdown",
   "metadata": {},
   "source": [
    "Now for the matrix elements,\n",
    "\n",
    "\\begin{align}\n",
    "\\langle p' \\bar p' q' \\bar q' | \\hat H | p \\bar p q \\bar q \\rangle\n",
    "= \\langle p' \\bar p' q' \\bar q' | \\hat H_0 + \\hat V | p \\bar p q \\bar q \\rangle.\n",
    "\\end{align}"
   ]
  },
  {
   "cell_type": "markdown",
   "metadata": {},
   "source": [
    "Starting with the unperturbed Hamiltonian\n",
    "\n",
    "\\begin{align}\n",
    "\\langle p' \\bar p' q' \\bar q' |\\hat H_0 | p \\bar p q \\bar q \\rangle\n",
    "=& \n",
    "\\langle p' \\bar p' q' \\bar q' |\\sum_r (r-1)\\hat n_r | p \\bar p q \\bar q \\rangle \\\\\n",
    "=& \n",
    "\\langle p' \\bar p' q' \\bar q' |[(p - 1)\\hat n_p + (q - 1)\\hat n_q] | p \\bar p q \\bar q \\rangle \\\\\n",
    "=&\n",
    "\\langle p' \\bar p' q' \\bar q' |[2(p - 1) + 2(q - 1)] | p \\bar p q \\bar q \\rangle \\\\\n",
    "=&\n",
    "2(p + q - 2)\\langle p' \\bar p' q' \\bar q' | p \\bar p q \\bar q \\rangle \\\\\n",
    "=&\n",
    "2(p + q - 2)\\delta_{p'p}\\delta_{q'q},\n",
    "\\end{align}"
   ]
  },
  {
   "cell_type": "markdown",
   "metadata": {},
   "source": [
    "and then the two-body pairing force term\n",
    "\n",
    "\\begin{align}\n",
    "\\langle p' \\bar p' q' \\bar q' |\\hat V | p \\bar p q \\bar q \\rangle\n",
    "=& \n",
    "-\\frac{1}{2}g \\langle p' \\bar p' q' \\bar q' |\\Big(\\sum_{r=1}^4 \\hat P^\\dagger_r \\Big) \\Big( \\sum_{s=1}^4 \\hat P_s \\Big) | p \\bar p q \\bar q \\rangle \\\\\n",
    "=& \n",
    "-\\frac{1}{2}g \\langle p' \\bar p' q' \\bar q' |\\Big(\\sum_{r=1}^4 \\hat P^\\dagger_r \\Big)\\big(|p\\bar p \\rangle + |q \\bar q \\rangle \\big) \\\\\n",
    "=&\n",
    "-\\frac{1}{2} g \\big(\\langle p'\\bar p'| + \\langle q' \\bar q' | \\big) \\big( |p\\bar p \\rangle + |q \\bar q \\rangle \\big) \\\\\n",
    "=&\n",
    "-\\frac{1}{2} g \\big(\\langle p'\\bar p'|p\\bar p \\rangle + \\langle q' \\bar q' |q \\bar q \\rangle + \\langle p'\\bar p'|q \\bar q \\rangle + \\langle q' \\bar q |p\\bar p \\rangle  \\big) \\\\\n",
    "=&\n",
    "-\\frac{1}{2} g ( \\delta_{p'p} + \\delta_{q'q} + \\delta_{q'p} + \\delta_{p'q}),\n",
    "\\end{align}"
   ]
  },
  {
   "cell_type": "markdown",
   "metadata": {},
   "source": [
    "which gives the full Hamiltonian\n",
    "\n",
    "\\begin{align}\n",
    "\\langle p' \\bar p' q' \\bar q' | \\hat H | p \\bar p q \\bar q \\rangle\n",
    "= 2(p + q - 2)\\delta_{p'p}\\delta_{q'q} -\\frac{1}{2} g ( \\delta_{p'p} + \\delta_{q'q} + \\delta_{q'p} + \\delta_{p'q}).\n",
    "\\end{align}"
   ]
  },
  {
   "cell_type": "markdown",
   "metadata": {},
   "source": [
    "### Numerical Diagonolization of the Hamiltonian"
   ]
  },
  {
   "cell_type": "markdown",
   "metadata": {},
   "source": [
    "We now set $\\xi = 1$ and consider $g \\in [-1,1]$."
   ]
  },
  {
   "cell_type": "code",
   "execution_count": 7,
   "metadata": {
    "collapsed": true
   },
   "outputs": [],
   "source": [
    "# Importing necessary libraries\n",
    "import numpy as np\n",
    "from scipy import linalg\n",
    "from matplotlib import pyplot as plt"
   ]
  },
  {
   "cell_type": "code",
   "execution_count": 8,
   "metadata": {
    "collapsed": true
   },
   "outputs": [],
   "source": [
    "# Defining Kronecker delta\n",
    "delta = lambda p, q: p == q\n",
    "\n",
    "# One-body / unperturbed Hamiltonian <pq|H_0|rs>\n",
    "def H_0(p, q, r, s):\n",
    "    return 2*(r + s - 2) * delta(p, r) * delta(q, s)\n",
    "\n",
    "# Two-body operators <pq|V|rs>\n",
    "def V(p, q, r, s, g):\n",
    "    return - 0.5*g*(delta(p, r) + delta(q, s) + delta(q, r) + delta(p, s))\n",
    "\n",
    "# Full Hamiltonian\n",
    "def H(p, q, r, s, g):\n",
    "    return H_0(p, q, r, s) + V(p, q, r, s, g)"
   ]
  },
  {
   "cell_type": "code",
   "execution_count": 9,
   "metadata": {
    "collapsed": true
   },
   "outputs": [],
   "source": [
    "# Parameters\n",
    "n = 100\n",
    "basis_size = 6\n",
    "\n",
    "# Array of interaction terms\n",
    "G = np.linspace(-1, 1, n)\n",
    "\n",
    "# Basis space configurations mapping to a single coordinate\n",
    "pair_levels = { 0: (1, 2),\n",
    "                1: (1, 3),\n",
    "                2: (1, 4),\n",
    "                3: (2, 3),\n",
    "                4: (2, 4),\n",
    "                5: (3, 4) }\n",
    "\n",
    "# Empty FCI matrix and energy array \n",
    "H_FCI = np.zeros((basis_size, basis_size))\n",
    "E_FCI = np.zeros((n, basis_size))\n",
    "\n",
    "# For probability computation\n",
    "f_FCI = np.zeros(n)"
   ]
  },
  {
   "cell_type": "code",
   "execution_count": 10,
   "metadata": {
    "collapsed": true
   },
   "outputs": [],
   "source": [
    "# Iterating over pairing force constant\n",
    "for k in range(n):\n",
    "    g = G[k]\n",
    "    \n",
    "    # Iterating over possible basis set configurations\n",
    "    for i in range(basis_size):\n",
    "        for j in range(basis_size):\n",
    "            \n",
    "            # Extracting pair configurations\n",
    "            bra = pair_levels[i]\n",
    "            ket = pair_levels[j]\n",
    "        \n",
    "            # Hamiltonian matrix element\n",
    "            H_FCI[i, j] = H(*bra, *ket, g)\n",
    "    \n",
    "    # Solving eigenvalue problem -> getting energies\n",
    "    e_FCI, v_FCI = linalg.eigh(H_FCI)\n",
    "    \n",
    "    # Storing eigenvalues to array\n",
    "    E_FCI[k, :] = e_FCI\n",
    "    \n",
    "    # Square of ground state eigenvector gives probability\n",
    "    f_FCI[k] = v_FCI[0,0]**2"
   ]
  },
  {
   "cell_type": "code",
   "execution_count": 11,
   "metadata": {},
   "outputs": [
    {
     "data": {
      "image/png": "[encoded data removed]",
      "text/plain": [
       "<matplotlib.figure.Figure at 0x115663208>"
      ]
     },
     "metadata": {},
     "output_type": "display_data"
    }
   ],
   "source": [
    "# Plotting all levels M\n",
    "for level in range(basis_size):\n",
    "\n",
    "    # Making sure ground state is clearly marked with thicker line\n",
    "    if level == 0:\n",
    "        plt.plot(G, E_FCI[:, level], lw=2, label=\"$E_0$\")\n",
    "    \n",
    "    # Plotting every second level in dashed line to reveal degeneracy\n",
    "    elif level % 2 == 0:\n",
    "        plt.plot(G, E_FCI[:, level], \"--\", label = \"$E_{}$\".format(level))\n",
    "        \n",
    "    else:\n",
    "        plt.plot(G, E_FCI[:, level], lw=0.5, label = \"$E_{}$\".format(level))\n",
    "\n",
    "# Title and axis labels\n",
    "plt.title(\"Full Configuration Interaction\")\n",
    "plt.xlabel(\"Pairing Force, $g$\")\n",
    "plt.ylabel(\"Energy\")\n",
    "plt.legend()\n",
    "plt.show()"
   ]
  },
  {
   "cell_type": "markdown",
   "metadata": {},
   "source": [
    "The energies of the different levels with varying pairing force $g$. The ground state energy is highlighted in bold. We see a degeneracy in the second and third excited states. Just by looking at the pictograms of the basis states, this degenracy is easy to predict for an equal spacing of the energy levels (in our case $\\xi = 1$).\n",
    "\n",
    "We see that the energy decreases for an increasing $g$. This can also be seen from the expression for $\\hat V$, meaning that pairing becomes energetically favourable for higher $g$."
   ]
  },
  {
   "cell_type": "code",
   "execution_count": 12,
   "metadata": {},
   "outputs": [
    {
     "data": {
      "image/png": "[encoded data removed]",
      "text/plain": [
       "<matplotlib.figure.Figure at 0x11975f828>"
      ]
     },
     "metadata": {},
     "output_type": "display_data"
    }
   ],
   "source": [
    "# Probability of finding the particles in the unperturbed ground state\n",
    "plt.plot(G, f_FCI)\n",
    "plt.xlabel(\"Pairing Force, $g$\")\n",
    "plt.ylabel(\"Ground State Probability, $f(g)$\")\n",
    "plt.title(\"FCI - Ground State Probability vs Pairing Force\")\n",
    "plt.show()"
   ]
  },
  {
   "cell_type": "markdown",
   "metadata": {},
   "source": [
    "The figure above gives the probability of being in the unperturbed ground state. First, we see that for $g=0$ the system will always be in the ground state and $f(0) = 1$. This makes sense because when $g=0$, $\\hat V = 0$ and only the ground state Hamiltonian remains.\n",
    "\n",
    "As the pairing force increases, we see that the probability of being in the ground state falls rapidly. The curve is not perfectly symmetric, as the probability curve is not as steep for $g<0$."
   ]
  },
  {
   "cell_type": "markdown",
   "metadata": {},
   "source": [
    "### CISD Approximation"
   ]
  },
  {
   "cell_type": "markdown",
   "metadata": {},
   "source": [
    "A singly excited state can be written as\n",
    "\n",
    "\\begin{align}\n",
    "|\\Phi_i^a\\rangle = 1 | \\Phi_i^a\\rangle\n",
    "\\end{align}\n",
    "\n",
    "and has one pair broken. Acting upon the state with the pair number operator yields $\\hat P | \\Phi_i^a\\rangle = 1 | \\Phi_i^a\\rangle$, because one state is excited, leaving one pair broken. Moreover, since $[\\hat H, \\hat P] = 0$ the Hamilitonian preserves the number of pairs. Remembering that the general solution to the Schrödinger equation is a linear combination of... etc. something something.. (insert good explanation). Then\n",
    "\n",
    "\\begin{align}\n",
    "\\langle \\Phi | \\hat H | \\Phi_i^a \\rangle\n",
    "= \\langle \\Phi | \\Big( \\sum_n c_n | \\Psi_n \\rangle \\Big) = 0,\n",
    "\\end{align}\n",
    "\n",
    "where $\\Psi_n$ are states with one pair, $P = 1$ and $c_n$ are some real numbers. For all of the one-pair states, $\\langle \\Phi | \\Psi_n \\rangle = 0$, meaning that the singly-excited states do noe couple with the reference state $| \\Phi \\rangle$ or any doubly excited states (without broken pairs). They will therefore not contribute to the exact eigenfuntion, i.e. the Configuration Interaction for Singles and Doubles (CISD) is the same as for only doubles (CID)."
   ]
  },
  {
   "cell_type": "markdown",
   "metadata": {
    "collapsed": true
   },
   "source": [
    "The CID Hamiltonian matrix is the same as the FCI matrix, but one can ignore the singly excited states, leaving the block-form matrix,\n",
    "\n",
    "\\begin{align}\n",
    "H_{\\text{CISD}} = \\begin{pmatrix}\n",
    "\\Big[ \\langle \\Phi |\\hat H | \\Phi \\rangle  \\Big] &  &  \\Big[ \\langle \\Phi |\\hat H| \\Phi_{j\\bar j}^{b \\bar b} \\rangle \\Big]\\\\\n",
    "& \\Big[ \\langle \\Phi_i^a |\\hat H| \\Phi_j^b \\rangle \\Big] & \\\\\n",
    "\\Big[ \\langle \\Phi_{i\\bar i}^{a \\bar a}|\\hat H| \\Phi\\rangle \\Big] & &\n",
    "\\Big[ \\langle \\Phi_{i \\bar i}^{a \\bar a}| \\hat H | \\Phi_{j\\bar j}^{b\\bar b} \\rangle \\Big]\n",
    "\\end{pmatrix}\n",
    "\\end{align}"
   ]
  },
  {
   "cell_type": "markdown",
   "metadata": {},
   "source": [
    "A more general excited state can be written as\n",
    "\n",
    "\\begin{equation}\n",
    "|\\Phi_{ij}^{ab}\\rangle = c^\\dagger_a c^\\dagger_b c_i c_j |\\Phi\\rangle\n",
    "\\end{equation}\n",
    "\n",
    "where the states $a,b,i,j$ can be either spin options. Again, restricting our view to the case where we have two pairs $P=2$ and zero net spin $S_z=0$, constraining the double excitation to\n",
    "\n",
    "\\begin{equation}\n",
    "|\\Phi_{i\\bar i}^{a\\bar a}\\rangle = c^\\dagger_{a+} c^\\dagger_{a-} c_{i+} c_{i-} |\\Phi\\rangle = \\hat P^\\dagger_a \\hat P_i |\\Phi\\rangle\n",
    "\\end{equation}\n",
    "\n",
    "we can make all states other FCI space states from the FCI ground state in this manner except for the state where the two pairs are in the top two levels, because this would require two pair excitations instead of just the one. This gived the CID space a dimensionality of five."
   ]
  },
  {
   "cell_type": "code",
   "execution_count": 13,
   "metadata": {
    "collapsed": true
   },
   "outputs": [],
   "source": [
    "# Preparing CID matrix and energy array\n",
    "H_CID = np.zeros((basis_size - 1, basis_size - 1))\n",
    "E_CID = np.zeros((n, basis_size - 1))\n",
    "\n",
    "# Ground state probability array\n",
    "f_CID = np.zeros(n)"
   ]
  },
  {
   "cell_type": "code",
   "execution_count": 14,
   "metadata": {
    "collapsed": true
   },
   "outputs": [],
   "source": [
    "# The computation of CID matrix elements and diagnolization\n",
    "# is done in almost the same way as for FCI\n",
    "\n",
    "# Iterating for values for g\n",
    "for k in range(n):\n",
    "    g = G[k]\n",
    "    \n",
    "    # Possible basis set configurations, ignoring last state (3,4)\n",
    "    # All other basis states from FCI exist in CID\n",
    "    for i in range(basis_size - 1):\n",
    "        for j in range(basis_size - 1):\n",
    "            \n",
    "            # Extracting pair configurations\n",
    "            bra = pair_levels[i]\n",
    "            ket = pair_levels[j]\n",
    "        \n",
    "            # Hamiltonian CID matrix element\n",
    "            H_CID[i, j] = H(*bra, *ket, g)\n",
    "    \n",
    "    # Solving eigenvalue problem to get energies and eigenstates\n",
    "    e_CID, v_CID = linalg.eigh(H_CID)\n",
    "    \n",
    "    # Storing eigenvalues to array\n",
    "    E_CID[k, :] = e_CID\n",
    "    \n",
    "    # Square of ground state eigenvector gives probability\n",
    "    f_CID[k] = v_CID[0,0]**2"
   ]
  },
  {
   "cell_type": "code",
   "execution_count": 15,
   "metadata": {},
   "outputs": [
    {
     "data": {
      "image/png": "[encoded data removed]",
      "text/plain": [
       "<matplotlib.figure.Figure at 0x119bef080>"
      ]
     },
     "metadata": {},
     "output_type": "display_data"
    }
   ],
   "source": [
    "# Plotting ground state eigenvalue from FCI and CID as function of g\n",
    "plt.plot(G, E_CID[:, 0], label=\"Ground state energy, CID\")\n",
    "plt.plot(G, E_FCI[:, 0], '--', label=\"Ground state energy, FCI\")\n",
    "plt.title(\"FCI vs CID\")\n",
    "plt.ylabel(\"Energy\")\n",
    "plt.xlabel(\"Pairing Force, $g$\")\n",
    "plt.legend()\n",
    "plt.show()"
   ]
  },
  {
   "cell_type": "code",
   "execution_count": 16,
   "metadata": {},
   "outputs": [
    {
     "data": {
      "image/png": "[encoded data removed]",
      "text/plain": [
       "<matplotlib.figure.Figure at 0x119d3feb8>"
      ]
     },
     "metadata": {},
     "output_type": "display_data"
    }
   ],
   "source": [
    "# Plot to better display difference of CID and FCI\n",
    "plt.plot(G, np.abs(E_CID[:, 0] - E_FCI[:, 0]))\n",
    "plt.title(\"Absolute energy difference, FCI and CID\")\n",
    "plt.ylabel(\"Energy\")\n",
    "plt.xlabel(\"Pairing Force, $g$\")\n",
    "plt.show()"
   ]
  },
  {
   "cell_type": "markdown",
   "metadata": {},
   "source": [
    "One can conclude that, for most intents, the energy of the FCI and CID scheme is identical. We see that for a pairing force that is very different from zero, the two will diverge, but not by much."
   ]
  },
  {
   "cell_type": "code",
   "execution_count": 17,
   "metadata": {},
   "outputs": [
    {
     "data": {
      "image/png": "[encoded data removed]",
      "text/plain": [
       "<matplotlib.figure.Figure at 0x119ca85f8>"
      ]
     },
     "metadata": {},
     "output_type": "display_data"
    }
   ],
   "source": [
    "# Probability of ground state\n",
    "plt.plot(G, f_CID, label = \"CID\")\n",
    "plt.plot(G, f_FCI, label = \"FCI\")\n",
    "plt.xlabel(\"Pairing Force, $g$\")\n",
    "plt.ylabel(\"Ground State Probability, $f(g)$\")\n",
    "plt.title(\"Ground State Probability vs Pairing Force\")\n",
    "plt.legend()\n",
    "plt.show()"
   ]
  },
  {
   "cell_type": "markdown",
   "metadata": {},
   "source": [
    "We see that the ground state probability for the CID scheme is very similar to the FCI scheme. "
   ]
  },
  {
   "cell_type": "markdown",
   "metadata": {},
   "source": [
    "### Rayleigh-Schrödinger Perturbation"
   ]
  },
  {
   "cell_type": "markdown",
   "metadata": {},
   "source": [
    "The Rayleigh-Schrödinger projection operators is defined by\n",
    "\n",
    "\\begin{align}\n",
    "\\hat R = \\sum_{j\\neq k} \\frac{1}{\\epsilon_k - \\epsilon_j}|\\phi_j\\rangle\\langle \\phi_j|,\n",
    "\\end{align}\n",
    "\n",
    "where $\\epsilon_k$ is the unperturbed eigenvalue and $\\epsilon_j$ are the perturbed (excited state) eigenvalues. For $k=1$, that is the ground state with pairs in level $1$ and $2$ ($|\\Phi\\rangle = |12\\rangle$), one can write ''zeroth'', first, second and third energy corrections in the following way according to RSPT3,\n",
    "\n",
    "\\begin{align}\n",
    "E^{(0)}_1 =& \\langle \\phi_1 | \\hat H_0 | \\phi_1 \\rangle, \\\\\n",
    "E^{(1)}_1 =& \\langle \\phi_1 | \\hat V | \\phi_1 \\rangle, \\\\\n",
    "E^{(2)}_1 =& \\langle \\phi_1 | \\hat V \\hat R \\hat V | \\phi_q\\rangle, \\\\\n",
    "E^{(3)}_1 =& \\langle \\phi_1 | \\hat V \\hat R \\hat V \\hat R \\hat V | \\phi_1\n",
    "\\rangle - E^{(1)}_1 \\langle \\phi_1 |\\hat V \\hat R^2 \\hat V |\\phi_1 \\rangle.\n",
    "\\end{align}"
   ]
  },
  {
   "cell_type": "markdown",
   "metadata": {},
   "source": [
    "Inserting for the unperturbed ground state $|\\phi_1\\rangle = |\\Phi\\rangle = |12\\rangle$, one can compute the first two expressions quite easily. The unperturbed energy (zeroth) term is\n",
    "\n",
    "\\begin{align}\n",
    "E^{(0)}_1 = \\langle 12 | \\hat H_0 | 12 \\rangle = 2(1 + 2 - 2)\\langle 12| 12 \\rangle = 2,\n",
    "\\end{align}\n",
    "\n",
    "and the first order term is\n",
    "\n",
    "\\begin{align}\n",
    "E^{(1)}_1 = \\langle 12 | \\hat V | 12 \\rangle = -q\\frac{1}{2}(\\delta_{11} + \\delta_{22} + \\delta_{12} + \\delta_{21}) = -g\\frac{1}{2}(1 + 1) = -g.\n",
    "\\end{align}"
   ]
  },
  {
   "cell_type": "markdown",
   "metadata": {},
   "source": [
    "The second order term takes a bit more work, but gets neater by first rewriting the inverse eigenvalue difference in the expression for the Rayleigh-Schrödinger operator as $\\gamma_{ij} = 1/(\\epsilon_{12} - \\epsilon_{ij})$. We get,\n",
    "\n",
    "\\begin{align}\n",
    "E^{(2)}_1 =& \\langle 12 | \\hat V \\hat R \\hat V | 12 \\rangle \\\\\n",
    "          =& -\\frac{1}{2} g\\langle 1 2 | \\hat V \\hat R \\Big(\\sum_p \\hat P^\\dagger_p \\Big) \\Big(\\sum_q \\hat P_q \\Big) | 12 \\rangle \\\\\n",
    "          =& -\\frac{1}{2} g\\langle 1 2 | \\hat V \\hat R \\Big(\\sum_p \\hat P^\\dagger_p \\Big) \\Big(|1\\rangle + |2\\rangle \\Big) \\\\\n",
    "          =& -\\frac{1}{2}g\\langle 12 | \\hat V \\hat R\\Big(|12\\rangle + |13\\rangle + |14\\rangle + |12\\rangle + |23\\rangle + |24\\rangle \\Big) \\\\\n",
    "          =& -\\frac{1}{2}g\\langle 12 | \\hat V \\Big(\\sum_{j\\neq 1}v_j|\\phi_j\\rangle\\langle\\phi_j | \\Big)\\Big(|12\\rangle + |13\\rangle + |14\\rangle + |12\\rangle + |23\\rangle + |24\\rangle \\Big) \\\\\n",
    "          =& -\\frac{1}{2}g\\langle 12 | \\hat V \\Big(\\gamma_{13}|13\\rangle\\langle13| + \\gamma_{14}|14\\rangle\\langle 14| + \\gamma_{23}|23\\rangle\\langle 23| + \\gamma_{24}|24\\rangle\\langle 24| + \\gamma_{34}|34\\rangle\\langle 34| \\Big)\\\\\n",
    "           &\\quad\\times\\Big( 2|12\\rangle + |13\\rangle + |14\\rangle+ |23\\rangle + |24\\rangle \\Big) \\\\\n",
    "          =& -\\frac{1}{2}g \\langle 12 | \\hat V \\Big(\\gamma_{13}|13\\rangle + \\gamma_{14}|14\\rangle + \\gamma_{23}|23\\rangle + \\gamma_{24}|24\\rangle \\Big) \\\\\n",
    "          =& -\\frac{1}{2}g\\big(\\gamma_{13}\\langle 12 | \\hat V | 13 \\rangle + \\gamma_{14}\\langle 12| \\hat V | 14 \\rangle + \\gamma_{23}\\langle 12 | \\hat V | 23 \\rangle + \\gamma_{24}\\langle 12 | \\hat V | 24 \\rangle \\big),\n",
    "\\end{align}\n",
    "\n",
    "which is an expression that is easy to evaluate numerically, as we shall."
   ]
  },
  {
   "cell_type": "markdown",
   "metadata": {},
   "source": [
    "It is best to split the third order term into several parts. First,\n",
    "\n",
    "\\begin{align}\n",
    "\\hat R^2 = \\hat R \\hat R =& \n",
    "\\big(\\gamma_{13}|13\\rangle\\langle 13| + \\gamma_{14}|14\\rangle\\langle 14| + \\gamma_{23}|23\\rangle\\langle 23| + \\gamma_{24}|24\\rangle\\langle 24| + \\gamma_{34}|34\\rangle\\langle 34|\\big) \\\\\n",
    "& \\times \\big(\\gamma_{13}|13\\rangle\\langle 13| + \\gamma_{14}|14\\rangle\\langle 14| + \\gamma_{23}|23\\rangle\\langle 23| + \\gamma_{24}|24\\rangle\\langle 24| + \\gamma_{34}|34\\rangle\\langle 34|\\big) \\\\\n",
    "=& \n",
    "\\gamma_{13}^2|13\\rangle\\langle 13|13\\rangle\\langle 13| + \\gamma_{14}^2|14\\rangle\\langle 14|14\\rangle\\langle 14| + \\gamma_{23}^2|23\\rangle\\langle 23|23\\rangle\\langle 23| \\\\ &+ \\gamma_{24}^2|24\\rangle\\langle 24|24\\rangle\\langle 24| + \\gamma_{34}^2|34\\rangle\\langle 34|34\\rangle\\langle 34| \\\\\n",
    "=& \n",
    "\\gamma_{13}|13\\rangle\\langle 13| + \\gamma_{14}|14\\rangle\\langle 14| + \\gamma_{23}|23\\rangle\\langle 23| + \\gamma_{24}|24\\rangle\\langle 24| + \\gamma_{34}|34\\rangle\\langle 34|,\n",
    "\\end{align}\n",
    "\n",
    "bearing in mind that all cross-terms will vanish because of the orthogonality of the states."
   ]
  },
  {
   "cell_type": "markdown",
   "metadata": {},
   "source": [
    "Now for the second term of $E^{(3)}_1$ where we already have most of what we need for the computation,\n",
    "\n",
    "\\begin{align}\n",
    "E^{(1)}_1 \\langle 12| \\hat V \\hat R^2 \\hat V | 12\\rangle &=\n",
    "\\frac{1}{2}g^2 \\langle 12 | \\hat V \\hat R^2 \\big(2|12\\rangle + |13\\rangle + |14\\rangle + |23\\rangle + |24\\rangle \\big) \\\\\n",
    "&=\n",
    "\\frac{1}{2}g^2 \\langle 12| \\hat V \\big(\\gamma_{13}^2|13\\rangle + \\gamma_{14}^2|14\\rangle + \\gamma_{23}|23\\rangle + \\gamma_{24}|24\\rangle \\big) \\\\\n",
    "&=\n",
    "\\frac{1}{2}g^2\\big( \\gamma_{13}^2\\langle 12| \\hat V|13\\rangle + \\gamma_{14}^2\\langle 12| \\hat V|14\\rangle + \\gamma_{23}\\langle 12| \\hat V|23\\rangle + \\gamma_{24}\\langle 12| \\hat V|24\\rangle \\big).\n",
    "\\end{align}"
   ]
  },
  {
   "cell_type": "markdown",
   "metadata": {},
   "source": [
    "And lastly the first term of $E^{(3)}_1$,\n",
    "\n",
    "\\begin{align}\n",
    "\\langle 12 | \\hat V \\hat R \\hat V \\hat R \\hat V | 12 \\rangle \n",
    "=& - \\frac{1}{2}g \\langle 12 | \\hat V \\hat R \\hat V \\Big(\\gamma_{13}|13\\rangle + \\gamma_{14}|14\\rangle + \\gamma_{23}|23\\rangle + \\gamma_{24}|24\\rangle \\Big) \\\\\n",
    "=&\n",
    "\\frac{1}{4}g^2\\langle 12 | \\hat V \\hat R \\Big[\\gamma_{13}\\big(2|13\\rangle + |14\\rangle + |23\\rangle + |34\\rangle \\big) \\\\\n",
    "&\\qquad \\qquad + \\gamma_{14}\\big(2|14\\rangle + |13\\rangle + |24\\rangle + |34\\rangle \\big) \\\\\n",
    "&\\qquad \\qquad + \\gamma_{23}\\big(2|23\\rangle + |24\\rangle + |13\\rangle + |34\\rangle \\big) \\\\\n",
    "&\\qquad \\qquad + \\gamma_{24}\\big(2|24\\rangle + |14\\rangle + |23\\rangle + |34\\rangle \\big)\\Big] \\\\\n",
    "=&\n",
    "\\frac{1}{4}g^2\\langle 12 | \\hat V \\Big[\\gamma_{13}^2\\big(2|13\\rangle + |14\\rangle + |23\\rangle + |34\\rangle \\big) \\\\\n",
    "&\\qquad \\qquad + \\gamma_{14}^2\\big(2|14\\rangle + |13\\rangle + |24\\rangle + |34\\rangle \\big) \\\\\n",
    "&\\qquad \\qquad + \\gamma_{23}^2\\big(2|23\\rangle + |24\\rangle + |13\\rangle + |34\\rangle \\big) \\\\\n",
    "&\\qquad \\qquad + \\gamma_{24}^2\\big(2|24\\rangle + |14\\rangle + |23\\rangle + |34\\rangle \\big)\\Big] \\\\\n",
    "=&\n",
    "\\frac{1}{4}g^2\\Big[\\gamma_{13}\\big(2\\langle 12 | \\hat V |13\\rangle + \\langle 12 | \\hat V |14\\rangle + \\langle 12 | \\hat V |23\\rangle + \\langle 12 | \\hat V |34\\rangle \\big) \\\\\n",
    "&\\qquad  + \\gamma_{14}\\big(2\\langle 12 | \\hat V |14\\rangle + \\langle 12 | \\hat V |13\\rangle + \\langle 12 | \\hat V |24\\rangle + \\langle 12 | \\hat V |34\\rangle \\big) \\\\\n",
    "&\\qquad  + \\gamma_{23}\\big(2\\langle 12 | \\hat V |23\\rangle + \\langle 12 | \\hat V |24\\rangle + \\langle 12 | \\hat V |13\\rangle + \\langle 12 | \\hat V |34\\rangle \\big) \\\\\n",
    "&\\qquad  + \\gamma_{24}\\big(2\\langle 12 | \\hat V |24\\rangle + \\langle 12 | \\hat V |14\\rangle + \\langle 12 | \\hat V |23\\rangle + \\langle 12 | \\hat V |34\\rangle \\big)\\Big]\n",
    "\\end{align}"
   ]
  },
  {
   "cell_type": "markdown",
   "metadata": {},
   "source": [
    "Here, the $\\langle pq | \\hat V| rs \\rangle$ terms are elements of the FCI Hamiltonian matrix. Off-diagonal matrix will not contain contributions from the unperturbed Hamiltonian $\\hat H_0$, only $\\hat V$. Therefore, we need the first row of the FCI matrix."
   ]
  },
  {
   "cell_type": "markdown",
   "metadata": {},
   "source": [
    "### Numerial Computation of Rayleigh-Schrödinger Energy"
   ]
  },
  {
   "cell_type": "code",
   "execution_count": 18,
   "metadata": {
    "collapsed": true
   },
   "outputs": [],
   "source": [
    "# First, a function that returns the factor gamma 1/(e0 - ej)\n",
    "def gamma(j):\n",
    "    if j == 1:\n",
    "        return 1/(H_0(1, 2, 1, 2) - H_0(1, 3, 1, 3))\n",
    "    elif j == 2:\n",
    "        return 1/(H_0(1, 2, 1, 2) - H_0(1, 4, 1, 4))\n",
    "    elif j == 3:\n",
    "        return 1/(H_0(1, 2, 1, 2) - H_0(2, 3, 2, 3))\n",
    "    elif j == 4:\n",
    "        return 1/(H_0(1, 2, 1, 2) - H_0(2, 4, 2, 4))\n",
    "    # This last bit is never used?\n",
    "    elif j == 5:\n",
    "        return 1/(H_0(1, 2, 1, 2) - H_0(3, 4, 3, 4))    "
   ]
  },
  {
   "cell_type": "code",
   "execution_count": 19,
   "metadata": {
    "collapsed": true
   },
   "outputs": [],
   "source": [
    "# Empty arrays for storages\n",
    "E_RS1 = np.zeros(n)\n",
    "E_RS2 = np.zeros(n)\n",
    "E_RS3 = np.zeros(n)\n",
    "\n",
    "# \"First row\" of FCI matrix\n",
    "FCI1 = np.zeros(basis_size)\n",
    "\n",
    "# The same iterations as before\n",
    "for k in range(n):\n",
    "    \n",
    "    g = G[k]\n",
    "    \n",
    "    # Now we need only first row of FCI matrix, only one iteration\n",
    "    bra = pair_levels[0]\n",
    "    \n",
    "    # FCI matrix\n",
    "    for j in range(basis_size):\n",
    "            \n",
    "        # Extracting pair configurations    \n",
    "        ket = pair_levels[j]\n",
    "        \n",
    "        # Hamiltonian CID matrix element\n",
    "        FCI1[j] = H(*bra, *ket, g)\n",
    "    \n",
    "    # The Rayleigh-Schrödinger scheme\n",
    "    E0  = H_0(1, 2, 1, 2)\n",
    "    E1  = -g\n",
    "    E2  = -(g/2)* (gamma(1)*FCI1[1] + gamma(2)*FCI1[2] \\\n",
    "                 + gamma(3)*FCI1[3] + gamma(4)*FCI1[4])\n",
    "    E31 = (g*g/4)*(gamma(1)**2*(2*FCI1[1] + FCI1[2] + FCI1[3] + FCI1[5])\\\n",
    "                 + gamma(2)**2*(2*FCI1[2] + FCI1[1] + FCI1[4] + FCI1[5])\\\n",
    "                 + gamma(3)**2*(2*FCI1[3] + FCI1[4] + FCI1[1] + FCI1[5])\\\n",
    "                 + gamma(4)**2*(2*FCI1[4] + FCI1[2] + FCI1[3] + FCI1[5])) \n",
    "    E32 = (g*g/2)*(gamma(1)**2*FCI1[1] + gamma(2)**2*FCI1[2]\\\n",
    "                 + gamma(3)**2*FCI1[3] + gamma(2)**2*FCI1[4])\n",
    "    E3 = E31 - E32\n",
    "    \n",
    "    # Storing\n",
    "    E_RS1[k] = E0 + E1\n",
    "    E_RS2[k] = E0 + E1 + E2\n",
    "    E_RS3[k] = E0 + E1 + E2 + E3"
   ]
  },
  {
   "cell_type": "code",
   "execution_count": 20,
   "metadata": {},
   "outputs": [
    {
     "data": {
      "image/png": "[encoded data removed]",
      "text/plain": [
       "<matplotlib.figure.Figure at 0x119cb17f0>"
      ]
     },
     "metadata": {},
     "output_type": "display_data"
    }
   ],
   "source": [
    "# Plotting\n",
    "plt.plot(G, E_RS1, label=\"RS 1st order\")\n",
    "plt.plot(G, E_RS2, label=\"RS 2nd order\")\n",
    "plt.plot(G, E_RS3, label=\"RS 3rd order\")\n",
    "plt.legend()\n",
    "plt.title(\"Ground state energy, Rayleigh-Schrödinger\")\n",
    "plt.xlabel(\"Pairing Force, $g$\")\n",
    "plt.ylabel(\"Energy\")\n",
    "plt.show()"
   ]
  },
  {
   "cell_type": "markdown",
   "metadata": {},
   "source": [
    "## Exercise 3\n",
    "This last task is a coupled cluster treatment with double excitations only, CCD. We will use a doubles operator of the form\n",
    "\n",
    "\\begin{align}\n",
    "\\hat T = \\sum_{ia} t^a_i  b^\\dagger_{a+} b^\\dagger_{i+} b^\\dagger_{a-} b^\\dagger_{i-} = \\sum_{ia}t^a_i \\hat P^\\dagger_a P_i.\n",
    "\\end{align}"
   ]
  },
  {
   "cell_type": "markdown",
   "metadata": {},
   "source": [
    "### Coupled Cluster Doubles (CCD) Wavefunction."
   ]
  },
  {
   "cell_type": "markdown",
   "metadata": {},
   "source": [
    "The general CCD wavefunction is given by\n",
    "\n",
    "\\begin{align}\n",
    "|\\Phi_{\\text{CCD}} \\rangle = \\Big(1 + \\hat T + \\frac{1}{2!}\\hat T^2 + \\frac{1}{3!}\\hat T^3 + \\dots \\Big)|\\Phi\\rangle.\n",
    "\\end{align}"
   ]
  },
  {
   "cell_type": "markdown",
   "metadata": {},
   "source": [
    "The doubles operator applied once to the reference state gives\n",
    "\n",
    "\\begin{align}\n",
    "\\hat T |\\Phi\\rangle =& \\sum_{ia}t^a_i \\hat P^\\dagger_a \\hat P_i| 12\\rangle \\\\\n",
    "=&\n",
    "\\sum_a\\hat P^\\dagger_a (t^a_2|1\\rangle + t^a_1|2\\rangle) \\\\\n",
    "=&\n",
    "t^3_2|13\\rangle + t^4_2|14\\rangle + t^3_1|23\\rangle + t^4_1|24\\rangle.\n",
    "\\end{align}"
   ]
  },
  {
   "cell_type": "markdown",
   "metadata": {},
   "source": [
    "Applying the doubles operator once more gives\n",
    "\n",
    "\\begin{align}\n",
    "\\hat T^2|\\Phi\\rangle =& \\sum_{ia}t^a_i\\hat P^\\dagger_a \\hat P_i \\big( t^3_2|13\\rangle + t^4_2|14\\rangle + t^3_1|23\\rangle + t^4_1|24\\rangle \\big) \\\\\n",
    "=&\n",
    "\\sum_a \\hat P^\\dagger_a \\big(t^a_1t^3_2|3\\rangle + t^a_2t^4_1|24\\rangle + t^a_2t^3_1|3\\rangle + t^a_2t^4_1|4\\rangle \\big) \\\\\n",
    "=&\n",
    "t^4_1t^3_2|34\\rangle + t^4_1t^4_2|24\\rangle + t^4_2t^3_1|34\\rangle + t^4_2t^4_1|34\\rangle \\\\\n",
    "=&\n",
    "\\big( t^4_1t^3_2 + t^4_1t^4_2 + t^4_2t^3_1 + t^4_2t^4_1 \\big)|34\\rangle\n",
    "\\end{align}"
   ]
  },
  {
   "cell_type": "markdown",
   "metadata": {},
   "source": [
    "We see that by applying $\\hat T$ again we get $\\hat T^3|\\Phi\\rangle=0$ since there are no more orbitals left in our configuration space, under the Fermi level. This means that we truncate the CCD wavefunction expression after two terms, yielding\n",
    "\\begin{align}\n",
    "|\\Phi_{\\text{CCD}} \\rangle = \\Big(1 + \\hat T + \\frac{1}{2}\\hat T^2\\Big)|\\Phi\\rangle.\n",
    "\\end{align}"
   ]
  },
  {
   "cell_type": "markdown",
   "metadata": {},
   "source": [
    "### CID Wavefuntion"
   ]
  },
  {
   "cell_type": "markdown",
   "metadata": {},
   "source": [
    "Any general configuration interaction wavefunction is written\n",
    "\n",
    "\\begin{align}\n",
    "|\\Psi_{\\text{CI}}\\rangle = c_0|\\Phi\\rangle + \\sum_i\\sum_a c^a_i|\\Phi^a_i\\rangle + \\sum_{ij} \\sum_{ab}c^{ab}_{ij}|\\Phi^{ab}_{ij}\\rangle + \\sum_{ijk} \\sum_{abc}c^{abc}_{ijk}|\\Phi^{abc}_{ijk}\\rangle + \\dots\n",
    "\\end{align}\n",
    "\n",
    "which gives the Configuration Interaction Doubles (CID) wavefunction as\n",
    "\n",
    "\\begin{align}\n",
    "|\\Psi_{\\text{CID}} = c_0|\\Phi\\rangle + \\sum_{ij} \\sum_{ab}c^{ab}_{ij}|\\Phi^{ab}_{ij}\\rangle.\n",
    "\\end{align}"
   ]
  },
  {
   "cell_type": "markdown",
   "metadata": {},
   "source": [
    "### CCD Energy"
   ]
  },
  {
   "cell_type": "markdown",
   "metadata": {},
   "source": [
    "The CCD energy is given by\n",
    "\n",
    "\\begin{align}\n",
    "E_{\\text{CCD}} &= \\langle \\Phi| \\hat H |\\Phi_{\\text{CCD}}\\rangle \\\\\n",
    "    &= \\langle \\Phi | \\hat H \\Big( 1 + \\hat T + \\frac{1}{2}\\hat T^2 \\Big) |\\Phi \\rangle \\\\\n",
    "    &= \\langle \\Phi | \\hat H (1 + \\hat T) | \\Phi \\rangle\n",
    "     + \\frac{1}{2}\\langle \\Phi | \\hat H \\hat T^2 | \\Phi\\rangle.\n",
    "\\end{align}"
   ]
  },
  {
   "cell_type": "markdown",
   "metadata": {},
   "source": [
    "Now to prove that the last term is zero,\n",
    "\n",
    "\\begin{align}\n",
    "\\frac{1}{2}\\langle \\Phi| \\hat H \\hat T^2 | \\Phi \\rangle \n",
    "    =&\n",
    "\\frac{1}{2}\\langle 12|\\hat H \\big( t^4_1t^3_2 + t^4_1t^4_2 + t^4_2t^3_1 + t^4_2t^4_1 \\big)|34\\rangle \\\\\n",
    "    =& \\frac{1}{2}\\big( t^4_1t^3_2 + t^4_1t^4_2 + t^4_2t^3_1 + t^4_2t^4_1 \\big)\\langle 12 | \\hat H | 34\\rangle.\n",
    "\\end{align}\n",
    "\n",
    "One of the Slater-Condon rules state that any matrix elements of the Hamiltonian with two or more differing spin orbitals is zero, i.e. $\\langle 12 | \\hat H | 34\\rangle = 0$. The resulting CCD energy is therefore\n",
    "\n",
    "\\begin{align}\n",
    "E_{\\text{CCD}} = \\langle \\Phi | \\hat H ( 1 + \\hat T ) |\\Phi \\rangle\n",
    "\\end{align}"
   ]
  },
  {
   "cell_type": "markdown",
   "metadata": {},
   "source": [
    "This allows us to rewrite the energy as a function of the amplitudes $t^a_i$.\n",
    "\n",
    "\\begin{align}\n",
    "E_{\\text{CCD}} =& \\langle \\Phi | \\hat H ( 1 + \\hat T ) |\\Phi \\rangle \\\\\n",
    "    =& \\langle 12 | \\hat H (1 + \\hat T) | 12 \\rangle \\\\\n",
    "    =& \\langle 12 | \\hat H | 12 \\rangle +  \\langle 12 | \\hat H \\hat T | 12 \\rangle \\\\\n",
    "    =& \\langle 12 | \\Big( \\sum_p \\epsilon_p \\hat n_p - \\frac{1}{2}g \\hat P^\\dagger_p \\hat P_q \\Big) | 12 \\rangle \\\\\n",
    "     &+ \\langle 12 | \\hat H \\big( t^3_2|13\\rangle + t^4_2|14\\rangle + t^3_1|23\\rangle + t^4_1|24\\rangle \\big) \\\\\n",
    "    =& \\Big(2\\epsilon_1 + 2\\epsilon_2 - 2\\frac{1}{2}g \\Big) \\langle 12 | 12 \\rangle \\\\\n",
    "     &- \\frac{1}{2}g \\langle 12 | \\sum_{pq}\\hat P^\\dagger_p \\hat P_q\\big( t^3_2|13\\rangle + t^4_2|14\\rangle + t^3_1|23\\rangle + t^4_1|24\\rangle \\big) \\\\\n",
    "    =& 2\\epsilon_1 + 2\\epsilon_2 - g \\\\\n",
    "     & - \\frac{1}{2}g \\Big(\\langle 1 | + \\langle 2 | \\Big) \\Big(t^3_2|1\\rangle + t^4_2 | 1 \\rangle + t^3_1 | 2\\rangle + t^4_1 | 2\\rangle \\Big) \\\\\n",
    "    =& 2\\epsilon_1 + 2\\epsilon_2 - g - \\frac{g}{2}(t^3_1 + t^4_1 + t^3_2 t^4_2) \\\\\n",
    "    =& 2\\epsilon_1 + 2\\epsilon_2 - g - \\frac{g}{2}\\sum_{ia} t^a_i\n",
    "\\end{align}"
   ]
  },
  {
   "cell_type": "markdown",
   "metadata": {},
   "source": [
    "### Normal-Ordered Hamiltonian and BCH Expansion"
   ]
  },
  {
   "cell_type": "markdown",
   "metadata": {},
   "source": [
    "To denote contractions I will use the symbol $^\\bullet$, as I have opted to write this report in Jupyter Notebook and not pure LaTeX. For example,\n",
    "\n",
    "$$\n",
    "\\phi_1^\\bullet \\phi_2^{\\bullet\\bullet}\\phi_3^\\bullet\\phi_4^{\\bullet\\bullet}.\n",
    "$$\n",
    "Here $\\phi_1$ is contracted with $\\phi_3$ and $\\phi_2$ is contracted with $\\phi_4$."
   ]
  },
  {
   "cell_type": "markdown",
   "metadata": {},
   "source": [
    "We now evaluate the normal-ordered Hamiltonian, in order to find the amplitude equations. The Hamiltonian can be written\n",
    "\n",
    "\\begin{equation}\n",
    "\\hat H = \\langle \\Phi|\\hat H|\\Phi\\rangle + \\hat H_N = \\langle \\Phi|\\hat H|\\Phi\\rangle + \\hat F_N + \\hat V_N.\n",
    "\\end{equation}\n",
    "\n",
    "The normal-ordered Fock operator can be written\n",
    "\n",
    "\\begin{equation}\n",
    "\\hat F_N = \\sum_{p\\sigma}f_p\\{c^\\dagger_{p\\sigma}c_{p\\sigma}\\},\n",
    "\\quad f_i = \\epsilon_i - \\frac{1}{2}g,\n",
    "\\quad f_a =\\epsilon_a,\n",
    "\\end{equation}\n",
    "\n",
    "where $\\{\\dots \\}$ is the normal-orderin operator. The normal-ordered two-body interaction is\n",
    "\n",
    "\\begin{equation}\n",
    "\\hat V_N = - \\frac{g}{2}\\sum_{pq}\\{c^\\dagger_{p+}c^\\dagger_{p-}c_{q-}c_{q+}\\}.\n",
    "\\end{equation}"
   ]
  },
  {
   "cell_type": "markdown",
   "metadata": {},
   "source": [
    "By the definition of a contraction of two operators $\\hat A^\\bullet \\hat B^\\bullet \\equiv \\hat A \\hat B - \\{\\hat A \\hat B\\}$, we can rewrite the Hamiltonian. First $\\hat H_0$,\n",
    "\n",
    "\\begin{align}\n",
    "\\hat H_0 =& \\sum_{pq}\\epsilon_p c^\\dagger_{p\\sigma}c_{p\\sigma} \\\\\n",
    "    =& \\sum_{p\\sigma}\\epsilon_p\\{c^\\dagger_{p\\sigma}c_{p\\sigma}\\}\n",
    "     +\\sum_{p\\sigma}\\epsilon_pc^{\\dagger\\bullet}_{p\\sigma}c^\\bullet_{p\\sigma} \\\\\n",
    "     =&\\sum_{p\\sigma}\\epsilon_p\\{c^\\dagger_{p\\sigma}c_{p\\sigma}\\} \n",
    "     +\\sum_{a\\sigma}\\epsilon_a c^\\dagger_{a\\sigma}c_{a\\sigma}\n",
    "     +\\sum_{i\\sigma}\\epsilon_i c^\\dagger_{i\\sigma}c_{i\\sigma} \\\\\n",
    "    =& \\sum_{p\\sigma}\\epsilon_p\\{c^\\dagger_{p\\sigma}c_{p\\sigma}\\}\n",
    "     +\\sum_{i\\sigma}\\epsilon_i\\delta_{ii}.\n",
    "\\end{align}"
   ]
  },
  {
   "cell_type": "markdown",
   "metadata": {},
   "source": [
    "And then $\\hat V$,\n",
    "\n",
    "\\begin{align}\n",
    "\\hat V =& -\\frac{1}{2}g \\sum_{pq}c^\\dagger_{p+}c^\\dagger_{p-}c_{q-}c_{q+} \\\\\n",
    "    =& - \\frac{1}{2}g \\sum_{pq}\\{c^\\dagger_{p+}c^\\dagger_{p-}c_{q-}c_{q+}\\} - \\frac{1}{2}g\\sum_{pq} [\\text{Sum of Possible Contractions}].\n",
    "\\end{align}"
   ]
  },
  {
   "cell_type": "markdown",
   "metadata": {},
   "source": [
    "If one contracts a spin-$+$ and a spin-$-$ operator, one will always get zeros. The remaining non-zero contractions are therefore\n",
    "\n",
    "\\begin{align}\n",
    "[\\text{Sum of Possible Contractions}]\n",
    "=&c^{\\dagger\\bullet}_{p+}c^{\\dagger\\bullet\\bullet}_{p-}c^{\\bullet\\bullet}_{q-}c^\\bullet_{q+} \n",
    "+\\{c^{\\dagger\\bullet}_{p+}c^\\dagger_{p-}c_{q-}c^\\bullet_{q+}\\} \n",
    "+\\{c^\\dagger_{p+}c^{\\dagger\\bullet}_{p-}c^\\bullet_{q-}c_{q+}\\} \\\\\n",
    "=& \\delta_{pq} + \\delta_{pq}\\{c^\\dagger_{p-}c_{q-}\\} + \\delta_{pq}\\{c^\\dagger_{p+}c_{q+}\\},\n",
    "\\end{align}\n",
    "\n",
    "where the remaining normal-ordered terms are non-zero only for indices $i,j,\\dots$, below the Fermi level and zero for $a,b,\\dots$. "
   ]
  },
  {
   "cell_type": "markdown",
   "metadata": {},
   "source": [
    "The Hamiltonian becomes\n",
    "\n",
    "\\begin{align}\n",
    "\\hat H =& \\sum_{p\\sigma} \\epsilon_p\\{c^\\dagger_{p\\sigma}c_{p\\sigma}\\}\n",
    "     +\\sum_{i\\sigma}\\epsilon_i \\delta_{ii} - \\frac{1}{2}g\\sum_{pq}\\{c^\\dagger_{p+}c^\\dagger_{p-}c_{q-}c_{q+}\\} \\\\\n",
    "    &-\\frac{1}{2}g\\sum_{pq} - \\frac{1}{2}g\\sum_{ij}\\delta_{ij}\\Big(\\{c^\\dagger_{i+}c_{j+}\\} + \\{c^\\dagger_{i-}c_{j-}\\} \\Big) \\\\\n",
    "    =& \\sum_{i\\sigma}\\epsilon_i\\delta_{ii} - \\frac{1}{2}g\\sum_{pq}\\delta_{pq} + \\hat V_N + \\sum_{p\\sigma}\\epsilon_p\\{c^\\dagger_{p\\sigma}c_{p\\sigma}\\} - \\frac{1}{2}g\\sum_{i\\sigma}\\{c^\\dagger_{i\\sigma}c_{i\\sigma}\\}.\n",
    "\\end{align}\n",
    "\n",
    "We see that the first two terms is $\\langle\\Phi|\\hat H|\\Phi\\rangle$ and the last two terms is $\\hat F_N$."
   ]
  },
  {
   "cell_type": "markdown",
   "metadata": {},
   "source": [
    "The CCD amplitude equations is given by\n",
    "\n",
    "\\begin{equation}\n",
    "\\langle \\Phi^{a\\bar a}_{i\\bar i}|e^{-\\hat T}\\hat H e^{\\hat T}|\\Phi\\rangle=0,\n",
    "\\end{equation} \n",
    "\n",
    "where $\\bar H = e^{-\\hat T}\\hat H e^{\\hat T}$ is called the similarity transformed Hamiltionian. The Baker-Campbell-Haussdorf (BCH) expansion of some operator $\\hat A$ is \n",
    "\n",
    "\\begin{equation}\n",
    "e^{-\\hat T}\\hat Ae^{\\hat T} = \\hat A + [\\hat A, \\hat T] + \\frac{1}{2}[[\\hat A, \\hat T], \\hat T] + \\frac{1}{3!}[[[\\hat A, \\hat T], \\hat T] \\hat T] + \\dots\n",
    "\\end{equation}\n",
    "\n",
    "This is an exact expansion for any pair of matrices $A$ and $T$. In our case, expansion of the amplitude equation, the expansion will terminate after just two commutators."
   ]
  },
  {
   "cell_type": "markdown",
   "metadata": {},
   "source": [
    "By expanding $\\bar H$, we will have contributions of the form $[\\hat F_N, \\hat T]$, $[[\\hat F_N, \\hat T], \\hat T]$ and $[\\hat V_N, \\hat T]$, $[[\\hat V_N, \\hat T], \\hat T]$. First, note that terms $\\langle \\Phi_{i\\bar i}^{a\\bar a}| \\hat F_N \\hat T^n|\\Phi\\rangle$ vanishes for $n\\geq 2$, because for the resulting innner product to be non-zero at most one pair of creation and annihilation operators can act on the ket state. As we have seen, the operator $\\hat T$ cannot create pairs below the Fermi level, and cannot annihilate pairs above the Fermi level. This means that it is not possible for another $\\hat T$ to relax a state that has already been doubly excited by $\\hat T$."
   ]
  },
  {
   "cell_type": "markdown",
   "metadata": {},
   "source": [
    "Now considering terms with the $\\hat V_N$ operators. For an inner product of $\\langle \\Phi_{i\\bar i}^{a\\bar a}|$ and some \"acted-upon\" state to be non-zero, the string of operators must contain no more than two $\\hat T$'s. This means that the expansion is truncated just before any $\\hat T^3$ terms are introduced."
   ]
  },
  {
   "cell_type": "markdown",
   "metadata": {},
   "source": [
    "The amplitude equations will simplyfy to\n",
    "\n",
    "\\begin{equation}\n",
    "\\langle \\Phi^{a\\bar a}_{i\\bar i}|\\{\\hat F_N\\hat T\\}_c|\\Phi\\rangle\n",
    "+\\langle \\Phi^{a\\bar a}_{i\\bar i}| \\big\\{\\hat V_N\\big(1 + \\hat T + \\frac{1}{2}\\hat T^2 \\big) \\big\\}_c |\\Phi\\rangle = 0.\n",
    "\\end{equation}"
   ]
  },
  {
   "cell_type": "markdown",
   "metadata": {},
   "source": [
    "The non-zero contributions are those where the normal-ordered Hamiltonian has at least one contraction with every doubles operator $\\hat T$ on its right. This is denoted by the subscript $c$."
   ]
  },
  {
   "cell_type": "markdown",
   "metadata": {},
   "source": [
    "### Evaluating the Amplitude Equations"
   ]
  },
  {
   "cell_type": "markdown",
   "metadata": {},
   "source": [
    "The integral of the two-body operator over a doubly excited state and the reference state is\n",
    "\n",
    "\\begin{align}\n",
    "\\langle \\Phi_{i\\bar i}^{a\\bar a}| \\hat V_N | \\Phi \\rangle =&\n",
    "-\\frac{1}{2}g\\langle \\Phi_{i\\bar i}^{a\\bar a}|\\sum_{pq} \\{ c^\\dagger_{p+}c^\\dagger_{p-}c_{q-}c_{q+}\\}|\\Phi\\rangle \\\\\n",
    "    =& \\langle \\Phi_{k\\bar k}^{d \\bar d}|\\Big( \\sum_{ij}\\{c^\\dagger_{i+}c^\\dagger_{i-}c_{j-}c_{j+}\\} + \\sum_{ia}\\{c^\\dagger_{i+}c^\\dagger_{i-}c_{a-}c_{a+}\\} \\\\\n",
    "    &+ \\sum_{ai}\\{c^\\dagger_{a+}c^\\dagger_{a-}c_{i-}c_{i+}\\} + \\sum_{ab}\\{c^\\dagger_{a+}c^\\dagger_{a-}c_{b-}c_{b+}\\}\\Big) |\\Phi\\rangle.\n",
    "\\end{align}\n",
    "\n",
    "Indices have been switched to accomdate the index use in the normal-ordered terms. The first normal-ordered term will only be non-zero if $k=i=j$, but this gives the leaves the inner product with the doubly excited state and the reference state. The second normal-ordered term will destroy the reference state, because there is no state $a$ in it. The third term creates a the state $|\\Phi_{i\\bar i}^{a\\bar a}\\rangle$, so we will look further into this. The last normal-ordered term will also destroy the reference."
   ]
  },
  {
   "cell_type": "markdown",
   "metadata": {},
   "source": [
    "So we are left with\n",
    "\n",
    "\\begin{align}\n",
    "\\langle \\Phi_{i\\bar i}^{a\\bar a}| \\hat V_N | \\Phi \\rangle =&-\\frac{1}{2}g\\langle \\Phi_{k\\bar k}^{d\\bar d}|\\sum_{ai}\\{c^\\dagger_{a+}c^\\dagger_{a-}c_{i-}c_{i+}\\}|\\Phi\\rangle \\\\\n",
    "=& -\\frac{1}{2}g\\sum_{ia}\\langle \\Phi_{k\\bar k}^{d\\bar d}|\\Phi_{i\\bar i}^{a\\bar a}\\rangle = -\\frac{1}{2}g \\sum_{ia}\\delta_{ac}\\delta_{ik} = -\\frac{g}{2}\n",
    "\\end{align}"
   ]
  },
  {
   "cell_type": "markdown",
   "metadata": {},
   "source": [
    "The same kind of computation for $\\hat F_N \\hat T$ is\n",
    "\n",
    "\\begin{align}\n",
    "\\langle \\Phi_{k\\bar k}^{d \\bar d}| \\{\\hat F_N \\hat T \\}_c| \\Phi \\rangle =&\n",
    "\\langle \\Phi_{k\\bar k}^{d \\bar d}|\\sum_{p\\sigma ia} f_pt^a_i\\big\\{c^\\dagger_{p\\sigma}c_{p\\sigma}\\big\\} \\big\\{c^\\dagger_{a+}c^\\dagger_{a-}c_{i-}c_{i+}\\big\\} |\\Phi\\rangle \\\\\n",
    "    =&\n",
    "    \\langle \\Phi_{k\\bar k}^{d \\bar d}|\\sum_{p\\sigma ia} f_pt^a_i\\Big[ \\big\\{c^\\dagger_{p\\sigma}c_{p\\sigma}c^\\dagger_{a+}c^\\dagger_{a-}c_{i-}c_{i+}\\big\\}  \\\\ \n",
    "    &\\qquad \\qquad \\quad+ \\big\\{c^{\\dagger}_{p\\sigma}c^\\bullet_{p\\sigma}c^{\\dagger\\bullet}_{a+}c^\\dagger_{a-}c_{i-}c_{i+}\\big\\} \\\\\n",
    "    &\\qquad \\qquad \\quad+ \\big\\{c^{\\dagger}_{p\\sigma}c^\\bullet_{p\\sigma}c^\\dagger_{a+}c^{\\dagger\\bullet}_{a-}c_{i-}c_{i+}\\big\\} \\\\\n",
    "    &\\qquad \\qquad \\quad+ \\big\\{c^{\\dagger\\bullet}_{p\\sigma}c_{p\\sigma}c^\\dagger_{a+}c^\\dagger_{a-}c^\\bullet_{i-}c_{i+}\\big\\} \\\\\n",
    "    &\\qquad \\qquad \\quad+ \\big\\{c^{\\dagger\\bullet}_{p\\sigma}c_{p\\sigma}c^\\dagger_{a+}c^\\dagger_{a-}c_{i-}c^\\bullet_{i+}\\big\\}\n",
    "    \\Big]|\\Phi\\rangle \\\\\n",
    "    =&\n",
    "    \\langle \\Phi_{k\\bar k}^{d \\bar d}|\\sum_{p\\sigma ia} f_pt^a_i\\Big[\n",
    "    \\delta_{pa}\\delta_{\\sigma+}\\big\\{c^\\dagger_{p\\sigma}c^\\dagger_{a-}c_{i-}c_{i+} \\big\\} \\\\\n",
    "    &\\qquad\\qquad\\quad- \\delta_{pa}\\delta_{\\sigma-}\\big\\{c^\\dagger_{p\\sigma}c^\\dagger_{a+}c_{i-}c_{i+} \\big\\} \\\\\n",
    "    &\\qquad\\qquad\\quad- \\delta_{pi}\\delta_{\\sigma-}\\big\\{c_{i-}c^\\dagger_{a+}c^\\dagger_{a-}c_{i+} \\big\\} \\\\\n",
    "    &\\qquad\\qquad\\quad+ \\delta_{pi}\\delta_{\\sigma+}\\big\\{c_{p\\sigma}c^\\dagger_{a+}c^\\dagger_{a-}c_{i-} \\big\\}\n",
    "   \\Big]|\\Phi\\rangle \\\\\n",
    "   =&\n",
    "   \\langle \\Phi_{k\\bar k}^{d \\bar d}|\\sum_{ia} t^a_i\\Big[ \n",
    "       f_a\\big\\{c^\\dagger_{a+}c^\\dagger_{a-}c_{i-}c_{i+} \\big\\} \\\\\n",
    "       &\\qquad\\qquad+f_a\\big\\{c^\\dagger_{a+}c^\\dagger_{a-}c_{i-}c_{i+} \\big\\} \\\\\n",
    "       &\\qquad\\qquad-f_i\\big\\{c^\\dagger_{a+}c^\\dagger_{a-}c_{i-}c_{i+} \\big\\} \\\\\n",
    "       &\\qquad\\qquad-f_i\\big\\{c^\\dagger_{a+}c^\\dagger_{a-}c_{i-}c_{i+} \\big\\}\n",
    "       \\Big]|\\Phi\\rangle \\\\\n",
    "   =&\n",
    "   \\langle \\Phi_{k\\bar k}^{d \\bar d}|\\sum_{ia} t^a_i\\Big[ \n",
    "       f_a |\\Phi_{i\\bar i}^{a\\bar a}\\rangle + f_a |\\Phi_{i\\bar i}^{a\\bar a}\\rangle - f_i |\\Phi_{i\\bar i}^{a\\bar a}\\rangle - f_i |\\Phi_{i\\bar i}^{a\\bar a}\\rangle\\Big] \\\\\n",
    "   =& 2\\sum_{ia}t^a_i \\big[f_a\\delta_{ad}\\delta_{ik} - f_a\\delta_{ad}\\delta_{ik} \\big] \\\\\n",
    "   =& 2(f_a - f_i)t^a_i\n",
    "\\end{align}"
   ]
  },
  {
   "cell_type": "markdown",
   "metadata": {},
   "source": [
    "Here, for the most part, only terms that are non-zero have been included. Moreover, one only include terms where operators from $\\hat F_N$ are contracted with only one operator from $\\hat T$, as per the subscript $c$."
   ]
  },
  {
   "cell_type": "markdown",
   "metadata": {},
   "source": [
    "### Simplification of CCD Amplitude Equations"
   ]
  },
  {
   "cell_type": "markdown",
   "metadata": {},
   "source": [
    "The CCD amplitude equations are\n",
    "\n",
    "\\begin{equation}\n",
    "F^a_i(t) \\equiv 2(f_a - f_i)  t^a_i - \\frac{g}{2}\\Big(1 + \\sum_b t^b_i + \\sum_j t^a_j + t^3_1 t^4_2 + t^4_1 t^3_2 - t^a_i\\sum_{bj} t^b_j \\Big).\n",
    "\\end{equation}\n",
    "\n",
    "That is, the CCD amplitude  equations for our model is written as zeros of a polynomial function $F^q_i(t)$, where $t=[t^a_i]$ is a $2\\times 2$ matrix."
   ]
  },
  {
   "cell_type": "markdown",
   "metadata": {},
   "source": [
    "Setting $F^a_i(t) = 0$ and introducing a shift parameter $\\sigma$ gives\n",
    "\n",
    "\\begin{align}\n",
    "0 &= 2(f_a - f_i)t^a_i - \\frac{g}{2}\\Big(1 + \\sum_b t^b_i + \\sum_j t^a_j + t^3_1 t^4_2 + t^4_1 t^3_2 - t^a_i\\sum_{bj} t^b_j \\Big) \\\\\n",
    "0 &= 2(f_a - f_i)t^a_i - \\frac{g}{2}\\Big(1 + \\sum_b t^b_i + \\sum_j t^a_j + t^3_1 t^4_2 + t^4_1 t^3_2 - t^a_i\\sum_{bj} t^b_j \\Big) + \\sigma t^a_i - \\sigma t^a_i \\\\\n",
    "2(f_a - f_i)t^a_i &=  - \\frac{g}{2}\\Big(1 + \\sum_b t^b_i + \\sum_j t^a_j + t^3_1 t^4_2 + t^4_1 t^3_2 - t^a_i\\sum_{bj} t^b_j \\Big) + \\sigma t^a_i - \\sigma t^a_i\\\\\n",
    "2[(f_a - f_i +) \\sigma]t^a_i &= \\sigma t^a_i- \\frac{g}{2}\\Big(1 + \\sum_b t^b_i + \\sum_j t^a_j + t^3_1 t^4_2 + t^4_1 t^3_2 - t^a_i\\sum_{bj} t^b_j \\Big) \\\\\n",
    "t^a_i &= \\big[2(f_a - f_i) + \\sigma \\big]^{-1}\\Big[\\sigma t^a_i- \\frac{g}{2}\\Big(1 + \\sum_b t^b_i + \\sum_j t^a_j + t^3_1 t^4_2 + t^4_1 t^3_2 - t^a_i\\sum_{bj} t^b_j \\Big) \\Big]\n",
    "\\end{align}"
   ]
  },
  {
   "cell_type": "markdown",
   "metadata": {},
   "source": [
    "### Numerical Solution of CCD Amplitude Equations"
   ]
  },
  {
   "cell_type": "markdown",
   "metadata": {},
   "source": [
    "Now we define the right hand side of the CCD equation to be $\\equiv G^a_i(t)$. We then define the recursive relation\n",
    "\n",
    "\\begin{equation}\n",
    "(t^{(k+1)})^a_i = G^a_i(t^{(k)}),\n",
    "\\end{equation}\n",
    "\n",
    "to be iteratively solved."
   ]
  },
  {
   "cell_type": "code",
   "execution_count": 21,
   "metadata": {
    "collapsed": true
   },
   "outputs": [],
   "source": [
    "# The Fock operator\n",
    "f = lambda p, g: (p - 1) + (p == 1 or p == 2) * (-g/2)\n",
    "\n",
    "# Dictionary that takes particle level as input,\n",
    "# returns correct t-matrix index\n",
    "t_ind = { 1:0, 3:0, 2:1, 4:1}"
   ]
  },
  {
   "cell_type": "code",
   "execution_count": 22,
   "metadata": {
    "collapsed": true
   },
   "outputs": [],
   "source": [
    "# The iteration function, G\n",
    "def G_func(t, i, a, sigma, g):\n",
    "    factor_1 = 1 / (2 * (f(i, g) - f(a, g)) + sigma)\n",
    "    factor_2 = sigma * t[t_ind[i], t_ind[a]]\\\n",
    "              -(g/2) *(1 + t[t_ind[i], t_ind[3]] + t[t_ind[i], t_ind[4]]\\\n",
    "                         + t[t_ind[1], t_ind[a]] + t[t_ind[2], t_ind[a]]\\\n",
    "                         + t[t_ind[1], t_ind[3]] * t[t_ind[2], t_ind[4]]\\\n",
    "                         + t[t_ind[1], t_ind[4]] * t[t_ind[2], t_ind[3]]\n",
    "                         - t[t_ind[i], t_ind[a]]*\n",
    "                          (t[t_ind[1], t_ind[3]] + t[t_ind[1], t_ind[4]]\\\n",
    "                         + t[t_ind[2], t_ind[3]] + t[t_ind[2], t_ind[4]]))\n",
    "    \n",
    "    return factor_1 * factor_2\n",
    "\n",
    "def CCD_energy(t, g):\n",
    "    single_state_energy_1 = 0\n",
    "    single_state_energy_2 = 1\n",
    "    energy = 2*single_state_energy_1 + 2*single_state_energy_2 - g\\\n",
    "             -(g/2) * np.sum(t)\n",
    "    return energy"
   ]
  },
  {
   "cell_type": "code",
   "execution_count": 32,
   "metadata": {
    "collapsed": true
   },
   "outputs": [],
   "source": [
    "# Iteration parameters\n",
    "n = 100\n",
    "G = np.linspace(-1, 1, n)\n",
    "tolerance = 1e-15\n",
    "sigma = -0.6\n",
    "max_iterations = 100\n",
    "\n",
    "# Energy array\n",
    "E_CCD = np.zeros(n)\n",
    "\n",
    "for k in range(n):\n",
    "    \n",
    "    # Pairing force\n",
    "    g = G[k]\n",
    "\n",
    "    # Initial matrices\n",
    "    t = np.matrix(np.zeros((2,2)))\n",
    "    t_next = np.matrix(np.zeros((2,2)))\n",
    "    \n",
    "    # Evaluate G-function\n",
    "    for i in range(max_iterations):\n",
    "        t_next[t_ind[1], t_ind[3]] = G_func(t, 1, 3, sigma, g)\n",
    "        t_next[t_ind[1], t_ind[4]] = G_func(t, 1, 4, sigma, g)\n",
    "        t_next[t_ind[2], t_ind[3]] = G_func(t, 2, 3, sigma, g)\n",
    "        t_next[t_ind[2], t_ind[4]] = G_func(t, 2, 4, sigma, g)\n",
    "        \n",
    "        # Convergence?\n",
    "        if np.max(np.abs(t - t_next)) < tolerance:\n",
    "            break\n",
    "        elif i == max_iterations - 1:\n",
    "            print(\"Maximum number of iterations reached.\")\n",
    "            print(\"g = \", g)\n",
    "            print(\"t_diff = \", np.max(np.abs(t - t_next)))\n",
    "        \n",
    "        # Update t matrix\n",
    "        t = t_next.copy()\n",
    "    \n",
    "    # Storing energy\n",
    "    E_CCD[k] = CCD_energy(t_next, g)"
   ]
  },
  {
   "cell_type": "markdown",
   "metadata": {},
   "source": [
    "### Comparison Plots"
   ]
  },
  {
   "cell_type": "code",
   "execution_count": 33,
   "metadata": {},
   "outputs": [
    {
     "data": {
      "image/png": "[encoded data removed]",
      "text/plain": [
       "<matplotlib.figure.Figure at 0x118b06978>"
      ]
     },
     "metadata": {},
     "output_type": "display_data"
    }
   ],
   "source": [
    "# Comparison plot of CCD 1\n",
    "plt.plot(G, E_FCI[:, 0], lw = 1,  label = \"FCI\")\n",
    "plt.plot(G, E_RS3, lw = 1, label = \"RSPT3\")\n",
    "plt.plot(G, E_CCD, lw = 1, label = \"CCD\")\n",
    "plt.title(\"Ground state energy of FCI, RSPT3 and CCD\")\n",
    "plt.xlabel(\"Pairing force, $g$\")\n",
    "plt.ylabel(\"Eneryg\")\n",
    "plt.legend()\n",
    "plt.show()"
   ]
  },
  {
   "cell_type": "code",
   "execution_count": 25,
   "metadata": {},
   "outputs": [
    {
     "data": {
      "image/png": "[encoded data removed]",
      "text/plain": [
       "<matplotlib.figure.Figure at 0x118b187f0>"
      ]
     },
     "metadata": {},
     "output_type": "display_data"
    }
   ],
   "source": [
    "# Comparison plot of CCD 2 - Absolute differences\n",
    "plt.plot(G, np.abs(E_RS3 - E_FCI[:, 0]), label=\"RSPT3\")\n",
    "plt.plot(G, np.abs(E_CCD - E_FCI[:, 0]), label=\"CCD\")\n",
    "plt.title(\"Ground State Energy, Absolute Difference wrt FCI\")\n",
    "plt.xlabel(\"Pairing force, $g$\")\n",
    "plt.ylabel(\"Energy Difference\")\n",
    "plt.legend()\n",
    "plt.show()"
   ]
  },
  {
   "cell_type": "markdown",
   "metadata": {},
   "source": [
    "We can see that the approximative methods, Rayleigh-Schrödinger Perturbation Theory to third order (RSPT3) and Coupled Cluster with Doubles (CCD) only differs slight from the more rigourous Full Configuration Interaction (FCI) method. However, the errors in the ground state energiy are quite small compared to the magnitude of the actual energies. Moreover, the methods only differ for large pairing force $g$. One can therefore conclude that since the computational cost of the approximate methods are much lower than the FCI \"ground truth\" method, that these are perfectly fine to employ for this kind of system. "
   ]
  }
 ],
 "metadata": {
  "kernelspec": {
   "display_name": "Python 3",
   "language": "python",
   "name": "python3"
  },
  "language_info": {
   "codemirror_mode": {
    "name": "ipython",
    "version": 3
   },
   "file_extension": ".py",
   "mimetype": "text/x-python",
   "name": "python",
   "nbconvert_exporter": "python",
   "pygments_lexer": "ipython3",
   "version": "3.6.1"
  }
 },
 "nbformat": 4,
 "nbformat_minor": 2
}
